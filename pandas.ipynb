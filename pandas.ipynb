{
 "cells": [
  {
   "cell_type": "markdown",
   "metadata": {},
   "source": [
    "# Pandas"
   ]
  },
  {
   "cell_type": "code",
   "execution_count": 1,
   "metadata": {},
   "outputs": [],
   "source": [
    "import pandas as pd\n",
    "import numpy as np"
   ]
  },
  {
   "cell_type": "markdown",
   "metadata": {},
   "source": [
    "## Series"
   ]
  },
  {
   "cell_type": "code",
   "execution_count": 20,
   "metadata": {
    "scrolled": true
   },
   "outputs": [
    {
     "data": {
      "text/plain": [
       "0    0.127840\n",
       "1    2.227686\n",
       "2   -1.391158\n",
       "3   -3.555965\n",
       "4   -0.572158\n",
       "dtype: float64"
      ]
     },
     "execution_count": 20,
     "metadata": {},
     "output_type": "execute_result"
    }
   ],
   "source": [
    "s = pd.Series(np.random.randn(1000))\n",
    "s.head() # shows the first n (standard: 5) rows of a dataframe"
   ]
  },
  {
   "cell_type": "markdown",
   "metadata": {},
   "source": [
    "## DataFrames"
   ]
  },
  {
   "cell_type": "code",
   "execution_count": 6,
   "metadata": {},
   "outputs": [
    {
     "data": {
      "text/html": [
       "<div>\n",
       "<style scoped>\n",
       "    .dataframe tbody tr th:only-of-type {\n",
       "        vertical-align: middle;\n",
       "    }\n",
       "\n",
       "    .dataframe tbody tr th {\n",
       "        vertical-align: top;\n",
       "    }\n",
       "\n",
       "    .dataframe thead th {\n",
       "        text-align: right;\n",
       "    }\n",
       "</style>\n",
       "<table border=\"1\" class=\"dataframe\">\n",
       "  <thead>\n",
       "    <tr style=\"text-align: right;\">\n",
       "      <th></th>\n",
       "      <th>a</th>\n",
       "      <th>b</th>\n",
       "      <th>c</th>\n",
       "      <th>d</th>\n",
       "      <th>e</th>\n",
       "    </tr>\n",
       "  </thead>\n",
       "  <tbody>\n",
       "    <tr>\n",
       "      <th>0</th>\n",
       "      <td>-0.136308</td>\n",
       "      <td>-0.469598</td>\n",
       "      <td>-0.286588</td>\n",
       "      <td>-0.475261</td>\n",
       "      <td>-0.439171</td>\n",
       "    </tr>\n",
       "    <tr>\n",
       "      <th>1</th>\n",
       "      <td>-1.722211</td>\n",
       "      <td>-1.509057</td>\n",
       "      <td>-1.233524</td>\n",
       "      <td>-1.630244</td>\n",
       "      <td>-2.182266</td>\n",
       "    </tr>\n",
       "    <tr>\n",
       "      <th>2</th>\n",
       "      <td>-0.965703</td>\n",
       "      <td>-2.411153</td>\n",
       "      <td>0.334369</td>\n",
       "      <td>0.918332</td>\n",
       "      <td>0.369239</td>\n",
       "    </tr>\n",
       "    <tr>\n",
       "      <th>3</th>\n",
       "      <td>0.338126</td>\n",
       "      <td>-0.670595</td>\n",
       "      <td>0.789422</td>\n",
       "      <td>-0.503281</td>\n",
       "      <td>-0.246445</td>\n",
       "    </tr>\n",
       "    <tr>\n",
       "      <th>4</th>\n",
       "      <td>-0.422420</td>\n",
       "      <td>0.647921</td>\n",
       "      <td>-1.198769</td>\n",
       "      <td>0.889279</td>\n",
       "      <td>-0.127703</td>\n",
       "    </tr>\n",
       "  </tbody>\n",
       "</table>\n",
       "</div>"
      ],
      "text/plain": [
       "          a         b         c         d         e\n",
       "0 -0.136308 -0.469598 -0.286588 -0.475261 -0.439171\n",
       "1 -1.722211 -1.509057 -1.233524 -1.630244 -2.182266\n",
       "2 -0.965703 -2.411153  0.334369  0.918332  0.369239\n",
       "3  0.338126 -0.670595  0.789422 -0.503281 -0.246445\n",
       "4 -0.422420  0.647921 -1.198769  0.889279 -0.127703"
      ]
     },
     "execution_count": 6,
     "metadata": {},
     "output_type": "execute_result"
    }
   ],
   "source": [
    "df = pd.DataFrame(np.random.randn(10000, 5), columns=['a', 'b', 'c', 'd', 'e'])\n",
    "df.head() # shows the first n (standard: 5) rows of a dataframe"
   ]
  },
  {
   "cell_type": "markdown",
   "metadata": {},
   "source": [
    "Construct a Pandas DataFrame from numpy random numbers"
   ]
  },
  {
   "cell_type": "code",
   "execution_count": 7,
   "metadata": {},
   "outputs": [
    {
     "data": {
      "text/plain": [
       "a    float64\n",
       "b    float64\n",
       "c    float64\n",
       "d    float64\n",
       "e    float64\n",
       "dtype: object"
      ]
     },
     "execution_count": 7,
     "metadata": {},
     "output_type": "execute_result"
    }
   ],
   "source": [
    "df.dtypes"
   ]
  },
  {
   "cell_type": "code",
   "execution_count": 14,
   "metadata": {},
   "outputs": [],
   "source": [
    "df['f'] = df['a'] + df.b * df.c * np.exp(df.d) / df.e"
   ]
  },
  {
   "cell_type": "markdown",
   "metadata": {},
   "source": [
    "Definition of a new column using vectorized calculations. Numpy functions can be used here (Pandas columns are actually numpy arrays)."
   ]
  },
  {
   "cell_type": "code",
   "execution_count": 21,
   "metadata": {},
   "outputs": [
    {
     "data": {
      "text/html": [
       "<div>\n",
       "<style scoped>\n",
       "    .dataframe tbody tr th:only-of-type {\n",
       "        vertical-align: middle;\n",
       "    }\n",
       "\n",
       "    .dataframe tbody tr th {\n",
       "        vertical-align: top;\n",
       "    }\n",
       "\n",
       "    .dataframe thead th {\n",
       "        text-align: right;\n",
       "    }\n",
       "</style>\n",
       "<table border=\"1\" class=\"dataframe\">\n",
       "  <thead>\n",
       "    <tr style=\"text-align: right;\">\n",
       "      <th></th>\n",
       "      <th>a</th>\n",
       "      <th>b</th>\n",
       "      <th>c</th>\n",
       "      <th>d</th>\n",
       "      <th>e</th>\n",
       "      <th>f</th>\n",
       "      <th>g</th>\n",
       "      <th>h</th>\n",
       "    </tr>\n",
       "  </thead>\n",
       "  <tbody>\n",
       "    <tr>\n",
       "      <th>0</th>\n",
       "      <td>-0.136308</td>\n",
       "      <td>-0.469598</td>\n",
       "      <td>-0.286588</td>\n",
       "      <td>-0.475261</td>\n",
       "      <td>-0.439171</td>\n",
       "      <td>-0.326831</td>\n",
       "      <td>0</td>\n",
       "      <td>-0.326831433117755</td>\n",
       "    </tr>\n",
       "    <tr>\n",
       "      <th>1</th>\n",
       "      <td>-1.722211</td>\n",
       "      <td>-1.509057</td>\n",
       "      <td>-1.233524</td>\n",
       "      <td>-1.630244</td>\n",
       "      <td>-2.182266</td>\n",
       "      <td>-1.889297</td>\n",
       "      <td>-1</td>\n",
       "      <td>-1.8892971351314436</td>\n",
       "    </tr>\n",
       "    <tr>\n",
       "      <th>2</th>\n",
       "      <td>-0.965703</td>\n",
       "      <td>-2.411153</td>\n",
       "      <td>0.334369</td>\n",
       "      <td>0.918332</td>\n",
       "      <td>0.369239</td>\n",
       "      <td>-6.435472</td>\n",
       "      <td>-6</td>\n",
       "      <td>-6.435472181149356</td>\n",
       "    </tr>\n",
       "    <tr>\n",
       "      <th>3</th>\n",
       "      <td>0.338126</td>\n",
       "      <td>-0.670595</td>\n",
       "      <td>0.789422</td>\n",
       "      <td>-0.503281</td>\n",
       "      <td>-0.246445</td>\n",
       "      <td>1.636732</td>\n",
       "      <td>1</td>\n",
       "      <td>1.6367317750204309</td>\n",
       "    </tr>\n",
       "    <tr>\n",
       "      <th>4</th>\n",
       "      <td>-0.422420</td>\n",
       "      <td>0.647921</td>\n",
       "      <td>-1.198769</td>\n",
       "      <td>0.889279</td>\n",
       "      <td>-0.127703</td>\n",
       "      <td>14.377684</td>\n",
       "      <td>14</td>\n",
       "      <td>14.377684482851306</td>\n",
       "    </tr>\n",
       "  </tbody>\n",
       "</table>\n",
       "</div>"
      ],
      "text/plain": [
       "          a         b         c         d         e          f   g  \\\n",
       "0 -0.136308 -0.469598 -0.286588 -0.475261 -0.439171  -0.326831   0   \n",
       "1 -1.722211 -1.509057 -1.233524 -1.630244 -2.182266  -1.889297  -1   \n",
       "2 -0.965703 -2.411153  0.334369  0.918332  0.369239  -6.435472  -6   \n",
       "3  0.338126 -0.670595  0.789422 -0.503281 -0.246445   1.636732   1   \n",
       "4 -0.422420  0.647921 -1.198769  0.889279 -0.127703  14.377684  14   \n",
       "\n",
       "                     h  \n",
       "0   -0.326831433117755  \n",
       "1  -1.8892971351314436  \n",
       "2   -6.435472181149356  \n",
       "3   1.6367317750204309  \n",
       "4   14.377684482851306  "
      ]
     },
     "execution_count": 21,
     "metadata": {},
     "output_type": "execute_result"
    }
   ],
   "source": [
    "df['g'] = df.f.astype(np.int64)\n",
    "df.head()"
   ]
  }
 ],
 "metadata": {
  "kernelspec": {
   "display_name": "Python 3",
   "language": "python",
   "name": "python3"
  },
  "language_info": {
   "codemirror_mode": {
    "name": "ipython",
    "version": 3
   },
   "file_extension": ".py",
   "mimetype": "text/x-python",
   "name": "python",
   "nbconvert_exporter": "python",
   "pygments_lexer": "ipython3",
   "version": "3.7.3"
  }
 },
 "nbformat": 4,
 "nbformat_minor": 2
}

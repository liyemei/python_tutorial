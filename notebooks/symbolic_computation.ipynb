{
 "cells": [
  {
   "cell_type": "markdown",
   "metadata": {},
   "source": [
    "# SymPy"
   ]
  },
  {
   "cell_type": "code",
   "execution_count": 50,
   "metadata": {},
   "outputs": [],
   "source": [
    "import sympy as sp\n",
    "sp.init_printing(use_unicode=True)\n",
    "from scipy import constants as cons # physical constants\n",
    "import numpy as np\n",
    "import matplotlib.pyplot as plt"
   ]
  },
  {
   "cell_type": "markdown",
   "metadata": {},
   "source": [
    "## Basics\n",
    "\n",
    "Initialization"
   ]
  },
  {
   "cell_type": "code",
   "execution_count": 2,
   "metadata": {},
   "outputs": [],
   "source": [
    "x, y, z = sp.symbols('x y z')"
   ]
  },
  {
   "cell_type": "markdown",
   "metadata": {},
   "source": [
    "Definition of Sympy symbols (variables)."
   ]
  },
  {
   "cell_type": "code",
   "execution_count": 27,
   "metadata": {},
   "outputs": [],
   "source": [
    "expr1 = (2*x + 3) * (x - 6)\n",
    "expr1b = (x - 6) * (2*x + 3)\n",
    "expr2 = 2*x**2 -9*x - 18"
   ]
  },
  {
   "cell_type": "code",
   "execution_count": 29,
   "metadata": {},
   "outputs": [
    {
     "data": {
      "text/plain": [
       "(True, False)"
      ]
     },
     "execution_count": 29,
     "metadata": {},
     "output_type": "execute_result"
    }
   ],
   "source": [
    "expr1 == expr1b, expr1 == expr2"
   ]
  },
  {
   "cell_type": "markdown",
   "metadata": {},
   "source": [
    "The first 2 expressions are identical, despite different term order.\n",
    "The 3rd expression is syntactically different, but mathematically identical."
   ]
  },
  {
   "cell_type": "code",
   "execution_count": 30,
   "metadata": {},
   "outputs": [
    {
     "data": {
      "image/png": "[encoded data removed]",
      "text/latex": [
       "$$- 2 x^{2} + 9 x + \\left(x - 6\\right) \\left(2 x + 3\\right) + 18$$"
      ],
      "text/plain": [
       "     2                               \n",
       "- 2⋅x  + 9⋅x + (x - 6)⋅(2⋅x + 3) + 18"
      ]
     },
     "execution_count": 30,
     "metadata": {},
     "output_type": "execute_result"
    }
   ],
   "source": [
    "expr1 - expr2"
   ]
  },
  {
   "cell_type": "code",
   "execution_count": 10,
   "metadata": {},
   "outputs": [
    {
     "data": {
      "image/png": "[encoded data removed]",
      "text/latex": [
       "$$0$$"
      ],
      "text/plain": [
       "0"
      ]
     },
     "execution_count": 10,
     "metadata": {},
     "output_type": "execute_result"
    }
   ],
   "source": [
    "sp.simplify(expr1 - expr2)"
   ]
  },
  {
   "cell_type": "markdown",
   "metadata": {},
   "source": [
    "Simplify reveals that expr1 and expr2 are identical."
   ]
  },
  {
   "cell_type": "code",
   "execution_count": 13,
   "metadata": {},
   "outputs": [
    {
     "data": {
      "image/png": "[encoded data removed]",
      "text/latex": [
       "$$\\left(-6 + \\pi\\right) \\left(3 + 2 \\pi\\right)$$"
      ],
      "text/plain": [
       "(-6 + π)⋅(3 + 2⋅π)"
      ]
     },
     "execution_count": 13,
     "metadata": {},
     "output_type": "execute_result"
    }
   ],
   "source": [
    "expr1.subs(x, sp.pi)"
   ]
  },
  {
   "cell_type": "code",
   "execution_count": 16,
   "metadata": {},
   "outputs": [
    {
     "data": {
      "image/png": "[encoded data removed]",
      "text/latex": [
       "$$8 x^{4} - 72 x^{3} + 729 x + 792$$"
      ],
      "text/plain": [
       "   4       3              \n",
       "8⋅x  - 72⋅x  + 729⋅x + 792"
      ]
     },
     "execution_count": 16,
     "metadata": {},
     "output_type": "execute_result"
    }
   ],
   "source": [
    "sp.simplify(expr1.subs(x, expr1))"
   ]
  },
  {
   "cell_type": "markdown",
   "metadata": {},
   "source": [
    "Substitution of variables"
   ]
  },
  {
   "cell_type": "code",
   "execution_count": 24,
   "metadata": {},
   "outputs": [
    {
     "data": {
      "image/png": "[encoded data removed]",
      "text/latex": [
       "$$\\frac{2 x^{3}}{3} - \\frac{9 x^{2}}{2} - 18 x$$"
      ],
      "text/plain": [
       "   3      2       \n",
       "2⋅x    9⋅x        \n",
       "──── - ──── - 18⋅x\n",
       " 3      2         "
      ]
     },
     "execution_count": 24,
     "metadata": {},
     "output_type": "execute_result"
    }
   ],
   "source": [
    "sp.integrate(expr1, x)"
   ]
  },
  {
   "cell_type": "code",
   "execution_count": 32,
   "metadata": {},
   "outputs": [
    {
     "data": {
      "image/png": "[encoded data removed]",
      "text/latex": [
       "$$\\frac{256}{3}$$"
      ],
      "text/plain": [
       "256/3"
      ]
     },
     "execution_count": 32,
     "metadata": {},
     "output_type": "execute_result"
    }
   ],
   "source": [
    "sp.integrate(expr1, (x, 2, 10))"
   ]
  },
  {
   "cell_type": "markdown",
   "metadata": {},
   "source": [
    "Integration without and with given interval"
   ]
  },
  {
   "cell_type": "code",
   "execution_count": 33,
   "metadata": {},
   "outputs": [
    {
     "data": {
      "image/png": "[encoded data removed]",
      "text/latex": [
       "$$\\left ( 0.5, \\quad \\frac{1}{2}\\right )$$"
      ],
      "text/plain": [
       "(0.5, 1/2)"
      ]
     },
     "execution_count": 33,
     "metadata": {},
     "output_type": "execute_result"
    }
   ],
   "source": [
    "1/2, sp.S(1) / 2"
   ]
  },
  {
   "cell_type": "markdown",
   "metadata": {},
   "source": [
    "Defition of numbers as symbols"
   ]
  },
  {
   "cell_type": "markdown",
   "metadata": {},
   "source": [
    "## Example 1: Kinetic Energy in Special Relativity"
   ]
  },
  {
   "cell_type": "code",
   "execution_count": 35,
   "metadata": {},
   "outputs": [],
   "source": [
    "beta, c, m = sp.symbols(['beta', 'c', 'm'])"
   ]
  },
  {
   "cell_type": "code",
   "execution_count": 36,
   "metadata": {},
   "outputs": [
    {
     "data": {
      "image/png": "[encoded data removed]",
      "text/latex": [
       "$$\\frac{1}{\\sqrt{- \\beta^{2} + 1}}$$"
      ],
      "text/plain": [
       "      1      \n",
       "─────────────\n",
       "   __________\n",
       "  ╱    2     \n",
       "╲╱  - β  + 1 "
      ]
     },
     "execution_count": 36,
     "metadata": {},
     "output_type": "execute_result"
    }
   ],
   "source": [
    "gamma = 1/sp.sqrt(1-beta**2)\n",
    "gamma"
   ]
  },
  {
   "cell_type": "code",
   "execution_count": 37,
   "metadata": {},
   "outputs": [
    {
     "data": {
      "image/png": "[encoded data removed]",
      "text/latex": [
       "$$c^{2} m \\left(-1 + \\frac{1}{\\sqrt{- \\beta^{2} + 1}}\\right)$$"
      ],
      "text/plain": [
       " 2   ⎛           1      ⎞\n",
       "c ⋅m⋅⎜-1 + ─────────────⎟\n",
       "     ⎜        __________⎟\n",
       "     ⎜       ╱    2     ⎟\n",
       "     ⎝     ╲╱  - β  + 1 ⎠"
      ]
     },
     "execution_count": 37,
     "metadata": {},
     "output_type": "execute_result"
    }
   ],
   "source": [
    "Ekin = (gamma - 1)*m*c**2\n",
    "Ekin"
   ]
  },
  {
   "cell_type": "code",
   "execution_count": 39,
   "metadata": {},
   "outputs": [
    {
     "data": {
      "image/png": "[encoded data removed]",
      "text/latex": [
       "$$452776255373624.0$$"
      ],
      "text/plain": [
       "452776255373624."
      ]
     },
     "execution_count": 39,
     "metadata": {},
     "output_type": "execute_result"
    }
   ],
   "source": [
    "Ekin.subs(c, cons.c).subs(beta, 0.1).subs(m, 1)"
   ]
  },
  {
   "cell_type": "markdown",
   "metadata": {},
   "source": [
    "Kinetic energy (in J) of 1kg moving at 10% speed of light."
   ]
  },
  {
   "cell_type": "code",
   "execution_count": 44,
   "metadata": {},
   "outputs": [
    {
     "data": {
      "image/png": "[encoded data removed]",
      "text/latex": [
       "$$\\frac{\\beta^{2} c^{2} m}{2}$$"
      ],
      "text/plain": [
       " 2  2  \n",
       "β ⋅c ⋅m\n",
       "───────\n",
       "   2   "
      ]
     },
     "execution_count": 44,
     "metadata": {},
     "output_type": "execute_result"
    }
   ],
   "source": [
    "v = beta * c\n",
    "Ekin_nr = sp.S(1)/2*m*v**2\n",
    "Ekin_nr"
   ]
  },
  {
   "cell_type": "markdown",
   "metadata": {},
   "source": [
    "Non-relativistic formula for kinetic energy."
   ]
  },
  {
   "cell_type": "code",
   "execution_count": 86,
   "metadata": {},
   "outputs": [
    {
     "data": {
      "image/png": "[encoded data removed]",
      "text/latex": [
       "$$\\frac{\\beta^{2} c^{2} m}{2} + \\frac{3 \\beta^{4} c^{2} m}{8} + O\\left(\\beta^{6}\\right)$$"
      ],
      "text/plain": [
       " 2  2        4  2          \n",
       "β ⋅c ⋅m   3⋅β ⋅c ⋅m    ⎛ 6⎞\n",
       "─────── + ───────── + O⎝β ⎠\n",
       "   2          8            "
      ]
     },
     "execution_count": 86,
     "metadata": {},
     "output_type": "execute_result"
    }
   ],
   "source": [
    "Ekin.series(beta)"
   ]
  },
  {
   "cell_type": "markdown",
   "metadata": {},
   "source": [
    "The non-relativistic formula is actually the first term of the Taylor expansion of the relativistic kinetic energy equation."
   ]
  },
  {
   "cell_type": "code",
   "execution_count": 48,
   "metadata": {},
   "outputs": [
    {
     "data": {
      "image/png": "[encoded data removed]",
      "text/latex": [
       "$$- \\frac{2}{\\beta^{2}} + \\frac{2}{\\beta^{2} \\sqrt{- \\beta^{2} + 1}}$$"
      ],
      "text/plain": [
       "  2           2        \n",
       "- ── + ────────────────\n",
       "   2         __________\n",
       "  β     2   ╱    2     \n",
       "       β ⋅╲╱  - β  + 1 "
      ]
     },
     "execution_count": 48,
     "metadata": {},
     "output_type": "execute_result"
    }
   ],
   "source": [
    "err = sp.simplify(Ekin / Ekin_nr)\n",
    "err"
   ]
  },
  {
   "cell_type": "markdown",
   "metadata": {},
   "source": [
    "Ratio of actual kinetic energy to non-relativistic approximation"
   ]
  },
  {
   "cell_type": "markdown",
   "metadata": {},
   "source": [
    "## Plotting\n",
    "\n",
    "### Plotting with Sympy"
   ]
  },
  {
   "cell_type": "code",
   "execution_count": 68,
   "metadata": {},
   "outputs": [
    {
     "data": {
      "image/png": "[encoded data removed]",
      "text/plain": [
       "<Figure size 432x288 with 1 Axes>"
      ]
     },
     "metadata": {
      "needs_background": "light"
     },
     "output_type": "display_data"
    },
    {
     "data": {
      "text/plain": [
       "<sympy.plotting.plot.Plot at 0x7f328d92c128>"
      ]
     },
     "execution_count": 68,
     "metadata": {},
     "output_type": "execute_result"
    }
   ],
   "source": [
    "sp.plotting.plot(err, (beta, 0, 0.9))"
   ]
  },
  {
   "cell_type": "markdown",
   "metadata": {},
   "source": [
    "### Plotting using Numpy"
   ]
  },
  {
   "cell_type": "code",
   "execution_count": 81,
   "metadata": {},
   "outputs": [
    {
     "data": {
      "text/plain": [
       "<function _lambdifygenerated(beta)>"
      ]
     },
     "execution_count": 81,
     "metadata": {},
     "output_type": "execute_result"
    }
   ],
   "source": [
    "f = sp.lambdify(beta, err) # converts Sympy expression into function\n",
    "f"
   ]
  },
  {
   "cell_type": "code",
   "execution_count": 83,
   "metadata": {},
   "outputs": [],
   "source": [
    "x = np.linspace(0.0001, 1, 100)"
   ]
  },
  {
   "cell_type": "code",
   "execution_count": 84,
   "metadata": {},
   "outputs": [
    {
     "data": {
      "text/plain": [
       "[<matplotlib.lines.Line2D at 0x7f329070f978>]"
      ]
     },
     "execution_count": 84,
     "metadata": {},
     "output_type": "execute_result"
    },
    {
     "data": {
      "image/png": "[encoded data removed]",
      "text/plain": [
       "<Figure size 432x288 with 1 Axes>"
      ]
     },
     "metadata": {
      "needs_background": "light"
     },
     "output_type": "display_data"
    }
   ],
   "source": [
    "plt.plot(x, f(x))"
   ]
  },
  {
   "cell_type": "markdown",
   "metadata": {},
   "source": [
    "## Example 2: Tsiolkovsky's Rocket Equation\n",
    "\n",
    "https://en.wikipedia.org/wiki/Tsiolkovsky_rocket_equation\n",
    "\n",
    "### Derivation of the Equation from Newton's Law"
   ]
  },
  {
   "cell_type": "code",
   "execution_count": 131,
   "metadata": {},
   "outputs": [],
   "source": [
    "mdot, ve, m0, mdry, t, Dv = sp.symbols('mdot v_e m_0 m_dry t \\Delta{V}', \n",
    "                                positive=True, real=True) # assumptions given here\n",
    "                                            # for formula simplification by Sympy"
   ]
  },
  {
   "cell_type": "code",
   "execution_count": 132,
   "metadata": {},
   "outputs": [
    {
     "data": {
      "image/png": "[encoded data removed]",
      "text/latex": [
       "$$\\dot{m} v_{e}$$"
      ],
      "text/plain": [
       "ṁ⋅vₑ"
      ]
     },
     "execution_count": 132,
     "metadata": {},
     "output_type": "execute_result"
    }
   ],
   "source": [
    "F_exh = mdot * ve # thrust force is mass flow times exhaust velocity\n",
    "F_exh"
   ]
  },
  {
   "cell_type": "code",
   "execution_count": 133,
   "metadata": {},
   "outputs": [
    {
     "data": {
      "image/png": "[encoded data removed]",
      "text/latex": [
       "$$m_{0} - \\dot{m} t$$"
      ],
      "text/plain": [
       "m₀ - ṁ⋅t"
      ]
     },
     "execution_count": 133,
     "metadata": {},
     "output_type": "execute_result"
    }
   ],
   "source": [
    "m = m0 - mdot * t # current mass\n",
    "m"
   ]
  },
  {
   "cell_type": "code",
   "execution_count": 134,
   "metadata": {},
   "outputs": [
    {
     "data": {
      "image/png": "[encoded data removed]",
      "text/latex": [
       "$$\\frac{\\dot{m} v_{e}}{m_{0} - \\dot{m} t}$$"
      ],
      "text/plain": [
       "  ṁ⋅vₑ  \n",
       "─────────\n",
       "m₀ - ṁ⋅t"
      ]
     },
     "execution_count": 134,
     "metadata": {},
     "output_type": "execute_result"
    }
   ],
   "source": [
    "a = F_exh / m # current acceleration\n",
    "a"
   ]
  },
  {
   "cell_type": "code",
   "execution_count": 135,
   "metadata": {},
   "outputs": [
    {
     "data": {
      "image/png": "[encoded data removed]",
      "text/latex": [
       "$$\\frac{m_{0} - m_{dry}}{\\dot{m}}$$"
      ],
      "text/plain": [
       "m₀ - m_dry\n",
       "──────────\n",
       "    ṁ    "
      ]
     },
     "execution_count": 135,
     "metadata": {},
     "output_type": "execute_result"
    }
   ],
   "source": [
    "t_max = (m0 - mdry) / mdot # time the thrust is applied until reaction mass is consumed\n",
    "t_max"
   ]
  },
  {
   "cell_type": "code",
   "execution_count": 142,
   "metadata": {},
   "outputs": [
    {
     "data": {
      "image/png": "[encoded data removed]",
      "text/latex": [
       "$$\\log{\\left (\\left(\\frac{m_{0}}{m_{dry}}\\right)^{v_{e}} \\right )}$$"
      ],
      "text/plain": [
       "   ⎛       vₑ⎞\n",
       "   ⎜⎛  m₀ ⎞  ⎟\n",
       "log⎜⎜─────⎟  ⎟\n",
       "   ⎝⎝m_dry⎠  ⎠"
      ]
     },
     "execution_count": 142,
     "metadata": {},
     "output_type": "execute_result"
    }
   ],
   "source": [
    "Dv = sp.integrate(a, (t, 0, t_max)).simplify()\n",
    "Dv"
   ]
  },
  {
   "cell_type": "code",
   "execution_count": 147,
   "metadata": {},
   "outputs": [
    {
     "data": {
      "image/png": "[encoded data removed]",
      "text/latex": [
       "$$v_{e} \\left(\\log{\\left (m_{0} \\right )} - \\log{\\left (m_{dry} \\right )}\\right)$$"
      ],
      "text/plain": [
       "vₑ⋅(log(m₀) - log(m_dry))"
      ]
     },
     "execution_count": 147,
     "metadata": {},
     "output_type": "execute_result"
    }
   ],
   "source": [
    "sp.expand_log(Dv)"
   ]
  },
  {
   "cell_type": "markdown",
   "metadata": {},
   "source": [
    "One can trivially reformulate this equation into the textbook one using\n",
    "\n",
    "$$\n",
    "    \\log{a} - log{b} = \\log{\\frac{a}{b}}\n",
    "$$"
   ]
  },
  {
   "cell_type": "code",
   "execution_count": 122,
   "metadata": {},
   "outputs": [
    {
     "data": {
      "image/png": "[encoded data removed]",
      "text/latex": [
       "$$v_{e} \\log{\\left (\\frac{m_{0}}{m_{dry}} \\right )}$$"
      ],
      "text/plain": [
       "      ⎛  m₀ ⎞\n",
       "vₑ⋅log⎜─────⎟\n",
       "      ⎝m_dry⎠"
      ]
     },
     "execution_count": 122,
     "metadata": {},
     "output_type": "execute_result"
    }
   ],
   "source": [
    "Dv_textbook = ve * sp.log(m0/mdry)\n",
    "Dv_textbook"
   ]
  },
  {
   "cell_type": "markdown",
   "metadata": {},
   "source": [
    "### Calculating Mass Ratio for Earth Orbit"
   ]
  },
  {
   "cell_type": "code",
   "execution_count": 149,
   "metadata": {},
   "outputs": [],
   "source": [
    "v_leo = 9700 # low earth orbit, in m/s\n",
    "ve_HO = 4400 # exhaust velocity for liquid hydrogen+ oxygen rockets"
   ]
  },
  {
   "cell_type": "code",
   "execution_count": 162,
   "metadata": {},
   "outputs": [
    {
     "data": {
      "image/png": "[encoded data removed]",
      "text/latex": [
       "$$9.06612966310216$$"
      ],
      "text/plain": [
       "9.06612966310216"
      ]
     },
     "execution_count": 162,
     "metadata": {},
     "output_type": "execute_result"
    }
   ],
   "source": [
    "m0_result = sp.solve(Dv.subs(mdry, 1).subs(ve, ve_HO) - v_leo, m0)\n",
    "m0_result[0].evalf() # the solver returns a list of results, even if it is only 1 element like here"
   ]
  },
  {
   "cell_type": "markdown",
   "metadata": {},
   "source": [
    "According to the rocket equation, a 1 stage hydrogen/oxygen rocket must must carry more than 8 times the dry mass (i.e. payload, tanks, engines, etc.) in fuel to reach low-earth orbit.\n",
    "\n",
    "In practice this ratio is even higher because air friction and gravitational pull has been neglected here."
   ]
  }
 ],
 "metadata": {
  "kernelspec": {
   "display_name": "Python 3",
   "language": "python",
   "name": "python3"
  },
  "language_info": {
   "codemirror_mode": {
    "name": "ipython",
    "version": 3
   },
   "file_extension": ".py",
   "mimetype": "text/x-python",
   "name": "python",
   "nbconvert_exporter": "python",
   "pygments_lexer": "ipython3",
   "version": "3.7.3"
  }
 },
 "nbformat": 4,
 "nbformat_minor": 2
}

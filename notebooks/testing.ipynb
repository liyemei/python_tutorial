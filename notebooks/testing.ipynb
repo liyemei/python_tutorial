{
 "cells": [
  {
   "cell_type": "markdown",
   "metadata": {},
   "source": [
    "# Testing"
   ]
  },
  {
   "cell_type": "code",
   "execution_count": 2,
   "metadata": {},
   "outputs": [
    {
     "name": "stdout",
     "output_type": "stream",
     "text": [
      "Collecting package metadata (current_repodata.json): done\n",
      "Solving environment: done\n",
      "\n",
      "## Package Plan ##\n",
      "\n",
      "  environment location: /opt/conda\n",
      "\n",
      "  added / updated specs:\n",
      "    - pytest\n",
      "\n",
      "\n",
      "The following packages will be downloaded:\n",
      "\n",
      "    package                    |            build\n",
      "    ---------------------------|-----------------\n",
      "    atomicwrites-1.3.0         |             py_0           9 KB  conda-forge\n",
      "    importlib_metadata-0.18    |           py37_0          36 KB  conda-forge\n",
      "    more-itertools-4.3.0       |        py37_1000          83 KB  conda-forge\n",
      "    pluggy-0.12.0              |             py_0          18 KB  conda-forge\n",
      "    py-1.8.0                   |             py_0          65 KB  conda-forge\n",
      "    pytest-5.0.0               |           py37_0         348 KB  conda-forge\n",
      "    zipp-0.5.1                 |             py_0           7 KB  conda-forge\n",
      "    ------------------------------------------------------------\n",
      "                                           Total:         566 KB\n",
      "\n",
      "The following NEW packages will be INSTALLED:\n",
      "\n",
      "  atomicwrites       conda-forge/noarch::atomicwrites-1.3.0-py_0\n",
      "  importlib_metadata conda-forge/linux-64::importlib_metadata-0.18-py37_0\n",
      "  more-itertools     conda-forge/linux-64::more-itertools-4.3.0-py37_1000\n",
      "  pluggy             conda-forge/noarch::pluggy-0.12.0-py_0\n",
      "  py                 conda-forge/noarch::py-1.8.0-py_0\n",
      "  pytest             conda-forge/linux-64::pytest-5.0.0-py37_0\n",
      "  zipp               conda-forge/noarch::zipp-0.5.1-py_0\n",
      "\n",
      "\n",
      "\n",
      "Downloading and Extracting Packages\n",
      "more-itertools-4.3.0 | 83 KB     | ##################################### | 100% \n",
      "py-1.8.0             | 65 KB     | ##################################### | 100% \n",
      "atomicwrites-1.3.0   | 9 KB      | ##################################### | 100% \n",
      "pytest-5.0.0         | 348 KB    | ##################################### | 100% \n",
      "importlib_metadata-0 | 36 KB     | ##################################### | 100% \n",
      "pluggy-0.12.0        | 18 KB     | ##################################### | 100% \n",
      "zipp-0.5.1           | 7 KB      | ##################################### | 100% \n",
      "Preparing transaction: done\n",
      "Verifying transaction: done\n",
      "Executing transaction: done\n"
     ]
    }
   ],
   "source": [
    "!conda install pytest --yes # this package is not included in Scipy Notebook"
   ]
  },
  {
   "cell_type": "code",
   "execution_count": 3,
   "metadata": {},
   "outputs": [],
   "source": [
    "import pytest"
   ]
  },
  {
   "cell_type": "code",
   "execution_count": null,
   "metadata": {},
   "outputs": [],
   "source": []
  }
 ],
 "metadata": {
  "kernelspec": {
   "display_name": "Python 3",
   "language": "python",
   "name": "python3"
  },
  "language_info": {
   "codemirror_mode": {
    "name": "ipython",
    "version": 3
   },
   "file_extension": ".py",
   "mimetype": "text/x-python",
   "name": "python",
   "nbconvert_exporter": "python",
   "pygments_lexer": "ipython3",
   "version": "3.7.3"
  }
 },
 "nbformat": 4,
 "nbformat_minor": 2
}

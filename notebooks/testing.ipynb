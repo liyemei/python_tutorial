{
 "cells": [
  {
   "cell_type": "markdown",
   "metadata": {},
   "source": [
    "# Testing\n",
    "\n",
    "This chapter is about automatic unit testing of Python code. For this purpose, the *pytest* library is used.\n",
    "\n",
    "An alternative would be the *unittest* bulit-in library of Python, but *pytest* is preferred due to its easier syntax.\n",
    "\n",
    "Unit Tests are a must-have for any code which is used for productive purposes. They greatly enhance code quality and the possibility to refactor or migrate the code to new Python/ library versions."
   ]
  },
  {
   "cell_type": "code",
   "execution_count": 2,
   "metadata": {},
   "outputs": [
    {
     "name": "stdout",
     "output_type": "stream",
     "text": [
      "Collecting package metadata (current_repodata.json): done\n",
      "Solving environment: done\n",
      "\n",
      "## Package Plan ##\n",
      "\n",
      "  environment location: /opt/conda\n",
      "\n",
      "  added / updated specs:\n",
      "    - pytest\n",
      "\n",
      "\n",
      "The following packages will be downloaded:\n",
      "\n",
      "    package                    |            build\n",
      "    ---------------------------|-----------------\n",
      "    atomicwrites-1.3.0         |             py_0           9 KB  conda-forge\n",
      "    importlib_metadata-0.18    |           py37_0          36 KB  conda-forge\n",
      "    more-itertools-4.3.0       |        py37_1000          83 KB  conda-forge\n",
      "    pluggy-0.12.0              |             py_0          18 KB  conda-forge\n",
      "    py-1.8.0                   |             py_0          65 KB  conda-forge\n",
      "    pytest-5.0.0               |           py37_0         348 KB  conda-forge\n",
      "    zipp-0.5.1                 |             py_0           7 KB  conda-forge\n",
      "    ------------------------------------------------------------\n",
      "                                           Total:         566 KB\n",
      "\n",
      "The following NEW packages will be INSTALLED:\n",
      "\n",
      "  atomicwrites       conda-forge/noarch::atomicwrites-1.3.0-py_0\n",
      "  importlib_metadata conda-forge/linux-64::importlib_metadata-0.18-py37_0\n",
      "  more-itertools     conda-forge/linux-64::more-itertools-4.3.0-py37_1000\n",
      "  pluggy             conda-forge/noarch::pluggy-0.12.0-py_0\n",
      "  py                 conda-forge/noarch::py-1.8.0-py_0\n",
      "  pytest             conda-forge/linux-64::pytest-5.0.0-py37_0\n",
      "  zipp               conda-forge/noarch::zipp-0.5.1-py_0\n",
      "\n",
      "\n",
      "\n",
      "Downloading and Extracting Packages\n",
      "more-itertools-4.3.0 | 83 KB     | ##################################### | 100% \n",
      "py-1.8.0             | 65 KB     | ##################################### | 100% \n",
      "atomicwrites-1.3.0   | 9 KB      | ##################################### | 100% \n",
      "pytest-5.0.0         | 348 KB    | ##################################### | 100% \n",
      "importlib_metadata-0 | 36 KB     | ##################################### | 100% \n",
      "pluggy-0.12.0        | 18 KB     | ##################################### | 100% \n",
      "zipp-0.5.1           | 7 KB      | ##################################### | 100% \n",
      "Preparing transaction: done\n",
      "Verifying transaction: done\n",
      "Executing transaction: done\n"
     ]
    }
   ],
   "source": [
    "!conda install pytest --yes # this package is not included in Scipy Notebook"
   ]
  },
  {
   "cell_type": "markdown",
   "metadata": {},
   "source": [
    "## Starting Tests"
   ]
  },
  {
   "cell_type": "code",
   "execution_count": 2,
   "metadata": {},
   "outputs": [
    {
     "name": "stdout",
     "output_type": "stream",
     "text": [
      "\u001b[1m============================= test session starts ==============================\u001b[0m\n",
      "platform linux -- Python 3.7.3, pytest-5.0.0, py-1.8.0, pluggy-0.12.0\n",
      "rootdir: /home/jovyan/Tutorial\n",
      "collected 8 items                                                              \u001b[0m\n",
      "\n",
      "../tests/test_cases.py \u001b[32m.\u001b[0m\u001b[31mF\u001b[0m\u001b[32m.\u001b[0m\u001b[32m.\u001b[0m\u001b[32m.\u001b[0m\u001b[32m.\u001b[0m\u001b[32m.\u001b[0m\u001b[32m.\u001b[0m\u001b[36m                                          [100%]\u001b[0m\n",
      "\n",
      "=================================== FAILURES ===================================\n",
      "\u001b[31m\u001b[1m_______________________________ test_which_fails _______________________________\u001b[0m\n",
      "\n",
      "\u001b[1m    def test_which_fails():\u001b[0m\n",
      "\u001b[1m        \"\"\"test case which always fails\u001b[0m\n",
      "\u001b[1m        - just for illustration here, do not put something like this in real test cases!\"\"\"\u001b[0m\n",
      "\u001b[1m>       assert my_module.double_me(1) == 3\u001b[0m\n",
      "\u001b[1m\u001b[31mE       assert 2 == 3\u001b[0m\n",
      "\u001b[1m\u001b[31mE        +  where 2 = <function double_me at 0x7feda60ed6a8>(1)\u001b[0m\n",
      "\u001b[1m\u001b[31mE        +    where <function double_me at 0x7feda60ed6a8> = my_module.double_me\u001b[0m\n",
      "\n",
      "\u001b[1m\u001b[31m../tests/test_cases.py\u001b[0m:15: AssertionError\n",
      "\u001b[31m\u001b[1m====================== 1 failed, 7 passed in 0.33 seconds ======================\u001b[0m\n"
     ]
    }
   ],
   "source": [
    "!pytest ../tests "
   ]
  },
  {
   "cell_type": "markdown",
   "metadata": {},
   "source": [
    "Pytest gives a summary of the number of succeeded and failed test cases. For the latter, a detailed breakdown of the test failure is given."
   ]
  },
  {
   "cell_type": "markdown",
   "metadata": {},
   "source": [
    "## Setup of Test Cases\n",
    "\n",
    "### Directory Structure\n",
    "\n",
    "It is recommended to put the application code and tests into different directories.\n",
    "\n",
    "In the following, a directory structure like below is assumed:\n",
    "\n",
    "    app_route/\n",
    "        code/\n",
    "            my_module.py\n",
    "            ...\n",
    "        tests/\n",
    "            conftest.py\n",
    "            fixtures.py\n",
    "            utils.py\n",
    "            test_cases.py\n",
    "            ...\n",
    "            \n",
    "*code* is the base directory for all application code to be tested."
   ]
  },
  {
   "cell_type": "markdown",
   "metadata": {},
   "source": [
    "### Test Files"
   ]
  },
  {
   "cell_type": "code",
   "execution_count": 1,
   "metadata": {},
   "outputs": [
    {
     "name": "stdout",
     "output_type": "stream",
     "text": [
      "\"\"\"\n",
      "This module is always executed automatically when pytest is started\n",
      "\"\"\"\n",
      "\n",
      "# set Pythonpath to include modue code\n",
      "import sys\n",
      "import os\n",
      "new_paths = [os.path.abspath('../code'), os.path.abspath('../tests'),]\n",
      "for new_path in new_paths:\n",
      "    if new_path not in sys.path:\n",
      "        sys.path.append(new_path)\n",
      "\n",
      "# import fixtures\n",
      "from fixtures import * # one of the very few cases where import * is OK\n"
     ]
    }
   ],
   "source": [
    "%cat ../tests/conftest.py"
   ]
  },
  {
   "cell_type": "markdown",
   "metadata": {},
   "source": [
    "The file *conftest.py* is always executed automatically when pytest is started.\n",
    "It is used here to add the application code directory to the Pythonpath (if it is not already there) and to import the fixtures (for definition of fixtures see below).\n",
    "\n",
    "Note that it is possible (and often done) to define fixtures and directly in *conftest.py*, but due to scalability and readability I recommend to use different modules for them and only import them in *conftest.py*."
   ]
  },
  {
   "cell_type": "code",
   "execution_count": 3,
   "metadata": {},
   "outputs": [
    {
     "name": "stdout",
     "output_type": "stream",
     "text": [
      "import pytest\n",
      "import my_module\n",
      "import utils\n",
      "\n",
      "def test_double_1():\n",
      "    \"\"\"simple test case\"\"\"\n",
      "    assert my_module.double_me(1) == 2 # asserts are used in pytest to check expectations\n",
      "    \n",
      "    # you can put multiple asserts into one test function, but it is still considered as a single test case\n",
      "    assert my_module.double_me(-5) == -10 \n",
      "\n",
      "def test_which_fails():\n",
      "    \"\"\"test case which always fails \n",
      "    - just for illustration here, do not put something like this in real test cases!\"\"\"\n",
      "    assert my_module.double_me(1) == 3\n",
      "\n",
      "def test_error_message():\n",
      "    \"\"\"checks raising of error\"\"\"\n",
      "    with pytest.raises(TypeError):\n",
      "        assert my_module.double_me({1, 2, 3})\n",
      "\n",
      "@pytest.mark.parametrize('input, expected', [(2, 4), (3, 6), (4, 8)])\n",
      "def test_double_2(input, expected):\n",
      "    \"\"\"testing multiple inputs with corresponding expected outputs\"\"\"\n",
      "    assert my_module.double_me(input) == expected\n",
      "    \n",
      "def test_double_3(vals_for_test):\n",
      "    \"\"\"using pytest.fixture for defining test values and expected outputs\"\"\"\n",
      "    vals, expectations = vals_for_test\n",
      "    assert (expectations == my_module.double_me(vals)).all()\n",
      "    # same as above, but using defined utility function\n",
      "    assert utils.compare_np_arrays(expectations, my_module.double_me(vals))\n",
      "    \n",
      "def test_multiplier(multiplier7):\n",
      "    \"\"\"using pytest.fixture for construction of test objects\"\"\"\n",
      "    assert multiplier7.get_result(3) == 21\n"
     ]
    }
   ],
   "source": [
    "%cat ../tests/test_cases.py"
   ]
  },
  {
   "cell_type": "markdown",
   "metadata": {},
   "source": [
    "In this file the test cases are defined.\n",
    "\n",
    "Each test case is a function whose name starts with *test_*.\n",
    "As funtion arguments, fixtures or parameters can be used.\n",
    "\n",
    "Test cases can be defined in more than one .py file. The name of the .py files is not relevant, but it is required that they are located in the test directory."
   ]
  },
  {
   "cell_type": "code",
   "execution_count": 31,
   "metadata": {},
   "outputs": [
    {
     "name": "stdout",
     "output_type": "stream",
     "text": [
      "import pytest\n",
      "import my_module\n",
      "\n",
      "import numpy as np\n",
      "\n",
      "@pytest.fixture(scope='session') # this fixture is used for the whole test session\n",
      "def multiplier7():\n",
      "    return my_module.Multiplier(7)\n",
      "\n",
      "@pytest.fixture # default is to create a fixture object for every test function\n",
      "def vals_for_test():\n",
      "    vals = np.random.randn(20)\n",
      "    expectations = vals*2\n",
      "    return vals, expectations\n"
     ]
    }
   ],
   "source": [
    "%cat ../tests/fixtures.py"
   ]
  },
  {
   "cell_type": "markdown",
   "metadata": {},
   "source": [
    "Fixtures are definitions of Python objects which can be used in any test case.\n",
    "\n",
    "Use this for objects which are required by multiple test cases. If the setup of the fixture takes a long time, set the *scope* parameter to e.g. *session* to use the same fixture object for multiple test cases (standard is to create a new instance for each test function)."
   ]
  },
  {
   "cell_type": "code",
   "execution_count": 6,
   "metadata": {},
   "outputs": [
    {
     "name": "stdout",
     "output_type": "stream",
     "text": [
      "\"\"\"In this module helper functions, etc. for testing are defined.\"\"\"\n",
      "\n",
      "def compare_np_arrays(x, y):\n",
      "    \"\"\"checks if 2 numpy arrays are identical\"\"\"\n",
      "    return (x == y).all()\n",
      "    "
     ]
    }
   ],
   "source": [
    "%cat ../tests/utils.py"
   ]
  },
  {
   "cell_type": "markdown",
   "metadata": {},
   "source": [
    "In this module helper functions, etc. for testing are defined.\n",
    "Functions which are required by multiple test cases, potentially located in different .py files, should be extracted into a helper module."
   ]
  }
 ],
 "metadata": {
  "kernelspec": {
   "display_name": "Python 3",
   "language": "python",
   "name": "python3"
  },
  "language_info": {
   "codemirror_mode": {
    "name": "ipython",
    "version": 3
   },
   "file_extension": ".py",
   "mimetype": "text/x-python",
   "name": "python",
   "nbconvert_exporter": "python",
   "pygments_lexer": "ipython3",
   "version": "3.7.3"
  }
 },
 "nbformat": 4,
 "nbformat_minor": 2
}

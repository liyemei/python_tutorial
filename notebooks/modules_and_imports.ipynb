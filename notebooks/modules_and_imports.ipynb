{
 "cells": [
  {
   "cell_type": "markdown",
   "metadata": {},
   "source": [
    "# Hierarchy\n",
    "\n",
    "Python code can be ordered using the following hierarchy.\n",
    "Note that some hierarchy levels are not applicable for Jupyter Notebooks but only for \"normal\" Python code.\n",
    "\n",
    "## Packages [optional]\n",
    "A directory conaining .py files (i.e. Modules) and/ or subpackages. A directory becomes a Python Package if the file \n",
    "\n",
    "    __init__.py \n",
    "    \n",
    "(which is usually empty) is present.\n",
    "\n",
    "## Modules\n",
    "A file containing Python code. It may be top level or inside a Package. A module may contain functions, classes, variables (usually constants) and/ or code.\n",
    "    \n",
    "Code inside a Module is automatically executed if the module is imported. Code which should be only executed if the module itself is executed (not by imports from other modules) is protected using the following check:\n",
    "    \n",
    "    if __name__ == '__main__':\n",
    "        code\n",
    "        \n",
    "Note that it is perfectly fine in Python to have constants and functions directly in Modules, outside classes (unlike e.g. in Java, where everything must be inside a class). The module-level namespaces avoid naming conflicts."
   ]
  },
  {
   "cell_type": "markdown",
   "metadata": {},
   "source": [
    "# Imports"
   ]
  },
  {
   "cell_type": "code",
   "execution_count": 11,
   "metadata": {},
   "outputs": [
    {
     "name": "stdout",
     "output_type": "stream",
     "text": [
      "# example file for module imports\n",
      "\n",
      "__version__ = '0.0.1'\n",
      "\n",
      "my_secret = 'you_will_never_guess'\n",
      "my_list = [1, 2, 3, 4]\n",
      "my_tuple = ('a', 'b', 'c')\n",
      "\n",
      "def double_me(x):\n",
      "    return 2*x\n",
      "\n",
      "class Multiplier:\n",
      "    def __init__(self, i):\n",
      "        self.i = i\n",
      "    def get_result(self, x):\n",
      "        return self.i*x\n",
      "\n",
      "mult2 = Multiplier(2)\n",
      "mult3 = Multiplier(3)\n",
      "\n",
      "print('my_module imported')\n",
      "\n",
      "if __name__ == '__main__':\n",
      "    # this code is not executed when importing this module, but only if the module is executed\n",
      "    print('executing main block')\n"
     ]
    }
   ],
   "source": [
    "%cat ../example_files/my_module.py # example module to be imported"
   ]
  },
  {
   "cell_type": "markdown",
   "metadata": {},
   "source": [
    "## Pythonpath"
   ]
  },
  {
   "cell_type": "code",
   "execution_count": 12,
   "metadata": {},
   "outputs": [],
   "source": [
    "import sys\n",
    "import os"
   ]
  },
  {
   "cell_type": "code",
   "execution_count": 13,
   "metadata": {},
   "outputs": [],
   "source": [
    "new_path = os.path.abspath('../example_files')\n",
    "if new_path not in sys.path:\n",
    "    sys.path.append(new_path)"
   ]
  },
  {
   "cell_type": "markdown",
   "metadata": {},
   "source": [
    "Python searches for modules in import statements in the following places:\n",
    "* Current directory\n",
    "* Python builtins\n",
    "* Directories in Pythonpath\n",
    "\n",
    "The code above checks if the given directory is included in Pythonpath and adds it if not.\n",
    "\n",
    "This pattern is also useful e.g. for unit tests if the test cases are kept in a directory different from the code."
   ]
  },
  {
   "cell_type": "markdown",
   "metadata": {},
   "source": [
    "## Import Specific Objects"
   ]
  },
  {
   "cell_type": "code",
   "execution_count": 14,
   "metadata": {},
   "outputs": [],
   "source": [
    "from my_module import double_me\n",
    "from my_module import my_list as my_constants # rename object with importings"
   ]
  },
  {
   "cell_type": "markdown",
   "metadata": {},
   "source": [
    "The \n",
    "\n",
    "    from module import object [as alias]\n",
    "    \n",
    "pattern imports specific objects of the module in local namespace.\n",
    "\n",
    "Note that the print statement at the bottom of the module is executed, although it is not in one of the imported objects. Python runs the complete module script the first time it is used in any import."
   ]
  },
  {
   "cell_type": "code",
   "execution_count": 15,
   "metadata": {},
   "outputs": [
    {
     "data": {
      "text/plain": [
       "84"
      ]
     },
     "execution_count": 15,
     "metadata": {},
     "output_type": "execute_result"
    }
   ],
   "source": [
    "double_me(42)"
   ]
  },
  {
   "cell_type": "code",
   "execution_count": 16,
   "metadata": {},
   "outputs": [
    {
     "data": {
      "text/plain": [
       "[1, 2, 3, 4]"
      ]
     },
     "execution_count": 16,
     "metadata": {},
     "output_type": "execute_result"
    }
   ],
   "source": [
    "my_constants"
   ]
  },
  {
   "cell_type": "markdown",
   "metadata": {},
   "source": [
    "#### Antipatterns"
   ]
  },
  {
   "cell_type": "code",
   "execution_count": 17,
   "metadata": {},
   "outputs": [
    {
     "data": {
      "text/plain": [
       "[1, 2, 3, 4, 5]"
      ]
     },
     "execution_count": 17,
     "metadata": {},
     "output_type": "execute_result"
    }
   ],
   "source": [
    "my_constants.append(5)\n",
    "my_constants"
   ]
  },
  {
   "cell_type": "markdown",
   "metadata": {},
   "source": [
    "Extremely dangerous: changing (mutable) data in an other module. All imports referring to this data will be affected."
   ]
  },
  {
   "cell_type": "code",
   "execution_count": 18,
   "metadata": {},
   "outputs": [
    {
     "data": {
      "text/plain": [
       "('this', 'is', 'very', 'important')"
      ]
     },
     "execution_count": 18,
     "metadata": {},
     "output_type": "execute_result"
    }
   ],
   "source": [
    "my_tuple = ('this', 'is', 'very', 'important')\n",
    "my_tuple"
   ]
  },
  {
   "cell_type": "code",
   "execution_count": 19,
   "metadata": {},
   "outputs": [],
   "source": [
    "from my_module import * # Imports all members of the module into local namespace"
   ]
  },
  {
   "cell_type": "code",
   "execution_count": 20,
   "metadata": {},
   "outputs": [
    {
     "data": {
      "text/plain": [
       "('a', 'b', 'c')"
      ]
     },
     "execution_count": 20,
     "metadata": {},
     "output_type": "execute_result"
    }
   ],
   "source": [
    "my_tuple"
   ]
  },
  {
   "cell_type": "markdown",
   "metadata": {},
   "source": [
    "The usage of the pattern\n",
    "\n",
    "    from module import *\n",
    "\n",
    "has the following drawbacks and is therefore not recommended:\n",
    "* There could be naming conflicts between local and imported objects\n",
    "* There is no information or control in the module where the import statement has been executed which object originates from which module."
   ]
  },
  {
   "cell_type": "markdown",
   "metadata": {},
   "source": [
    "## Import Whole Module as Separate Namespace"
   ]
  },
  {
   "cell_type": "code",
   "execution_count": 21,
   "metadata": {},
   "outputs": [],
   "source": [
    "import my_module"
   ]
  },
  {
   "cell_type": "markdown",
   "metadata": {},
   "source": [
    "This is the recommended method to import modules, especially if multiple objects of the module are required. If the number of imported objects is small, the *from module import object* syntax is also fine.\n",
    "\n",
    "The code in the imported module is only executed once during the first import. Thus the print statement is not shown again."
   ]
  },
  {
   "cell_type": "code",
   "execution_count": 22,
   "metadata": {},
   "outputs": [
    {
     "data": {
      "text/plain": [
       "84"
      ]
     },
     "execution_count": 22,
     "metadata": {},
     "output_type": "execute_result"
    }
   ],
   "source": [
    "my_module.double_me(42)"
   ]
  },
  {
   "cell_type": "code",
   "execution_count": 23,
   "metadata": {},
   "outputs": [
    {
     "data": {
      "text/plain": [
       "49"
      ]
     },
     "execution_count": 23,
     "metadata": {},
     "output_type": "execute_result"
    }
   ],
   "source": [
    "mult7 = my_module.Multiplier(7)\n",
    "mult7.get_result(7)"
   ]
  },
  {
   "cell_type": "code",
   "execution_count": 24,
   "metadata": {},
   "outputs": [
    {
     "data": {
      "text/plain": [
       "6"
      ]
     },
     "execution_count": 24,
     "metadata": {},
     "output_type": "execute_result"
    }
   ],
   "source": [
    "my_module.mult2.get_result(3)"
   ]
  },
  {
   "cell_type": "code",
   "execution_count": 25,
   "metadata": {},
   "outputs": [
    {
     "data": {
      "text/plain": [
       "[1, 2, 3, 4, 5]"
      ]
     },
     "execution_count": 25,
     "metadata": {},
     "output_type": "execute_result"
    }
   ],
   "source": [
    "my_module.my_list # note the effect of my_constants.append(5)"
   ]
  },
  {
   "cell_type": "code",
   "execution_count": 26,
   "metadata": {},
   "outputs": [
    {
     "data": {
      "text/plain": [
       "True"
      ]
     },
     "execution_count": 26,
     "metadata": {},
     "output_type": "execute_result"
    }
   ],
   "source": [
    "my_module.my_list is my_constants # both are pointers to the same list object"
   ]
  },
  {
   "cell_type": "markdown",
   "metadata": {},
   "source": [
    "Note that the modification of the imported list changes this list anywhere it is imported (actually, all imports refer to the same object). \n",
    "Therefore it is very dangerous to import and modify mutable data structures from other modules."
   ]
  },
  {
   "cell_type": "markdown",
   "metadata": {},
   "source": [
    "## Import from Packages"
   ]
  },
  {
   "cell_type": "code",
   "execution_count": 27,
   "metadata": {},
   "outputs": [],
   "source": [
    "import mypackage # note that this does not import submodules in this package"
   ]
  },
  {
   "cell_type": "code",
   "execution_count": 28,
   "metadata": {},
   "outputs": [
    {
     "name": "stdout",
     "output_type": "stream",
     "text": [
      "module 'mypackage' has no attribute 'my_module2'\n"
     ]
    }
   ],
   "source": [
    "try:\n",
    "    mypackage.my_module2.triple_me(3)\n",
    "except AttributeError as e:\n",
    "    print(e)"
   ]
  },
  {
   "cell_type": "code",
   "execution_count": 29,
   "metadata": {},
   "outputs": [],
   "source": [
    "import mypackage.my_module2 # explicit import of modules in package into package namespace"
   ]
  },
  {
   "cell_type": "code",
   "execution_count": 30,
   "metadata": {},
   "outputs": [
    {
     "data": {
      "text/plain": [
       "9"
      ]
     },
     "execution_count": 30,
     "metadata": {},
     "output_type": "execute_result"
    }
   ],
   "source": [
    "mypackage.my_module2.triple_me(3)"
   ]
  },
  {
   "cell_type": "code",
   "execution_count": 31,
   "metadata": {},
   "outputs": [],
   "source": [
    "from mypackage import my_module2 # import submodules into current namespace"
   ]
  },
  {
   "cell_type": "code",
   "execution_count": 32,
   "metadata": {},
   "outputs": [
    {
     "data": {
      "text/plain": [
       "9"
      ]
     },
     "execution_count": 32,
     "metadata": {},
     "output_type": "execute_result"
    }
   ],
   "source": [
    "my_module2.triple_me(3)"
   ]
  },
  {
   "cell_type": "code",
   "execution_count": 33,
   "metadata": {},
   "outputs": [],
   "source": [
    "from mypackage.my_module2 import triple_me as tripler\n",
    "# import objects from submodules into current namespace"
   ]
  },
  {
   "cell_type": "code",
   "execution_count": 34,
   "metadata": {},
   "outputs": [
    {
     "data": {
      "text/plain": [
       "12"
      ]
     },
     "execution_count": 34,
     "metadata": {},
     "output_type": "execute_result"
    }
   ],
   "source": [
    "tripler(4)"
   ]
  },
  {
   "cell_type": "code",
   "execution_count": 35,
   "metadata": {},
   "outputs": [],
   "source": [
    "from mypackage import * # imports only content/imports of __init__.py and modules\n",
    "# listed in the __all__ variable in the init file into current namespace"
   ]
  },
  {
   "cell_type": "code",
   "execution_count": 41,
   "metadata": {},
   "outputs": [
    {
     "name": "stdout",
     "output_type": "stream",
     "text": [
      "__all__ = ['my_module4']\n"
     ]
    }
   ],
   "source": [
    "%cat ../example_files/mypackage/__init__.py # note that my_module4 is included here, but not my_module3"
   ]
  },
  {
   "cell_type": "code",
   "execution_count": 37,
   "metadata": {},
   "outputs": [
    {
     "name": "stdout",
     "output_type": "stream",
     "text": [
      "name 'my_module3' is not defined\n"
     ]
    }
   ],
   "source": [
    "try:\n",
    "    my_module3.square_me(4) # not imported with from package import *\n",
    "except NameError as e:\n",
    "    print(e)"
   ]
  },
  {
   "cell_type": "code",
   "execution_count": 38,
   "metadata": {},
   "outputs": [
    {
     "data": {
      "text/plain": [
       "4.0"
      ]
     },
     "execution_count": 38,
     "metadata": {},
     "output_type": "execute_result"
    }
   ],
   "source": [
    "my_module4.divide_me_by_2(8) # imported with from package import * because module name\n",
    "# is in __all__ of __init__.py"
   ]
  },
  {
   "cell_type": "markdown",
   "metadata": {},
   "source": [
    "# Main Block\n",
    "\n",
    "In some cases, the same Python module id used both in imports and executed directly.\n",
    "In this case, a main block can be defined which is not executed during import. There is no pre-defined method to do this in Python (like the main class in Java), but the following code pattern is used:\n",
    "\n",
    "    if __name__ == '__main__':\n",
    "        do_something\n",
    "        \n"
   ]
  },
  {
   "cell_type": "code",
   "execution_count": 39,
   "metadata": {},
   "outputs": [],
   "source": [
    "import my_module # note that the print command inside the main block is not executed "
   ]
  },
  {
   "cell_type": "code",
   "execution_count": 40,
   "metadata": {},
   "outputs": [
    {
     "name": "stdout",
     "output_type": "stream",
     "text": [
      "my_module imported\n",
      "executing main block\n"
     ]
    }
   ],
   "source": [
    "exec(open('../example_files/my_module.py').read()) # antipattern: never use this as part of a program workflow\n",
    "# use import instead"
   ]
  }
 ],
 "metadata": {
  "kernelspec": {
   "display_name": "Python 3",
   "language": "python",
   "name": "python3"
  },
  "language_info": {
   "codemirror_mode": {
    "name": "ipython",
    "version": 3
   },
   "file_extension": ".py",
   "mimetype": "text/x-python",
   "name": "python",
   "nbconvert_exporter": "python",
   "pygments_lexer": "ipython3",
   "version": "3.7.3"
  }
 },
 "nbformat": 4,
 "nbformat_minor": 2
}

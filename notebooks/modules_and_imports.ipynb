{
 "cells": [
  {
   "cell_type": "markdown",
   "metadata": {},
   "source": [
    "# Hierarchy\n",
    "\n",
    "Python code can be ordered using the following hierarchy.\n",
    "Note that some hierarchy levels are not applicable for Jupyter Notebooks but only for \"normal\" Python code.\n",
    "\n",
    "## Packages [optional]\n",
    "A directory conaining .py files (i.e. Modules) and/ or subpackages. A directory becomes a Python Package if the file \n",
    "\n",
    "    __init__.py \n",
    "    \n",
    "(which is usually empty) is present.\n",
    "\n",
    "## Modules\n",
    "A file containing Python code. It may be top level or inside a Package. A module may contain functions, classes, variables (usually constants) and/ or code.\n",
    "    \n",
    "Code inside a Module is automatically executed if the module is imported. Code which should be only executed if the module itself is executed (not by imports from other modules) is protected using the following check:\n",
    "    \n",
    "    if __name__ == '__main__':\n",
    "        code\n",
    "        \n",
    "Note that it is perfectly fine in Python to have constants and functions directly in Modules, outside classes (unlike e.g. in Java, where everything must be inside a class). The module-level namespaces avoid naming conflicts."
   ]
  },
  {
   "cell_type": "markdown",
   "metadata": {},
   "source": [
    "# Imports"
   ]
  },
  {
   "cell_type": "code",
   "execution_count": 2,
   "metadata": {},
   "outputs": [
    {
     "name": "stdout",
     "output_type": "stream",
     "text": [
      "\"\"\"example file for module imports\"\"\"\n",
      "\n",
      "__version__ = '0.0.1'\n",
      "\n",
      "my_secret = 'you_will_never_guess'\n",
      "my_list = [1, 2, 3, 4]\n",
      "my_tuple = ('a', 'b', 'c')\n",
      "\n",
      "def double_me(x):\n",
      "    \"\"\"doubles input value\"\"\"\n",
      "    return 2*x\n",
      "\n",
      "def power_me(x, i: int, times_two=False):\n",
      "    \"\"\"useless example function\"\"\"\n",
      "    mult = 2 if times_two else 1\n",
      "    return mult*x**i\n",
      "\n",
      "class Multiplier:\n",
      "    \"\"\"class that creates multiplier objects with a given factor\"\"\"\n",
      "    def __init__(self, i):\n",
      "        self.i = i\n",
      "    def get_result(self, x):\n",
      "        \"\"\"returns factor specified with initialization multiplied by input value\"\"\"\n",
      "        return self.i*x\n",
      "\n",
      "mult2 = Multiplier(2)\n",
      "mult3 = Multiplier(3)\n",
      "\n",
      "print('my_module imported')\n",
      "\n",
      "if __name__ == '__main__':\n",
      "    # this code is not executed when importing this module, but only if the module is executed\n",
      "    print('executing main block')\n"
     ]
    }
   ],
   "source": [
    "%cat ../code/my_module.py # example module to be imported"
   ]
  },
  {
   "cell_type": "markdown",
   "metadata": {},
   "source": [
    "## Pythonpath"
   ]
  },
  {
   "cell_type": "code",
   "execution_count": 3,
   "metadata": {},
   "outputs": [],
   "source": [
    "import sys\n",
    "import os"
   ]
  },
  {
   "cell_type": "code",
   "execution_count": 4,
   "metadata": {},
   "outputs": [],
   "source": [
    "new_path = os.path.abspath('../code')\n",
    "if new_path not in sys.path:\n",
    "    sys.path.append(new_path)"
   ]
  },
  {
   "cell_type": "markdown",
   "metadata": {},
   "source": [
    "Python searches for modules in import statements in the following places:\n",
    "* Current directory\n",
    "* Python builtins\n",
    "* Directories in Pythonpath\n",
    "\n",
    "The code above checks if the given directory is included in Pythonpath and adds it if not.\n",
    "\n",
    "This pattern is also useful e.g. for unit tests if the test cases are kept in a directory different from the code."
   ]
  },
  {
   "cell_type": "markdown",
   "metadata": {},
   "source": [
    "## Import Specific Objects"
   ]
  },
  {
   "cell_type": "code",
   "execution_count": 5,
   "metadata": {},
   "outputs": [
    {
     "name": "stdout",
     "output_type": "stream",
     "text": [
      "my_module imported\n"
     ]
    }
   ],
   "source": [
    "from my_module import double_me\n",
    "from my_module import my_list as my_constants # rename object with importings"
   ]
  },
  {
   "cell_type": "markdown",
   "metadata": {},
   "source": [
    "The \n",
    "\n",
    "    from module import object [as alias]\n",
    "    \n",
    "pattern imports specific objects of the module in local namespace.\n",
    "\n",
    "Note that the print statement at the bottom of the module is executed, although it is not in one of the imported objects. Python runs the complete module script the first time it is used in any import."
   ]
  },
  {
   "cell_type": "code",
   "execution_count": 6,
   "metadata": {},
   "outputs": [
    {
     "data": {
      "text/plain": [
       "84"
      ]
     },
     "execution_count": 6,
     "metadata": {},
     "output_type": "execute_result"
    }
   ],
   "source": [
    "double_me(42)"
   ]
  },
  {
   "cell_type": "code",
   "execution_count": 7,
   "metadata": {},
   "outputs": [
    {
     "data": {
      "text/plain": [
       "[1, 2, 3, 4]"
      ]
     },
     "execution_count": 7,
     "metadata": {},
     "output_type": "execute_result"
    }
   ],
   "source": [
    "my_constants"
   ]
  },
  {
   "cell_type": "markdown",
   "metadata": {},
   "source": [
    "#### Antipatterns"
   ]
  },
  {
   "cell_type": "code",
   "execution_count": 8,
   "metadata": {},
   "outputs": [
    {
     "data": {
      "text/plain": [
       "[1, 2, 3, 4, 5]"
      ]
     },
     "execution_count": 8,
     "metadata": {},
     "output_type": "execute_result"
    }
   ],
   "source": [
    "my_constants.append(5)\n",
    "my_constants"
   ]
  },
  {
   "cell_type": "markdown",
   "metadata": {},
   "source": [
    "Extremely dangerous: changing (mutable) data in an other module. All imports referring to this data will be affected."
   ]
  },
  {
   "cell_type": "code",
   "execution_count": 9,
   "metadata": {},
   "outputs": [
    {
     "data": {
      "text/plain": [
       "('this', 'is', 'very', 'important')"
      ]
     },
     "execution_count": 9,
     "metadata": {},
     "output_type": "execute_result"
    }
   ],
   "source": [
    "my_tuple = ('this', 'is', 'very', 'important')\n",
    "my_tuple"
   ]
  },
  {
   "cell_type": "code",
   "execution_count": 10,
   "metadata": {},
   "outputs": [],
   "source": [
    "from my_module import * # Imports all members of the module into local namespace"
   ]
  },
  {
   "cell_type": "code",
   "execution_count": 11,
   "metadata": {},
   "outputs": [
    {
     "data": {
      "text/plain": [
       "('a', 'b', 'c')"
      ]
     },
     "execution_count": 11,
     "metadata": {},
     "output_type": "execute_result"
    }
   ],
   "source": [
    "my_tuple"
   ]
  },
  {
   "cell_type": "markdown",
   "metadata": {},
   "source": [
    "The usage of the pattern\n",
    "\n",
    "    from module import *\n",
    "\n",
    "has the following drawbacks and is therefore not recommended:\n",
    "* There could be naming conflicts between local and imported objects\n",
    "* There is no information or control in the module where the import statement has been executed which object originates from which module."
   ]
  },
  {
   "cell_type": "markdown",
   "metadata": {},
   "source": [
    "## Import Whole Module as Separate Namespace"
   ]
  },
  {
   "cell_type": "code",
   "execution_count": 12,
   "metadata": {},
   "outputs": [],
   "source": [
    "import my_module"
   ]
  },
  {
   "cell_type": "markdown",
   "metadata": {},
   "source": [
    "This is the recommended method to import modules, especially if multiple objects of the module are required. If the number of imported objects is small, the *from module import object* syntax is also fine.\n",
    "\n",
    "The code in the imported module is only executed once during the first import. Thus the print statement is not shown again."
   ]
  },
  {
   "cell_type": "code",
   "execution_count": 13,
   "metadata": {},
   "outputs": [
    {
     "data": {
      "text/plain": [
       "84"
      ]
     },
     "execution_count": 13,
     "metadata": {},
     "output_type": "execute_result"
    }
   ],
   "source": [
    "my_module.double_me(42)"
   ]
  },
  {
   "cell_type": "code",
   "execution_count": 14,
   "metadata": {},
   "outputs": [
    {
     "data": {
      "text/plain": [
       "49"
      ]
     },
     "execution_count": 14,
     "metadata": {},
     "output_type": "execute_result"
    }
   ],
   "source": [
    "mult7 = my_module.Multiplier(7)\n",
    "mult7.get_result(7)"
   ]
  },
  {
   "cell_type": "code",
   "execution_count": 15,
   "metadata": {},
   "outputs": [
    {
     "data": {
      "text/plain": [
       "6"
      ]
     },
     "execution_count": 15,
     "metadata": {},
     "output_type": "execute_result"
    }
   ],
   "source": [
    "my_module.mult2.get_result(3)"
   ]
  },
  {
   "cell_type": "code",
   "execution_count": 16,
   "metadata": {},
   "outputs": [
    {
     "data": {
      "text/plain": [
       "[1, 2, 3, 4, 5]"
      ]
     },
     "execution_count": 16,
     "metadata": {},
     "output_type": "execute_result"
    }
   ],
   "source": [
    "my_module.my_list # note the effect of my_constants.append(5)"
   ]
  },
  {
   "cell_type": "code",
   "execution_count": 17,
   "metadata": {},
   "outputs": [
    {
     "data": {
      "text/plain": [
       "True"
      ]
     },
     "execution_count": 17,
     "metadata": {},
     "output_type": "execute_result"
    }
   ],
   "source": [
    "my_module.my_list is my_constants # both are pointers to the same list object"
   ]
  },
  {
   "cell_type": "markdown",
   "metadata": {},
   "source": [
    "Note that the modification of the imported list changes this list anywhere it is imported (actually, all imports refer to the same object). \n",
    "Therefore it is very dangerous to import and modify mutable data structures from other modules."
   ]
  },
  {
   "cell_type": "markdown",
   "metadata": {},
   "source": [
    "## Import from Packages"
   ]
  },
  {
   "cell_type": "code",
   "execution_count": 18,
   "metadata": {},
   "outputs": [],
   "source": [
    "import mypackage # note that this does not import submodules in this package"
   ]
  },
  {
   "cell_type": "code",
   "execution_count": 19,
   "metadata": {},
   "outputs": [
    {
     "name": "stdout",
     "output_type": "stream",
     "text": [
      "module 'mypackage' has no attribute 'my_module2'\n"
     ]
    }
   ],
   "source": [
    "try:\n",
    "    mypackage.my_module2.triple_me(3)\n",
    "except AttributeError as e:\n",
    "    print(e)"
   ]
  },
  {
   "cell_type": "code",
   "execution_count": 20,
   "metadata": {},
   "outputs": [],
   "source": [
    "import mypackage.my_module2 # explicit import of modules in package into package namespace"
   ]
  },
  {
   "cell_type": "code",
   "execution_count": 21,
   "metadata": {},
   "outputs": [
    {
     "data": {
      "text/plain": [
       "9"
      ]
     },
     "execution_count": 21,
     "metadata": {},
     "output_type": "execute_result"
    }
   ],
   "source": [
    "mypackage.my_module2.triple_me(3)"
   ]
  },
  {
   "cell_type": "code",
   "execution_count": 22,
   "metadata": {},
   "outputs": [],
   "source": [
    "from mypackage import my_module2 # import submodules into current namespace"
   ]
  },
  {
   "cell_type": "code",
   "execution_count": 23,
   "metadata": {},
   "outputs": [
    {
     "data": {
      "text/plain": [
       "9"
      ]
     },
     "execution_count": 23,
     "metadata": {},
     "output_type": "execute_result"
    }
   ],
   "source": [
    "my_module2.triple_me(3)"
   ]
  },
  {
   "cell_type": "code",
   "execution_count": 24,
   "metadata": {},
   "outputs": [],
   "source": [
    "from mypackage.my_module2 import triple_me as tripler\n",
    "# import objects from submodules into current namespace"
   ]
  },
  {
   "cell_type": "code",
   "execution_count": 25,
   "metadata": {},
   "outputs": [
    {
     "data": {
      "text/plain": [
       "12"
      ]
     },
     "execution_count": 25,
     "metadata": {},
     "output_type": "execute_result"
    }
   ],
   "source": [
    "tripler(4)"
   ]
  },
  {
   "cell_type": "code",
   "execution_count": 26,
   "metadata": {},
   "outputs": [],
   "source": [
    "from mypackage import * # imports only content/imports of __init__.py and modules\n",
    "# listed in the __all__ variable in the init file into current namespace"
   ]
  },
  {
   "cell_type": "code",
   "execution_count": 27,
   "metadata": {},
   "outputs": [
    {
     "name": "stdout",
     "output_type": "stream",
     "text": [
      "cat: ../example_files/mypackage/__init__.py: No such file or directory\n"
     ]
    }
   ],
   "source": [
    "%cat ../example_files/mypackage/__init__.py # note that my_module4 is included here, but not my_module3"
   ]
  },
  {
   "cell_type": "code",
   "execution_count": 28,
   "metadata": {},
   "outputs": [
    {
     "name": "stdout",
     "output_type": "stream",
     "text": [
      "name 'my_module3' is not defined\n"
     ]
    }
   ],
   "source": [
    "try:\n",
    "    my_module3.square_me(4) # not imported with from package import *\n",
    "except NameError as e:\n",
    "    print(e)"
   ]
  },
  {
   "cell_type": "code",
   "execution_count": 29,
   "metadata": {},
   "outputs": [
    {
     "data": {
      "text/plain": [
       "4.0"
      ]
     },
     "execution_count": 29,
     "metadata": {},
     "output_type": "execute_result"
    }
   ],
   "source": [
    "my_module4.divide_me_by_2(8) # imported with from package import * because module name\n",
    "# is in __all__ of __init__.py"
   ]
  },
  {
   "cell_type": "markdown",
   "metadata": {},
   "source": [
    "# Main Block\n",
    "\n",
    "In some cases, the same Python module id used both in imports and executed directly.\n",
    "In this case, a main block can be defined which is not executed during import. There is no pre-defined method to do this in Python (like the main class in Java), but the following code pattern is used:\n",
    "\n",
    "    if __name__ == '__main__':\n",
    "        do_something\n",
    "        \n"
   ]
  },
  {
   "cell_type": "code",
   "execution_count": 30,
   "metadata": {},
   "outputs": [],
   "source": [
    "import my_module # note that the print command inside the main block is not executed "
   ]
  },
  {
   "cell_type": "code",
   "execution_count": 31,
   "metadata": {},
   "outputs": [
    {
     "name": "stdout",
     "output_type": "stream",
     "text": [
      "my_module imported\n",
      "executing main block\n"
     ]
    }
   ],
   "source": [
    "exec(open('../code/my_module.py').read()) # antipattern: never use this as part of a program workflow\n",
    "# use import instead"
   ]
  },
  {
   "cell_type": "markdown",
   "metadata": {},
   "source": [
    "# Inspection"
   ]
  },
  {
   "cell_type": "markdown",
   "metadata": {},
   "source": [
    "## Docstrings"
   ]
  },
  {
   "cell_type": "code",
   "execution_count": 32,
   "metadata": {},
   "outputs": [
    {
     "data": {
      "text/plain": [
       "'example file for module imports'"
      ]
     },
     "execution_count": 32,
     "metadata": {},
     "output_type": "execute_result"
    }
   ],
   "source": [
    "my_module.__doc__"
   ]
  },
  {
   "cell_type": "code",
   "execution_count": 33,
   "metadata": {},
   "outputs": [
    {
     "data": {
      "text/plain": [
       "'doubles input value'"
      ]
     },
     "execution_count": 33,
     "metadata": {},
     "output_type": "execute_result"
    }
   ],
   "source": [
    "my_module.double_me.__doc__"
   ]
  },
  {
   "cell_type": "code",
   "execution_count": 34,
   "metadata": {},
   "outputs": [
    {
     "data": {
      "text/plain": [
       "'class that creates multiplier objects with a given factor'"
      ]
     },
     "execution_count": 34,
     "metadata": {},
     "output_type": "execute_result"
    }
   ],
   "source": [
    "my_module.Multiplier.__doc__"
   ]
  },
  {
   "cell_type": "code",
   "execution_count": 35,
   "metadata": {},
   "outputs": [
    {
     "data": {
      "text/plain": [
       "'returns factor specified with initialization multiplied by input value'"
      ]
     },
     "execution_count": 35,
     "metadata": {},
     "output_type": "execute_result"
    }
   ],
   "source": [
    "my_module.Multiplier.get_result.__doc__"
   ]
  },
  {
   "cell_type": "markdown",
   "metadata": {},
   "source": [
    "Docstrings, i.e. strings that are defined immediately after start of modules, functions, classes or methods, are not only helpful for reading code. They can be accessed on runtime with the doc dunder property."
   ]
  },
  {
   "cell_type": "markdown",
   "metadata": {},
   "source": [
    "## Help Function"
   ]
  },
  {
   "cell_type": "code",
   "execution_count": 36,
   "metadata": {},
   "outputs": [
    {
     "name": "stdout",
     "output_type": "stream",
     "text": [
      "Help on module my_module:\n",
      "\n",
      "NAME\n",
      "    my_module - example file for module imports\n",
      "\n",
      "CLASSES\n",
      "    builtins.object\n",
      "        Multiplier\n",
      "    \n",
      "    class Multiplier(builtins.object)\n",
      "     |  Multiplier(i)\n",
      "     |  \n",
      "     |  class that creates multiplier objects with a given factor\n",
      "     |  \n",
      "     |  Methods defined here:\n",
      "     |  \n",
      "     |  __init__(self, i)\n",
      "     |      Initialize self.  See help(type(self)) for accurate signature.\n",
      "     |  \n",
      "     |  get_result(self, x)\n",
      "     |      returns factor specified with initialization multiplied by input value\n",
      "     |  \n",
      "     |  ----------------------------------------------------------------------\n",
      "     |  Data descriptors defined here:\n",
      "     |  \n",
      "     |  __dict__\n",
      "     |      dictionary for instance variables (if defined)\n",
      "     |  \n",
      "     |  __weakref__\n",
      "     |      list of weak references to the object (if defined)\n",
      "\n",
      "FUNCTIONS\n",
      "    double_me(x)\n",
      "        doubles input value\n",
      "    \n",
      "    power_me(x, i: int, times_two=False)\n",
      "        useless example function\n",
      "\n",
      "DATA\n",
      "    mult2 = <my_module.Multiplier object>\n",
      "    mult3 = <my_module.Multiplier object>\n",
      "    my_list = [1, 2, 3, 4, 5]\n",
      "    my_secret = 'you_will_never_guess'\n",
      "    my_tuple = ('a', 'b', 'c')\n",
      "\n",
      "VERSION\n",
      "    0.0.1\n",
      "\n",
      "FILE\n",
      "    /home/jovyan/Tutorial/code/my_module.py\n",
      "\n",
      "\n"
     ]
    }
   ],
   "source": [
    "help(my_module)"
   ]
  },
  {
   "cell_type": "code",
   "execution_count": 37,
   "metadata": {},
   "outputs": [
    {
     "name": "stdout",
     "output_type": "stream",
     "text": [
      "Help on class Multiplier in module my_module:\n",
      "\n",
      "class Multiplier(builtins.object)\n",
      " |  Multiplier(i)\n",
      " |  \n",
      " |  class that creates multiplier objects with a given factor\n",
      " |  \n",
      " |  Methods defined here:\n",
      " |  \n",
      " |  __init__(self, i)\n",
      " |      Initialize self.  See help(type(self)) for accurate signature.\n",
      " |  \n",
      " |  get_result(self, x)\n",
      " |      returns factor specified with initialization multiplied by input value\n",
      " |  \n",
      " |  ----------------------------------------------------------------------\n",
      " |  Data descriptors defined here:\n",
      " |  \n",
      " |  __dict__\n",
      " |      dictionary for instance variables (if defined)\n",
      " |  \n",
      " |  __weakref__\n",
      " |      list of weak references to the object (if defined)\n",
      "\n"
     ]
    }
   ],
   "source": [
    "help(my_module.Multiplier)"
   ]
  },
  {
   "cell_type": "markdown",
   "metadata": {},
   "source": [
    "The builtin help function automatically generates information about the objects using the signatures and docstrings."
   ]
  },
  {
   "cell_type": "markdown",
   "metadata": {},
   "source": [
    "## Inspect Module"
   ]
  },
  {
   "cell_type": "code",
   "execution_count": 38,
   "metadata": {},
   "outputs": [],
   "source": [
    "import inspect"
   ]
  },
  {
   "cell_type": "code",
   "execution_count": 39,
   "metadata": {},
   "outputs": [
    {
     "data": {
      "text/plain": [
       "[('__annotations__', {}),\n",
       " ('__call__',\n",
       "  <method-wrapper '__call__' of function object at 0x7f03f0f78d08>),\n",
       " ('__class__', function),\n",
       " ('__closure__', None),\n",
       " ('__code__',\n",
       "  <code object double_me at 0x7f03f0f6f660, file \"/home/jovyan/Tutorial/code/my_module.py\", line 9>),\n",
       " ('__defaults__', None),\n",
       " ('__delattr__',\n",
       "  <method-wrapper '__delattr__' of function object at 0x7f03f0f78d08>),\n",
       " ('__dict__', {}),\n",
       " ('__dir__', <function function.__dir__()>),\n",
       " ('__doc__', 'doubles input value'),\n",
       " ('__eq__', <method-wrapper '__eq__' of function object at 0x7f03f0f78d08>),\n",
       " ('__format__', <function function.__format__(format_spec, /)>),\n",
       " ('__ge__', <method-wrapper '__ge__' of function object at 0x7f03f0f78d08>),\n",
       " ('__get__', <method-wrapper '__get__' of function object at 0x7f03f0f78d08>),\n",
       " ('__getattribute__',\n",
       "  <method-wrapper '__getattribute__' of function object at 0x7f03f0f78d08>),\n",
       " ('__globals__',\n",
       "  {'__name__': 'my_module',\n",
       "   '__doc__': 'example file for module imports',\n",
       "   '__package__': '',\n",
       "   '__loader__': <_frozen_importlib_external.SourceFileLoader at 0x7f03f072a908>,\n",
       "   '__spec__': ModuleSpec(name='my_module', loader=<_frozen_importlib_external.SourceFileLoader object at 0x7f03f072a908>, origin='/home/jovyan/Tutorial/code/my_module.py'),\n",
       "   '__file__': '/home/jovyan/Tutorial/code/my_module.py',\n",
       "   '__cached__': '/home/jovyan/Tutorial/code/__pycache__/my_module.cpython-37.pyc',\n",
       "   '__builtins__': {'__name__': 'builtins',\n",
       "    '__doc__': \"Built-in functions, exceptions, and other objects.\\n\\nNoteworthy: None is the `nil' object; Ellipsis represents `...' in slices.\",\n",
       "    '__package__': '',\n",
       "    '__loader__': _frozen_importlib.BuiltinImporter,\n",
       "    '__spec__': ModuleSpec(name='builtins', loader=<class '_frozen_importlib.BuiltinImporter'>),\n",
       "    '__build_class__': <function __build_class__>,\n",
       "    '__import__': <function __import__>,\n",
       "    'abs': <function abs(x, /)>,\n",
       "    'all': <function all(iterable, /)>,\n",
       "    'any': <function any(iterable, /)>,\n",
       "    'ascii': <function ascii(obj, /)>,\n",
       "    'bin': <function bin(number, /)>,\n",
       "    'breakpoint': <function breakpoint>,\n",
       "    'callable': <function callable(obj, /)>,\n",
       "    'chr': <function chr(i, /)>,\n",
       "    'compile': <function compile(source, filename, mode, flags=0, dont_inherit=False, optimize=-1)>,\n",
       "    'delattr': <function delattr(obj, name, /)>,\n",
       "    'dir': <function dir>,\n",
       "    'divmod': <function divmod(x, y, /)>,\n",
       "    'eval': <function eval(source, globals=None, locals=None, /)>,\n",
       "    'exec': <function exec(source, globals=None, locals=None, /)>,\n",
       "    'format': <function format(value, format_spec='', /)>,\n",
       "    'getattr': <function getattr>,\n",
       "    'globals': <function globals()>,\n",
       "    'hasattr': <function hasattr(obj, name, /)>,\n",
       "    'hash': <function hash(obj, /)>,\n",
       "    'hex': <function hex(number, /)>,\n",
       "    'id': <function id(obj, /)>,\n",
       "    'input': <bound method Kernel.raw_input of <ipykernel.ipkernel.IPythonKernel object at 0x7f03f4acb240>>,\n",
       "    'isinstance': <function isinstance(obj, class_or_tuple, /)>,\n",
       "    'issubclass': <function issubclass(cls, class_or_tuple, /)>,\n",
       "    'iter': <function iter>,\n",
       "    'len': <function len(obj, /)>,\n",
       "    'locals': <function locals()>,\n",
       "    'max': <function max>,\n",
       "    'min': <function min>,\n",
       "    'next': <function next>,\n",
       "    'oct': <function oct(number, /)>,\n",
       "    'ord': <function ord(c, /)>,\n",
       "    'pow': <function pow(x, y, z=None, /)>,\n",
       "    'print': <function print>,\n",
       "    'repr': <function repr(obj, /)>,\n",
       "    'round': <function round(number, ndigits=None)>,\n",
       "    'setattr': <function setattr(obj, name, value, /)>,\n",
       "    'sorted': <function sorted(iterable, /, *, key=None, reverse=False)>,\n",
       "    'sum': <function sum(iterable, start=0, /)>,\n",
       "    'vars': <function vars>,\n",
       "    'None': None,\n",
       "    'Ellipsis': Ellipsis,\n",
       "    'NotImplemented': NotImplemented,\n",
       "    'False': False,\n",
       "    'True': True,\n",
       "    'bool': bool,\n",
       "    'memoryview': memoryview,\n",
       "    'bytearray': bytearray,\n",
       "    'bytes': bytes,\n",
       "    'classmethod': classmethod,\n",
       "    'complex': complex,\n",
       "    'dict': dict,\n",
       "    'enumerate': enumerate,\n",
       "    'filter': filter,\n",
       "    'float': float,\n",
       "    'frozenset': frozenset,\n",
       "    'property': property,\n",
       "    'int': int,\n",
       "    'list': list,\n",
       "    'map': map,\n",
       "    'object': object,\n",
       "    'range': range,\n",
       "    'reversed': reversed,\n",
       "    'set': set,\n",
       "    'slice': slice,\n",
       "    'staticmethod': staticmethod,\n",
       "    'str': str,\n",
       "    'super': super,\n",
       "    'tuple': tuple,\n",
       "    'type': type,\n",
       "    'zip': zip,\n",
       "    '__debug__': True,\n",
       "    'BaseException': BaseException,\n",
       "    'Exception': Exception,\n",
       "    'TypeError': TypeError,\n",
       "    'StopAsyncIteration': StopAsyncIteration,\n",
       "    'StopIteration': StopIteration,\n",
       "    'GeneratorExit': GeneratorExit,\n",
       "    'SystemExit': SystemExit,\n",
       "    'KeyboardInterrupt': KeyboardInterrupt,\n",
       "    'ImportError': ImportError,\n",
       "    'ModuleNotFoundError': ModuleNotFoundError,\n",
       "    'OSError': OSError,\n",
       "    'EnvironmentError': OSError,\n",
       "    'IOError': OSError,\n",
       "    'EOFError': EOFError,\n",
       "    'RuntimeError': RuntimeError,\n",
       "    'RecursionError': RecursionError,\n",
       "    'NotImplementedError': NotImplementedError,\n",
       "    'NameError': NameError,\n",
       "    'UnboundLocalError': UnboundLocalError,\n",
       "    'AttributeError': AttributeError,\n",
       "    'SyntaxError': SyntaxError,\n",
       "    'IndentationError': IndentationError,\n",
       "    'TabError': TabError,\n",
       "    'LookupError': LookupError,\n",
       "    'IndexError': IndexError,\n",
       "    'KeyError': KeyError,\n",
       "    'ValueError': ValueError,\n",
       "    'UnicodeError': UnicodeError,\n",
       "    'UnicodeEncodeError': UnicodeEncodeError,\n",
       "    'UnicodeDecodeError': UnicodeDecodeError,\n",
       "    'UnicodeTranslateError': UnicodeTranslateError,\n",
       "    'AssertionError': AssertionError,\n",
       "    'ArithmeticError': ArithmeticError,\n",
       "    'FloatingPointError': FloatingPointError,\n",
       "    'OverflowError': OverflowError,\n",
       "    'ZeroDivisionError': ZeroDivisionError,\n",
       "    'SystemError': SystemError,\n",
       "    'ReferenceError': ReferenceError,\n",
       "    'MemoryError': MemoryError,\n",
       "    'BufferError': BufferError,\n",
       "    'Warning': Warning,\n",
       "    'UserWarning': UserWarning,\n",
       "    'DeprecationWarning': DeprecationWarning,\n",
       "    'PendingDeprecationWarning': PendingDeprecationWarning,\n",
       "    'SyntaxWarning': SyntaxWarning,\n",
       "    'RuntimeWarning': RuntimeWarning,\n",
       "    'FutureWarning': FutureWarning,\n",
       "    'ImportWarning': ImportWarning,\n",
       "    'UnicodeWarning': UnicodeWarning,\n",
       "    'BytesWarning': BytesWarning,\n",
       "    'ResourceWarning': ResourceWarning,\n",
       "    'ConnectionError': ConnectionError,\n",
       "    'BlockingIOError': BlockingIOError,\n",
       "    'BrokenPipeError': BrokenPipeError,\n",
       "    'ChildProcessError': ChildProcessError,\n",
       "    'ConnectionAbortedError': ConnectionAbortedError,\n",
       "    'ConnectionRefusedError': ConnectionRefusedError,\n",
       "    'ConnectionResetError': ConnectionResetError,\n",
       "    'FileExistsError': FileExistsError,\n",
       "    'FileNotFoundError': FileNotFoundError,\n",
       "    'IsADirectoryError': IsADirectoryError,\n",
       "    'NotADirectoryError': NotADirectoryError,\n",
       "    'InterruptedError': InterruptedError,\n",
       "    'PermissionError': PermissionError,\n",
       "    'ProcessLookupError': ProcessLookupError,\n",
       "    'TimeoutError': TimeoutError,\n",
       "    'open': <function io.open(file, mode='r', buffering=-1, encoding=None, errors=None, newline=None, closefd=True, opener=None)>,\n",
       "    'copyright': Copyright (c) 2001-2019 Python Software Foundation.\n",
       "    All Rights Reserved.\n",
       "    \n",
       "    Copyright (c) 2000 BeOpen.com.\n",
       "    All Rights Reserved.\n",
       "    \n",
       "    Copyright (c) 1995-2001 Corporation for National Research Initiatives.\n",
       "    All Rights Reserved.\n",
       "    \n",
       "    Copyright (c) 1991-1995 Stichting Mathematisch Centrum, Amsterdam.\n",
       "    All Rights Reserved.,\n",
       "    'credits':     Thanks to CWI, CNRI, BeOpen.com, Zope Corporation and a cast of thousands\n",
       "        for supporting Python development.  See www.python.org for more information.,\n",
       "    'license': Type license() to see the full license text,\n",
       "    'help': Type help() for interactive help, or help(object) for help about object.,\n",
       "    '__IPYTHON__': True,\n",
       "    'display': <function IPython.core.display.display(*objs, include=None, exclude=None, metadata=None, transient=None, display_id=None, **kwargs)>,\n",
       "    'get_ipython': <bound method InteractiveShell.get_ipython of <ipykernel.zmqshell.ZMQInteractiveShell object at 0x7f03f51502e8>>},\n",
       "   '__version__': '0.0.1',\n",
       "   'my_secret': 'you_will_never_guess',\n",
       "   'my_list': [1, 2, 3, 4, 5],\n",
       "   'my_tuple': ('a', 'b', 'c'),\n",
       "   'double_me': <function my_module.double_me(x)>,\n",
       "   'power_me': <function my_module.power_me(x, i: int, times_two=False)>,\n",
       "   'Multiplier': my_module.Multiplier,\n",
       "   'mult2': <my_module.Multiplier at 0x7f03f072a940>,\n",
       "   'mult3': <my_module.Multiplier at 0x7f03f072a9b0>}),\n",
       " ('__gt__', <method-wrapper '__gt__' of function object at 0x7f03f0f78d08>),\n",
       " ('__hash__',\n",
       "  <method-wrapper '__hash__' of function object at 0x7f03f0f78d08>),\n",
       " ('__init__',\n",
       "  <method-wrapper '__init__' of function object at 0x7f03f0f78d08>),\n",
       " ('__init_subclass__', <function function.__init_subclass__>),\n",
       " ('__kwdefaults__', None),\n",
       " ('__le__', <method-wrapper '__le__' of function object at 0x7f03f0f78d08>),\n",
       " ('__lt__', <method-wrapper '__lt__' of function object at 0x7f03f0f78d08>),\n",
       " ('__module__', 'my_module'),\n",
       " ('__name__', 'double_me'),\n",
       " ('__ne__', <method-wrapper '__ne__' of function object at 0x7f03f0f78d08>),\n",
       " ('__new__', <function function.__new__(*args, **kwargs)>),\n",
       " ('__qualname__', 'double_me'),\n",
       " ('__reduce__', <function function.__reduce__()>),\n",
       " ('__reduce_ex__', <function function.__reduce_ex__(protocol, /)>),\n",
       " ('__repr__',\n",
       "  <method-wrapper '__repr__' of function object at 0x7f03f0f78d08>),\n",
       " ('__setattr__',\n",
       "  <method-wrapper '__setattr__' of function object at 0x7f03f0f78d08>),\n",
       " ('__sizeof__', <function function.__sizeof__()>),\n",
       " ('__str__', <method-wrapper '__str__' of function object at 0x7f03f0f78d08>),\n",
       " ('__subclasshook__', <function function.__subclasshook__>)]"
      ]
     },
     "execution_count": 39,
     "metadata": {},
     "output_type": "execute_result"
    }
   ],
   "source": [
    "inspect.getmembers(my_module.double_me)"
   ]
  },
  {
   "cell_type": "markdown",
   "metadata": {},
   "source": [
    "Gives (very long) list of all available objects inside the stated object."
   ]
  },
  {
   "cell_type": "code",
   "execution_count": 40,
   "metadata": {},
   "outputs": [
    {
     "data": {
      "text/plain": [
       "'doubles input value'"
      ]
     },
     "execution_count": 40,
     "metadata": {},
     "output_type": "execute_result"
    }
   ],
   "source": [
    "inspect.getdoc(my_module.double_me)"
   ]
  },
  {
   "cell_type": "markdown",
   "metadata": {},
   "source": [
    "Docstring - equivalent to \n",
    "\n",
    "    my_module.double_me.__doc__"
   ]
  },
  {
   "cell_type": "code",
   "execution_count": 49,
   "metadata": {},
   "outputs": [
    {
     "data": {
      "text/plain": [
       "'def double_me(x):\\n    \"\"\"doubles input value\"\"\"\\n    return 2*x\\n'"
      ]
     },
     "execution_count": 49,
     "metadata": {},
     "output_type": "execute_result"
    }
   ],
   "source": [
    "inspect.getsource(my_module.double_me)"
   ]
  },
  {
   "cell_type": "markdown",
   "metadata": {},
   "source": [
    "shows source code of object"
   ]
  },
  {
   "cell_type": "code",
   "execution_count": 64,
   "metadata": {},
   "outputs": [
    {
     "data": {
      "text/plain": [
       "<module 'my_module' from '/home/jovyan/Tutorial/code/my_module.py'>"
      ]
     },
     "execution_count": 64,
     "metadata": {},
     "output_type": "execute_result"
    }
   ],
   "source": [
    "module = inspect.getmodule(my_module.double_me)\n",
    "module"
   ]
  },
  {
   "cell_type": "markdown",
   "metadata": {},
   "source": [
    "Yields the module of the stated object. Note that this is a reference to the actual module, not just its name and path as text."
   ]
  },
  {
   "cell_type": "code",
   "execution_count": 61,
   "metadata": {},
   "outputs": [
    {
     "data": {
      "text/plain": [
       "mappingproxy({'x': <Parameter \"x\">,\n",
       "              'i': <Parameter \"i: int\">,\n",
       "              'times_two': <Parameter \"times_two=False\">})"
      ]
     },
     "execution_count": 61,
     "metadata": {},
     "output_type": "execute_result"
    }
   ],
   "source": [
    "sig = inspect.signature(my_module.power_me)\n",
    "sig.parameters"
   ]
  },
  {
   "cell_type": "markdown",
   "metadata": {},
   "source": [
    "Shows arguments (including type hints and standard values) of stated function / method"
   ]
  },
  {
   "cell_type": "code",
   "execution_count": 65,
   "metadata": {},
   "outputs": [
    {
     "data": {
      "text/plain": [
       "True"
      ]
     },
     "execution_count": 65,
     "metadata": {},
     "output_type": "execute_result"
    }
   ],
   "source": [
    "'i' in sig.parameters"
   ]
  },
  {
   "cell_type": "markdown",
   "metadata": {},
   "source": [
    "Check if function has a specific parameter"
   ]
  },
  {
   "cell_type": "code",
   "execution_count": 46,
   "metadata": {},
   "outputs": [
    {
     "data": {
      "text/plain": [
       "FullArgSpec(args=['x', 'i', 'times_two'], varargs=None, varkw=None, defaults=(False,), kwonlyargs=[], kwonlydefaults=None, annotations={'i': <class 'int'>})"
      ]
     },
     "execution_count": 46,
     "metadata": {},
     "output_type": "execute_result"
    }
   ],
   "source": [
    "inspect.getfullargspec(my_module.power_me)"
   ]
  },
  {
   "cell_type": "markdown",
   "metadata": {},
   "source": [
    "Gets additional information about parameters."
   ]
  }
 ],
 "metadata": {
  "kernelspec": {
   "display_name": "Python 3",
   "language": "python",
   "name": "python3"
  },
  "language_info": {
   "codemirror_mode": {
    "name": "ipython",
    "version": 3
   },
   "file_extension": ".py",
   "mimetype": "text/x-python",
   "name": "python",
   "nbconvert_exporter": "python",
   "pygments_lexer": "ipython3",
   "version": "3.7.3"
  }
 },
 "nbformat": 4,
 "nbformat_minor": 2
}

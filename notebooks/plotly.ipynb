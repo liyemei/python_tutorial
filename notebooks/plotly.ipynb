{
 "cells": [
  {
   "cell_type": "markdown",
   "metadata": {},
   "source": [
    "# Interactive Visualizations with Plotly\n",
    "\n",
    "https://plot.ly/python/getting-started/\n",
    "\n",
    "__Plotly currently cannot display plots inside notebooks opened in Jupyter Lab out-of-the-box. Therefore please switch to Jupyter Notebook for this tutorial.__\n",
    "\n",
    "Jupyter Notebook (if running locally): http://localhost:8888/tree"
   ]
  },
  {
   "cell_type": "code",
   "execution_count": 1,
   "metadata": {
    "collapsed": true
   },
   "outputs": [
    {
     "name": "stdout",
     "output_type": "stream",
     "text": [
      "Collecting package metadata: done\n",
      "Solving environment: \\ \n",
      "The environment is inconsistent, please check the package plan carefully\n",
      "The following packages are causing the inconsistency:\n",
      "\n",
      "  - conda-forge/linux-64::matplotlib==3.0.3=py37_1\n",
      "done\n",
      "\n",
      "\n",
      "==> WARNING: A newer version of conda exists. <==\n",
      "  current version: 4.6.14\n",
      "  latest version: 4.7.6\n",
      "\n",
      "Please update conda by running\n",
      "\n",
      "    $ conda update -n base conda\n",
      "\n",
      "\n",
      "\n",
      "## Package Plan ##\n",
      "\n",
      "  environment location: /opt/conda\n",
      "\n",
      "  added / updated specs:\n",
      "    - plotly\n",
      "\n",
      "\n",
      "The following packages will be downloaded:\n",
      "\n",
      "    package                    |            build\n",
      "    ---------------------------|-----------------\n",
      "    blas-2.10                  |         openblas           6 KB  conda-forge\n",
      "    libblas-3.8.0              |      10_openblas           6 KB  conda-forge\n",
      "    libcblas-3.8.0             |      10_openblas           6 KB  conda-forge\n",
      "    liblapack-3.8.0            |      10_openblas           6 KB  conda-forge\n",
      "    liblapacke-3.8.0           |      10_openblas           6 KB  conda-forge\n",
      "    libopenblas-0.3.6          |       h6e990d7_4         7.7 MB  conda-forge\n",
      "    numpy-1.15.4               |py37h8b7e671_1002         4.2 MB  conda-forge\n",
      "    openblas-0.3.6             |       h6e990d7_4         8.2 MB  conda-forge\n",
      "    openssl-1.1.1c             |       h516909a_0         2.1 MB  conda-forge\n",
      "    plotly-3.10.0              |             py_0        22.9 MB  conda-forge\n",
      "    retrying-1.3.3             |             py_2          11 KB  conda-forge\n",
      "    scikit-learn-0.20.3        |   py37ha8026db_1         5.7 MB  conda-forge\n",
      "    scipy-1.2.1                |   py37h09a28d5_1        18.1 MB  conda-forge\n",
      "    ------------------------------------------------------------\n",
      "                                           Total:        68.9 MB\n",
      "\n",
      "The following NEW packages will be INSTALLED:\n",
      "\n",
      "  libblas            conda-forge/linux-64::libblas-3.8.0-10_openblas\n",
      "  libcblas           conda-forge/linux-64::libcblas-3.8.0-10_openblas\n",
      "  liblapack          conda-forge/linux-64::liblapack-3.8.0-10_openblas\n",
      "  liblapacke         conda-forge/linux-64::liblapacke-3.8.0-10_openblas\n",
      "  libopenblas        conda-forge/linux-64::libopenblas-0.3.6-h6e990d7_4\n",
      "  plotly             conda-forge/noarch::plotly-3.10.0-py_0\n",
      "  retrying           conda-forge/noarch::retrying-1.3.3-py_2\n",
      "\n",
      "The following packages will be UPDATED:\n",
      "\n",
      "  blas                                         1.1-openblas --> 2.10-openblas\n",
      "  numpy              1.15.4-py37_blas_openblash1522bff_1000 --> 1.15.4-py37h8b7e671_1002\n",
      "  openblas                              0.3.3-h9ac9557_1001 --> 0.3.6-h6e990d7_4\n",
      "  openssl                                 1.1.1b-h14c3975_1 --> 1.1.1c-h516909a_0\n",
      "  scikit-learn          0.20.3-py37_blas_openblashebff5e3_0 --> 0.20.3-py37ha8026db_1\n",
      "  scipy                  1.2.1-py37_blas_openblash1522bff_0 --> 1.2.1-py37h09a28d5_1\n",
      "\n",
      "\n",
      "\n",
      "Downloading and Extracting Packages\n",
      "scipy-1.2.1          | 18.1 MB   | ##################################### | 100% \n",
      "libcblas-3.8.0       | 6 KB      | ##################################### | 100% \n",
      "openssl-1.1.1c       | 2.1 MB    | ##################################### | 100% \n",
      "liblapack-3.8.0      | 6 KB      | ##################################### | 100% \n",
      "scikit-learn-0.20.3  | 5.7 MB    | ##################################### | 100% \n",
      "numpy-1.15.4         | 4.2 MB    | ##################################### | 100% \n",
      "blas-2.10            | 6 KB      | ##################################### | 100% \n",
      "openblas-0.3.6       | 8.2 MB    | ##################################### | 100% \n",
      "liblapacke-3.8.0     | 6 KB      | ##################################### | 100% \n",
      "libopenblas-0.3.6    | 7.7 MB    | ##################################### | 100% \n",
      "retrying-1.3.3       | 11 KB     | ##################################### | 100% \n",
      "plotly-3.10.0        | 22.9 MB   | ##################################### | 100% \n",
      "libblas-3.8.0        | 6 KB      | ##################################### | 100% \n",
      "Preparing transaction: done\n",
      "Verifying transaction: done\n",
      "Executing transaction: done\n"
     ]
    }
   ],
   "source": [
    "!conda install plotly --yes"
   ]
  },
  {
   "cell_type": "code",
   "execution_count": 16,
   "metadata": {},
   "outputs": [],
   "source": [
    "import plotly.offline as plt # plot.ly offline plotting\n",
    "import plotly.graph_objs as go"
   ]
  },
  {
   "cell_type": "code",
   "execution_count": 8,
   "metadata": {},
   "outputs": [
    {
     "data": {
      "text/html": [
       "        <script type=\"text/javascript\">\n",
       "        window.PlotlyConfig = {MathJaxConfig: 'local'};\n",
       "        if (window.MathJax) {MathJax.Hub.Config({SVG: {font: \"STIX-Web\"}});}\n",
       "        if (typeof require !== 'undefined') {\n",
       "        require.undef(\"plotly\");\n",
       "        requirejs.config({\n",
       "            paths: {\n",
       "                'plotly': ['https://cdn.plot.ly/plotly-latest.min']\n",
       "            }\n",
       "        });\n",
       "        require(['plotly'], function(Plotly) {\n",
       "            window._Plotly = Plotly;\n",
       "        });\n",
       "        }\n",
       "        </script>\n",
       "        "
      ]
     },
     "metadata": {},
     "output_type": "display_data"
    }
   ],
   "source": [
    "plt.init_notebook_mode(connected=True) # required for plt.iplot\n",
    "# connected = False requires no internet connection for plotting, \n",
    "# but significantly increases notebook size."
   ]
  },
  {
   "cell_type": "markdown",
   "metadata": {},
   "source": [
    "## Motivation\n",
    "\n",
    "For most plotting purposes, [Matplotlib](plotting.ipynb) (supplemented with Seaborn) is a great choice.\n",
    "\n",
    "The use case for Plot.ly are interactive plots where the user can change parameters, scroll, click on points to get their values, etc. \n",
    "In addition, Plot.ly plots can be used in the Dash web framework.\n",
    "\n",
    "Plot.ly offers both web-based plotting (which requires a plot.ly account) and offline plotting (based on the plot.ly open source library). For most use-cases, offline plotting is preferred, therefore only this option is discussed here."
   ]
  },
  {
   "cell_type": "markdown",
   "metadata": {},
   "source": [
    "## Basic Plotting\n",
    "\n",
    "https://plot.ly/python/user-guide/#python-api-user-guide"
   ]
  },
  {
   "cell_type": "code",
   "execution_count": 102,
   "metadata": {},
   "outputs": [],
   "source": [
    "import numpy as np"
   ]
  },
  {
   "cell_type": "code",
   "execution_count": 90,
   "metadata": {},
   "outputs": [
    {
     "data": {
      "text/plain": [
       "Scatter({\n",
       "    'marker': {'color': 'red'}, 'mode': 'markers+lines', 'x': [1, 2, 3, 4], 'y': [4, 3, 2, 1]\n",
       "})"
      ]
     },
     "execution_count": 90,
     "metadata": {},
     "output_type": "execute_result"
    }
   ],
   "source": [
    "trace1 = go.Scatter(x=[1, 2, 3, 4], y=[4, 3, 2, 1], marker={'color': 'red'},\n",
    "                                                            mode='markers+lines')\n",
    "trace1"
   ]
  },
  {
   "cell_type": "code",
   "execution_count": 109,
   "metadata": {},
   "outputs": [
    {
     "data": {
      "text/plain": [
       "Scatter({\n",
       "    'marker': {'color': 'blue'},\n",
       "    'mode': 'lines',\n",
       "    'x': array([1. , 1.1, 1.2, 1.3, 1.4, 1.5, 1.6, 1.7, 1.8, 1.9, 2. , 2.1, 2.2, 2.3,\n",
       "                2.4, 2.5, 2.6, 2.7, 2.8, 2.9, 3. , 3.1, 3.2, 3.3, 3.4, 3.5, 3.6, 3.7,\n",
       "                3.8, 3.9]),\n",
       "    'y': array([ 3.36588394,  3.56482944,  3.72815634,  3.85423274,  3.94179892,\n",
       "                 3.98997995,  3.99829441,  3.96665924,  3.89539052,  3.78520035,\n",
       "                 3.63718971,  3.45283747,  3.23398562,  2.98282085,  2.70185272,\n",
       "                 2.39388858,  2.06200549,  1.70951952,  1.3399526 ,  0.95699732,\n",
       "                 0.56448003,  0.16632265, -0.23349657, -0.63098278, -1.02216441,\n",
       "                -1.40313291, -1.77008177, -2.11934456, -2.44743156, -2.75106464])\n",
       "})"
      ]
     },
     "execution_count": 109,
     "metadata": {},
     "output_type": "execute_result"
    }
   ],
   "source": [
    "x = np.arange(1,4,0.1)\n",
    "trace2 = go.Scatter(x=x, y=4*np.sin(x), marker={'color': 'blue'}, mode='lines')\n",
    "trace2"
   ]
  },
  {
   "cell_type": "code",
   "execution_count": 110,
   "metadata": {},
   "outputs": [
    {
     "data": {
      "text/plain": [
       "Layout({\n",
       "    'title': {'text': 'hello world'}, 'xaxis': {'title': {'text': 'x'}}, 'yaxis': {'title': {'text': 'y'}}\n",
       "})"
      ]
     },
     "execution_count": 110,
     "metadata": {},
     "output_type": "execute_result"
    }
   ],
   "source": [
    "layout = go.Layout(title=\"hello world\", xaxis={'title': 'x'},\n",
    "                                yaxis={'title': 'y'})\n",
    "layout"
   ]
  },
  {
   "cell_type": "code",
   "execution_count": 111,
   "metadata": {
    "scrolled": true
   },
   "outputs": [
    {
     "data": {
      "text/plain": [
       "Figure({\n",
       "    'data': [{'marker': {'color': 'red'},\n",
       "              'mode': 'markers+lines',\n",
       "              'type': 'scatter',\n",
       "              'uid': '3ebae422-2409-45ff-8636-3fdc3efaaac9',\n",
       "              'x': [1, 2, 3, 4],\n",
       "              'y': [4, 3, 2, 1]},\n",
       "             {'marker': {'color': 'blue'},\n",
       "              'mode': 'lines',\n",
       "              'type': 'scatter',\n",
       "              'uid': '008cd6f5-cf2c-4626-9d4c-0e51a5c28a20',\n",
       "              'x': array([1. , 1.1, 1.2, 1.3, 1.4, 1.5, 1.6, 1.7, 1.8, 1.9, 2. , 2.1, 2.2, 2.3,\n",
       "                          2.4, 2.5, 2.6, 2.7, 2.8, 2.9, 3. , 3.1, 3.2, 3.3, 3.4, 3.5, 3.6, 3.7,\n",
       "                          3.8, 3.9]),\n",
       "              'y': array([ 3.36588394,  3.56482944,  3.72815634,  3.85423274,  3.94179892,\n",
       "                           3.98997995,  3.99829441,  3.96665924,  3.89539052,  3.78520035,\n",
       "                           3.63718971,  3.45283747,  3.23398562,  2.98282085,  2.70185272,\n",
       "                           2.39388858,  2.06200549,  1.70951952,  1.3399526 ,  0.95699732,\n",
       "                           0.56448003,  0.16632265, -0.23349657, -0.63098278, -1.02216441,\n",
       "                          -1.40313291, -1.77008177, -2.11934456, -2.44743156, -2.75106464])}],\n",
       "    'layout': {'title': {'text': 'hello world'}, 'xaxis': {'title': {'text': 'x'}}, 'yaxis': {'title': {'text': 'y'}}}\n",
       "})"
      ]
     },
     "execution_count": 111,
     "metadata": {},
     "output_type": "execute_result"
    }
   ],
   "source": [
    "fig = go.Figure(data=[trace1, trace2], layout=layout)\n",
    "fig"
   ]
  },
  {
   "cell_type": "code",
   "execution_count": 112,
   "metadata": {},
   "outputs": [
    {
     "data": {
      "text/plain": [
       "'temp-plot.html'"
      ]
     },
     "execution_count": 112,
     "metadata": {},
     "output_type": "execute_result"
    }
   ],
   "source": [
    "plt.plot(fig)"
   ]
  },
  {
   "cell_type": "markdown",
   "metadata": {},
   "source": [
    "The *plot* function creates the plot as html file for opening in Browser."
   ]
  },
  {
   "cell_type": "code",
   "execution_count": 113,
   "metadata": {
    "scrolled": true
   },
   "outputs": [
    {
     "data": {
      "application/vnd.plotly.v1+json": {
       "config": {
        "linkText": "Export to plot.ly",
        "plotlyServerURL": "https://plot.ly",
        "showLink": false
       },
       "data": [
        {
         "marker": {
          "color": "red"
         },
         "mode": "markers+lines",
         "type": "scatter",
         "uid": "f8bbccae-681f-46d5-a73d-3dd8b0da5b44",
         "x": [
          1,
          2,
          3,
          4
         ],
         "y": [
          4,
          3,
          2,
          1
         ]
        },
        {
         "marker": {
          "color": "blue"
         },
         "mode": "lines",
         "type": "scatter",
         "uid": "b14d42ed-0947-4a28-8be7-812cb52f1f8f",
         "x": [
          1,
          1.1,
          1.2000000000000002,
          1.3000000000000003,
          1.4000000000000004,
          1.5000000000000004,
          1.6000000000000005,
          1.7000000000000006,
          1.8000000000000007,
          1.9000000000000008,
          2.000000000000001,
          2.100000000000001,
          2.200000000000001,
          2.300000000000001,
          2.4000000000000012,
          2.5000000000000013,
          2.6000000000000014,
          2.7000000000000015,
          2.8000000000000016,
          2.9000000000000017,
          3.0000000000000018,
          3.100000000000002,
          3.200000000000002,
          3.300000000000002,
          3.400000000000002,
          3.500000000000002,
          3.6000000000000023,
          3.7000000000000024,
          3.8000000000000025,
          3.9000000000000026
         ],
         "y": [
          3.365883939231586,
          3.5648294402457417,
          3.7281563438689056,
          3.8542327416687723,
          3.941798919953841,
          3.989979946416218,
          3.9982944121660204,
          3.9666592418098743,
          3.89539052351278,
          3.785200350749657,
          3.6371897073027255,
          3.452837466595493,
          3.233985615278358,
          2.9828208487068775,
          2.7018527222046,
          2.3938885764158218,
          2.062005487285852,
          1.7095195209353142,
          1.3399526006236135,
          0.9569973168559227,
          0.5644800322394619,
          0.16632264973315486,
          -0.23349657371032745,
          -0.6309827765730016,
          -1.0221644081073336,
          -1.4031329107584878,
          -1.7700817731794178,
          -2.119344563633981,
          -2.447431563770884,
          -2.7510646367359026
         ]
        }
       ],
       "layout": {
        "title": {
         "text": "hello world"
        },
        "xaxis": {
         "title": {
          "text": "x"
         }
        },
        "yaxis": {
         "title": {
          "text": "y"
         }
        }
       }
      },
      "text/html": [
       "<div>\n",
       "        \n",
       "        \n",
       "            <div id=\"0925e3d1-719d-43fe-816d-ddf3d0d9b0c4\" class=\"plotly-graph-div\" style=\"height:525px; width:100%;\"></div>\n",
       "            <script type=\"text/javascript\">\n",
       "                require([\"plotly\"], function(Plotly) {\n",
       "                    window.PLOTLYENV=window.PLOTLYENV || {};\n",
       "                    window.PLOTLYENV.BASE_URL='https://plot.ly';\n",
       "                    \n",
       "                if (document.getElementById(\"0925e3d1-719d-43fe-816d-ddf3d0d9b0c4\")) {\n",
       "                    Plotly.newPlot(\n",
       "                        '0925e3d1-719d-43fe-816d-ddf3d0d9b0c4',\n",
       "                        [{\"marker\": {\"color\": \"red\"}, \"mode\": \"markers+lines\", \"type\": \"scatter\", \"uid\": \"f8bbccae-681f-46d5-a73d-3dd8b0da5b44\", \"x\": [1, 2, 3, 4], \"y\": [4, 3, 2, 1]}, {\"marker\": {\"color\": \"blue\"}, \"mode\": \"lines\", \"type\": \"scatter\", \"uid\": \"b14d42ed-0947-4a28-8be7-812cb52f1f8f\", \"x\": [1.0, 1.1, 1.2000000000000002, 1.3000000000000003, 1.4000000000000004, 1.5000000000000004, 1.6000000000000005, 1.7000000000000006, 1.8000000000000007, 1.9000000000000008, 2.000000000000001, 2.100000000000001, 2.200000000000001, 2.300000000000001, 2.4000000000000012, 2.5000000000000013, 2.6000000000000014, 2.7000000000000015, 2.8000000000000016, 2.9000000000000017, 3.0000000000000018, 3.100000000000002, 3.200000000000002, 3.300000000000002, 3.400000000000002, 3.500000000000002, 3.6000000000000023, 3.7000000000000024, 3.8000000000000025, 3.9000000000000026], \"y\": [3.365883939231586, 3.5648294402457417, 3.7281563438689056, 3.8542327416687723, 3.941798919953841, 3.989979946416218, 3.9982944121660204, 3.9666592418098743, 3.89539052351278, 3.785200350749657, 3.6371897073027255, 3.452837466595493, 3.233985615278358, 2.9828208487068775, 2.7018527222046, 2.3938885764158218, 2.062005487285852, 1.7095195209353142, 1.3399526006236135, 0.9569973168559227, 0.5644800322394619, 0.16632264973315486, -0.23349657371032745, -0.6309827765730016, -1.0221644081073336, -1.4031329107584878, -1.7700817731794178, -2.119344563633981, -2.447431563770884, -2.7510646367359026]}],\n",
       "                        {\"title\": {\"text\": \"hello world\"}, \"xaxis\": {\"title\": {\"text\": \"x\"}}, \"yaxis\": {\"title\": {\"text\": \"y\"}}},\n",
       "                        {\"showLink\": false, \"linkText\": \"Export to plot.ly\", \"plotlyServerURL\": \"https://plot.ly\", \"responsive\": true}\n",
       "                    ).then(function(){\n",
       "                            \n",
       "var gd = document.getElementById('0925e3d1-719d-43fe-816d-ddf3d0d9b0c4');\n",
       "var x = new MutationObserver(function (mutations, observer) {{\n",
       "        var display = window.getComputedStyle(gd).display;\n",
       "        if (!display || display === 'none') {{\n",
       "            console.log([gd, 'removed!']);\n",
       "            Plotly.purge(gd);\n",
       "            observer.disconnect();\n",
       "        }}\n",
       "}});\n",
       "\n",
       "// Listen for the removal of the full notebook cells\n",
       "var notebookContainer = gd.closest('#notebook-container');\n",
       "if (notebookContainer) {{\n",
       "    x.observe(notebookContainer, {childList: true});\n",
       "}}\n",
       "\n",
       "// Listen for the clearing of the current output cell\n",
       "var outputEl = gd.closest('.output');\n",
       "if (outputEl) {{\n",
       "    x.observe(outputEl, {childList: true});\n",
       "}}\n",
       "\n",
       "                        })\n",
       "                };\n",
       "                });\n",
       "            </script>\n",
       "        </div>"
      ]
     },
     "metadata": {},
     "output_type": "display_data"
    }
   ],
   "source": [
    "p = plt.iplot(fig)"
   ]
  },
  {
   "cell_type": "markdown",
   "metadata": {},
   "source": [
    "Classical method to create a plot inside a notebook."
   ]
  },
  {
   "cell_type": "code",
   "execution_count": 116,
   "metadata": {},
   "outputs": [],
   "source": [
    "f = go.FigureWidget(data=[trace1, trace2], layout=layout)"
   ]
  },
  {
   "cell_type": "code",
   "execution_count": 117,
   "metadata": {},
   "outputs": [
    {
     "data": {
      "application/vnd.plotly.v1+json": {
       "config": {
        "plotlyServerURL": "https://plot.ly"
       },
       "data": [
        {
         "marker": {
          "color": "red"
         },
         "mode": "markers+lines",
         "type": "scatter",
         "uid": "a2f22371-9cae-4f95-881b-bf1556c081b3",
         "x": [
          1,
          2,
          3,
          4
         ],
         "y": [
          4,
          3,
          2,
          1
         ]
        },
        {
         "marker": {
          "color": "blue"
         },
         "mode": "lines",
         "type": "scatter",
         "uid": "04730299-a576-456e-92e7-921e9a6d3d16",
         "x": [
          1,
          1.1,
          1.2000000000000002,
          1.3000000000000003,
          1.4000000000000004,
          1.5000000000000004,
          1.6000000000000005,
          1.7000000000000006,
          1.8000000000000007,
          1.9000000000000008,
          2.000000000000001,
          2.100000000000001,
          2.200000000000001,
          2.300000000000001,
          2.4000000000000012,
          2.5000000000000013,
          2.6000000000000014,
          2.7000000000000015,
          2.8000000000000016,
          2.9000000000000017,
          3.0000000000000018,
          3.100000000000002,
          3.200000000000002,
          3.300000000000002,
          3.400000000000002,
          3.500000000000002,
          3.6000000000000023,
          3.7000000000000024,
          3.8000000000000025,
          3.9000000000000026
         ],
         "y": [
          3.365883939231586,
          3.5648294402457417,
          3.7281563438689056,
          3.8542327416687723,
          3.941798919953841,
          3.989979946416218,
          3.9982944121660204,
          3.9666592418098743,
          3.89539052351278,
          3.785200350749657,
          3.6371897073027255,
          3.452837466595493,
          3.233985615278358,
          2.9828208487068775,
          2.7018527222046,
          2.3938885764158218,
          2.062005487285852,
          1.7095195209353142,
          1.3399526006236135,
          0.9569973168559227,
          0.5644800322394619,
          0.16632264973315486,
          -0.23349657371032745,
          -0.6309827765730016,
          -1.0221644081073336,
          -1.4031329107584878,
          -1.7700817731794178,
          -2.119344563633981,
          -2.447431563770884,
          -2.7510646367359026
         ]
        }
       ],
       "layout": {
        "title": {
         "text": "hello world"
        },
        "xaxis": {
         "title": {
          "text": "x"
         }
        },
        "yaxis": {
         "title": {
          "text": "y"
         }
        }
       }
      },
      "text/html": [
       "<div>\n",
       "        \n",
       "        \n",
       "            <div id=\"488a45fa-6874-4ac8-836f-fe0991f022ca\" class=\"plotly-graph-div\" style=\"height:525px; width:100%;\"></div>\n",
       "            <script type=\"text/javascript\">\n",
       "                require([\"plotly\"], function(Plotly) {\n",
       "                    window.PLOTLYENV=window.PLOTLYENV || {};\n",
       "                    window.PLOTLYENV.BASE_URL='https://plot.ly';\n",
       "                    \n",
       "                if (document.getElementById(\"488a45fa-6874-4ac8-836f-fe0991f022ca\")) {\n",
       "                    Plotly.newPlot(\n",
       "                        '488a45fa-6874-4ac8-836f-fe0991f022ca',\n",
       "                        [{\"marker\": {\"color\": \"red\"}, \"mode\": \"markers+lines\", \"type\": \"scatter\", \"uid\": \"a2f22371-9cae-4f95-881b-bf1556c081b3\", \"x\": [1, 2, 3, 4], \"y\": [4, 3, 2, 1]}, {\"marker\": {\"color\": \"blue\"}, \"mode\": \"lines\", \"type\": \"scatter\", \"uid\": \"04730299-a576-456e-92e7-921e9a6d3d16\", \"x\": [1.0, 1.1, 1.2000000000000002, 1.3000000000000003, 1.4000000000000004, 1.5000000000000004, 1.6000000000000005, 1.7000000000000006, 1.8000000000000007, 1.9000000000000008, 2.000000000000001, 2.100000000000001, 2.200000000000001, 2.300000000000001, 2.4000000000000012, 2.5000000000000013, 2.6000000000000014, 2.7000000000000015, 2.8000000000000016, 2.9000000000000017, 3.0000000000000018, 3.100000000000002, 3.200000000000002, 3.300000000000002, 3.400000000000002, 3.500000000000002, 3.6000000000000023, 3.7000000000000024, 3.8000000000000025, 3.9000000000000026], \"y\": [3.365883939231586, 3.5648294402457417, 3.7281563438689056, 3.8542327416687723, 3.941798919953841, 3.989979946416218, 3.9982944121660204, 3.9666592418098743, 3.89539052351278, 3.785200350749657, 3.6371897073027255, 3.452837466595493, 3.233985615278358, 2.9828208487068775, 2.7018527222046, 2.3938885764158218, 2.062005487285852, 1.7095195209353142, 1.3399526006236135, 0.9569973168559227, 0.5644800322394619, 0.16632264973315486, -0.23349657371032745, -0.6309827765730016, -1.0221644081073336, -1.4031329107584878, -1.7700817731794178, -2.119344563633981, -2.447431563770884, -2.7510646367359026]}],\n",
       "                        {\"title\": {\"text\": \"hello world\"}, \"xaxis\": {\"title\": {\"text\": \"x\"}}, \"yaxis\": {\"title\": {\"text\": \"y\"}}},\n",
       "                        {\"plotlyServerURL\": \"https://plot.ly\", \"responsive\": true}\n",
       "                    ).then(function(){\n",
       "                            \n",
       "var gd = document.getElementById('488a45fa-6874-4ac8-836f-fe0991f022ca');\n",
       "var x = new MutationObserver(function (mutations, observer) {{\n",
       "        var display = window.getComputedStyle(gd).display;\n",
       "        if (!display || display === 'none') {{\n",
       "            console.log([gd, 'removed!']);\n",
       "            Plotly.purge(gd);\n",
       "            observer.disconnect();\n",
       "        }}\n",
       "}});\n",
       "\n",
       "// Listen for the removal of the full notebook cells\n",
       "var notebookContainer = gd.closest('#notebook-container');\n",
       "if (notebookContainer) {{\n",
       "    x.observe(notebookContainer, {childList: true});\n",
       "}}\n",
       "\n",
       "// Listen for the clearing of the current output cell\n",
       "var outputEl = gd.closest('.output');\n",
       "if (outputEl) {{\n",
       "    x.observe(outputEl, {childList: true});\n",
       "}}\n",
       "\n",
       "                        })\n",
       "                };\n",
       "                });\n",
       "            </script>\n",
       "        </div>"
      ]
     },
     "metadata": {},
     "output_type": "display_data"
    }
   ],
   "source": [
    "f.show()"
   ]
  },
  {
   "cell_type": "markdown",
   "metadata": {},
   "source": [
    "New method (Plotly >= 3.0) to create a plot inside a notebook."
   ]
  },
  {
   "cell_type": "markdown",
   "metadata": {},
   "source": [
    "## Interactive Plotting of Pandas DataFrames"
   ]
  },
  {
   "cell_type": "code",
   "execution_count": 59,
   "metadata": {},
   "outputs": [],
   "source": [
    "import pandas as pd\n",
    "from ipywidgets import widgets"
   ]
  },
  {
   "cell_type": "code",
   "execution_count": 60,
   "metadata": {},
   "outputs": [
    {
     "data": {
      "text/html": [
       "<div>\n",
       "<style scoped>\n",
       "    .dataframe tbody tr th:only-of-type {\n",
       "        vertical-align: middle;\n",
       "    }\n",
       "\n",
       "    .dataframe tbody tr th {\n",
       "        vertical-align: top;\n",
       "    }\n",
       "\n",
       "    .dataframe thead th {\n",
       "        text-align: right;\n",
       "    }\n",
       "</style>\n",
       "<table border=\"1\" class=\"dataframe\">\n",
       "  <thead>\n",
       "    <tr style=\"text-align: right;\">\n",
       "      <th></th>\n",
       "      <th>VendorID</th>\n",
       "      <th>lpep_pickup_datetime</th>\n",
       "      <th>lpep_dropoff_datetime</th>\n",
       "      <th>store_and_fwd_flag</th>\n",
       "      <th>RatecodeID</th>\n",
       "      <th>PULocationID</th>\n",
       "      <th>DOLocationID</th>\n",
       "      <th>passenger_count</th>\n",
       "      <th>trip_distance</th>\n",
       "      <th>fare_amount</th>\n",
       "      <th>extra</th>\n",
       "      <th>mta_tax</th>\n",
       "      <th>tip_amount</th>\n",
       "      <th>tolls_amount</th>\n",
       "      <th>ehail_fee</th>\n",
       "      <th>improvement_surcharge</th>\n",
       "      <th>total_amount</th>\n",
       "      <th>payment_type</th>\n",
       "      <th>trip_type</th>\n",
       "    </tr>\n",
       "  </thead>\n",
       "  <tbody>\n",
       "    <tr>\n",
       "      <th>0</th>\n",
       "      <td>2</td>\n",
       "      <td>2018-01-01 00:18:50</td>\n",
       "      <td>2018-01-01 00:24:39</td>\n",
       "      <td>N</td>\n",
       "      <td>1</td>\n",
       "      <td>236</td>\n",
       "      <td>236</td>\n",
       "      <td>5</td>\n",
       "      <td>0.70</td>\n",
       "      <td>6.0</td>\n",
       "      <td>0.5</td>\n",
       "      <td>0.5</td>\n",
       "      <td>0.0</td>\n",
       "      <td>0.0</td>\n",
       "      <td>NaN</td>\n",
       "      <td>0.3</td>\n",
       "      <td>7.3</td>\n",
       "      <td>2</td>\n",
       "      <td>1.0</td>\n",
       "    </tr>\n",
       "    <tr>\n",
       "      <th>1</th>\n",
       "      <td>2</td>\n",
       "      <td>2018-01-01 00:30:26</td>\n",
       "      <td>2018-01-01 00:46:42</td>\n",
       "      <td>N</td>\n",
       "      <td>1</td>\n",
       "      <td>43</td>\n",
       "      <td>42</td>\n",
       "      <td>5</td>\n",
       "      <td>3.50</td>\n",
       "      <td>14.5</td>\n",
       "      <td>0.5</td>\n",
       "      <td>0.5</td>\n",
       "      <td>0.0</td>\n",
       "      <td>0.0</td>\n",
       "      <td>NaN</td>\n",
       "      <td>0.3</td>\n",
       "      <td>15.8</td>\n",
       "      <td>2</td>\n",
       "      <td>1.0</td>\n",
       "    </tr>\n",
       "    <tr>\n",
       "      <th>2</th>\n",
       "      <td>2</td>\n",
       "      <td>2018-01-01 00:07:25</td>\n",
       "      <td>2018-01-01 00:19:45</td>\n",
       "      <td>N</td>\n",
       "      <td>1</td>\n",
       "      <td>74</td>\n",
       "      <td>152</td>\n",
       "      <td>1</td>\n",
       "      <td>2.14</td>\n",
       "      <td>10.0</td>\n",
       "      <td>0.5</td>\n",
       "      <td>0.5</td>\n",
       "      <td>0.0</td>\n",
       "      <td>0.0</td>\n",
       "      <td>NaN</td>\n",
       "      <td>0.3</td>\n",
       "      <td>11.3</td>\n",
       "      <td>2</td>\n",
       "      <td>1.0</td>\n",
       "    </tr>\n",
       "    <tr>\n",
       "      <th>3</th>\n",
       "      <td>2</td>\n",
       "      <td>2018-01-01 00:32:40</td>\n",
       "      <td>2018-01-01 00:33:41</td>\n",
       "      <td>N</td>\n",
       "      <td>1</td>\n",
       "      <td>255</td>\n",
       "      <td>255</td>\n",
       "      <td>1</td>\n",
       "      <td>0.03</td>\n",
       "      <td>-3.0</td>\n",
       "      <td>-0.5</td>\n",
       "      <td>-0.5</td>\n",
       "      <td>0.0</td>\n",
       "      <td>0.0</td>\n",
       "      <td>NaN</td>\n",
       "      <td>-0.3</td>\n",
       "      <td>-4.3</td>\n",
       "      <td>3</td>\n",
       "      <td>1.0</td>\n",
       "    </tr>\n",
       "    <tr>\n",
       "      <th>4</th>\n",
       "      <td>2</td>\n",
       "      <td>2018-01-01 00:32:40</td>\n",
       "      <td>2018-01-01 00:33:41</td>\n",
       "      <td>N</td>\n",
       "      <td>1</td>\n",
       "      <td>255</td>\n",
       "      <td>255</td>\n",
       "      <td>1</td>\n",
       "      <td>0.03</td>\n",
       "      <td>3.0</td>\n",
       "      <td>0.5</td>\n",
       "      <td>0.5</td>\n",
       "      <td>0.0</td>\n",
       "      <td>0.0</td>\n",
       "      <td>NaN</td>\n",
       "      <td>0.3</td>\n",
       "      <td>4.3</td>\n",
       "      <td>2</td>\n",
       "      <td>1.0</td>\n",
       "    </tr>\n",
       "  </tbody>\n",
       "</table>\n",
       "</div>"
      ],
      "text/plain": [
       "   VendorID lpep_pickup_datetime lpep_dropoff_datetime store_and_fwd_flag  \\\n",
       "0         2  2018-01-01 00:18:50   2018-01-01 00:24:39                  N   \n",
       "1         2  2018-01-01 00:30:26   2018-01-01 00:46:42                  N   \n",
       "2         2  2018-01-01 00:07:25   2018-01-01 00:19:45                  N   \n",
       "3         2  2018-01-01 00:32:40   2018-01-01 00:33:41                  N   \n",
       "4         2  2018-01-01 00:32:40   2018-01-01 00:33:41                  N   \n",
       "\n",
       "   RatecodeID  PULocationID  DOLocationID  passenger_count  trip_distance  \\\n",
       "0           1           236           236                5           0.70   \n",
       "1           1            43            42                5           3.50   \n",
       "2           1            74           152                1           2.14   \n",
       "3           1           255           255                1           0.03   \n",
       "4           1           255           255                1           0.03   \n",
       "\n",
       "   fare_amount  extra  mta_tax  tip_amount  tolls_amount  ehail_fee  \\\n",
       "0          6.0    0.5      0.5         0.0           0.0        NaN   \n",
       "1         14.5    0.5      0.5         0.0           0.0        NaN   \n",
       "2         10.0    0.5      0.5         0.0           0.0        NaN   \n",
       "3         -3.0   -0.5     -0.5         0.0           0.0        NaN   \n",
       "4          3.0    0.5      0.5         0.0           0.0        NaN   \n",
       "\n",
       "   improvement_surcharge  total_amount  payment_type  trip_type  \n",
       "0                    0.3           7.3             2        1.0  \n",
       "1                    0.3          15.8             2        1.0  \n",
       "2                    0.3          11.3             2        1.0  \n",
       "3                   -0.3          -4.3             3        1.0  \n",
       "4                    0.3           4.3             2        1.0  "
      ]
     },
     "execution_count": 60,
     "metadata": {},
     "output_type": "execute_result"
    }
   ],
   "source": [
    "df = pd.read_csv('../example_files/test_data.csv', parse_dates=[1, 2])\n",
    "df.head()"
   ]
  },
  {
   "cell_type": "code",
   "execution_count": 72,
   "metadata": {},
   "outputs": [],
   "source": [
    "vendor = widgets.Dropdown(\n",
    "    options=df.VendorID.unique().tolist(),\n",
    "    value=1,\n",
    "    description='Vendor ID:'\n",
    "    )\n",
    "passengers = widgets.IntSlider(\n",
    "    value=1,\n",
    "    min=df.passenger_count.min(),\n",
    "    max=df.passenger_count.max(),\n",
    "    step=1,\n",
    "    description='Passengers:',\n",
    "    continuous_update=False,\n",
    "    )"
   ]
  },
  {
   "cell_type": "code",
   "execution_count": 73,
   "metadata": {
    "scrolled": true
   },
   "outputs": [
    {
     "data": {
      "application/vnd.jupyter.widget-view+json": {
       "model_id": "98387fd97089438e917bdb4efefd155b",
       "version_major": 2,
       "version_minor": 0
      },
      "text/plain": [
       "Dropdown(description='Vendor ID:', index=1, options=(2, 1), value=1)"
      ]
     },
     "metadata": {},
     "output_type": "display_data"
    }
   ],
   "source": [
    "vendor"
   ]
  },
  {
   "cell_type": "code",
   "execution_count": 74,
   "metadata": {},
   "outputs": [
    {
     "data": {
      "application/vnd.jupyter.widget-view+json": {
       "model_id": "3c76f6a70ff842a29cb4d9a388bd6107",
       "version_major": 2,
       "version_minor": 0
      },
      "text/plain": [
       "IntSlider(value=1, continuous_update=False, description='Passengers:', max=9)"
      ]
     },
     "metadata": {},
     "output_type": "display_data"
    }
   ],
   "source": [
    "passengers"
   ]
  },
  {
   "cell_type": "code",
   "execution_count": 85,
   "metadata": {},
   "outputs": [],
   "source": [
    "plot_df = df[(df.VendorID == vendor.value)\n",
    "             & (df.passenger_count == passengers.value)].head(100)\n",
    "g = go.FigureWidget(data=[go.Scatter(x=plot_df.trip_distance, y=plot_df.total_amount, \n",
    "                                     name='Distance vs. Price', mode='markers')],\n",
    "                layout=go.Layout(title={'text': 'NYC Taxi Data'},\n",
    "                                xaxis={'title': 'trip distance'},\n",
    "                                yaxis={'title': 'total amount'}))"
   ]
  },
  {
   "cell_type": "code",
   "execution_count": 86,
   "metadata": {},
   "outputs": [],
   "source": [
    "def response(change):\n",
    "    plot_df = df[(df.VendorID == vendor.value)\n",
    "                 & (df.passenger_count == passengers.value)].head(100)\n",
    "    with g.batch_update():\n",
    "        g.data[0].x = plot_df.trip_distance\n",
    "        g.data[0].y = plot_df.total_amount"
   ]
  },
  {
   "cell_type": "code",
   "execution_count": 87,
   "metadata": {},
   "outputs": [],
   "source": [
    "vendor.observe(response, names='value')\n",
    "passengers.observe(response, names='value')"
   ]
  },
  {
   "cell_type": "code",
   "execution_count": 88,
   "metadata": {},
   "outputs": [
    {
     "data": {
      "application/vnd.jupyter.widget-view+json": {
       "model_id": "74752c07b5a6480e9b0601307292c6cb",
       "version_major": 2,
       "version_minor": 0
      },
      "text/plain": [
       "VBox(children=(Dropdown(description='Vendor ID:', options=(2, 1), value=2), IntSlider(value=7, continuous_upda…"
      ]
     },
     "metadata": {},
     "output_type": "display_data"
    }
   ],
   "source": [
    "widgets.VBox([vendor, passengers, g])"
   ]
  }
 ],
 "metadata": {
  "kernelspec": {
   "display_name": "Python 3",
   "language": "python",
   "name": "python3"
  },
  "language_info": {
   "codemirror_mode": {
    "name": "ipython",
    "version": 3
   },
   "file_extension": ".py",
   "mimetype": "text/x-python",
   "name": "python",
   "nbconvert_exporter": "python",
   "pygments_lexer": "ipython3",
   "version": "3.7.3"
  }
 },
 "nbformat": 4,
 "nbformat_minor": 2
}

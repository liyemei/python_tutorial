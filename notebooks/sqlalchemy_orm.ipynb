{
 "cells": [
  {
   "cell_type": "markdown",
   "metadata": {},
   "source": [
    "# SQLAlchemy ORM"
   ]
  },
  {
   "cell_type": "code",
   "execution_count": 1,
   "metadata": {},
   "outputs": [],
   "source": [
    "from sqlalchemy import create_engine, ForeignKey, Table, Column\n",
    "from sqlalchemy import Integer, String, Numeric, Date, DateTime\n",
    "from sqlalchemy.orm import sessionmaker, relationship\n",
    "from sqlalchemy.ext.declarative import declarative_base\n",
    "from datetime import date, datetime"
   ]
  },
  {
   "cell_type": "code",
   "execution_count": 2,
   "metadata": {},
   "outputs": [],
   "source": [
    "Base = declarative_base()"
   ]
  },
  {
   "cell_type": "markdown",
   "metadata": {},
   "source": [
    "## Definition of Data Model"
   ]
  },
  {
   "cell_type": "code",
   "execution_count": 3,
   "metadata": {},
   "outputs": [],
   "source": [
    "class Author(Base):\n",
    "    __tablename__ = 'authors'\n",
    "    id = Column(Integer, primary_key=True)\n",
    "    name = Column(String, unique=True)\n",
    "    birthday = Column(Date)\n",
    "    \n",
    "    def __init__(self, name, birthday):\n",
    "        self.name = name\n",
    "        self.birthday = birthday"
   ]
  },
  {
   "cell_type": "code",
   "execution_count": 4,
   "metadata": {},
   "outputs": [],
   "source": [
    "class Book(Base):\n",
    "    __tablename__ = 'books'\n",
    "    id = Column(Integer, primary_key=True)\n",
    "    title = Column(String, unique=True)\n",
    "    published_datetime = Column(DateTime)\n",
    "    author_id = Column(Integer, ForeignKey('authors.id')) # 1:many relationship\n",
    "    author = relationship(\"Author\", backref='books')\n",
    "    \n",
    "    def __init__(self, title, author, published_datetime):\n",
    "        self.title = title\n",
    "        self.author = author\n",
    "        self.published_datetime = published_datetime"
   ]
  },
  {
   "cell_type": "code",
   "execution_count": 5,
   "metadata": {},
   "outputs": [],
   "source": [
    "book_store_mapping = Table('books_stores', Base.metadata,\n",
    "                           Column('book_id', Integer, ForeignKey('books.id')),\n",
    "                           Column('store_id', Integer, ForeignKey('stores.id')))\n",
    "\n",
    "class Store(Base):\n",
    "    __tablename__ = 'stores'\n",
    "    id = Column(Integer, primary_key=True)\n",
    "    name = Column(String, unique=True)\n",
    "    books = relationship(\"Book\", secondary=book_store_mapping)\n",
    "    \n",
    "    def __init__(self, name):\n",
    "        self.name = name"
   ]
  },
  {
   "cell_type": "markdown",
   "metadata": {},
   "source": [
    "## Adding Data"
   ]
  },
  {
   "cell_type": "code",
   "execution_count": 6,
   "metadata": {},
   "outputs": [],
   "source": [
    "alan_smithee = Author('Alan Smithee', date(1978, 4, 17))\n",
    "jane_doe = Author('Jane Doe', date(1984, 2, 28))"
   ]
  },
  {
   "cell_type": "code",
   "execution_count": 7,
   "metadata": {},
   "outputs": [],
   "source": [
    "python_tutorial = Book('Python Tutorial', alan_smithee, datetime.utcnow())\n",
    "guide = Book(\"Hitchhiker's Guide to Python\", jane_doe, \n",
    "             datetime.fromisoformat('2019-01-23T14:34:21'))\n",
    "almanach = Book('Almanach of Python Wisdom', jane_doe, datetime(2019,1,23,14,14,21))"
   ]
  },
  {
   "cell_type": "code",
   "execution_count": 8,
   "metadata": {},
   "outputs": [],
   "source": [
    "inn = Store(\"Bookkeeper's Inn\")\n",
    "library = Store('Great Library')"
   ]
  },
  {
   "cell_type": "code",
   "execution_count": 9,
   "metadata": {},
   "outputs": [],
   "source": [
    "inn.books = [python_tutorial, almanach]\n",
    "library.books = [guide, python_tutorial, almanach]"
   ]
  },
  {
   "cell_type": "markdown",
   "metadata": {},
   "source": [
    "## Storing Data in DB"
   ]
  },
  {
   "cell_type": "code",
   "execution_count": 10,
   "metadata": {},
   "outputs": [],
   "source": [
    "con_str = 'sqlite://' # SQLite database in memory\n",
    "engine = create_engine(con_str)\n",
    "Session = sessionmaker(bind=engine)"
   ]
  },
  {
   "cell_type": "code",
   "execution_count": 11,
   "metadata": {},
   "outputs": [],
   "source": [
    "Base.metadata.create_all(engine)"
   ]
  },
  {
   "cell_type": "code",
   "execution_count": 12,
   "metadata": {},
   "outputs": [],
   "source": [
    "session = Session()"
   ]
  },
  {
   "cell_type": "code",
   "execution_count": 13,
   "metadata": {},
   "outputs": [],
   "source": [
    "session.add_all((python_tutorial, guide, almanach, inn))\n",
    "session.add(library)"
   ]
  },
  {
   "cell_type": "code",
   "execution_count": 14,
   "metadata": {},
   "outputs": [],
   "source": [
    "session.commit()"
   ]
  },
  {
   "cell_type": "markdown",
   "metadata": {},
   "source": [
    "## Retrieving Data\n",
    "\n",
    "### Raw SQL"
   ]
  },
  {
   "cell_type": "code",
   "execution_count": 15,
   "metadata": {},
   "outputs": [
    {
     "data": {
      "text/plain": [
       "[(1, 'Python Tutorial', '2019-08-14 19:12:44.811844', 1),\n",
       " (2, \"Hitchhiker's Guide to Python\", '2019-01-23 14:34:21.000000', 2),\n",
       " (3, 'Almanach of Python Wisdom', '2019-01-23 14:14:21.000000', 2)]"
      ]
     },
     "execution_count": 15,
     "metadata": {},
     "output_type": "execute_result"
    }
   ],
   "source": [
    "sql = \"select * from books\"\n",
    "engine.execute(sql).fetchall()"
   ]
  },
  {
   "cell_type": "code",
   "execution_count": 16,
   "metadata": {},
   "outputs": [
    {
     "data": {
      "text/plain": [
       "[(1, 'Python Tutorial', '2019-08-14 19:12:44.811844', 1, 1, 'Alan Smithee', '1978-04-17'),\n",
       " (2, \"Hitchhiker's Guide to Python\", '2019-01-23 14:34:21.000000', 2, 2, 'Jane Doe', '1984-02-28'),\n",
       " (3, 'Almanach of Python Wisdom', '2019-01-23 14:14:21.000000', 2, 2, 'Jane Doe', '1984-02-28')]"
      ]
     },
     "execution_count": 16,
     "metadata": {},
     "output_type": "execute_result"
    }
   ],
   "source": [
    "sql = \"\"\"select * from books \n",
    "inner join authors on books.author_id = authors.id\"\"\"\n",
    "engine.execute(sql).fetchall()"
   ]
  },
  {
   "cell_type": "markdown",
   "metadata": {},
   "source": [
    "### ORM"
   ]
  },
  {
   "cell_type": "code",
   "execution_count": 17,
   "metadata": {},
   "outputs": [
    {
     "name": "stdout",
     "output_type": "stream",
     "text": [
      "Author name: Alan Smithee, birthday: 1978-04-17\n",
      "Author name: Jane Doe, birthday: 1984-02-28\n"
     ]
    }
   ],
   "source": [
    "for author in session.query(Author).all():\n",
    "    print(f'Author name: {author.name}, birthday: {author.birthday}')"
   ]
  },
  {
   "cell_type": "markdown",
   "metadata": {},
   "source": [
    "## Cleanup"
   ]
  },
  {
   "cell_type": "code",
   "execution_count": 18,
   "metadata": {},
   "outputs": [],
   "source": [
    "session.close()"
   ]
  },
  {
   "cell_type": "code",
   "execution_count": 19,
   "metadata": {},
   "outputs": [],
   "source": [
    "Base.metadata.drop_all(engine)"
   ]
  },
  {
   "cell_type": "markdown",
   "metadata": {},
   "source": [
    "## Import from Pandas\n",
    "\n",
    "The following section shows methods how to import data into database from Pandas using SQLAlchemy."
   ]
  },
  {
   "cell_type": "code",
   "execution_count": 20,
   "metadata": {},
   "outputs": [],
   "source": [
    "import pandas as pd\n",
    "import numpy as np"
   ]
  },
  {
   "cell_type": "markdown",
   "metadata": {},
   "source": [
    "### Set up Data Model"
   ]
  },
  {
   "cell_type": "code",
   "execution_count": 21,
   "metadata": {},
   "outputs": [],
   "source": [
    "class MeasurementTypes(Base):\n",
    "    __tablename__ = 'measurement_types'\n",
    "    id = Column(Integer, primary_key=True)\n",
    "    name = Column(String, unique=True)\n",
    "\n",
    "class Measurements(Base):\n",
    "    __tablename__ = 'measurements'\n",
    "    time_tick = Column(Integer, primary_key=True)\n",
    "    type_id = Column(Integer, ForeignKey('measurement_types.id'), primary_key=True)\n",
    "    val1 = Column(Numeric, nullable=False)\n",
    "    val2 = Column(Numeric)\n",
    "    val3 = Column(Integer)"
   ]
  },
  {
   "cell_type": "markdown",
   "metadata": {},
   "source": [
    "Note that the data model contains several features / constraints:\n",
    "\n",
    "* a single primary key\n",
    "* a composite primary key\n",
    "* a foreign key\n",
    "* a non-nullable column\n",
    "* a unique column"
   ]
  },
  {
   "cell_type": "markdown",
   "metadata": {},
   "source": [
    "### Define Test Data"
   ]
  },
  {
   "cell_type": "code",
   "execution_count": 22,
   "metadata": {},
   "outputs": [],
   "source": [
    "type_df = pd.DataFrame(np.arange(1,101), columns=['id'])\n",
    "type_df['name'] = 'measurement_type_' + type_df.id.astype(str)"
   ]
  },
  {
   "cell_type": "code",
   "execution_count": 23,
   "metadata": {},
   "outputs": [
    {
     "data": {
      "text/html": [
       "<div>\n",
       "<style scoped>\n",
       "    .dataframe tbody tr th:only-of-type {\n",
       "        vertical-align: middle;\n",
       "    }\n",
       "\n",
       "    .dataframe tbody tr th {\n",
       "        vertical-align: top;\n",
       "    }\n",
       "\n",
       "    .dataframe thead th {\n",
       "        text-align: right;\n",
       "    }\n",
       "</style>\n",
       "<table border=\"1\" class=\"dataframe\">\n",
       "  <thead>\n",
       "    <tr style=\"text-align: right;\">\n",
       "      <th></th>\n",
       "      <th>id</th>\n",
       "      <th>name</th>\n",
       "    </tr>\n",
       "  </thead>\n",
       "  <tbody>\n",
       "    <tr>\n",
       "      <th>0</th>\n",
       "      <td>1</td>\n",
       "      <td>measurement_type_1</td>\n",
       "    </tr>\n",
       "    <tr>\n",
       "      <th>1</th>\n",
       "      <td>2</td>\n",
       "      <td>measurement_type_2</td>\n",
       "    </tr>\n",
       "    <tr>\n",
       "      <th>2</th>\n",
       "      <td>3</td>\n",
       "      <td>measurement_type_3</td>\n",
       "    </tr>\n",
       "    <tr>\n",
       "      <th>3</th>\n",
       "      <td>4</td>\n",
       "      <td>measurement_type_4</td>\n",
       "    </tr>\n",
       "    <tr>\n",
       "      <th>4</th>\n",
       "      <td>5</td>\n",
       "      <td>measurement_type_5</td>\n",
       "    </tr>\n",
       "  </tbody>\n",
       "</table>\n",
       "</div>"
      ],
      "text/plain": [
       "   id                name\n",
       "0   1  measurement_type_1\n",
       "1   2  measurement_type_2\n",
       "2   3  measurement_type_3\n",
       "3   4  measurement_type_4\n",
       "4   5  measurement_type_5"
      ]
     },
     "execution_count": 23,
     "metadata": {},
     "output_type": "execute_result"
    }
   ],
   "source": [
    "type_df.head()"
   ]
  },
  {
   "cell_type": "code",
   "execution_count": 24,
   "metadata": {},
   "outputs": [
    {
     "data": {
      "text/html": [
       "<div>\n",
       "<style scoped>\n",
       "    .dataframe tbody tr th:only-of-type {\n",
       "        vertical-align: middle;\n",
       "    }\n",
       "\n",
       "    .dataframe tbody tr th {\n",
       "        vertical-align: top;\n",
       "    }\n",
       "\n",
       "    .dataframe thead th {\n",
       "        text-align: right;\n",
       "    }\n",
       "</style>\n",
       "<table border=\"1\" class=\"dataframe\">\n",
       "  <thead>\n",
       "    <tr style=\"text-align: right;\">\n",
       "      <th></th>\n",
       "      <th>id</th>\n",
       "      <th>name</th>\n",
       "    </tr>\n",
       "  </thead>\n",
       "  <tbody>\n",
       "    <tr>\n",
       "      <th>95</th>\n",
       "      <td>96</td>\n",
       "      <td>measurement_type_96</td>\n",
       "    </tr>\n",
       "    <tr>\n",
       "      <th>96</th>\n",
       "      <td>97</td>\n",
       "      <td>measurement_type_97</td>\n",
       "    </tr>\n",
       "    <tr>\n",
       "      <th>97</th>\n",
       "      <td>98</td>\n",
       "      <td>measurement_type_98</td>\n",
       "    </tr>\n",
       "    <tr>\n",
       "      <th>98</th>\n",
       "      <td>99</td>\n",
       "      <td>measurement_type_99</td>\n",
       "    </tr>\n",
       "    <tr>\n",
       "      <th>99</th>\n",
       "      <td>100</td>\n",
       "      <td>measurement_type_100</td>\n",
       "    </tr>\n",
       "  </tbody>\n",
       "</table>\n",
       "</div>"
      ],
      "text/plain": [
       "     id                  name\n",
       "95   96   measurement_type_96\n",
       "96   97   measurement_type_97\n",
       "97   98   measurement_type_98\n",
       "98   99   measurement_type_99\n",
       "99  100  measurement_type_100"
      ]
     },
     "execution_count": 24,
     "metadata": {},
     "output_type": "execute_result"
    }
   ],
   "source": [
    "type_df.tail()"
   ]
  },
  {
   "cell_type": "code",
   "execution_count": 25,
   "metadata": {},
   "outputs": [],
   "source": [
    "rows = 10000\n",
    "val_df = pd.DataFrame(np.random.randn(rows,3), columns=['val1', 'val2', 'val3'])\n",
    "val_df.val3 = (val_df.val3 * 10).astype(np.int64)\n",
    "val_df['time_tick'] = np.arange(1, rows+1) // 100\n",
    "val_df['type_id'] = np.arange(1, rows+1) % 100 + 1"
   ]
  },
  {
   "cell_type": "code",
   "execution_count": 26,
   "metadata": {},
   "outputs": [
    {
     "data": {
      "text/html": [
       "<div>\n",
       "<style scoped>\n",
       "    .dataframe tbody tr th:only-of-type {\n",
       "        vertical-align: middle;\n",
       "    }\n",
       "\n",
       "    .dataframe tbody tr th {\n",
       "        vertical-align: top;\n",
       "    }\n",
       "\n",
       "    .dataframe thead th {\n",
       "        text-align: right;\n",
       "    }\n",
       "</style>\n",
       "<table border=\"1\" class=\"dataframe\">\n",
       "  <thead>\n",
       "    <tr style=\"text-align: right;\">\n",
       "      <th></th>\n",
       "      <th>val1</th>\n",
       "      <th>val2</th>\n",
       "      <th>val3</th>\n",
       "      <th>time_tick</th>\n",
       "      <th>type_id</th>\n",
       "    </tr>\n",
       "  </thead>\n",
       "  <tbody>\n",
       "    <tr>\n",
       "      <th>0</th>\n",
       "      <td>0.555223</td>\n",
       "      <td>0.813219</td>\n",
       "      <td>1</td>\n",
       "      <td>0</td>\n",
       "      <td>2</td>\n",
       "    </tr>\n",
       "    <tr>\n",
       "      <th>1</th>\n",
       "      <td>2.247520</td>\n",
       "      <td>-1.611584</td>\n",
       "      <td>0</td>\n",
       "      <td>0</td>\n",
       "      <td>3</td>\n",
       "    </tr>\n",
       "    <tr>\n",
       "      <th>2</th>\n",
       "      <td>0.312003</td>\n",
       "      <td>-0.601715</td>\n",
       "      <td>11</td>\n",
       "      <td>0</td>\n",
       "      <td>4</td>\n",
       "    </tr>\n",
       "    <tr>\n",
       "      <th>3</th>\n",
       "      <td>0.495340</td>\n",
       "      <td>-1.259773</td>\n",
       "      <td>12</td>\n",
       "      <td>0</td>\n",
       "      <td>5</td>\n",
       "    </tr>\n",
       "    <tr>\n",
       "      <th>4</th>\n",
       "      <td>-1.408515</td>\n",
       "      <td>-1.040054</td>\n",
       "      <td>8</td>\n",
       "      <td>0</td>\n",
       "      <td>6</td>\n",
       "    </tr>\n",
       "  </tbody>\n",
       "</table>\n",
       "</div>"
      ],
      "text/plain": [
       "       val1      val2  val3  time_tick  type_id\n",
       "0  0.555223  0.813219     1          0        2\n",
       "1  2.247520 -1.611584     0          0        3\n",
       "2  0.312003 -0.601715    11          0        4\n",
       "3  0.495340 -1.259773    12          0        5\n",
       "4 -1.408515 -1.040054     8          0        6"
      ]
     },
     "execution_count": 26,
     "metadata": {},
     "output_type": "execute_result"
    }
   ],
   "source": [
    "val_df.head()"
   ]
  },
  {
   "cell_type": "markdown",
   "metadata": {},
   "source": [
    "The DataFrames above are constructed such that they are compliant to the defined model."
   ]
  },
  {
   "cell_type": "code",
   "execution_count": 27,
   "metadata": {},
   "outputs": [],
   "source": [
    "val_invalid = val_df.head().copy()"
   ]
  },
  {
   "cell_type": "code",
   "execution_count": 28,
   "metadata": {},
   "outputs": [],
   "source": [
    "val_invalid.val3 = val_invalid.val3 / 10\n",
    "val_invalid.type_id = val_invalid.type_id + 1000"
   ]
  },
  {
   "cell_type": "code",
   "execution_count": 29,
   "metadata": {},
   "outputs": [
    {
     "data": {
      "text/html": [
       "<div>\n",
       "<style scoped>\n",
       "    .dataframe tbody tr th:only-of-type {\n",
       "        vertical-align: middle;\n",
       "    }\n",
       "\n",
       "    .dataframe tbody tr th {\n",
       "        vertical-align: top;\n",
       "    }\n",
       "\n",
       "    .dataframe thead th {\n",
       "        text-align: right;\n",
       "    }\n",
       "</style>\n",
       "<table border=\"1\" class=\"dataframe\">\n",
       "  <thead>\n",
       "    <tr style=\"text-align: right;\">\n",
       "      <th></th>\n",
       "      <th>val1</th>\n",
       "      <th>val2</th>\n",
       "      <th>val3</th>\n",
       "      <th>time_tick</th>\n",
       "      <th>type_id</th>\n",
       "    </tr>\n",
       "  </thead>\n",
       "  <tbody>\n",
       "    <tr>\n",
       "      <th>0</th>\n",
       "      <td>0.555223</td>\n",
       "      <td>0.813219</td>\n",
       "      <td>0.1</td>\n",
       "      <td>0</td>\n",
       "      <td>1002</td>\n",
       "    </tr>\n",
       "    <tr>\n",
       "      <th>1</th>\n",
       "      <td>2.247520</td>\n",
       "      <td>-1.611584</td>\n",
       "      <td>0.0</td>\n",
       "      <td>0</td>\n",
       "      <td>1003</td>\n",
       "    </tr>\n",
       "    <tr>\n",
       "      <th>2</th>\n",
       "      <td>0.312003</td>\n",
       "      <td>-0.601715</td>\n",
       "      <td>1.1</td>\n",
       "      <td>0</td>\n",
       "      <td>1004</td>\n",
       "    </tr>\n",
       "    <tr>\n",
       "      <th>3</th>\n",
       "      <td>0.495340</td>\n",
       "      <td>-1.259773</td>\n",
       "      <td>1.2</td>\n",
       "      <td>0</td>\n",
       "      <td>1005</td>\n",
       "    </tr>\n",
       "    <tr>\n",
       "      <th>4</th>\n",
       "      <td>-1.408515</td>\n",
       "      <td>-1.040054</td>\n",
       "      <td>0.8</td>\n",
       "      <td>0</td>\n",
       "      <td>1006</td>\n",
       "    </tr>\n",
       "  </tbody>\n",
       "</table>\n",
       "</div>"
      ],
      "text/plain": [
       "       val1      val2  val3  time_tick  type_id\n",
       "0  0.555223  0.813219   0.1          0     1002\n",
       "1  2.247520 -1.611584   0.0          0     1003\n",
       "2  0.312003 -0.601715   1.1          0     1004\n",
       "3  0.495340 -1.259773   1.2          0     1005\n",
       "4 -1.408515 -1.040054   0.8          0     1006"
      ]
     },
     "execution_count": 29,
     "metadata": {},
     "output_type": "execute_result"
    }
   ],
   "source": [
    "val_invalid.head()"
   ]
  },
  {
   "cell_type": "markdown",
   "metadata": {},
   "source": [
    "This DataFrame is not compliant to the model because the foreign key is not defined in the type table."
   ]
  },
  {
   "cell_type": "markdown",
   "metadata": {},
   "source": [
    "### Setup Postgres Engine"
   ]
  },
  {
   "cell_type": "code",
   "execution_count": 30,
   "metadata": {},
   "outputs": [],
   "source": [
    "import psycopg2"
   ]
  },
  {
   "cell_type": "code",
   "execution_count": 31,
   "metadata": {},
   "outputs": [],
   "source": [
    "username = 'postgres'\n",
    "password = 'J8IzgZj3iFhYClDl' # 'python_tutorial_5432'\n",
    "db_url = 'postgres_db:5432' # using Docker url alias\n",
    "db_schema = 'postgres'\n",
    "con_str = f'postgres://{username}:{password}@{db_url}/{db_schema}'"
   ]
  },
  {
   "cell_type": "code",
   "execution_count": 32,
   "metadata": {},
   "outputs": [],
   "source": [
    "engine = create_engine(con_str)\n",
    "Session = sessionmaker(bind=engine)"
   ]
  },
  {
   "cell_type": "markdown",
   "metadata": {},
   "source": [
    "### Fill in Data using Pandas\n",
    "\n",
    "Here, the Pandas built-in *to_sql()* method is used."
   ]
  },
  {
   "cell_type": "code",
   "execution_count": 57,
   "metadata": {},
   "outputs": [],
   "source": [
    "Base.metadata.create_all(engine)"
   ]
  },
  {
   "cell_type": "markdown",
   "metadata": {},
   "source": [
    "Generate all tables defined in SQLAlchemy model"
   ]
  },
  {
   "cell_type": "code",
   "execution_count": 58,
   "metadata": {},
   "outputs": [],
   "source": [
    "to_sql_method = 'multi'"
   ]
  },
  {
   "cell_type": "code",
   "execution_count": 59,
   "metadata": {},
   "outputs": [
    {
     "name": "stdout",
     "output_type": "stream",
     "text": [
      "CPU times: user 2.07 s, sys: 43 ms, total: 2.11 s\n",
      "Wall time: 2.72 s\n"
     ]
    }
   ],
   "source": [
    "%%time\n",
    "type_df.to_sql(MeasurementTypes.__tablename__, engine, index=False, if_exists='append',\n",
    "              method=to_sql_method)\n",
    "val_df.to_sql(Measurements.__tablename__, engine, index=False, if_exists='append',\n",
    "              method=to_sql_method)"
   ]
  },
  {
   "cell_type": "markdown",
   "metadata": {},
   "source": [
    "Very important: always set\n",
    "\n",
    "    if_exists='append'\n",
    "    \n",
    "If this parameter is not set, Pandas will raise an exception because the table already exists.\n",
    "If the parameter is set to *'replace'*, the existing table is dropped and re-generated by Pandas, loosing all constraints, etc. defined in the SQLAlchemy model."
   ]
  },
  {
   "cell_type": "code",
   "execution_count": 60,
   "metadata": {},
   "outputs": [
    {
     "name": "stdout",
     "output_type": "stream",
     "text": [
      "(psycopg2.errors.ForeignKeyViolation) insert or update on table \"measurements\" violates foreign key constraint \"measurements_type_id_fkey\"\n",
      "DETAIL:  Key (type_id)=(1002) is not present in table \"measurement_types\".\n",
      "\n",
      "[SQL: INSERT INTO measurements (val1, val2, val3, time_tick, type_id) VALUES (%(val1)s, %(val2)s, %(val3)s, %(time_tick)s, %(type_id)s)]\n",
      "[parameters: ({'val1': 0.5552233320367923, 'val2': 0.813218959052893, 'val3': 0.1, 'time_tick': 0, 'type_id': 1002}, {'val1': 2.247520146611636, 'val2': -1.6115842357229266, 'val3': 0.0, 'time_tick': 0, 'type_id': 1003}, {'val1': 0.3120030629218393, 'val2': -0.6017151932966848, 'val3': 1.1, 'time_tick': 0, 'type_id': 1004}, {'val1': 0.4953399337553277, 'val2': -1.2597730320723395, 'val3': 1.2, 'time_tick': 0, 'type_id': 1005}, {'val1': -1.4085153828191306, 'val2': -1.0400536168291372, 'val3': 0.8, 'time_tick': 0, 'type_id': 1006})]\n",
      "(Background on this error at: http://sqlalche.me/e/gkpj)\n"
     ]
    }
   ],
   "source": [
    "try:\n",
    "    val_invalid.to_sql(Measurements.__tablename__, engine, index=False, if_exists='append')\n",
    "except Exception as e:\n",
    "    print(e)"
   ]
  },
  {
   "cell_type": "markdown",
   "metadata": {},
   "source": [
    "Data with invalid foreign key cannot be inserted."
   ]
  },
  {
   "cell_type": "code",
   "execution_count": 61,
   "metadata": {},
   "outputs": [
    {
     "data": {
      "text/html": [
       "<div>\n",
       "<style scoped>\n",
       "    .dataframe tbody tr th:only-of-type {\n",
       "        vertical-align: middle;\n",
       "    }\n",
       "\n",
       "    .dataframe tbody tr th {\n",
       "        vertical-align: top;\n",
       "    }\n",
       "\n",
       "    .dataframe thead th {\n",
       "        text-align: right;\n",
       "    }\n",
       "</style>\n",
       "<table border=\"1\" class=\"dataframe\">\n",
       "  <thead>\n",
       "    <tr style=\"text-align: right;\">\n",
       "      <th></th>\n",
       "      <th>time_tick</th>\n",
       "      <th>type_id</th>\n",
       "      <th>val1</th>\n",
       "      <th>val2</th>\n",
       "      <th>val3</th>\n",
       "    </tr>\n",
       "  </thead>\n",
       "  <tbody>\n",
       "    <tr>\n",
       "      <th>0</th>\n",
       "      <td>0</td>\n",
       "      <td>2</td>\n",
       "      <td>0.555223</td>\n",
       "      <td>0.813219</td>\n",
       "      <td>1</td>\n",
       "    </tr>\n",
       "    <tr>\n",
       "      <th>1</th>\n",
       "      <td>0</td>\n",
       "      <td>3</td>\n",
       "      <td>2.247520</td>\n",
       "      <td>-1.611584</td>\n",
       "      <td>0</td>\n",
       "    </tr>\n",
       "    <tr>\n",
       "      <th>2</th>\n",
       "      <td>0</td>\n",
       "      <td>4</td>\n",
       "      <td>0.312003</td>\n",
       "      <td>-0.601715</td>\n",
       "      <td>11</td>\n",
       "    </tr>\n",
       "    <tr>\n",
       "      <th>3</th>\n",
       "      <td>0</td>\n",
       "      <td>5</td>\n",
       "      <td>0.495340</td>\n",
       "      <td>-1.259773</td>\n",
       "      <td>12</td>\n",
       "    </tr>\n",
       "    <tr>\n",
       "      <th>4</th>\n",
       "      <td>0</td>\n",
       "      <td>6</td>\n",
       "      <td>-1.408515</td>\n",
       "      <td>-1.040054</td>\n",
       "      <td>8</td>\n",
       "    </tr>\n",
       "  </tbody>\n",
       "</table>\n",
       "</div>"
      ],
      "text/plain": [
       "   time_tick  type_id      val1      val2  val3\n",
       "0          0        2  0.555223  0.813219     1\n",
       "1          0        3  2.247520 -1.611584     0\n",
       "2          0        4  0.312003 -0.601715    11\n",
       "3          0        5  0.495340 -1.259773    12\n",
       "4          0        6 -1.408515 -1.040054     8"
      ]
     },
     "execution_count": 61,
     "metadata": {},
     "output_type": "execute_result"
    }
   ],
   "source": [
    "df_from_db = pd.read_sql_table(Measurements.__tablename__, engine)\n",
    "df_from_db.head()"
   ]
  },
  {
   "cell_type": "code",
   "execution_count": 62,
   "metadata": {},
   "outputs": [
    {
     "data": {
      "text/html": [
       "<div>\n",
       "<style scoped>\n",
       "    .dataframe tbody tr th:only-of-type {\n",
       "        vertical-align: middle;\n",
       "    }\n",
       "\n",
       "    .dataframe tbody tr th {\n",
       "        vertical-align: top;\n",
       "    }\n",
       "\n",
       "    .dataframe thead th {\n",
       "        text-align: right;\n",
       "    }\n",
       "</style>\n",
       "<table border=\"1\" class=\"dataframe\">\n",
       "  <thead>\n",
       "    <tr style=\"text-align: right;\">\n",
       "      <th></th>\n",
       "      <th>time_tick</th>\n",
       "      <th>type_id</th>\n",
       "      <th>val1</th>\n",
       "      <th>val2</th>\n",
       "      <th>val3</th>\n",
       "    </tr>\n",
       "  </thead>\n",
       "  <tbody>\n",
       "    <tr>\n",
       "      <th>9995</th>\n",
       "      <td>99</td>\n",
       "      <td>97</td>\n",
       "      <td>-0.533778</td>\n",
       "      <td>-0.132487</td>\n",
       "      <td>-1</td>\n",
       "    </tr>\n",
       "    <tr>\n",
       "      <th>9996</th>\n",
       "      <td>99</td>\n",
       "      <td>98</td>\n",
       "      <td>0.031455</td>\n",
       "      <td>-1.285644</td>\n",
       "      <td>-12</td>\n",
       "    </tr>\n",
       "    <tr>\n",
       "      <th>9997</th>\n",
       "      <td>99</td>\n",
       "      <td>99</td>\n",
       "      <td>-1.269113</td>\n",
       "      <td>0.434566</td>\n",
       "      <td>-1</td>\n",
       "    </tr>\n",
       "    <tr>\n",
       "      <th>9998</th>\n",
       "      <td>99</td>\n",
       "      <td>100</td>\n",
       "      <td>-0.758415</td>\n",
       "      <td>-0.507833</td>\n",
       "      <td>5</td>\n",
       "    </tr>\n",
       "    <tr>\n",
       "      <th>9999</th>\n",
       "      <td>100</td>\n",
       "      <td>1</td>\n",
       "      <td>0.085585</td>\n",
       "      <td>-3.018355</td>\n",
       "      <td>-2</td>\n",
       "    </tr>\n",
       "  </tbody>\n",
       "</table>\n",
       "</div>"
      ],
      "text/plain": [
       "      time_tick  type_id      val1      val2  val3\n",
       "9995         99       97 -0.533778 -0.132487    -1\n",
       "9996         99       98  0.031455 -1.285644   -12\n",
       "9997         99       99 -1.269113  0.434566    -1\n",
       "9998         99      100 -0.758415 -0.507833     5\n",
       "9999        100        1  0.085585 -3.018355    -2"
      ]
     },
     "execution_count": 62,
     "metadata": {},
     "output_type": "execute_result"
    }
   ],
   "source": [
    "df_from_db.tail()"
   ]
  },
  {
   "cell_type": "code",
   "execution_count": 63,
   "metadata": {},
   "outputs": [],
   "source": [
    "Base.metadata.drop_all(engine)"
   ]
  },
  {
   "cell_type": "markdown",
   "metadata": {},
   "source": [
    "Delete all tables of the SQLAlchemy model."
   ]
  },
  {
   "cell_type": "markdown",
   "metadata": {},
   "source": [
    "### Fill using SQLAlchemy Bulk Insert\n",
    "\n",
    "Here, the SQLAlchemy Bulk Insert method is used to insert a list of dictionaries created from the Pandas DataFrames."
   ]
  },
  {
   "cell_type": "code",
   "execution_count": 48,
   "metadata": {},
   "outputs": [],
   "source": [
    "Base.metadata.create_all(engine)"
   ]
  },
  {
   "cell_type": "code",
   "execution_count": 49,
   "metadata": {},
   "outputs": [
    {
     "data": {
      "text/html": [
       "<div>\n",
       "<style scoped>\n",
       "    .dataframe tbody tr th:only-of-type {\n",
       "        vertical-align: middle;\n",
       "    }\n",
       "\n",
       "    .dataframe tbody tr th {\n",
       "        vertical-align: top;\n",
       "    }\n",
       "\n",
       "    .dataframe thead th {\n",
       "        text-align: right;\n",
       "    }\n",
       "</style>\n",
       "<table border=\"1\" class=\"dataframe\">\n",
       "  <thead>\n",
       "    <tr style=\"text-align: right;\">\n",
       "      <th></th>\n",
       "      <th>id</th>\n",
       "      <th>name</th>\n",
       "    </tr>\n",
       "  </thead>\n",
       "  <tbody>\n",
       "  </tbody>\n",
       "</table>\n",
       "</div>"
      ],
      "text/plain": [
       "Empty DataFrame\n",
       "Columns: [id, name]\n",
       "Index: []"
      ]
     },
     "execution_count": 49,
     "metadata": {},
     "output_type": "execute_result"
    }
   ],
   "source": [
    "df_from_db = pd.read_sql_table(MeasurementTypes.__tablename__, engine)\n",
    "df_from_db.head()"
   ]
  },
  {
   "cell_type": "code",
   "execution_count": 50,
   "metadata": {},
   "outputs": [],
   "source": [
    "session = Session()"
   ]
  },
  {
   "cell_type": "code",
   "execution_count": 51,
   "metadata": {},
   "outputs": [
    {
     "name": "stdout",
     "output_type": "stream",
     "text": [
      "CPU times: user 1.22 s, sys: 434 ms, total: 1.66 s\n",
      "Wall time: 4.11 s\n"
     ]
    }
   ],
   "source": [
    "%%time\n",
    "session.bulk_insert_mappings(MeasurementTypes, type_df.drop(columns=['id']).to_dict(\n",
    "    orient='records'))\n",
    "session.bulk_insert_mappings(Measurements, val_df.to_dict(orient='records'))\n",
    "session.commit()"
   ]
  },
  {
   "cell_type": "code",
   "execution_count": 52,
   "metadata": {},
   "outputs": [
    {
     "data": {
      "text/html": [
       "<div>\n",
       "<style scoped>\n",
       "    .dataframe tbody tr th:only-of-type {\n",
       "        vertical-align: middle;\n",
       "    }\n",
       "\n",
       "    .dataframe tbody tr th {\n",
       "        vertical-align: top;\n",
       "    }\n",
       "\n",
       "    .dataframe thead th {\n",
       "        text-align: right;\n",
       "    }\n",
       "</style>\n",
       "<table border=\"1\" class=\"dataframe\">\n",
       "  <thead>\n",
       "    <tr style=\"text-align: right;\">\n",
       "      <th></th>\n",
       "      <th>time_tick</th>\n",
       "      <th>type_id</th>\n",
       "      <th>val1</th>\n",
       "      <th>val2</th>\n",
       "      <th>val3</th>\n",
       "    </tr>\n",
       "  </thead>\n",
       "  <tbody>\n",
       "    <tr>\n",
       "      <th>0</th>\n",
       "      <td>0</td>\n",
       "      <td>2</td>\n",
       "      <td>0.555223</td>\n",
       "      <td>0.813219</td>\n",
       "      <td>1</td>\n",
       "    </tr>\n",
       "    <tr>\n",
       "      <th>1</th>\n",
       "      <td>0</td>\n",
       "      <td>3</td>\n",
       "      <td>2.247520</td>\n",
       "      <td>-1.611584</td>\n",
       "      <td>0</td>\n",
       "    </tr>\n",
       "    <tr>\n",
       "      <th>2</th>\n",
       "      <td>0</td>\n",
       "      <td>4</td>\n",
       "      <td>0.312003</td>\n",
       "      <td>-0.601715</td>\n",
       "      <td>11</td>\n",
       "    </tr>\n",
       "    <tr>\n",
       "      <th>3</th>\n",
       "      <td>0</td>\n",
       "      <td>5</td>\n",
       "      <td>0.495340</td>\n",
       "      <td>-1.259773</td>\n",
       "      <td>12</td>\n",
       "    </tr>\n",
       "    <tr>\n",
       "      <th>4</th>\n",
       "      <td>0</td>\n",
       "      <td>6</td>\n",
       "      <td>-1.408515</td>\n",
       "      <td>-1.040054</td>\n",
       "      <td>8</td>\n",
       "    </tr>\n",
       "  </tbody>\n",
       "</table>\n",
       "</div>"
      ],
      "text/plain": [
       "   time_tick  type_id      val1      val2  val3\n",
       "0          0        2  0.555223  0.813219     1\n",
       "1          0        3  2.247520 -1.611584     0\n",
       "2          0        4  0.312003 -0.601715    11\n",
       "3          0        5  0.495340 -1.259773    12\n",
       "4          0        6 -1.408515 -1.040054     8"
      ]
     },
     "execution_count": 52,
     "metadata": {},
     "output_type": "execute_result"
    }
   ],
   "source": [
    "df_from_db = pd.read_sql_table(Measurements.__tablename__, engine)\n",
    "df_from_db.head()"
   ]
  },
  {
   "cell_type": "code",
   "execution_count": 53,
   "metadata": {},
   "outputs": [
    {
     "name": "stdout",
     "output_type": "stream",
     "text": [
      "(psycopg2.errors.ForeignKeyViolation) insert or update on table \"measurements\" violates foreign key constraint \"measurements_type_id_fkey\"\n",
      "DETAIL:  Key (type_id)=(1002) is not present in table \"measurement_types\".\n",
      "\n",
      "[SQL: INSERT INTO measurements (time_tick, type_id, val1, val2, val3) VALUES (%(time_tick)s, %(type_id)s, %(val1)s, %(val2)s, %(val3)s)]\n",
      "[parameters: ({'time_tick': 0, 'type_id': 1002, 'val1': 0.5552233320367923, 'val2': 0.813218959052893, 'val3': 0.1}, {'time_tick': 0, 'type_id': 1003, 'val1': 2.247520146611636, 'val2': -1.6115842357229266, 'val3': 0.0}, {'time_tick': 0, 'type_id': 1004, 'val1': 0.3120030629218393, 'val2': -0.6017151932966848, 'val3': 1.1}, {'time_tick': 0, 'type_id': 1005, 'val1': 0.4953399337553277, 'val2': -1.2597730320723395, 'val3': 1.2}, {'time_tick': 0, 'type_id': 1006, 'val1': -1.4085153828191306, 'val2': -1.0400536168291372, 'val3': 0.8})]\n",
      "(Background on this error at: http://sqlalche.me/e/gkpj)\n"
     ]
    }
   ],
   "source": [
    "try:\n",
    "    session.bulk_insert_mappings(Measurements, val_invalid.to_dict(orient='records'))\n",
    "except Exception as e:\n",
    "    print(e)"
   ]
  },
  {
   "cell_type": "code",
   "execution_count": 54,
   "metadata": {},
   "outputs": [
    {
     "data": {
      "text/html": [
       "<div>\n",
       "<style scoped>\n",
       "    .dataframe tbody tr th:only-of-type {\n",
       "        vertical-align: middle;\n",
       "    }\n",
       "\n",
       "    .dataframe tbody tr th {\n",
       "        vertical-align: top;\n",
       "    }\n",
       "\n",
       "    .dataframe thead th {\n",
       "        text-align: right;\n",
       "    }\n",
       "</style>\n",
       "<table border=\"1\" class=\"dataframe\">\n",
       "  <thead>\n",
       "    <tr style=\"text-align: right;\">\n",
       "      <th></th>\n",
       "      <th>time_tick</th>\n",
       "      <th>type_id</th>\n",
       "      <th>val1</th>\n",
       "      <th>val2</th>\n",
       "      <th>val3</th>\n",
       "    </tr>\n",
       "  </thead>\n",
       "  <tbody>\n",
       "    <tr>\n",
       "      <th>9995</th>\n",
       "      <td>99</td>\n",
       "      <td>97</td>\n",
       "      <td>-0.533778</td>\n",
       "      <td>-0.132487</td>\n",
       "      <td>-1</td>\n",
       "    </tr>\n",
       "    <tr>\n",
       "      <th>9996</th>\n",
       "      <td>99</td>\n",
       "      <td>98</td>\n",
       "      <td>0.031455</td>\n",
       "      <td>-1.285644</td>\n",
       "      <td>-12</td>\n",
       "    </tr>\n",
       "    <tr>\n",
       "      <th>9997</th>\n",
       "      <td>99</td>\n",
       "      <td>99</td>\n",
       "      <td>-1.269113</td>\n",
       "      <td>0.434566</td>\n",
       "      <td>-1</td>\n",
       "    </tr>\n",
       "    <tr>\n",
       "      <th>9998</th>\n",
       "      <td>99</td>\n",
       "      <td>100</td>\n",
       "      <td>-0.758415</td>\n",
       "      <td>-0.507833</td>\n",
       "      <td>5</td>\n",
       "    </tr>\n",
       "    <tr>\n",
       "      <th>9999</th>\n",
       "      <td>100</td>\n",
       "      <td>1</td>\n",
       "      <td>0.085585</td>\n",
       "      <td>-3.018355</td>\n",
       "      <td>-2</td>\n",
       "    </tr>\n",
       "  </tbody>\n",
       "</table>\n",
       "</div>"
      ],
      "text/plain": [
       "      time_tick  type_id      val1      val2  val3\n",
       "9995         99       97 -0.533778 -0.132487    -1\n",
       "9996         99       98  0.031455 -1.285644   -12\n",
       "9997         99       99 -1.269113  0.434566    -1\n",
       "9998         99      100 -0.758415 -0.507833     5\n",
       "9999        100        1  0.085585 -3.018355    -2"
      ]
     },
     "execution_count": 54,
     "metadata": {},
     "output_type": "execute_result"
    }
   ],
   "source": [
    "df_from_db = pd.read_sql_table(Measurements.__tablename__, engine)\n",
    "df_from_db.tail()"
   ]
  },
  {
   "cell_type": "code",
   "execution_count": 55,
   "metadata": {},
   "outputs": [],
   "source": [
    "Base.metadata.drop_all(engine)"
   ]
  },
  {
   "cell_type": "markdown",
   "metadata": {},
   "source": [
    "### Conclusion\n",
    "\n",
    "Both Pandas *to_sql()* and SQLAlchemy *bulk_insert_mappings()* can be used to insert data from DataFrames into tables created by an SQLAlchemy model.\n",
    "The performance of Pandas *to_sql()* is slightly better."
   ]
  }
 ],
 "metadata": {
  "kernelspec": {
   "display_name": "Python 3",
   "language": "python",
   "name": "python3"
  },
  "language_info": {
   "codemirror_mode": {
    "name": "ipython",
    "version": 3
   },
   "file_extension": ".py",
   "mimetype": "text/x-python",
   "name": "python",
   "nbconvert_exporter": "python",
   "pygments_lexer": "ipython3",
   "version": "3.7.4"
  }
 },
 "nbformat": 4,
 "nbformat_minor": 4
}

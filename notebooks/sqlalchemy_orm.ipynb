{
 "cells": [
  {
   "cell_type": "markdown",
   "metadata": {},
   "source": [
    "# SQLAlchemy ORM"
   ]
  },
  {
   "cell_type": "code",
   "execution_count": 1,
   "metadata": {},
   "outputs": [],
   "source": [
    "from sqlalchemy import create_engine, ForeignKey, Table, Column\n",
    "from sqlalchemy import Integer, String, Numeric, Date, DateTime\n",
    "from sqlalchemy.orm import sessionmaker, relationship\n",
    "from sqlalchemy.ext.declarative import declarative_base\n",
    "from datetime import date, datetime"
   ]
  },
  {
   "cell_type": "code",
   "execution_count": 2,
   "metadata": {},
   "outputs": [],
   "source": [
    "Base = declarative_base()"
   ]
  },
  {
   "cell_type": "code",
   "execution_count": 3,
   "metadata": {},
   "outputs": [],
   "source": [
    "class Author(Base):\n",
    "    __tablename__ = 'authors'\n",
    "    id = Column(Integer, primary_key=True)\n",
    "    name = Column(String, unique=True)\n",
    "    birthday = Column(Date)\n",
    "    \n",
    "    def __init__(self, name, birthday):\n",
    "        self.name = name\n",
    "        self.birthday = birthday"
   ]
  },
  {
   "cell_type": "code",
   "execution_count": 4,
   "metadata": {},
   "outputs": [],
   "source": [
    "class Book(Base):\n",
    "    __tablename__ = 'books'\n",
    "    id = Column(Integer, primary_key=True)\n",
    "    title = Column(String, unique=True)\n",
    "    published_datetime = Column(DateTime)\n",
    "    author_id = Column(Integer, ForeignKey('authors.id')) # 1:many relationship\n",
    "    author = relationship(\"Author\", backref='books')\n",
    "    \n",
    "    def __init__(self, title, author, published_datetime):\n",
    "        self.title = title\n",
    "        self.author = author\n",
    "        self.published_datetime = published_datetime"
   ]
  },
  {
   "cell_type": "code",
   "execution_count": 5,
   "metadata": {},
   "outputs": [],
   "source": [
    "book_store_mapping = Table('books_stores', Base.metadata,\n",
    "                           Column('book_id', Integer, ForeignKey('books.id')),\n",
    "                           Column('store_id', Integer, ForeignKey('stores.id')))\n",
    "\n",
    "class Store(Base):\n",
    "    __tablename__ = 'stores'\n",
    "    id = Column(Integer, primary_key=True)\n",
    "    name = Column(String, unique=True)\n",
    "    books = relationship(\"Book\", secondary=book_store_mapping)\n",
    "    \n",
    "    def __init__(self, name):\n",
    "        self.name = name"
   ]
  },
  {
   "cell_type": "code",
   "execution_count": 6,
   "metadata": {},
   "outputs": [],
   "source": [
    "alan_smithee = Author('Alan Smithee', date(1978, 4, 17))\n",
    "jane_doe = Author('Jane Doe', date(1984, 2, 28))"
   ]
  },
  {
   "cell_type": "code",
   "execution_count": 7,
   "metadata": {},
   "outputs": [],
   "source": [
    "python_tutorial = Book('Python Tutorial', alan_smithee, datetime.utcnow())\n",
    "guide = Book(\"Hitchhiker's Guide to Python\", jane_doe, \n",
    "             datetime.fromisoformat('2019-01-23T14:34:21'))\n",
    "almanach = Book('Almanach of Python Wisdom', jane_doe, datetime(2019,1,23,14,14,21))"
   ]
  },
  {
   "cell_type": "code",
   "execution_count": 8,
   "metadata": {},
   "outputs": [],
   "source": [
    "inn = Store(\"Bookkeeper's Inn\")\n",
    "library = Store('Great Library')"
   ]
  },
  {
   "cell_type": "code",
   "execution_count": 9,
   "metadata": {},
   "outputs": [],
   "source": [
    "inn.books = [python_tutorial, almanach]\n",
    "library.books = [guide, python_tutorial, almanach]"
   ]
  },
  {
   "cell_type": "code",
   "execution_count": 10,
   "metadata": {},
   "outputs": [],
   "source": [
    "con_str = 'sqlite://' # SQLite database in memory\n",
    "engine = create_engine(con_str)\n",
    "Session = sessionmaker(bind=engine)"
   ]
  },
  {
   "cell_type": "code",
   "execution_count": 11,
   "metadata": {},
   "outputs": [],
   "source": [
    "Base.metadata.create_all(engine)"
   ]
  },
  {
   "cell_type": "code",
   "execution_count": 12,
   "metadata": {},
   "outputs": [],
   "source": [
    "session = Session()"
   ]
  },
  {
   "cell_type": "code",
   "execution_count": 13,
   "metadata": {},
   "outputs": [],
   "source": [
    "session.add_all((python_tutorial, guide, almanach, inn))\n",
    "session.add(library)"
   ]
  },
  {
   "cell_type": "code",
   "execution_count": 14,
   "metadata": {},
   "outputs": [],
   "source": [
    "session.commit()\n",
    "session.close()"
   ]
  },
  {
   "cell_type": "code",
   "execution_count": null,
   "metadata": {},
   "outputs": [],
   "source": []
  }
 ],
 "metadata": {
  "kernelspec": {
   "display_name": "Python 3",
   "language": "python",
   "name": "python3"
  },
  "language_info": {
   "codemirror_mode": {
    "name": "ipython",
    "version": 3
   },
   "file_extension": ".py",
   "mimetype": "text/x-python",
   "name": "python",
   "nbconvert_exporter": "python",
   "pygments_lexer": "ipython3",
   "version": "3.7.3"
  }
 },
 "nbformat": 4,
 "nbformat_minor": 4
}

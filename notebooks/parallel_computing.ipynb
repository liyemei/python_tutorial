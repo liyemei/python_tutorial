{
 "cells": [
  {
   "cell_type": "markdown",
   "metadata": {},
   "source": [
    "# Parallel Computing"
   ]
  },
  {
   "cell_type": "code",
   "execution_count": 1,
   "metadata": {},
   "outputs": [
    {
     "data": {
      "text/plain": [
       "4"
      ]
     },
     "execution_count": 1,
     "metadata": {},
     "output_type": "execute_result"
    }
   ],
   "source": [
    "import os\n",
    "cpus = os.cpu_count()\n",
    "cpus"
   ]
  },
  {
   "cell_type": "markdown",
   "metadata": {},
   "source": [
    "## Test Functions"
   ]
  },
  {
   "cell_type": "code",
   "execution_count": 2,
   "metadata": {},
   "outputs": [],
   "source": [
    "import time"
   ]
  },
  {
   "cell_type": "code",
   "execution_count": 3,
   "metadata": {},
   "outputs": [],
   "source": [
    "def long_io(i, res_dict): # a function simulating IO, user input, etc. (no computation)\n",
    "    print(f'function {i} started at {time.ctime()}')\n",
    "    time.sleep(2)\n",
    "    res = i*2\n",
    "    res_dict[i] = res\n",
    "    print(f'function {i} finished at {time.ctime()}')\n",
    "    return res"
   ]
  },
  {
   "cell_type": "code",
   "execution_count": 4,
   "metadata": {},
   "outputs": [
    {
     "name": "stdout",
     "output_type": "stream",
     "text": [
      "function 0 started at Tue Jul  2 14:10:03 2019\n",
      "function 0 finished at Tue Jul  2 14:10:05 2019\n",
      "function 1 started at Tue Jul  2 14:10:05 2019\n",
      "function 1 finished at Tue Jul  2 14:10:07 2019\n",
      "function 2 started at Tue Jul  2 14:10:07 2019\n",
      "function 2 finished at Tue Jul  2 14:10:09 2019\n",
      "function 3 started at Tue Jul  2 14:10:09 2019\n",
      "function 3 finished at Tue Jul  2 14:10:11 2019\n"
     ]
    },
    {
     "data": {
      "text/plain": [
       "{0: 0, 1: 2, 2: 4, 3: 6}"
      ]
     },
     "execution_count": 4,
     "metadata": {},
     "output_type": "execute_result"
    }
   ],
   "source": [
    "res = {}\n",
    "[long_io(i, res) for i in range(4)]\n",
    "res"
   ]
  },
  {
   "cell_type": "code",
   "execution_count": 5,
   "metadata": {},
   "outputs": [],
   "source": [
    "def long_comp(i, res_dict): # a function involving heavy computation\n",
    "    print(f'function {i} started at {time.ctime()}')\n",
    "    x = i\n",
    "    for y in range(5000000):\n",
    "        if x % 2 == 0:\n",
    "            x = (x-y)**2\n",
    "        else:\n",
    "            x = (x+y)**0.5\n",
    "    res_dict[i] = x\n",
    "    print(f'function {i} finished at {time.ctime()}')\n",
    "    return x"
   ]
  },
  {
   "cell_type": "code",
   "execution_count": 6,
   "metadata": {},
   "outputs": [
    {
     "name": "stdout",
     "output_type": "stream",
     "text": [
      "function 0 started at Tue Jul  2 14:10:11 2019\n",
      "function 0 finished at Tue Jul  2 14:10:14 2019\n",
      "function 1 started at Tue Jul  2 14:10:14 2019\n",
      "function 1 finished at Tue Jul  2 14:10:16 2019\n",
      "function 2 started at Tue Jul  2 14:10:16 2019\n",
      "function 2 finished at Tue Jul  2 14:10:18 2019\n",
      "function 3 started at Tue Jul  2 14:10:18 2019\n",
      "function 3 finished at Tue Jul  2 14:10:20 2019\n"
     ]
    },
    {
     "data": {
      "text/plain": [
       "{0: 2236.5678097446853,\n",
       " 1: 2236.5678097446853,\n",
       " 2: 2236.5678097446853,\n",
       " 3: 2236.5678097446853}"
      ]
     },
     "execution_count": 6,
     "metadata": {},
     "output_type": "execute_result"
    }
   ],
   "source": [
    "res = {}\n",
    "[long_comp(i, res) for i in range(4)]\n",
    "res"
   ]
  },
  {
   "cell_type": "markdown",
   "metadata": {},
   "source": [
    "Time intensive functions can be either CPU-limited (calculations) or limited by other factors (such as IO, network response times, user interactions). For both cases, test functions are defined."
   ]
  },
  {
   "cell_type": "markdown",
   "metadata": {},
   "source": [
    "## Multithreading"
   ]
  },
  {
   "cell_type": "code",
   "execution_count": 7,
   "metadata": {},
   "outputs": [],
   "source": [
    "import threading"
   ]
  },
  {
   "cell_type": "code",
   "execution_count": 8,
   "metadata": {},
   "outputs": [
    {
     "name": "stdout",
     "output_type": "stream",
     "text": [
      "function 0 started at Tue Jul  2 14:10:21 2019\n",
      "function 1 started at Tue Jul  2 14:10:21 2019\n",
      "function 2 started at Tue Jul  2 14:10:21 2019\n",
      "function 3 started at Tue Jul  2 14:10:21 2019\n",
      "all threads started at Tue Jul  2 14:10:21 2019\n",
      "function 0 finished at Tue Jul  2 14:10:23 2019\n",
      "function 1 finished at Tue Jul  2 14:10:23 2019\n",
      "function 3 finished at Tue Jul  2 14:10:23 2019function 2 finished at Tue Jul  2 14:10:23 2019\n",
      "\n",
      "all threads finished at Tue Jul  2 14:10:23 2019\n"
     ]
    },
    {
     "data": {
      "text/plain": [
       "{0: 0, 1: 2, 3: 6, 2: 4}"
      ]
     },
     "execution_count": 8,
     "metadata": {},
     "output_type": "execute_result"
    }
   ],
   "source": [
    "# non-computational limited function\n",
    "threads = []\n",
    "res = {}\n",
    "for i in range(4):\n",
    "    threads.append(threading.Thread(target=long_io, args=(i,res)))\n",
    "    threads[i].start()\n",
    "print(f'all threads started at {time.ctime()}')\n",
    "for i in range(4):\n",
    "    threads[i].join()\n",
    "print(f'all threads finished at {time.ctime()}')\n",
    "res"
   ]
  },
  {
   "cell_type": "markdown",
   "metadata": {},
   "source": [
    "Using Multithreading, executing all 4 functions take the same time as executing a single function.\n",
    "\n",
    "\n",
    "Threads use the same memory space as the main process, thus one could use data structures like dictionaries to pass information from and to the threads."
   ]
  },
  {
   "cell_type": "code",
   "execution_count": 9,
   "metadata": {},
   "outputs": [
    {
     "name": "stdout",
     "output_type": "stream",
     "text": [
      "function 0 started at Tue Jul  2 14:10:23 2019\n",
      "function 1 started at Tue Jul  2 14:10:23 2019\n",
      "function 2 started at Tue Jul  2 14:10:23 2019\n",
      "function 3 started at Tue Jul  2 14:10:23 2019\n",
      "all threads started at Tue Jul  2 14:10:23 2019\n",
      "function 0 finished at Tue Jul  2 14:10:29 2019\n",
      "function 3 finished at Tue Jul  2 14:10:31 2019\n",
      "function 2 finished at Tue Jul  2 14:10:32 2019\n",
      "function 1 finished at Tue Jul  2 14:10:32 2019\n",
      "all threads finished at Tue Jul  2 14:10:32 2019\n"
     ]
    },
    {
     "data": {
      "text/plain": [
       "{0: 2236.5678097446853,\n",
       " 3: 2236.5678097446853,\n",
       " 2: 2236.5678097446853,\n",
       " 1: 2236.5678097446853}"
      ]
     },
     "execution_count": 9,
     "metadata": {},
     "output_type": "execute_result"
    }
   ],
   "source": [
    "# computational limited function\n",
    "threads = []\n",
    "res = {}\n",
    "for i in range(4):\n",
    "    threads.append(threading.Thread(target=long_comp, args=(i,res)))\n",
    "    threads[i].start()\n",
    "print(f'all threads started at {time.ctime()}')\n",
    "for i in range(4):\n",
    "    threads[i].join()\n",
    "print(f'all threads finished at {time.ctime()}')\n",
    "res"
   ]
  },
  {
   "cell_type": "markdown",
   "metadata": {},
   "source": [
    "For the computational intensive function, running 4 instances as thread takes nearly 4 times as long as running a single instance.\n",
    "This is true even for multiple processors.\n",
    "\n",
    "Reason: The Global Interpreter Lock (GIL) in CPython allows only one CPU access at a time for one process."
   ]
  },
  {
   "cell_type": "markdown",
   "metadata": {},
   "source": [
    "## Multiprocessing"
   ]
  },
  {
   "cell_type": "code",
   "execution_count": 10,
   "metadata": {},
   "outputs": [],
   "source": [
    "import multiprocessing"
   ]
  },
  {
   "cell_type": "code",
   "execution_count": 11,
   "metadata": {},
   "outputs": [
    {
     "name": "stdout",
     "output_type": "stream",
     "text": [
      "function 0 started at Tue Jul  2 14:10:32 2019\n",
      "function 1 started at Tue Jul  2 14:10:32 2019\n",
      "function 2 started at Tue Jul  2 14:10:32 2019\n",
      "function 3 started at Tue Jul  2 14:10:32 2019\n",
      "all processes started at Tue Jul  2 14:10:32 2019\n",
      "function 1 finished at Tue Jul  2 14:10:34 2019\n",
      "function 0 finished at Tue Jul  2 14:10:34 2019\n",
      "function 2 finished at Tue Jul  2 14:10:34 2019\n",
      "function 3 finished at Tue Jul  2 14:10:34 2019\n",
      "all processes finished at Tue Jul  2 14:10:34 2019\n"
     ]
    },
    {
     "data": {
      "text/plain": [
       "{}"
      ]
     },
     "execution_count": 11,
     "metadata": {},
     "output_type": "execute_result"
    }
   ],
   "source": [
    "# non-computational limited function\n",
    "pool = multiprocessing.Pool(processes=cpus)\n",
    "processes = []\n",
    "res = {}\n",
    "for i in range(4):\n",
    "    processes.append(pool.apply_async(long_io, args=(i,res)))\n",
    "print(f'all processes started at {time.ctime()}')\n",
    "pool.close() # close pool so that it does not accept further submissions\n",
    "pool.join() # wait until all processes are finished\n",
    "print(f'all processes finished at {time.ctime()}')\n",
    "res"
   ]
  },
  {
   "cell_type": "markdown",
   "metadata": {},
   "source": [
    "Note that the dictionary passed as function parameter is not updated by the processes (in contrast to the threads shown above). This is because the spawned processes do not share memory with each other / the main process.\n",
    "\n",
    "The return value of the functions can be obtained using:"
   ]
  },
  {
   "cell_type": "code",
   "execution_count": 12,
   "metadata": {},
   "outputs": [
    {
     "data": {
      "text/plain": [
       "[0, 2, 4, 6]"
      ]
     },
     "execution_count": 12,
     "metadata": {},
     "output_type": "execute_result"
    }
   ],
   "source": [
    "[process.get() for process in processes]"
   ]
  },
  {
   "cell_type": "code",
   "execution_count": 13,
   "metadata": {},
   "outputs": [
    {
     "name": "stdout",
     "output_type": "stream",
     "text": [
      "function 3 started at Tue Jul  2 14:10:34 2019\n",
      "function 2 started at Tue Jul  2 14:10:34 2019\n",
      "function 0 started at Tue Jul  2 14:10:34 2019\n",
      "function 1 started at Tue Jul  2 14:10:34 2019\n",
      "all processes started at Tue Jul  2 14:10:34 2019\n",
      "function 0 finished at Tue Jul  2 14:10:37 2019\n",
      "function 1 finished at Tue Jul  2 14:10:37 2019\n",
      "function 3 finished at Tue Jul  2 14:10:37 2019\n",
      "function 2 finished at Tue Jul  2 14:10:37 2019\n",
      "all processes finished at Tue Jul  2 14:10:37 2019\n"
     ]
    },
    {
     "data": {
      "text/plain": [
       "{}"
      ]
     },
     "execution_count": 13,
     "metadata": {},
     "output_type": "execute_result"
    }
   ],
   "source": [
    "# computational limited function\n",
    "pool = multiprocessing.Pool(processes=cpus)\n",
    "processes = []\n",
    "res = {}\n",
    "for i in range(4):\n",
    "    processes.append(pool.apply_async(long_comp, args=(i,res)))\n",
    "print(f'all processes started at {time.ctime()}')\n",
    "pool.close() # close pool so that it does not accept further submissions\n",
    "pool.join() # wait until all processes are finished\n",
    "print(f'all processes finished at {time.ctime()}')\n",
    "res"
   ]
  },
  {
   "cell_type": "code",
   "execution_count": 14,
   "metadata": {},
   "outputs": [
    {
     "data": {
      "text/plain": [
       "{0: 2236.5678097446853,\n",
       " 1: 2236.5678097446853,\n",
       " 2: 2236.5678097446853,\n",
       " 3: 2236.5678097446853}"
      ]
     },
     "execution_count": 14,
     "metadata": {},
     "output_type": "execute_result"
    }
   ],
   "source": [
    "{i: process.get() for i, process in enumerate(processes)}"
   ]
  },
  {
   "cell_type": "markdown",
   "metadata": {},
   "source": [
    "Using Multiprocessing, the instances of the computational intensive function were exectuted in parallel (here on 4 cores), resulting in the same calculation time as for a single instance.\n",
    "\n",
    "\n",
    "Different processes do not share memory with each other and the main process (in contrast to threads). This may sound like a disadvantage compared to threads, but is actually in most cases an advantage:\n",
    "\n",
    "* The GIL is avoided using Multiprocessing (the reason for GIL is to avoid memory conflicts, which could not happen here), allowing parallelization of computational-intensive functions on multiple CPU cores.\n",
    "* Pure functions, where all input is given as function arguments and all output is in the return value, work fine with multiprocessing.\n",
    "* Side-effects due to global variables or mutable data types are avoided. The code is enforced to be cleaner and more modular."
   ]
  },
  {
   "cell_type": "markdown",
   "metadata": {},
   "source": [
    "## Concurrent.Futures\n",
    "\n",
    "High-level API for both Multithreading and Multiprocessing, introduced in Python 3.2.\n",
    "Is is basically an abstraction over the threading and multiprocessing modules."
   ]
  },
  {
   "cell_type": "code",
   "execution_count": 15,
   "metadata": {},
   "outputs": [],
   "source": [
    "import concurrent.futures"
   ]
  },
  {
   "cell_type": "markdown",
   "metadata": {},
   "source": [
    "### Multithreading"
   ]
  },
  {
   "cell_type": "code",
   "execution_count": 16,
   "metadata": {},
   "outputs": [
    {
     "name": "stdout",
     "output_type": "stream",
     "text": [
      "function 0 started at Tue Jul  2 14:10:37 2019\n",
      "function 1 started at Tue Jul  2 14:10:37 2019\n",
      "function 2 started at Tue Jul  2 14:10:37 2019\n",
      "function 3 started at Tue Jul  2 14:10:37 2019\n",
      "function 0 finished at Tue Jul  2 14:10:43 2019\n",
      "function 2 finished at Tue Jul  2 14:10:46 2019\n",
      "function 1 finished at Tue Jul  2 14:10:46 2019\n",
      "function 3 finished at Tue Jul  2 14:10:46 2019\n"
     ]
    },
    {
     "data": {
      "text/plain": [
       "([<Future at 0x7f79b4069748 state=finished returned float>,\n",
       "  <Future at 0x7f79b405f128 state=finished returned float>,\n",
       "  <Future at 0x7f79b4069630 state=finished returned float>,\n",
       "  <Future at 0x7f79b4069ef0 state=finished returned float>],\n",
       " {0: 2236.5678097446853,\n",
       "  2: 2236.5678097446853,\n",
       "  1: 2236.5678097446853,\n",
       "  3: 2236.5678097446853})"
      ]
     },
     "execution_count": 16,
     "metadata": {},
     "output_type": "execute_result"
    }
   ],
   "source": [
    "futures = []\n",
    "res = {}\n",
    "with concurrent.futures.ThreadPoolExecutor(max_workers=4) as executor:\n",
    "    for i in range(4):\n",
    "        futures.append(executor.submit(long_comp, i, res_dict=res))\n",
    "futures, res"
   ]
  },
  {
   "cell_type": "code",
   "execution_count": 17,
   "metadata": {},
   "outputs": [
    {
     "data": {
      "text/plain": [
       "{0: 2236.5678097446853,\n",
       " 1: 2236.5678097446853,\n",
       " 2: 2236.5678097446853,\n",
       " 3: 2236.5678097446853}"
      ]
     },
     "execution_count": 17,
     "metadata": {},
     "output_type": "execute_result"
    }
   ],
   "source": [
    "{i: future.result() for i, future in enumerate(futures)}"
   ]
  },
  {
   "cell_type": "markdown",
   "metadata": {},
   "source": [
    "### Multiprocessing"
   ]
  },
  {
   "cell_type": "code",
   "execution_count": 18,
   "metadata": {},
   "outputs": [
    {
     "name": "stdout",
     "output_type": "stream",
     "text": [
      "function 0 started at Tue Jul  2 14:10:46 2019\n",
      "function 1 started at Tue Jul  2 14:10:46 2019\n",
      "function 2 started at Tue Jul  2 14:10:46 2019\n",
      "function 3 started at Tue Jul  2 14:10:46 2019\n",
      "function 0 finished at Tue Jul  2 14:10:49 2019\n",
      "function 1 finished at Tue Jul  2 14:10:49 2019\n",
      "function 3 finished at Tue Jul  2 14:10:49 2019\n",
      "function 2 finished at Tue Jul  2 14:10:49 2019\n"
     ]
    },
    {
     "data": {
      "text/plain": [
       "([<Future at 0x7f79b40830f0 state=finished returned float>,\n",
       "  <Future at 0x7f79b490a8d0 state=finished returned float>,\n",
       "  <Future at 0x7f79b490a278 state=finished returned float>,\n",
       "  <Future at 0x7f79b490a7b8 state=finished returned float>],\n",
       " {})"
      ]
     },
     "execution_count": 18,
     "metadata": {},
     "output_type": "execute_result"
    }
   ],
   "source": [
    "futures = []\n",
    "res = {}\n",
    "with concurrent.futures.ProcessPoolExecutor() as executor: \n",
    "    # when no max_workers are defined, the number of CPU cores is used\n",
    "    for i in range(4):\n",
    "        futures.append(executor.submit(long_comp, i, res_dict=res))\n",
    "futures, res"
   ]
  },
  {
   "cell_type": "code",
   "execution_count": 19,
   "metadata": {},
   "outputs": [
    {
     "data": {
      "text/plain": [
       "{0: 2236.5678097446853,\n",
       " 1: 2236.5678097446853,\n",
       " 2: 2236.5678097446853,\n",
       " 3: 2236.5678097446853}"
      ]
     },
     "execution_count": 19,
     "metadata": {},
     "output_type": "execute_result"
    }
   ],
   "source": [
    "{i: future.result() for i, future in enumerate(futures)}"
   ]
  },
  {
   "cell_type": "markdown",
   "metadata": {},
   "source": [
    "The syntax for multithreading and multiprocessing is identical. \n",
    "Note that only multitreading uses the same memory space as the main process. Pure functions work with both multitreading and multiprocessing."
   ]
  },
  {
   "cell_type": "markdown",
   "metadata": {},
   "source": [
    "## Dask\n",
    "\n",
    "see [here](dask.ipynb)"
   ]
  },
  {
   "cell_type": "markdown",
   "metadata": {},
   "source": [
    "## Conclusion\n",
    "\n",
    "* For non-calculation bound processes, like IO, user interactions, network responses, use Threading because it is light-weight and creates less overhead.\n",
    "* For calculation-bound processes, use Multiprocessing. In Python, there is no benefit using Multithreading in this case.\n",
    "\n",
    "More information is given here:\n",
    "https://medium.com/@bfortuner/python-multithreading-vs-multiprocessing-73072ce5600b\n",
    "\n",
    "It is recommended to use the *concurrent.futures* API in Python 3 both for threading and multiprocessing where possible. The functions to be parallized should be pure functions."
   ]
  },
  {
   "cell_type": "markdown",
   "metadata": {},
   "source": [
    "### Example for Pandas DataFrame"
   ]
  },
  {
   "cell_type": "code",
   "execution_count": 20,
   "metadata": {},
   "outputs": [],
   "source": [
    "import numpy as np\n",
    "import pandas as pd\n",
    "import concurrent.futures\n",
    "import os"
   ]
  },
  {
   "cell_type": "markdown",
   "metadata": {},
   "source": [
    "#### Vectorized Operations"
   ]
  },
  {
   "cell_type": "code",
   "execution_count": 21,
   "metadata": {},
   "outputs": [
    {
     "data": {
      "text/html": [
       "<div>\n",
       "<style scoped>\n",
       "    .dataframe tbody tr th:only-of-type {\n",
       "        vertical-align: middle;\n",
       "    }\n",
       "\n",
       "    .dataframe tbody tr th {\n",
       "        vertical-align: top;\n",
       "    }\n",
       "\n",
       "    .dataframe thead th {\n",
       "        text-align: right;\n",
       "    }\n",
       "</style>\n",
       "<table border=\"1\" class=\"dataframe\">\n",
       "  <thead>\n",
       "    <tr style=\"text-align: right;\">\n",
       "      <th></th>\n",
       "      <th>a</th>\n",
       "      <th>b</th>\n",
       "      <th>c</th>\n",
       "      <th>d</th>\n",
       "    </tr>\n",
       "  </thead>\n",
       "  <tbody>\n",
       "    <tr>\n",
       "      <th>0</th>\n",
       "      <td>1.169600</td>\n",
       "      <td>0.100671</td>\n",
       "      <td>0.435771</td>\n",
       "      <td>-0.866237</td>\n",
       "    </tr>\n",
       "    <tr>\n",
       "      <th>1</th>\n",
       "      <td>0.140947</td>\n",
       "      <td>-0.423965</td>\n",
       "      <td>-1.677930</td>\n",
       "      <td>1.186315</td>\n",
       "    </tr>\n",
       "    <tr>\n",
       "      <th>2</th>\n",
       "      <td>-0.967017</td>\n",
       "      <td>-2.106315</td>\n",
       "      <td>0.193160</td>\n",
       "      <td>-0.275644</td>\n",
       "    </tr>\n",
       "    <tr>\n",
       "      <th>3</th>\n",
       "      <td>-0.773805</td>\n",
       "      <td>1.496136</td>\n",
       "      <td>-0.092818</td>\n",
       "      <td>0.730723</td>\n",
       "    </tr>\n",
       "    <tr>\n",
       "      <th>4</th>\n",
       "      <td>-0.648026</td>\n",
       "      <td>0.996726</td>\n",
       "      <td>-0.470211</td>\n",
       "      <td>0.416909</td>\n",
       "    </tr>\n",
       "  </tbody>\n",
       "</table>\n",
       "</div>"
      ],
      "text/plain": [
       "          a         b         c         d\n",
       "0  1.169600  0.100671  0.435771 -0.866237\n",
       "1  0.140947 -0.423965 -1.677930  1.186315\n",
       "2 -0.967017 -2.106315  0.193160 -0.275644\n",
       "3 -0.773805  1.496136 -0.092818  0.730723\n",
       "4 -0.648026  0.996726 -0.470211  0.416909"
      ]
     },
     "execution_count": 21,
     "metadata": {},
     "output_type": "execute_result"
    }
   ],
   "source": [
    "n_rows = 100000\n",
    "df = pd.DataFrame({i: np.random.randn(n_rows) for i in ['a', 'b', 'c', 'd']})\n",
    "df.head()"
   ]
  },
  {
   "cell_type": "code",
   "execution_count": 22,
   "metadata": {},
   "outputs": [],
   "source": [
    "def func_on_df(a, b, c, d):\n",
    "    return (a-b)/(c+d)**2"
   ]
  },
  {
   "cell_type": "code",
   "execution_count": 23,
   "metadata": {},
   "outputs": [
    {
     "data": {
      "text/html": [
       "<div>\n",
       "<style scoped>\n",
       "    .dataframe tbody tr th:only-of-type {\n",
       "        vertical-align: middle;\n",
       "    }\n",
       "\n",
       "    .dataframe tbody tr th {\n",
       "        vertical-align: top;\n",
       "    }\n",
       "\n",
       "    .dataframe thead th {\n",
       "        text-align: right;\n",
       "    }\n",
       "</style>\n",
       "<table border=\"1\" class=\"dataframe\">\n",
       "  <thead>\n",
       "    <tr style=\"text-align: right;\">\n",
       "      <th></th>\n",
       "      <th>a</th>\n",
       "      <th>b</th>\n",
       "      <th>c</th>\n",
       "      <th>d</th>\n",
       "      <th>res1</th>\n",
       "    </tr>\n",
       "  </thead>\n",
       "  <tbody>\n",
       "    <tr>\n",
       "      <th>0</th>\n",
       "      <td>1.169600</td>\n",
       "      <td>0.100671</td>\n",
       "      <td>0.435771</td>\n",
       "      <td>-0.866237</td>\n",
       "      <td>5.768629</td>\n",
       "    </tr>\n",
       "    <tr>\n",
       "      <th>1</th>\n",
       "      <td>0.140947</td>\n",
       "      <td>-0.423965</td>\n",
       "      <td>-1.677930</td>\n",
       "      <td>1.186315</td>\n",
       "      <td>2.337387</td>\n",
       "    </tr>\n",
       "    <tr>\n",
       "      <th>2</th>\n",
       "      <td>-0.967017</td>\n",
       "      <td>-2.106315</td>\n",
       "      <td>0.193160</td>\n",
       "      <td>-0.275644</td>\n",
       "      <td>167.454255</td>\n",
       "    </tr>\n",
       "    <tr>\n",
       "      <th>3</th>\n",
       "      <td>-0.773805</td>\n",
       "      <td>1.496136</td>\n",
       "      <td>-0.092818</td>\n",
       "      <td>0.730723</td>\n",
       "      <td>-5.578323</td>\n",
       "    </tr>\n",
       "    <tr>\n",
       "      <th>4</th>\n",
       "      <td>-0.648026</td>\n",
       "      <td>0.996726</td>\n",
       "      <td>-0.470211</td>\n",
       "      <td>0.416909</td>\n",
       "      <td>-578.918974</td>\n",
       "    </tr>\n",
       "  </tbody>\n",
       "</table>\n",
       "</div>"
      ],
      "text/plain": [
       "          a         b         c         d        res1\n",
       "0  1.169600  0.100671  0.435771 -0.866237    5.768629\n",
       "1  0.140947 -0.423965 -1.677930  1.186315    2.337387\n",
       "2 -0.967017 -2.106315  0.193160 -0.275644  167.454255\n",
       "3 -0.773805  1.496136 -0.092818  0.730723   -5.578323\n",
       "4 -0.648026  0.996726 -0.470211  0.416909 -578.918974"
      ]
     },
     "execution_count": 23,
     "metadata": {},
     "output_type": "execute_result"
    }
   ],
   "source": [
    "df['res1'] = func_on_df(df.a, df.b, df.c, df.d) # \"classical\" single process\n",
    "df.head()"
   ]
  },
  {
   "cell_type": "code",
   "execution_count": 24,
   "metadata": {},
   "outputs": [
    {
     "name": "stdout",
     "output_type": "stream",
     "text": [
      "6.97 ms ± 46 µs per loop (mean ± std. dev. of 7 runs, 100 loops each)\n"
     ]
    }
   ],
   "source": [
    "%timeit df['res1'] = func_on_df(df.a, df.b, df.c, df.d)"
   ]
  },
  {
   "cell_type": "code",
   "execution_count": 25,
   "metadata": {},
   "outputs": [
    {
     "data": {
      "text/html": [
       "<div>\n",
       "<style scoped>\n",
       "    .dataframe tbody tr th:only-of-type {\n",
       "        vertical-align: middle;\n",
       "    }\n",
       "\n",
       "    .dataframe tbody tr th {\n",
       "        vertical-align: top;\n",
       "    }\n",
       "\n",
       "    .dataframe thead th {\n",
       "        text-align: right;\n",
       "    }\n",
       "</style>\n",
       "<table border=\"1\" class=\"dataframe\">\n",
       "  <thead>\n",
       "    <tr style=\"text-align: right;\">\n",
       "      <th></th>\n",
       "      <th>a</th>\n",
       "      <th>b</th>\n",
       "      <th>c</th>\n",
       "      <th>d</th>\n",
       "      <th>res1</th>\n",
       "      <th>res1b</th>\n",
       "    </tr>\n",
       "  </thead>\n",
       "  <tbody>\n",
       "    <tr>\n",
       "      <th>0</th>\n",
       "      <td>1.169600</td>\n",
       "      <td>0.100671</td>\n",
       "      <td>0.435771</td>\n",
       "      <td>-0.866237</td>\n",
       "      <td>5.768629</td>\n",
       "      <td>5.768629</td>\n",
       "    </tr>\n",
       "    <tr>\n",
       "      <th>1</th>\n",
       "      <td>0.140947</td>\n",
       "      <td>-0.423965</td>\n",
       "      <td>-1.677930</td>\n",
       "      <td>1.186315</td>\n",
       "      <td>2.337387</td>\n",
       "      <td>2.337387</td>\n",
       "    </tr>\n",
       "    <tr>\n",
       "      <th>2</th>\n",
       "      <td>-0.967017</td>\n",
       "      <td>-2.106315</td>\n",
       "      <td>0.193160</td>\n",
       "      <td>-0.275644</td>\n",
       "      <td>167.454255</td>\n",
       "      <td>167.454255</td>\n",
       "    </tr>\n",
       "    <tr>\n",
       "      <th>3</th>\n",
       "      <td>-0.773805</td>\n",
       "      <td>1.496136</td>\n",
       "      <td>-0.092818</td>\n",
       "      <td>0.730723</td>\n",
       "      <td>-5.578323</td>\n",
       "      <td>-5.578323</td>\n",
       "    </tr>\n",
       "    <tr>\n",
       "      <th>4</th>\n",
       "      <td>-0.648026</td>\n",
       "      <td>0.996726</td>\n",
       "      <td>-0.470211</td>\n",
       "      <td>0.416909</td>\n",
       "      <td>-578.918974</td>\n",
       "      <td>-578.918974</td>\n",
       "    </tr>\n",
       "  </tbody>\n",
       "</table>\n",
       "</div>"
      ],
      "text/plain": [
       "          a         b         c         d        res1       res1b\n",
       "0  1.169600  0.100671  0.435771 -0.866237    5.768629    5.768629\n",
       "1  0.140947 -0.423965 -1.677930  1.186315    2.337387    2.337387\n",
       "2 -0.967017 -2.106315  0.193160 -0.275644  167.454255  167.454255\n",
       "3 -0.773805  1.496136 -0.092818  0.730723   -5.578323   -5.578323\n",
       "4 -0.648026  0.996726 -0.470211  0.416909 -578.918974 -578.918974"
      ]
     },
     "execution_count": 25,
     "metadata": {},
     "output_type": "execute_result"
    }
   ],
   "source": [
    "df['res1b'] = df.apply(lambda x: func_on_df(x.a, x.b, x.c, x.d), axis=1)\n",
    "df.head()"
   ]
  },
  {
   "cell_type": "code",
   "execution_count": 26,
   "metadata": {},
   "outputs": [
    {
     "name": "stdout",
     "output_type": "stream",
     "text": [
      "17.3 s ± 23.2 ms per loop (mean ± std. dev. of 7 runs, 1 loop each)\n"
     ]
    }
   ],
   "source": [
    "%timeit df['res1b'] = df.apply(lambda x: func_on_df(x.a, x.b, x.c, x.d), axis=1)"
   ]
  },
  {
   "cell_type": "markdown",
   "metadata": {},
   "source": [
    "The vectorized function working on numpy arrays is quite fast, although it uses only a single core. The row-wise apply function is over 2000 times slower.\n",
    "\n",
    "What about multiprocessing?"
   ]
  },
  {
   "cell_type": "code",
   "execution_count": 27,
   "metadata": {},
   "outputs": [
    {
     "data": {
      "text/plain": [
       "25000"
      ]
     },
     "execution_count": 27,
     "metadata": {},
     "output_type": "execute_result"
    }
   ],
   "source": [
    "cpus = os.cpu_count()\n",
    "chunksize = int(n_rows / cpus)\n",
    "chunksize"
   ]
  },
  {
   "cell_type": "code",
   "execution_count": 28,
   "metadata": {},
   "outputs": [
    {
     "data": {
      "text/html": [
       "<div>\n",
       "<style scoped>\n",
       "    .dataframe tbody tr th:only-of-type {\n",
       "        vertical-align: middle;\n",
       "    }\n",
       "\n",
       "    .dataframe tbody tr th {\n",
       "        vertical-align: top;\n",
       "    }\n",
       "\n",
       "    .dataframe thead th {\n",
       "        text-align: right;\n",
       "    }\n",
       "</style>\n",
       "<table border=\"1\" class=\"dataframe\">\n",
       "  <thead>\n",
       "    <tr style=\"text-align: right;\">\n",
       "      <th></th>\n",
       "      <th>a</th>\n",
       "      <th>b</th>\n",
       "      <th>c</th>\n",
       "      <th>d</th>\n",
       "      <th>res1</th>\n",
       "      <th>res1b</th>\n",
       "      <th>res2</th>\n",
       "    </tr>\n",
       "  </thead>\n",
       "  <tbody>\n",
       "    <tr>\n",
       "      <th>0</th>\n",
       "      <td>1.169600</td>\n",
       "      <td>0.100671</td>\n",
       "      <td>0.435771</td>\n",
       "      <td>-0.866237</td>\n",
       "      <td>5.768629</td>\n",
       "      <td>5.768629</td>\n",
       "      <td>5.768629</td>\n",
       "    </tr>\n",
       "    <tr>\n",
       "      <th>1</th>\n",
       "      <td>0.140947</td>\n",
       "      <td>-0.423965</td>\n",
       "      <td>-1.677930</td>\n",
       "      <td>1.186315</td>\n",
       "      <td>2.337387</td>\n",
       "      <td>2.337387</td>\n",
       "      <td>2.337387</td>\n",
       "    </tr>\n",
       "    <tr>\n",
       "      <th>2</th>\n",
       "      <td>-0.967017</td>\n",
       "      <td>-2.106315</td>\n",
       "      <td>0.193160</td>\n",
       "      <td>-0.275644</td>\n",
       "      <td>167.454255</td>\n",
       "      <td>167.454255</td>\n",
       "      <td>167.454255</td>\n",
       "    </tr>\n",
       "    <tr>\n",
       "      <th>3</th>\n",
       "      <td>-0.773805</td>\n",
       "      <td>1.496136</td>\n",
       "      <td>-0.092818</td>\n",
       "      <td>0.730723</td>\n",
       "      <td>-5.578323</td>\n",
       "      <td>-5.578323</td>\n",
       "      <td>-5.578323</td>\n",
       "    </tr>\n",
       "    <tr>\n",
       "      <th>4</th>\n",
       "      <td>-0.648026</td>\n",
       "      <td>0.996726</td>\n",
       "      <td>-0.470211</td>\n",
       "      <td>0.416909</td>\n",
       "      <td>-578.918974</td>\n",
       "      <td>-578.918974</td>\n",
       "      <td>-578.918974</td>\n",
       "    </tr>\n",
       "  </tbody>\n",
       "</table>\n",
       "</div>"
      ],
      "text/plain": [
       "          a         b         c         d        res1       res1b        res2\n",
       "0  1.169600  0.100671  0.435771 -0.866237    5.768629    5.768629    5.768629\n",
       "1  0.140947 -0.423965 -1.677930  1.186315    2.337387    2.337387    2.337387\n",
       "2 -0.967017 -2.106315  0.193160 -0.275644  167.454255  167.454255  167.454255\n",
       "3 -0.773805  1.496136 -0.092818  0.730723   -5.578323   -5.578323   -5.578323\n",
       "4 -0.648026  0.996726 -0.470211  0.416909 -578.918974 -578.918974 -578.918974"
      ]
     },
     "execution_count": 28,
     "metadata": {},
     "output_type": "execute_result"
    }
   ],
   "source": [
    "with concurrent.futures.ProcessPoolExecutor(max_workers=cpus) as executor:\n",
    "    df['res2'] = pd.Series(executor.map(\n",
    "        func_on_df, df.a, df.b, df.c, df.d, chunksize=chunksize))\n",
    "df.head()"
   ]
  },
  {
   "cell_type": "code",
   "execution_count": 29,
   "metadata": {},
   "outputs": [
    {
     "name": "stdout",
     "output_type": "stream",
     "text": [
      "276 ms ± 7.06 ms per loop (mean ± std. dev. of 7 runs, 1 loop each)\n"
     ]
    }
   ],
   "source": [
    "%%timeit\n",
    "with concurrent.futures.ProcessPoolExecutor(max_workers=cpus) as executor:\n",
    "    df['res2'] = list(executor.map(\n",
    "        func_on_df, df.a, df.b, df.c, df.d, chunksize=chunksize))"
   ]
  },
  {
   "cell_type": "markdown",
   "metadata": {},
   "source": [
    "Executing vectorized operations on Pandas DataFrames in parallel on 4 cores is actually much slower than executing it natively single-core vectorized on a numpy array. However, it is much faster than row-wise apply."
   ]
  },
  {
   "cell_type": "markdown",
   "metadata": {},
   "source": [
    "#### Non-Vectorized Function"
   ]
  },
  {
   "cell_type": "code",
   "execution_count": 30,
   "metadata": {},
   "outputs": [],
   "source": [
    "import hashlib"
   ]
  },
  {
   "cell_type": "code",
   "execution_count": 31,
   "metadata": {},
   "outputs": [],
   "source": [
    "def calc_hash(*args):\n",
    "    str_args = (str(arg) for arg in args)\n",
    "    return hashlib.md5('_'.join(str_args).encode()).hexdigest()"
   ]
  },
  {
   "cell_type": "code",
   "execution_count": 32,
   "metadata": {},
   "outputs": [
    {
     "data": {
      "text/plain": [
       "'de8b962de5f8b353cdc9cc1fc89f0b65'"
      ]
     },
     "execution_count": 32,
     "metadata": {},
     "output_type": "execute_result"
    }
   ],
   "source": [
    "calc_hash(42, 2.233, 23, 'hello')"
   ]
  },
  {
   "cell_type": "markdown",
   "metadata": {},
   "source": [
    "Applying the hash-function row-wise to the DataFrame is rather slow:"
   ]
  },
  {
   "cell_type": "code",
   "execution_count": 33,
   "metadata": {},
   "outputs": [
    {
     "data": {
      "text/html": [
       "<div>\n",
       "<style scoped>\n",
       "    .dataframe tbody tr th:only-of-type {\n",
       "        vertical-align: middle;\n",
       "    }\n",
       "\n",
       "    .dataframe tbody tr th {\n",
       "        vertical-align: top;\n",
       "    }\n",
       "\n",
       "    .dataframe thead th {\n",
       "        text-align: right;\n",
       "    }\n",
       "</style>\n",
       "<table border=\"1\" class=\"dataframe\">\n",
       "  <thead>\n",
       "    <tr style=\"text-align: right;\">\n",
       "      <th></th>\n",
       "      <th>a</th>\n",
       "      <th>b</th>\n",
       "      <th>c</th>\n",
       "      <th>d</th>\n",
       "      <th>res1</th>\n",
       "      <th>res1b</th>\n",
       "      <th>res2</th>\n",
       "      <th>hash</th>\n",
       "    </tr>\n",
       "  </thead>\n",
       "  <tbody>\n",
       "    <tr>\n",
       "      <th>0</th>\n",
       "      <td>1.169600</td>\n",
       "      <td>0.100671</td>\n",
       "      <td>0.435771</td>\n",
       "      <td>-0.866237</td>\n",
       "      <td>5.768629</td>\n",
       "      <td>5.768629</td>\n",
       "      <td>5.768629</td>\n",
       "      <td>5c2ae2b9a14b690d77aef13a454dede7</td>\n",
       "    </tr>\n",
       "    <tr>\n",
       "      <th>1</th>\n",
       "      <td>0.140947</td>\n",
       "      <td>-0.423965</td>\n",
       "      <td>-1.677930</td>\n",
       "      <td>1.186315</td>\n",
       "      <td>2.337387</td>\n",
       "      <td>2.337387</td>\n",
       "      <td>2.337387</td>\n",
       "      <td>bdbc62e86cd028a16168e2d82dd8476e</td>\n",
       "    </tr>\n",
       "    <tr>\n",
       "      <th>2</th>\n",
       "      <td>-0.967017</td>\n",
       "      <td>-2.106315</td>\n",
       "      <td>0.193160</td>\n",
       "      <td>-0.275644</td>\n",
       "      <td>167.454255</td>\n",
       "      <td>167.454255</td>\n",
       "      <td>167.454255</td>\n",
       "      <td>66fec3541d4d2a356a5d0a124ad42a89</td>\n",
       "    </tr>\n",
       "    <tr>\n",
       "      <th>3</th>\n",
       "      <td>-0.773805</td>\n",
       "      <td>1.496136</td>\n",
       "      <td>-0.092818</td>\n",
       "      <td>0.730723</td>\n",
       "      <td>-5.578323</td>\n",
       "      <td>-5.578323</td>\n",
       "      <td>-5.578323</td>\n",
       "      <td>47396abdb6f71c2a4bbe4fb83f307dd8</td>\n",
       "    </tr>\n",
       "    <tr>\n",
       "      <th>4</th>\n",
       "      <td>-0.648026</td>\n",
       "      <td>0.996726</td>\n",
       "      <td>-0.470211</td>\n",
       "      <td>0.416909</td>\n",
       "      <td>-578.918974</td>\n",
       "      <td>-578.918974</td>\n",
       "      <td>-578.918974</td>\n",
       "      <td>d91da602d10bb8f42accd1562cc0cff2</td>\n",
       "    </tr>\n",
       "  </tbody>\n",
       "</table>\n",
       "</div>"
      ],
      "text/plain": [
       "          a         b         c         d        res1       res1b        res2  \\\n",
       "0  1.169600  0.100671  0.435771 -0.866237    5.768629    5.768629    5.768629   \n",
       "1  0.140947 -0.423965 -1.677930  1.186315    2.337387    2.337387    2.337387   \n",
       "2 -0.967017 -2.106315  0.193160 -0.275644  167.454255  167.454255  167.454255   \n",
       "3 -0.773805  1.496136 -0.092818  0.730723   -5.578323   -5.578323   -5.578323   \n",
       "4 -0.648026  0.996726 -0.470211  0.416909 -578.918974 -578.918974 -578.918974   \n",
       "\n",
       "                               hash  \n",
       "0  5c2ae2b9a14b690d77aef13a454dede7  \n",
       "1  bdbc62e86cd028a16168e2d82dd8476e  \n",
       "2  66fec3541d4d2a356a5d0a124ad42a89  \n",
       "3  47396abdb6f71c2a4bbe4fb83f307dd8  \n",
       "4  d91da602d10bb8f42accd1562cc0cff2  "
      ]
     },
     "execution_count": 33,
     "metadata": {},
     "output_type": "execute_result"
    }
   ],
   "source": [
    "df['hash'] = df.apply(lambda x: calc_hash(x.a, x.b), axis=1)\n",
    "df.head()"
   ]
  },
  {
   "cell_type": "code",
   "execution_count": 34,
   "metadata": {},
   "outputs": [
    {
     "name": "stdout",
     "output_type": "stream",
     "text": [
      "10.9 s ± 20.7 ms per loop (mean ± std. dev. of 7 runs, 1 loop each)\n"
     ]
    }
   ],
   "source": [
    "%timeit df['hash'] = df.apply(lambda x: calc_hash(x.a, x.b), axis=1)"
   ]
  },
  {
   "cell_type": "markdown",
   "metadata": {},
   "source": []
  },
  {
   "cell_type": "code",
   "execution_count": 36,
   "metadata": {},
   "outputs": [
    {
     "name": "stdout",
     "output_type": "stream",
     "text": [
      "8.99 ms ± 10.2 µs per loop (mean ± std. dev. of 7 runs, 100 loops each)\n"
     ]
    }
   ],
   "source": [
    "%timeit df['hash1b'] = calc_hash(df.a, df.b)"
   ]
  },
  {
   "cell_type": "code",
   "execution_count": 37,
   "metadata": {},
   "outputs": [
    {
     "data": {
      "text/html": [
       "<div>\n",
       "<style scoped>\n",
       "    .dataframe tbody tr th:only-of-type {\n",
       "        vertical-align: middle;\n",
       "    }\n",
       "\n",
       "    .dataframe tbody tr th {\n",
       "        vertical-align: top;\n",
       "    }\n",
       "\n",
       "    .dataframe thead th {\n",
       "        text-align: right;\n",
       "    }\n",
       "</style>\n",
       "<table border=\"1\" class=\"dataframe\">\n",
       "  <thead>\n",
       "    <tr style=\"text-align: right;\">\n",
       "      <th></th>\n",
       "      <th>a</th>\n",
       "      <th>b</th>\n",
       "      <th>c</th>\n",
       "      <th>d</th>\n",
       "      <th>res1</th>\n",
       "      <th>res1b</th>\n",
       "      <th>res2</th>\n",
       "      <th>hash</th>\n",
       "      <th>hash1b</th>\n",
       "      <th>hash2</th>\n",
       "    </tr>\n",
       "  </thead>\n",
       "  <tbody>\n",
       "    <tr>\n",
       "      <th>0</th>\n",
       "      <td>1.169600</td>\n",
       "      <td>0.100671</td>\n",
       "      <td>0.435771</td>\n",
       "      <td>-0.866237</td>\n",
       "      <td>5.768629</td>\n",
       "      <td>5.768629</td>\n",
       "      <td>5.768629</td>\n",
       "      <td>5c2ae2b9a14b690d77aef13a454dede7</td>\n",
       "      <td>1961a528354a86a84a214d674af8a4a1</td>\n",
       "      <td>5c2ae2b9a14b690d77aef13a454dede7</td>\n",
       "    </tr>\n",
       "    <tr>\n",
       "      <th>1</th>\n",
       "      <td>0.140947</td>\n",
       "      <td>-0.423965</td>\n",
       "      <td>-1.677930</td>\n",
       "      <td>1.186315</td>\n",
       "      <td>2.337387</td>\n",
       "      <td>2.337387</td>\n",
       "      <td>2.337387</td>\n",
       "      <td>bdbc62e86cd028a16168e2d82dd8476e</td>\n",
       "      <td>1961a528354a86a84a214d674af8a4a1</td>\n",
       "      <td>bdbc62e86cd028a16168e2d82dd8476e</td>\n",
       "    </tr>\n",
       "    <tr>\n",
       "      <th>2</th>\n",
       "      <td>-0.967017</td>\n",
       "      <td>-2.106315</td>\n",
       "      <td>0.193160</td>\n",
       "      <td>-0.275644</td>\n",
       "      <td>167.454255</td>\n",
       "      <td>167.454255</td>\n",
       "      <td>167.454255</td>\n",
       "      <td>66fec3541d4d2a356a5d0a124ad42a89</td>\n",
       "      <td>1961a528354a86a84a214d674af8a4a1</td>\n",
       "      <td>66fec3541d4d2a356a5d0a124ad42a89</td>\n",
       "    </tr>\n",
       "    <tr>\n",
       "      <th>3</th>\n",
       "      <td>-0.773805</td>\n",
       "      <td>1.496136</td>\n",
       "      <td>-0.092818</td>\n",
       "      <td>0.730723</td>\n",
       "      <td>-5.578323</td>\n",
       "      <td>-5.578323</td>\n",
       "      <td>-5.578323</td>\n",
       "      <td>47396abdb6f71c2a4bbe4fb83f307dd8</td>\n",
       "      <td>1961a528354a86a84a214d674af8a4a1</td>\n",
       "      <td>47396abdb6f71c2a4bbe4fb83f307dd8</td>\n",
       "    </tr>\n",
       "    <tr>\n",
       "      <th>4</th>\n",
       "      <td>-0.648026</td>\n",
       "      <td>0.996726</td>\n",
       "      <td>-0.470211</td>\n",
       "      <td>0.416909</td>\n",
       "      <td>-578.918974</td>\n",
       "      <td>-578.918974</td>\n",
       "      <td>-578.918974</td>\n",
       "      <td>d91da602d10bb8f42accd1562cc0cff2</td>\n",
       "      <td>1961a528354a86a84a214d674af8a4a1</td>\n",
       "      <td>d91da602d10bb8f42accd1562cc0cff2</td>\n",
       "    </tr>\n",
       "  </tbody>\n",
       "</table>\n",
       "</div>"
      ],
      "text/plain": [
       "          a         b         c         d        res1       res1b        res2  \\\n",
       "0  1.169600  0.100671  0.435771 -0.866237    5.768629    5.768629    5.768629   \n",
       "1  0.140947 -0.423965 -1.677930  1.186315    2.337387    2.337387    2.337387   \n",
       "2 -0.967017 -2.106315  0.193160 -0.275644  167.454255  167.454255  167.454255   \n",
       "3 -0.773805  1.496136 -0.092818  0.730723   -5.578323   -5.578323   -5.578323   \n",
       "4 -0.648026  0.996726 -0.470211  0.416909 -578.918974 -578.918974 -578.918974   \n",
       "\n",
       "                               hash                            hash1b  \\\n",
       "0  5c2ae2b9a14b690d77aef13a454dede7  1961a528354a86a84a214d674af8a4a1   \n",
       "1  bdbc62e86cd028a16168e2d82dd8476e  1961a528354a86a84a214d674af8a4a1   \n",
       "2  66fec3541d4d2a356a5d0a124ad42a89  1961a528354a86a84a214d674af8a4a1   \n",
       "3  47396abdb6f71c2a4bbe4fb83f307dd8  1961a528354a86a84a214d674af8a4a1   \n",
       "4  d91da602d10bb8f42accd1562cc0cff2  1961a528354a86a84a214d674af8a4a1   \n",
       "\n",
       "                              hash2  \n",
       "0  5c2ae2b9a14b690d77aef13a454dede7  \n",
       "1  bdbc62e86cd028a16168e2d82dd8476e  \n",
       "2  66fec3541d4d2a356a5d0a124ad42a89  \n",
       "3  47396abdb6f71c2a4bbe4fb83f307dd8  \n",
       "4  d91da602d10bb8f42accd1562cc0cff2  "
      ]
     },
     "execution_count": 37,
     "metadata": {},
     "output_type": "execute_result"
    }
   ],
   "source": [
    "with concurrent.futures.ProcessPoolExecutor(max_workers=cpus) as executor:\n",
    "    df['hash2'] = pd.Series(executor.map(\n",
    "        calc_hash, df.a, df.b, chunksize=int(n_rows/cpus)))\n",
    "df.head()"
   ]
  },
  {
   "cell_type": "code",
   "execution_count": 39,
   "metadata": {},
   "outputs": [
    {
     "data": {
      "text/plain": [
       "True"
      ]
     },
     "execution_count": 39,
     "metadata": {},
     "output_type": "execute_result"
    }
   ],
   "source": [
    "all(df.hash == df.hash2)"
   ]
  },
  {
   "cell_type": "code",
   "execution_count": 38,
   "metadata": {},
   "outputs": [
    {
     "name": "stdout",
     "output_type": "stream",
     "text": [
      "509 ms ± 12.1 ms per loop (mean ± std. dev. of 7 runs, 1 loop each)\n"
     ]
    }
   ],
   "source": [
    "%%timeit\n",
    "with concurrent.futures.ProcessPoolExecutor(max_workers=cpus) as executor:\n",
    "    df['hash2'] = pd.Series(executor.map(\n",
    "        calc_hash, df.a, df.b, chunksize=int(n_rows/cpus)))"
   ]
  },
  {
   "cell_type": "markdown",
   "metadata": {},
   "source": [
    "In this case, there is a significant speed-up using multiprocessing.\n",
    "\n",
    "Open: why a factor of 10 and not 4???"
   ]
  }
 ],
 "metadata": {
  "kernelspec": {
   "display_name": "Python 3",
   "language": "python",
   "name": "python3"
  },
  "language_info": {
   "codemirror_mode": {
    "name": "ipython",
    "version": 3
   },
   "file_extension": ".py",
   "mimetype": "text/x-python",
   "name": "python",
   "nbconvert_exporter": "python",
   "pygments_lexer": "ipython3",
   "version": "3.7.3"
  }
 },
 "nbformat": 4,
 "nbformat_minor": 4
}

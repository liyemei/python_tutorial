{
 "cells": [
  {
   "cell_type": "code",
   "execution_count": 1,
   "metadata": {},
   "outputs": [],
   "source": [
    "import numpy as np\n",
    "from numba import njit\n",
    "from scipy.stats.mstats import mquantiles \n",
    "import concurrent.futures as fut"
   ]
  },
  {
   "cell_type": "markdown",
   "metadata": {},
   "source": [
    "# Optimizing Numpy Performance - Example VaR Calculation\n",
    "\n",
    "## VaR"
   ]
  },
  {
   "cell_type": "code",
   "execution_count": 2,
   "metadata": {},
   "outputs": [],
   "source": [
    "pl = np.random.rand(5000, 150)"
   ]
  },
  {
   "cell_type": "code",
   "execution_count": 3,
   "metadata": {},
   "outputs": [],
   "source": [
    "cl = 1 - 0.95"
   ]
  },
  {
   "cell_type": "code",
   "execution_count": 4,
   "metadata": {},
   "outputs": [],
   "source": [
    "def quan(pl):\n",
    "    return mquantiles(pl, cl, alphap=0, betap=0, axis=1)"
   ]
  },
  {
   "cell_type": "code",
   "execution_count": 5,
   "metadata": {},
   "outputs": [
    {
     "name": "stdout",
     "output_type": "stream",
     "text": [
      "419 ms ± 66.9 ms per loop (mean ± std. dev. of 7 runs, 1 loop each)\n"
     ]
    }
   ],
   "source": [
    "%timeit var = quan(pl)"
   ]
  },
  {
   "cell_type": "code",
   "execution_count": 6,
   "metadata": {},
   "outputs": [],
   "source": [
    "var = quan(pl)"
   ]
  },
  {
   "cell_type": "code",
   "execution_count": 7,
   "metadata": {},
   "outputs": [
    {
     "data": {
      "text/plain": [
       "(5000, 1)"
      ]
     },
     "execution_count": 7,
     "metadata": {},
     "output_type": "execute_result"
    }
   ],
   "source": [
    "var.shape"
   ]
  },
  {
   "cell_type": "code",
   "execution_count": 8,
   "metadata": {},
   "outputs": [
    {
     "name": "stdout",
     "output_type": "stream",
     "text": [
      "Wall time: 3.84 s\n"
     ]
    }
   ],
   "source": [
    "%%time\n",
    "pl_gen = (np.random.rand(5000, 150) for i in range(10))\n",
    "res = [quan(pl) for pl in pl_gen]"
   ]
  },
  {
   "cell_type": "raw",
   "metadata": {},
   "source": [
    "%%time\n",
    "pl_gen = (np.random.rand(5000, 150) for i in range(10))\n",
    "with fut.ProcessPoolExecutor() as ex:\n",
    "    futures = [ex.submit(quan, pl) for pl in pl_gen]\n",
    "    res = [future.result() for future in futures]"
   ]
  },
  {
   "cell_type": "markdown",
   "metadata": {},
   "source": [
    "## Subwindow VaR"
   ]
  },
  {
   "cell_type": "markdown",
   "metadata": {},
   "source": [
    "### Sinlge Trade"
   ]
  },
  {
   "cell_type": "code",
   "execution_count": 9,
   "metadata": {},
   "outputs": [],
   "source": [
    "pl1 = pl[0]"
   ]
  },
  {
   "cell_type": "code",
   "execution_count": 10,
   "metadata": {},
   "outputs": [],
   "source": [
    "window = 60"
   ]
  },
  {
   "cell_type": "code",
   "execution_count": 11,
   "metadata": {},
   "outputs": [
    {
     "name": "stdout",
     "output_type": "stream",
     "text": [
      "4.04 ms ± 30.5 µs per loop (mean ± std. dev. of 7 runs, 100 loops each)\n"
     ]
    }
   ],
   "source": [
    "%%timeit\n",
    "cba_var1 = []\n",
    "for i in range(len(pl1) - window + 1):\n",
    "    sw = pl1[i:i+window]\n",
    "    cba_var1.append(mquantiles(sw, cl, 0, 0)[0])"
   ]
  },
  {
   "cell_type": "markdown",
   "metadata": {},
   "source": [
    "Pure Python approach for creating subwindows"
   ]
  },
  {
   "cell_type": "code",
   "execution_count": 12,
   "metadata": {},
   "outputs": [],
   "source": [
    "def rolling_window(a, window):\n",
    "    shape = a.shape[:-1] + (a.shape[-1] - window + 1, window)\n",
    "    strides = a.strides + (a.strides[-1],)\n",
    "    return np.lib.stride_tricks.as_strided(a, shape=shape, strides=strides)"
   ]
  },
  {
   "cell_type": "code",
   "execution_count": 13,
   "metadata": {},
   "outputs": [
    {
     "name": "stdout",
     "output_type": "stream",
     "text": [
      "8.29 µs ± 51.3 ns per loop (mean ± std. dev. of 7 runs, 100000 loops each)\n"
     ]
    }
   ],
   "source": [
    "%timeit rolling_window(pl1, window)"
   ]
  },
  {
   "cell_type": "code",
   "execution_count": 14,
   "metadata": {},
   "outputs": [
    {
     "name": "stdout",
     "output_type": "stream",
     "text": [
      "6.78 ms ± 607 µs per loop (mean ± std. dev. of 7 runs, 100 loops each)\n"
     ]
    }
   ],
   "source": [
    "%timeit cba_var2 = quan(rolling_window(pl1, window))"
   ]
  },
  {
   "cell_type": "markdown",
   "metadata": {},
   "source": [
    "Vectorized subwindow creation is actually slower, not faster here."
   ]
  },
  {
   "cell_type": "code",
   "execution_count": 15,
   "metadata": {},
   "outputs": [],
   "source": [
    "@njit\n",
    "def calc_cba(pl, window):\n",
    "    nr_subwindows = len(pl) - window + 1\n",
    "    cba_pls = np.zeros((nr_subwindows, window))\n",
    "    for i in range(nr_subwindows):\n",
    "        cba_pls[i, :] = pl[i:i+window]\n",
    "    return cba_pls"
   ]
  },
  {
   "cell_type": "code",
   "execution_count": 16,
   "metadata": {},
   "outputs": [
    {
     "name": "stdout",
     "output_type": "stream",
     "text": [
      "The slowest run took 4.16 times longer than the fastest. This could mean that an intermediate result is being cached.\n",
      "9 µs ± 6.7 µs per loop (mean ± std. dev. of 7 runs, 1 loop each)\n"
     ]
    }
   ],
   "source": [
    "%timeit cba_pls = calc_cba(pl1, window)"
   ]
  },
  {
   "cell_type": "code",
   "execution_count": 17,
   "metadata": {},
   "outputs": [],
   "source": [
    "cba_pls = calc_cba(pl1, window)"
   ]
  },
  {
   "cell_type": "code",
   "execution_count": 18,
   "metadata": {},
   "outputs": [
    {
     "data": {
      "text/plain": [
       "(91, 60)"
      ]
     },
     "execution_count": 18,
     "metadata": {},
     "output_type": "execute_result"
    }
   ],
   "source": [
    "cba_pls.shape"
   ]
  },
  {
   "cell_type": "code",
   "execution_count": 19,
   "metadata": {},
   "outputs": [
    {
     "name": "stdout",
     "output_type": "stream",
     "text": [
      "7.26 ms ± 1.06 ms per loop (mean ± std. dev. of 7 runs, 100 loops each)\n"
     ]
    }
   ],
   "source": [
    "%timeit cba_var3 = quan(cba_pls)"
   ]
  },
  {
   "cell_type": "markdown",
   "metadata": {},
   "source": [
    "Subwindow creation with Numba is also not faster."
   ]
  },
  {
   "cell_type": "markdown",
   "metadata": {},
   "source": [
    "### All Trades"
   ]
  },
  {
   "cell_type": "code",
   "execution_count": 20,
   "metadata": {},
   "outputs": [],
   "source": [
    "@njit\n",
    "def calc_cba2(pls, window):\n",
    "    nr_pl = pls.shape[0]\n",
    "    nr_subwindows = len(pls[0, :]) - window + 1\n",
    "    cba_pls = np.zeros((nr_pl * nr_subwindows, window))\n",
    "    for j in range(nr_pl):\n",
    "        pl = pls[j, :]\n",
    "        for i in range(nr_subwindows):\n",
    "            cba_pls[i + j*nr_subwindows, :] = pl[i:i+window]\n",
    "    return cba_pls"
   ]
  },
  {
   "cell_type": "code",
   "execution_count": 42,
   "metadata": {},
   "outputs": [
    {
     "name": "stdout",
     "output_type": "stream",
     "text": [
      "180 ms ± 4.75 ms per loop (mean ± std. dev. of 7 runs, 10 loops each)\n"
     ]
    }
   ],
   "source": [
    "%timeit cba_pls2 = calc_cba2(pl, window)"
   ]
  },
  {
   "cell_type": "code",
   "execution_count": 43,
   "metadata": {},
   "outputs": [],
   "source": [
    "cba_pls2 = calc_cba2(pl, window)"
   ]
  },
  {
   "cell_type": "markdown",
   "metadata": {},
   "source": [
    "Creating subwindows is actually not the bottleneck, even pure Python. Using Numba gives a further speedup."
   ]
  },
  {
   "cell_type": "code",
   "execution_count": 30,
   "metadata": {},
   "outputs": [
    {
     "name": "stdout",
     "output_type": "stream",
     "text": [
      "Wall time: 34.2 s\n"
     ]
    }
   ],
   "source": [
    "%time cba_var4 = quan(cba_pls2)"
   ]
  },
  {
   "cell_type": "markdown",
   "metadata": {},
   "source": [
    "Quantile calculation using Scipy mquantiles takes a very long time for a large number of PL vectors."
   ]
  },
  {
   "cell_type": "raw",
   "metadata": {},
   "source": [
    "def quant_par(pl, chunksize=1000):\n",
    "    with fut.ProcessPoolExecutor() as ex:\n",
    "        futures = []\n",
    "        for i in range(pl.shape[0] // chunksize):\n",
    "            chunk = pl[i*chunksize:(i+1)*chunksize, :]\n",
    "            futures.append(ex.submit(quan, chunk))\n",
    "        res = np.concatenate([future.result() for future in futures])        "
   ]
  },
  {
   "cell_type": "raw",
   "metadata": {},
   "source": [
    "%%time \n",
    "cba_pls2 = calc_cba2(pl, window)\n",
    "cba_va5 = quant_par(cba_pls2)"
   ]
  },
  {
   "cell_type": "code",
   "execution_count": 23,
   "metadata": {},
   "outputs": [
    {
     "data": {
      "text/plain": [
       "(455000, 60)"
      ]
     },
     "execution_count": 23,
     "metadata": {},
     "output_type": "execute_result"
    }
   ],
   "source": [
    "cba_pls2.shape"
   ]
  },
  {
   "cell_type": "markdown",
   "metadata": {},
   "source": [
    "Parallelization gives the expected speedup.\n",
    "\n",
    "But could we get faster?"
   ]
  },
  {
   "cell_type": "markdown",
   "metadata": {},
   "source": [
    "## Reimplementation of SciPy Quantile Function"
   ]
  },
  {
   "cell_type": "code",
   "execution_count": 24,
   "metadata": {},
   "outputs": [
    {
     "name": "stdout",
     "output_type": "stream",
     "text": [
      "91.6 ms ± 2.8 ms per loop (mean ± std. dev. of 7 runs, 1 loop each)\n"
     ]
    }
   ],
   "source": [
    "%timeit cba_pls2.sort()"
   ]
  },
  {
   "cell_type": "markdown",
   "metadata": {},
   "source": [
    "Sorting the array is actually quite fast. The remaining part of quantile calculation are essentially just vector operations, which should be fast, too."
   ]
  },
  {
   "cell_type": "code",
   "execution_count": 33,
   "metadata": {},
   "outputs": [],
   "source": [
    "def quantile(data: np.ndarray, p: float, alphap: float = 0, betap: float = 0) -> np.ndarray:\n",
    "    \"\"\"\n",
    "    More performant (but a little less general) re-implementation of scipy.stats.mstats.mquantiles.\n",
    "    Performance gain compared to mquantiles is about a factor of 200 !\n",
    "    Works on numpy arrays (not masked arrays) and supports calculation of a single quantile only.\n",
    "    :param data: 2d input array. The 1st axis contain different series, for which the quantile is calculated\n",
    "    along the 2nd axis\n",
    "    :param p: quantile (for VaR: 1 - confidence level)\n",
    "    :param alphap: alpha parameter of quantile function\n",
    "    :param betap: beta parameter of quantile function\n",
    "    returns 1d array of quantiles\n",
    "    \"\"\"\n",
    "    assert data.ndim == 2\n",
    "    n = data.shape[1]\n",
    "    assert n > 1\n",
    "    data.sort()\n",
    "    m = alphap + p * (1. - alphap - betap)\n",
    "    aleph = (n * p + m)\n",
    "    k = min(max(int(aleph), 1), n - 1)\n",
    "    gamma = min(max(aleph - k, 0), 1)\n",
    "    return (1. - gamma) * data[:, (k - 1)] + gamma * data[:, k]"
   ]
  },
  {
   "cell_type": "code",
   "execution_count": 40,
   "metadata": {},
   "outputs": [
    {
     "name": "stdout",
     "output_type": "stream",
     "text": [
      "111 ms ± 3.99 ms per loop (mean ± std. dev. of 7 runs, 10 loops each)\n"
     ]
    }
   ],
   "source": [
    "%timeit cba_var6 = quantile(cba_pls2, cl)"
   ]
  },
  {
   "cell_type": "code",
   "execution_count": 41,
   "metadata": {},
   "outputs": [],
   "source": [
    "cba_var6 = quantile(cba_pls2, cl)"
   ]
  },
  {
   "cell_type": "code",
   "execution_count": 39,
   "metadata": {},
   "outputs": [
    {
     "data": {
      "text/plain": [
       "True"
      ]
     },
     "execution_count": 39,
     "metadata": {},
     "output_type": "execute_result"
    }
   ],
   "source": [
    "all(cba_var4.compressed() == cba_var6)"
   ]
  },
  {
   "cell_type": "markdown",
   "metadata": {},
   "source": [
    "The new implementation is a factor of 200 faster while getting exactly the same results!"
   ]
  }
 ],
 "metadata": {
  "kernelspec": {
   "display_name": "Python 3",
   "language": "python",
   "name": "python3"
  },
  "language_info": {
   "codemirror_mode": {
    "name": "ipython",
    "version": 3
   },
   "file_extension": ".py",
   "mimetype": "text/x-python",
   "name": "python",
   "nbconvert_exporter": "python",
   "pygments_lexer": "ipython3",
   "version": "3.7.4"
  }
 },
 "nbformat": 4,
 "nbformat_minor": 4
}

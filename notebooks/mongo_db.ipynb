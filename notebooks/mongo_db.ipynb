{
 "cells": [
  {
   "cell_type": "markdown",
   "metadata": {},
   "source": [
    "# MongoDB\n",
    "\n",
    "MongoDB is a no-sql database for storage of JSON-style data (corresponding to dictionaries and lists in Python).\n",
    "\n",
    "https://docs.mongodb.com/manual/tutorial/getting-started/\n",
    "\n",
    "In contrast to relational databases, MongoDB documents (corresponding to table entries in relational databases) in collections (corresponding to tables) have no fixed structure. However, it makes sense to define all documents in one collection as similar as possible to make queries, etc. on them easier.\n",
    "\n",
    "MongoDB works both on single machines and distributed along multiple clusters. Here, distribution is however not discussed.\n",
    "\n",
    "This tutorial requires a running MongoDB server, preferably in a Docker container started using the given docker-compose file."
   ]
  },
  {
   "cell_type": "code",
   "execution_count": 2,
   "metadata": {},
   "outputs": [
    {
     "name": "stdout",
     "output_type": "stream",
     "text": [
      "Collecting package metadata (current_repodata.json): done\n",
      "Solving environment: done\n",
      "\n",
      "## Package Plan ##\n",
      "\n",
      "  environment location: /opt/conda\n",
      "\n",
      "  added / updated specs:\n",
      "    - mongoengine\n",
      "    - pymongo\n",
      "\n",
      "\n",
      "The following packages will be downloaded:\n",
      "\n",
      "    package                    |            build\n",
      "    ---------------------------|-----------------\n",
      "    mongoengine-0.18.2         |           py37_0         157 KB  conda-forge\n",
      "    pymongo-3.8.0              |   py37he1b5a44_0         966 KB  conda-forge\n",
      "    ------------------------------------------------------------\n",
      "                                           Total:         1.1 MB\n",
      "\n",
      "The following NEW packages will be INSTALLED:\n",
      "\n",
      "  mongoengine        conda-forge/linux-64::mongoengine-0.18.2-py37_0\n",
      "  pymongo            conda-forge/linux-64::pymongo-3.8.0-py37he1b5a44_0\n",
      "\n",
      "\n",
      "\n",
      "Downloading and Extracting Packages\n",
      "mongoengine-0.18.2   | 157 KB    | ##################################### | 100% \n",
      "pymongo-3.8.0        | 966 KB    | ##################################### | 100% \n",
      "Preparing transaction: done\n",
      "Verifying transaction: done\n",
      "Executing transaction: done\n"
     ]
    }
   ],
   "source": [
    "!conda install pymongo mongoengine --yes # installs low-level and high-level APIs"
   ]
  },
  {
   "cell_type": "code",
   "execution_count": 2,
   "metadata": {},
   "outputs": [],
   "source": [
    "import pymongo\n",
    "import gridfs\n",
    "import mimetypes"
   ]
  },
  {
   "cell_type": "markdown",
   "metadata": {},
   "source": [
    "## Connecting"
   ]
  },
  {
   "cell_type": "code",
   "execution_count": 33,
   "metadata": {},
   "outputs": [],
   "source": [
    "url = 'mongo_db' # Docker alias\n",
    "port = 27017\n",
    "db_name = 'tutorial_db'\n",
    "con_str = f'mongodb://{url}:{port}'\n",
    "client = pymongo.MongoClient(con_str)\n",
    "db = client[db_name] # create a new database or open existing database"
   ]
  },
  {
   "cell_type": "code",
   "execution_count": 37,
   "metadata": {},
   "outputs": [
    {
     "data": {
      "text/plain": [
       "[]"
      ]
     },
     "execution_count": 37,
     "metadata": {},
     "output_type": "execute_result"
    }
   ],
   "source": [
    "db.list_collection_names() # should be empty for new database"
   ]
  },
  {
   "cell_type": "markdown",
   "metadata": {},
   "source": [
    "## Storing and Retreiving Documents"
   ]
  },
  {
   "cell_type": "code",
   "execution_count": 13,
   "metadata": {},
   "outputs": [],
   "source": [
    "docs = db.docs"
   ]
  },
  {
   "cell_type": "code",
   "execution_count": 14,
   "metadata": {},
   "outputs": [],
   "source": [
    "entry = {'name': 'file1',\n",
    "        'tags': ['tax', 'bill'],\n",
    "        'Status': 'payed'}\n",
    "result = docs.insert_one(entry)"
   ]
  },
  {
   "cell_type": "code",
   "execution_count": 15,
   "metadata": {},
   "outputs": [
    {
     "data": {
      "text/plain": [
       "ObjectId('5d24e6ff8e16a0e4fa656ca9')"
      ]
     },
     "execution_count": 15,
     "metadata": {},
     "output_type": "execute_result"
    }
   ],
   "source": [
    "result.inserted_id"
   ]
  },
  {
   "cell_type": "code",
   "execution_count": 16,
   "metadata": {},
   "outputs": [
    {
     "data": {
      "text/plain": [
       "{'_id': ObjectId('5d24e6ff8e16a0e4fa656ca9'),\n",
       " 'name': 'file1',\n",
       " 'tags': ['tax', 'bill'],\n",
       " 'Status': 'payed'}"
      ]
     },
     "execution_count": 16,
     "metadata": {},
     "output_type": "execute_result"
    }
   ],
   "source": [
    "docs.find_one()"
   ]
  },
  {
   "cell_type": "markdown",
   "metadata": {},
   "source": [
    "## GridFS\n",
    "\n",
    "An API to store and retreive files of any size from a MongoDB.\n",
    "\n",
    "https://docs.mongodb.com/manual/core/gridfs/"
   ]
  },
  {
   "cell_type": "code",
   "execution_count": 17,
   "metadata": {},
   "outputs": [],
   "source": [
    "fs = gridfs.GridFS(db)"
   ]
  },
  {
   "cell_type": "markdown",
   "metadata": {},
   "source": [
    "### Store files in db"
   ]
  },
  {
   "cell_type": "code",
   "execution_count": 18,
   "metadata": {},
   "outputs": [
    {
     "data": {
      "text/plain": [
       "'text/csv'"
      ]
     },
     "execution_count": 18,
     "metadata": {},
     "output_type": "execute_result"
    }
   ],
   "source": [
    "filename = '../code/test_data.csv' # uses test data from Pandas tutorial\n",
    "metadata = {'description': 'NYC taxi data',\n",
    "            'tags': ['test', 'large'],\n",
    "            }\n",
    "content_type = mimetypes.guess_type(filename)[0] # automatically infer data type\n",
    "content_type"
   ]
  },
  {
   "cell_type": "code",
   "execution_count": 19,
   "metadata": {},
   "outputs": [],
   "source": [
    "with open(filename,'rb') as f:\n",
    "    fs.put(f, filename=filename, metadata=metadata, content_type=content_type)"
   ]
  },
  {
   "cell_type": "markdown",
   "metadata": {},
   "source": [
    "### Check db content"
   ]
  },
  {
   "cell_type": "code",
   "execution_count": 21,
   "metadata": {},
   "outputs": [
    {
     "data": {
      "text/plain": [
       "['../code/test_data.csv']"
      ]
     },
     "execution_count": 21,
     "metadata": {},
     "output_type": "execute_result"
    }
   ],
   "source": [
    "fs.list() # list of all stored files"
   ]
  },
  {
   "cell_type": "code",
   "execution_count": 22,
   "metadata": {},
   "outputs": [
    {
     "data": {
      "text/plain": [
       "['docs', 'fs.files', 'fs.chunks']"
      ]
     },
     "execution_count": 22,
     "metadata": {},
     "output_type": "execute_result"
    }
   ],
   "source": [
    "db.list_collection_names() # note the 2 documents for fs"
   ]
  },
  {
   "cell_type": "code",
   "execution_count": 20,
   "metadata": {},
   "outputs": [
    {
     "data": {
      "text/plain": [
       "[{'_id': ObjectId('5d24e7848e16a0e4fa656caa'),\n",
       "  'filename': '../code/test_data.csv',\n",
       "  'metadata': {'description': 'NYC taxi data', 'tags': ['test', 'large']},\n",
       "  'contentType': 'text/csv',\n",
       "  'md5': '8c2bdc4b7a49464147d557568a2979bf',\n",
       "  'chunkSize': 261120,\n",
       "  'length': 70930317,\n",
       "  'uploadDate': datetime.datetime(2019, 7, 9, 19, 14, 15, 263000)}]"
      ]
     },
     "execution_count": 20,
     "metadata": {},
     "output_type": "execute_result"
    }
   ],
   "source": [
    "list(db.fs.files.find()) # storage of file metadata"
   ]
  },
  {
   "cell_type": "code",
   "execution_count": 29,
   "metadata": {},
   "outputs": [
    {
     "data": {
      "text/plain": [
       "272"
      ]
     },
     "execution_count": 29,
     "metadata": {},
     "output_type": "execute_result"
    }
   ],
   "source": [
    "db.fs.chunks.count_documents({}) # here the actual data is stored in chunks"
   ]
  },
  {
   "cell_type": "markdown",
   "metadata": {},
   "source": [
    "### Get Files from db"
   ]
  },
  {
   "cell_type": "code",
   "execution_count": 30,
   "metadata": {},
   "outputs": [],
   "source": [
    "with open('test_output.csv','wb') as f:\n",
    "    f.write(fs.get_last_version(filename).read())"
   ]
  },
  {
   "cell_type": "markdown",
   "metadata": {},
   "source": [
    "### Delete all Files"
   ]
  },
  {
   "cell_type": "code",
   "execution_count": 31,
   "metadata": {},
   "outputs": [
    {
     "name": "stdout",
     "output_type": "stream",
     "text": [
      "5d24e7848e16a0e4fa656caa\n"
     ]
    }
   ],
   "source": [
    "for f in fs.find():\n",
    "    print(f._id)\n",
    "    fs.delete(f._id)"
   ]
  },
  {
   "cell_type": "code",
   "execution_count": 32,
   "metadata": {},
   "outputs": [],
   "source": [
    "%rm test_output.csv"
   ]
  },
  {
   "cell_type": "markdown",
   "metadata": {},
   "source": [
    "# MongoEngine\n",
    "\n",
    "MongoEngine is a Document-Object Mapper (think ORM, but for document databases) for working with MongoDB from Python.\n",
    "\n",
    "It allows to define a (flexible) schema and validation rules for documents,\n",
    "\n",
    "http://mongoengine.org/\n",
    "\n",
    "http://docs.mongoengine.org/"
   ]
  },
  {
   "cell_type": "code",
   "execution_count": 38,
   "metadata": {},
   "outputs": [],
   "source": [
    "import mongoengine"
   ]
  },
  {
   "cell_type": "markdown",
   "metadata": {},
   "source": [
    "## Connecting"
   ]
  },
  {
   "cell_type": "code",
   "execution_count": 39,
   "metadata": {},
   "outputs": [
    {
     "data": {
      "text/plain": [
       "MongoClient(host=['mongo_db:27017'], document_class=dict, tz_aware=False, connect=True, read_preference=Primary())"
      ]
     },
     "execution_count": 39,
     "metadata": {},
     "output_type": "execute_result"
    }
   ],
   "source": [
    "mongoengine.connect(db=db_name, host=url, port=port)"
   ]
  },
  {
   "cell_type": "markdown",
   "metadata": {},
   "source": [
    "## Defining Document Schema"
   ]
  },
  {
   "cell_type": "code",
   "execution_count": 40,
   "metadata": {},
   "outputs": [],
   "source": [
    "class Doc(mongoengine.Document):\n",
    "    name = mongoengine.StringField(required=True)\n",
    "    status = mongoengine.StringField(choices=['open', 'done'])\n",
    "    tags = mongoengine.ListField(mongoengine.StringField())"
   ]
  },
  {
   "cell_type": "markdown",
   "metadata": {},
   "source": [
    "## Storing Data"
   ]
  },
  {
   "cell_type": "code",
   "execution_count": 41,
   "metadata": {},
   "outputs": [],
   "source": [
    "doc1 = Doc(name='bill1', status='open', tags=['tax'])\n",
    "doc2 = Doc(name='bill2', status='done', tags=['tax', 'handyman'])"
   ]
  },
  {
   "cell_type": "code",
   "execution_count": 42,
   "metadata": {},
   "outputs": [
    {
     "data": {
      "text/plain": [
       "<Doc: Doc object>"
      ]
     },
     "execution_count": 42,
     "metadata": {},
     "output_type": "execute_result"
    }
   ],
   "source": [
    "doc1.save()\n",
    "doc2.save()"
   ]
  },
  {
   "cell_type": "code",
   "execution_count": 46,
   "metadata": {},
   "outputs": [
    {
     "name": "stdout",
     "output_type": "stream",
     "text": [
      "ValidationError (Doc:None) (Value must be one of ['open', 'done']: ['status'])\n"
     ]
    }
   ],
   "source": [
    "doc3 = Doc(name='invalid_bill', status='invalid', tags=['tax', 'handyman'])\n",
    "try:\n",
    "    doc3.save()\n",
    "except mongoengine.ValidationError as e:\n",
    "    print(e)"
   ]
  },
  {
   "cell_type": "markdown",
   "metadata": {},
   "source": [
    "## Retreiving Data"
   ]
  },
  {
   "cell_type": "code",
   "execution_count": 47,
   "metadata": {},
   "outputs": [
    {
     "name": "stdout",
     "output_type": "stream",
     "text": [
      "bill2\n"
     ]
    }
   ],
   "source": [
    "for doc in Doc.objects(tags='handyman'):\n",
    "    print(doc.name)"
   ]
  },
  {
   "cell_type": "markdown",
   "metadata": {},
   "source": [
    "# Cleanup"
   ]
  },
  {
   "cell_type": "code",
   "execution_count": 36,
   "metadata": {},
   "outputs": [],
   "source": [
    "client.drop_database(db_name)"
   ]
  }
 ],
 "metadata": {
  "kernelspec": {
   "display_name": "Python 3",
   "language": "python",
   "name": "python3"
  },
  "language_info": {
   "codemirror_mode": {
    "name": "ipython",
    "version": 3
   },
   "file_extension": ".py",
   "mimetype": "text/x-python",
   "name": "python",
   "nbconvert_exporter": "python",
   "pygments_lexer": "ipython3",
   "version": "3.7.3"
  }
 },
 "nbformat": 4,
 "nbformat_minor": 2
}

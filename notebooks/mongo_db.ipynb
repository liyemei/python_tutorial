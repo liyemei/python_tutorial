{
 "cells": [
  {
   "cell_type": "markdown",
   "metadata": {},
   "source": [
    "# MongoDB\n",
    "\n",
    "MongoDB is a no-sql database for storage of JSON-style data (corresponding to dictionaries and lists in Python).\n",
    "\n",
    "https://docs.mongodb.com/manual/tutorial/getting-started/\n",
    "\n",
    "In contrast to relational databases, MongoDB documents (corresponding to table entries in relational databases) in collections (corresponding to tables) have no fixed structure. However, it makes sense to define all documents in one collection as similar as possible to make queries, etc. on them easier.\n",
    "\n",
    "MongoDB works both on single machines and distributed along multiple clusters. Here, distribution is however not discussed.\n",
    "\n",
    "This tutorial requires a running MongoDB server, preferably in a Docker container started using the given docker-compose file."
   ]
  },
  {
   "cell_type": "code",
   "execution_count": 1,
   "metadata": {},
   "outputs": [
    {
     "name": "stdout",
     "output_type": "stream",
     "text": [
      "^C\n",
      "\n",
      "CondaError: KeyboardInterrupt\n",
      "\n"
     ]
    }
   ],
   "source": [
    "!conda install pymongo mongoengine --yes # installs low-level and high-level APIs"
   ]
  },
  {
   "cell_type": "code",
   "execution_count": 1,
   "metadata": {},
   "outputs": [],
   "source": [
    "import pymongo\n",
    "import gridfs\n",
    "import mimetypes"
   ]
  },
  {
   "cell_type": "markdown",
   "metadata": {},
   "source": [
    "## Connecting"
   ]
  },
  {
   "cell_type": "code",
   "execution_count": 22,
   "metadata": {},
   "outputs": [],
   "source": [
    "url = 'mongo_db' # Docker alias\n",
    "port = 27017\n",
    "db_name = 'tutorial_db'\n",
    "con_str = f'mongodb://{url}:{port}'\n",
    "client = pymongo.MongoClient(con_str)\n",
    "db = client[db_name] # create a new database or open existing database"
   ]
  },
  {
   "cell_type": "code",
   "execution_count": 23,
   "metadata": {},
   "outputs": [
    {
     "data": {
      "text/plain": [
       "[]"
      ]
     },
     "execution_count": 23,
     "metadata": {},
     "output_type": "execute_result"
    }
   ],
   "source": [
    "db.list_collection_names() # should be empty for new database"
   ]
  },
  {
   "cell_type": "markdown",
   "metadata": {},
   "source": [
    "## Storing and Retreiving Documents"
   ]
  },
  {
   "cell_type": "code",
   "execution_count": 5,
   "metadata": {},
   "outputs": [],
   "source": [
    "docs = db.docs"
   ]
  },
  {
   "cell_type": "code",
   "execution_count": 6,
   "metadata": {},
   "outputs": [],
   "source": [
    "entry = {'name': 'file1',\n",
    "        'tags': ['tax', 'bill'],\n",
    "        'Status': 'payed'}\n",
    "result = docs.insert_one(entry)"
   ]
  },
  {
   "cell_type": "code",
   "execution_count": 7,
   "metadata": {},
   "outputs": [
    {
     "data": {
      "text/plain": [
       "ObjectId('5d2636403471587e35da0a5b')"
      ]
     },
     "execution_count": 7,
     "metadata": {},
     "output_type": "execute_result"
    }
   ],
   "source": [
    "result.inserted_id"
   ]
  },
  {
   "cell_type": "code",
   "execution_count": 8,
   "metadata": {},
   "outputs": [
    {
     "data": {
      "text/plain": [
       "{'_id': ObjectId('5d2636403471587e35da0a5b'),\n",
       " 'name': 'file1',\n",
       " 'tags': ['tax', 'bill'],\n",
       " 'Status': 'payed'}"
      ]
     },
     "execution_count": 8,
     "metadata": {},
     "output_type": "execute_result"
    }
   ],
   "source": [
    "docs.find_one()"
   ]
  },
  {
   "cell_type": "markdown",
   "metadata": {},
   "source": [
    "## GridFS\n",
    "\n",
    "An API to store and retreive files of any size from a MongoDB.\n",
    "\n",
    "https://docs.mongodb.com/manual/core/gridfs/"
   ]
  },
  {
   "cell_type": "code",
   "execution_count": 9,
   "metadata": {},
   "outputs": [],
   "source": [
    "fs = gridfs.GridFS(db)"
   ]
  },
  {
   "cell_type": "markdown",
   "metadata": {},
   "source": [
    "### Store files in db"
   ]
  },
  {
   "cell_type": "code",
   "execution_count": 10,
   "metadata": {},
   "outputs": [
    {
     "data": {
      "text/plain": [
       "'text/csv'"
      ]
     },
     "execution_count": 10,
     "metadata": {},
     "output_type": "execute_result"
    }
   ],
   "source": [
    "filename = '../code/test_data.csv' # uses test data from Pandas tutorial\n",
    "metadata = {'description': 'NYC taxi data',\n",
    "            'tags': ['test', 'large'],\n",
    "            }\n",
    "content_type = mimetypes.guess_type(filename)[0] # automatically infer data type\n",
    "content_type"
   ]
  },
  {
   "cell_type": "code",
   "execution_count": 11,
   "metadata": {},
   "outputs": [],
   "source": [
    "with open(filename,'rb') as f:\n",
    "    fs.put(f, filename=filename, metadata=metadata, content_type=content_type)"
   ]
  },
  {
   "cell_type": "markdown",
   "metadata": {},
   "source": [
    "### Check db content"
   ]
  },
  {
   "cell_type": "code",
   "execution_count": 12,
   "metadata": {},
   "outputs": [
    {
     "data": {
      "text/plain": [
       "['../code/test_data.csv']"
      ]
     },
     "execution_count": 12,
     "metadata": {},
     "output_type": "execute_result"
    }
   ],
   "source": [
    "fs.list() # list of all stored files"
   ]
  },
  {
   "cell_type": "code",
   "execution_count": 13,
   "metadata": {},
   "outputs": [
    {
     "data": {
      "text/plain": [
       "['docs', 'fs.files', 'fs.chunks']"
      ]
     },
     "execution_count": 13,
     "metadata": {},
     "output_type": "execute_result"
    }
   ],
   "source": [
    "db.list_collection_names() # note the 2 documents for fs"
   ]
  },
  {
   "cell_type": "code",
   "execution_count": 14,
   "metadata": {},
   "outputs": [
    {
     "data": {
      "text/plain": [
       "[{'_id': ObjectId('5d2636553471587e35da0a5c'),\n",
       "  'filename': '../code/test_data.csv',\n",
       "  'metadata': {'description': 'NYC taxi data', 'tags': ['test', 'large']},\n",
       "  'contentType': 'text/csv',\n",
       "  'md5': '8c2bdc4b7a49464147d557568a2979bf',\n",
       "  'chunkSize': 261120,\n",
       "  'length': 70930317,\n",
       "  'uploadDate': datetime.datetime(2019, 7, 10, 19, 2, 47, 981000)}]"
      ]
     },
     "execution_count": 14,
     "metadata": {},
     "output_type": "execute_result"
    }
   ],
   "source": [
    "list(db.fs.files.find()) # storage of file metadata"
   ]
  },
  {
   "cell_type": "code",
   "execution_count": 15,
   "metadata": {},
   "outputs": [
    {
     "data": {
      "text/plain": [
       "272"
      ]
     },
     "execution_count": 15,
     "metadata": {},
     "output_type": "execute_result"
    }
   ],
   "source": [
    "db.fs.chunks.count_documents({}) # here the actual data is stored in chunks"
   ]
  },
  {
   "cell_type": "markdown",
   "metadata": {},
   "source": [
    "### Get Files from db"
   ]
  },
  {
   "cell_type": "code",
   "execution_count": 16,
   "metadata": {},
   "outputs": [],
   "source": [
    "with open('test_output.csv','wb') as f:\n",
    "    f.write(fs.get_last_version(filename).read())"
   ]
  },
  {
   "cell_type": "markdown",
   "metadata": {},
   "source": [
    "### Delete all Files"
   ]
  },
  {
   "cell_type": "code",
   "execution_count": 17,
   "metadata": {},
   "outputs": [
    {
     "name": "stdout",
     "output_type": "stream",
     "text": [
      "5d2636553471587e35da0a5c\n"
     ]
    }
   ],
   "source": [
    "for f in fs.find():\n",
    "    print(f._id)\n",
    "    fs.delete(f._id)"
   ]
  },
  {
   "cell_type": "code",
   "execution_count": 18,
   "metadata": {},
   "outputs": [],
   "source": [
    "%rm test_output.csv"
   ]
  },
  {
   "cell_type": "markdown",
   "metadata": {},
   "source": [
    "# MongoEngine\n",
    "\n",
    "MongoEngine is a Document-Object Mapper (think ORM, but for document databases) for working with MongoDB from Python.\n",
    "\n",
    "It allows to define a (flexible) schema and validation rules for documents,\n",
    "\n",
    "http://mongoengine.org/\n",
    "\n",
    "http://docs.mongoengine.org/"
   ]
  },
  {
   "cell_type": "code",
   "execution_count": 264,
   "metadata": {},
   "outputs": [],
   "source": [
    "import mongoengine\n",
    "import datetime"
   ]
  },
  {
   "cell_type": "markdown",
   "metadata": {},
   "source": [
    "## Connecting"
   ]
  },
  {
   "cell_type": "code",
   "execution_count": 313,
   "metadata": {},
   "outputs": [],
   "source": [
    "client = mongoengine.connect(db=db_name, host=url, port=port)"
   ]
  },
  {
   "cell_type": "code",
   "execution_count": 314,
   "metadata": {},
   "outputs": [
    {
     "data": {
      "text/plain": [
       "Database(MongoClient(host=['mongo_db:27017'], document_class=dict, tz_aware=False, connect=True, read_preference=Primary()), 'tutorial_db')"
      ]
     },
     "execution_count": 314,
     "metadata": {},
     "output_type": "execute_result"
    }
   ],
   "source": [
    "client.get_database(db_name)"
   ]
  },
  {
   "cell_type": "markdown",
   "metadata": {},
   "source": [
    "## Defining Document Schema"
   ]
  },
  {
   "cell_type": "code",
   "execution_count": 315,
   "metadata": {},
   "outputs": [],
   "source": [
    "class HistorizedBase(mongoengine.Document):\n",
    "    \"\"\"\n",
    "    Base class for historized collections,\n",
    "    use historize(doc, db) for historization before any update!\n",
    "    \"\"\"\n",
    "    meta = {'abstract': True} # allows inheritance from this class\n",
    "    version = mongoengine.IntField(default=0)\n",
    "    last_update = mongoengine.DateTimeField()\n",
    "    update_user = mongoengine.StringField(required=True)\n",
    "    creation_date = mongoengine.DateTimeField(default=datetime.datetime.utcnow)\n",
    "    history_original_id = mongoengine.ObjectIdField() # only set for historized documents\n",
    "    \n",
    "    def save(self):\n",
    "        \"\"\"overwriting save method to keep track of version number and last update\"\"\"\n",
    "        self.version += 1\n",
    "        self.last_update = datetime.datetime.utcnow\n",
    "        super().save()\n",
    "        \n",
    "def historize(doc, db, hist_table=None):\n",
    "    \"\"\"\n",
    "    Historizes Mongoengine document (must inherit from HistorizedBase class) into history table.\n",
    "    Parameters: \n",
    "    * doc: Mongoengine document instance\n",
    "    * db: pymongo database\n",
    "    * hist_table: name of history table. If not set, the name is generated appending '_history'\n",
    "    to original table name.\n",
    "    returns name of history table\n",
    "    \"\"\"\n",
    "    ref = doc.to_dbref()\n",
    "    hist_table = f'{ref.collection}_history' if hist_table is None else hist_table\n",
    "    data = db.doc.find({'_id': ref.id})[0]\n",
    "    data.pop('_id', None) # remove id field to avoid duplicate key errors\n",
    "    data['history_original_id'] = ref.id\n",
    "    db[hist_table].insert_one(data)\n",
    "    return hist_table"
   ]
  },
  {
   "cell_type": "code",
   "execution_count": 316,
   "metadata": {},
   "outputs": [],
   "source": [
    "class Doc(HistorizedBase):\n",
    "    name = mongoengine.StringField(required=True)\n",
    "    status = mongoengine.StringField(choices=['open', 'done'])\n",
    "    tags = mongoengine.ListField(mongoengine.StringField())"
   ]
  },
  {
   "cell_type": "markdown",
   "metadata": {},
   "source": [
    "## Storing Data"
   ]
  },
  {
   "cell_type": "code",
   "execution_count": 317,
   "metadata": {},
   "outputs": [],
   "source": [
    "doc1 = Doc(name='bill1', status='open', tags=['tax'], update_user='user1')\n",
    "doc2 = Doc(name='bill2', status='done', tags=['tax', 'handyman'], update_user='user1')"
   ]
  },
  {
   "cell_type": "code",
   "execution_count": 318,
   "metadata": {},
   "outputs": [],
   "source": [
    "doc1.save()\n",
    "doc2.save()"
   ]
  },
  {
   "cell_type": "code",
   "execution_count": 319,
   "metadata": {},
   "outputs": [
    {
     "name": "stdout",
     "output_type": "stream",
     "text": [
      "ValidationError (Doc:None) (Value must be one of ['open', 'done']: ['status'])\n"
     ]
    }
   ],
   "source": [
    "doc3 = Doc(name='invalid_bill', status='invalid', tags=['tax', 'handyman'], \n",
    "           update_user='user1')\n",
    "try:\n",
    "    doc3.save()\n",
    "except mongoengine.ValidationError as e:\n",
    "    print(e)"
   ]
  },
  {
   "cell_type": "markdown",
   "metadata": {},
   "source": [
    "## Retreiving Data"
   ]
  },
  {
   "cell_type": "code",
   "execution_count": 320,
   "metadata": {},
   "outputs": [
    {
     "name": "stdout",
     "output_type": "stream",
     "text": [
      "bill2\n"
     ]
    }
   ],
   "source": [
    "for doc in Doc.objects(tags='handyman'):\n",
    "    print(doc.name)"
   ]
  },
  {
   "cell_type": "code",
   "execution_count": 321,
   "metadata": {},
   "outputs": [
    {
     "data": {
      "text/plain": [
       "[{'_id': ObjectId('5d26ebf840c925f417f072be'),\n",
       "  'version': 1,\n",
       "  'last_update': datetime.datetime(2019, 7, 11, 7, 57, 44, 337000),\n",
       "  'update_user': 'user1',\n",
       "  'creation_date': datetime.datetime(2019, 7, 11, 7, 57, 43, 717000),\n",
       "  'name': 'bill1',\n",
       "  'status': 'open',\n",
       "  'tags': ['tax']},\n",
       " {'_id': ObjectId('5d26ebf840c925f417f072bf'),\n",
       "  'version': 1,\n",
       "  'last_update': datetime.datetime(2019, 7, 11, 7, 57, 44, 939000),\n",
       "  'update_user': 'user1',\n",
       "  'creation_date': datetime.datetime(2019, 7, 11, 7, 57, 43, 717000),\n",
       "  'name': 'bill2',\n",
       "  'status': 'done',\n",
       "  'tags': ['tax', 'handyman']}]"
      ]
     },
     "execution_count": 321,
     "metadata": {},
     "output_type": "execute_result"
    }
   ],
   "source": [
    "list(db.doc.find())"
   ]
  },
  {
   "cell_type": "markdown",
   "metadata": {},
   "source": [
    "## Updating Existing Documents"
   ]
  },
  {
   "cell_type": "code",
   "execution_count": 322,
   "metadata": {},
   "outputs": [
    {
     "data": {
      "text/plain": [
       "<Doc: Doc object>"
      ]
     },
     "execution_count": 322,
     "metadata": {},
     "output_type": "execute_result"
    }
   ],
   "source": [
    "doc_to_update = Doc.objects(name='bill2')[0]\n",
    "doc_to_update"
   ]
  },
  {
   "cell_type": "code",
   "execution_count": 323,
   "metadata": {},
   "outputs": [
    {
     "data": {
      "text/plain": [
       "'doc_history'"
      ]
     },
     "execution_count": 323,
     "metadata": {},
     "output_type": "execute_result"
    }
   ],
   "source": [
    "historize(doc_to_update, db)"
   ]
  },
  {
   "cell_type": "code",
   "execution_count": 324,
   "metadata": {},
   "outputs": [],
   "source": [
    "doc_to_update.status = 'open'\n",
    "doc_to_update.update_user = 'user2'\n",
    "doc_to_update.save()"
   ]
  },
  {
   "cell_type": "code",
   "execution_count": 325,
   "metadata": {},
   "outputs": [
    {
     "data": {
      "text/plain": [
       "[{'_id': ObjectId('5d26ebf840c925f417f072be'),\n",
       "  'version': 1,\n",
       "  'last_update': datetime.datetime(2019, 7, 11, 7, 57, 44, 337000),\n",
       "  'update_user': 'user1',\n",
       "  'creation_date': datetime.datetime(2019, 7, 11, 7, 57, 43, 717000),\n",
       "  'name': 'bill1',\n",
       "  'status': 'open',\n",
       "  'tags': ['tax']},\n",
       " {'_id': ObjectId('5d26ebf840c925f417f072bf'),\n",
       "  'version': 2,\n",
       "  'last_update': datetime.datetime(2019, 7, 11, 7, 57, 55, 109000),\n",
       "  'update_user': 'user2',\n",
       "  'creation_date': datetime.datetime(2019, 7, 11, 7, 57, 43, 717000),\n",
       "  'name': 'bill2',\n",
       "  'status': 'open',\n",
       "  'tags': ['tax', 'handyman']}]"
      ]
     },
     "execution_count": 325,
     "metadata": {},
     "output_type": "execute_result"
    }
   ],
   "source": [
    "list(db.doc.find())"
   ]
  },
  {
   "cell_type": "code",
   "execution_count": 326,
   "metadata": {},
   "outputs": [
    {
     "data": {
      "text/plain": [
       "[{'_id': ObjectId('5d26ec0140c925f417f072c0'),\n",
       "  'version': 1,\n",
       "  'last_update': datetime.datetime(2019, 7, 11, 7, 57, 44, 939000),\n",
       "  'update_user': 'user1',\n",
       "  'creation_date': datetime.datetime(2019, 7, 11, 7, 57, 43, 717000),\n",
       "  'name': 'bill2',\n",
       "  'status': 'done',\n",
       "  'tags': ['tax', 'handyman'],\n",
       "  'history_original_id': ObjectId('5d26ebf840c925f417f072bf')}]"
      ]
     },
     "execution_count": 326,
     "metadata": {},
     "output_type": "execute_result"
    }
   ],
   "source": [
    "list(db.doc_history.find())"
   ]
  },
  {
   "cell_type": "markdown",
   "metadata": {},
   "source": [
    "# Pandas Interaction"
   ]
  },
  {
   "cell_type": "code",
   "execution_count": 260,
   "metadata": {},
   "outputs": [],
   "source": [
    "import pandas as pd\n",
    "import json\n",
    "from datetime import datetime"
   ]
  },
  {
   "cell_type": "code",
   "execution_count": 60,
   "metadata": {},
   "outputs": [
    {
     "data": {
      "text/html": [
       "<div>\n",
       "<style scoped>\n",
       "    .dataframe tbody tr th:only-of-type {\n",
       "        vertical-align: middle;\n",
       "    }\n",
       "\n",
       "    .dataframe tbody tr th {\n",
       "        vertical-align: top;\n",
       "    }\n",
       "\n",
       "    .dataframe thead th {\n",
       "        text-align: right;\n",
       "    }\n",
       "</style>\n",
       "<table border=\"1\" class=\"dataframe\">\n",
       "  <thead>\n",
       "    <tr style=\"text-align: right;\">\n",
       "      <th></th>\n",
       "      <th>VendorID</th>\n",
       "      <th>lpep_pickup_datetime</th>\n",
       "      <th>lpep_dropoff_datetime</th>\n",
       "      <th>store_and_fwd_flag</th>\n",
       "      <th>RatecodeID</th>\n",
       "      <th>PULocationID</th>\n",
       "      <th>DOLocationID</th>\n",
       "      <th>passenger_count</th>\n",
       "      <th>trip_distance</th>\n",
       "      <th>fare_amount</th>\n",
       "      <th>extra</th>\n",
       "      <th>mta_tax</th>\n",
       "      <th>tip_amount</th>\n",
       "      <th>tolls_amount</th>\n",
       "      <th>ehail_fee</th>\n",
       "      <th>improvement_surcharge</th>\n",
       "      <th>total_amount</th>\n",
       "      <th>payment_type</th>\n",
       "      <th>trip_type</th>\n",
       "    </tr>\n",
       "  </thead>\n",
       "  <tbody>\n",
       "    <tr>\n",
       "      <th>0</th>\n",
       "      <td>2</td>\n",
       "      <td>2018-01-01 00:18:50</td>\n",
       "      <td>2018-01-01 00:24:39</td>\n",
       "      <td>N</td>\n",
       "      <td>1</td>\n",
       "      <td>236</td>\n",
       "      <td>236</td>\n",
       "      <td>5</td>\n",
       "      <td>0.70</td>\n",
       "      <td>6.0</td>\n",
       "      <td>0.5</td>\n",
       "      <td>0.5</td>\n",
       "      <td>0.0</td>\n",
       "      <td>0.0</td>\n",
       "      <td>NaN</td>\n",
       "      <td>0.3</td>\n",
       "      <td>7.3</td>\n",
       "      <td>2</td>\n",
       "      <td>1.0</td>\n",
       "    </tr>\n",
       "    <tr>\n",
       "      <th>1</th>\n",
       "      <td>2</td>\n",
       "      <td>2018-01-01 00:30:26</td>\n",
       "      <td>2018-01-01 00:46:42</td>\n",
       "      <td>N</td>\n",
       "      <td>1</td>\n",
       "      <td>43</td>\n",
       "      <td>42</td>\n",
       "      <td>5</td>\n",
       "      <td>3.50</td>\n",
       "      <td>14.5</td>\n",
       "      <td>0.5</td>\n",
       "      <td>0.5</td>\n",
       "      <td>0.0</td>\n",
       "      <td>0.0</td>\n",
       "      <td>NaN</td>\n",
       "      <td>0.3</td>\n",
       "      <td>15.8</td>\n",
       "      <td>2</td>\n",
       "      <td>1.0</td>\n",
       "    </tr>\n",
       "    <tr>\n",
       "      <th>2</th>\n",
       "      <td>2</td>\n",
       "      <td>2018-01-01 00:07:25</td>\n",
       "      <td>2018-01-01 00:19:45</td>\n",
       "      <td>N</td>\n",
       "      <td>1</td>\n",
       "      <td>74</td>\n",
       "      <td>152</td>\n",
       "      <td>1</td>\n",
       "      <td>2.14</td>\n",
       "      <td>10.0</td>\n",
       "      <td>0.5</td>\n",
       "      <td>0.5</td>\n",
       "      <td>0.0</td>\n",
       "      <td>0.0</td>\n",
       "      <td>NaN</td>\n",
       "      <td>0.3</td>\n",
       "      <td>11.3</td>\n",
       "      <td>2</td>\n",
       "      <td>1.0</td>\n",
       "    </tr>\n",
       "    <tr>\n",
       "      <th>3</th>\n",
       "      <td>2</td>\n",
       "      <td>2018-01-01 00:32:40</td>\n",
       "      <td>2018-01-01 00:33:41</td>\n",
       "      <td>N</td>\n",
       "      <td>1</td>\n",
       "      <td>255</td>\n",
       "      <td>255</td>\n",
       "      <td>1</td>\n",
       "      <td>0.03</td>\n",
       "      <td>-3.0</td>\n",
       "      <td>-0.5</td>\n",
       "      <td>-0.5</td>\n",
       "      <td>0.0</td>\n",
       "      <td>0.0</td>\n",
       "      <td>NaN</td>\n",
       "      <td>-0.3</td>\n",
       "      <td>-4.3</td>\n",
       "      <td>3</td>\n",
       "      <td>1.0</td>\n",
       "    </tr>\n",
       "    <tr>\n",
       "      <th>4</th>\n",
       "      <td>2</td>\n",
       "      <td>2018-01-01 00:32:40</td>\n",
       "      <td>2018-01-01 00:33:41</td>\n",
       "      <td>N</td>\n",
       "      <td>1</td>\n",
       "      <td>255</td>\n",
       "      <td>255</td>\n",
       "      <td>1</td>\n",
       "      <td>0.03</td>\n",
       "      <td>3.0</td>\n",
       "      <td>0.5</td>\n",
       "      <td>0.5</td>\n",
       "      <td>0.0</td>\n",
       "      <td>0.0</td>\n",
       "      <td>NaN</td>\n",
       "      <td>0.3</td>\n",
       "      <td>4.3</td>\n",
       "      <td>2</td>\n",
       "      <td>1.0</td>\n",
       "    </tr>\n",
       "  </tbody>\n",
       "</table>\n",
       "</div>"
      ],
      "text/plain": [
       "   VendorID lpep_pickup_datetime lpep_dropoff_datetime store_and_fwd_flag  \\\n",
       "0         2  2018-01-01 00:18:50   2018-01-01 00:24:39                  N   \n",
       "1         2  2018-01-01 00:30:26   2018-01-01 00:46:42                  N   \n",
       "2         2  2018-01-01 00:07:25   2018-01-01 00:19:45                  N   \n",
       "3         2  2018-01-01 00:32:40   2018-01-01 00:33:41                  N   \n",
       "4         2  2018-01-01 00:32:40   2018-01-01 00:33:41                  N   \n",
       "\n",
       "   RatecodeID  PULocationID  DOLocationID  passenger_count  trip_distance  \\\n",
       "0           1           236           236                5           0.70   \n",
       "1           1            43            42                5           3.50   \n",
       "2           1            74           152                1           2.14   \n",
       "3           1           255           255                1           0.03   \n",
       "4           1           255           255                1           0.03   \n",
       "\n",
       "   fare_amount  extra  mta_tax  tip_amount  tolls_amount  ehail_fee  \\\n",
       "0          6.0    0.5      0.5         0.0           0.0        NaN   \n",
       "1         14.5    0.5      0.5         0.0           0.0        NaN   \n",
       "2         10.0    0.5      0.5         0.0           0.0        NaN   \n",
       "3         -3.0   -0.5     -0.5         0.0           0.0        NaN   \n",
       "4          3.0    0.5      0.5         0.0           0.0        NaN   \n",
       "\n",
       "   improvement_surcharge  total_amount  payment_type  trip_type  \n",
       "0                    0.3           7.3             2        1.0  \n",
       "1                    0.3          15.8             2        1.0  \n",
       "2                    0.3          11.3             2        1.0  \n",
       "3                   -0.3          -4.3             3        1.0  \n",
       "4                    0.3           4.3             2        1.0  "
      ]
     },
     "execution_count": 60,
     "metadata": {},
     "output_type": "execute_result"
    }
   ],
   "source": [
    "df_taxi = pd.read_csv('../code/test_data.csv', parse_dates=[1, 2])\n",
    "df_taxi.head()"
   ]
  },
  {
   "cell_type": "code",
   "execution_count": 90,
   "metadata": {},
   "outputs": [
    {
     "name": "stdout",
     "output_type": "stream",
     "text": [
      "elapsed time: 0:01:00.772149\n"
     ]
    }
   ],
   "source": [
    "start_time = datetime.utcnow()\n",
    "db.taxi.insert_many(json.loads(df_taxi.to_json(orient='records'))) # inserting ca. 800k rows!\n",
    "print(f'elapsed time: {datetime.utcnow() - start_time}')"
   ]
  },
  {
   "cell_type": "markdown",
   "metadata": {},
   "source": [
    "Loading data from MongoDB into Pandas DataFrame."
   ]
  },
  {
   "cell_type": "code",
   "execution_count": 93,
   "metadata": {},
   "outputs": [
    {
     "data": {
      "text/plain": [
       "{'_id': ObjectId('5d25b9ee8e16a0e4fad56157'),\n",
       " 'VendorID': 1,\n",
       " 'lpep_pickup_datetime': 1514765260000,\n",
       " 'lpep_dropoff_datetime': 1514765720000,\n",
       " 'store_and_fwd_flag': 'N',\n",
       " 'RatecodeID': 1,\n",
       " 'PULocationID': 225,\n",
       " 'DOLocationID': 37,\n",
       " 'passenger_count': 1,\n",
       " 'trip_distance': 1.9,\n",
       " 'fare_amount': 8.0,\n",
       " 'extra': 0.5,\n",
       " 'mta_tax': 0.5,\n",
       " 'tip_amount': 3.0,\n",
       " 'tolls_amount': 0.0,\n",
       " 'ehail_fee': None,\n",
       " 'improvement_surcharge': 0.3,\n",
       " 'total_amount': 12.3,\n",
       " 'payment_type': 1,\n",
       " 'trip_type': 1.0}"
      ]
     },
     "execution_count": 93,
     "metadata": {},
     "output_type": "execute_result"
    }
   ],
   "source": [
    "db.taxi.find_one({'VendorID': 1})"
   ]
  },
  {
   "cell_type": "code",
   "execution_count": 91,
   "metadata": {},
   "outputs": [
    {
     "name": "stdout",
     "output_type": "stream",
     "text": [
      "elapsed time: 0:00:27.026934\n"
     ]
    },
    {
     "data": {
      "text/html": [
       "<div>\n",
       "<style scoped>\n",
       "    .dataframe tbody tr th:only-of-type {\n",
       "        vertical-align: middle;\n",
       "    }\n",
       "\n",
       "    .dataframe tbody tr th {\n",
       "        vertical-align: top;\n",
       "    }\n",
       "\n",
       "    .dataframe thead th {\n",
       "        text-align: right;\n",
       "    }\n",
       "</style>\n",
       "<table border=\"1\" class=\"dataframe\">\n",
       "  <thead>\n",
       "    <tr style=\"text-align: right;\">\n",
       "      <th></th>\n",
       "      <th>DOLocationID</th>\n",
       "      <th>PULocationID</th>\n",
       "      <th>RatecodeID</th>\n",
       "      <th>VendorID</th>\n",
       "      <th>_id</th>\n",
       "      <th>ehail_fee</th>\n",
       "      <th>extra</th>\n",
       "      <th>fare_amount</th>\n",
       "      <th>improvement_surcharge</th>\n",
       "      <th>lpep_dropoff_datetime</th>\n",
       "      <th>lpep_pickup_datetime</th>\n",
       "      <th>mta_tax</th>\n",
       "      <th>passenger_count</th>\n",
       "      <th>payment_type</th>\n",
       "      <th>store_and_fwd_flag</th>\n",
       "      <th>tip_amount</th>\n",
       "      <th>tolls_amount</th>\n",
       "      <th>total_amount</th>\n",
       "      <th>trip_distance</th>\n",
       "      <th>trip_type</th>\n",
       "    </tr>\n",
       "  </thead>\n",
       "  <tbody>\n",
       "    <tr>\n",
       "      <th>0</th>\n",
       "      <td>236</td>\n",
       "      <td>236</td>\n",
       "      <td>1</td>\n",
       "      <td>2</td>\n",
       "      <td>5d25b9ee8e16a0e4fad56148</td>\n",
       "      <td>None</td>\n",
       "      <td>0.5</td>\n",
       "      <td>6.0</td>\n",
       "      <td>0.3</td>\n",
       "      <td>1514766279000</td>\n",
       "      <td>1514765930000</td>\n",
       "      <td>0.5</td>\n",
       "      <td>5</td>\n",
       "      <td>2</td>\n",
       "      <td>N</td>\n",
       "      <td>0.0</td>\n",
       "      <td>0.0</td>\n",
       "      <td>7.3</td>\n",
       "      <td>0.70</td>\n",
       "      <td>1.0</td>\n",
       "    </tr>\n",
       "    <tr>\n",
       "      <th>1</th>\n",
       "      <td>42</td>\n",
       "      <td>43</td>\n",
       "      <td>1</td>\n",
       "      <td>2</td>\n",
       "      <td>5d25b9ee8e16a0e4fad56149</td>\n",
       "      <td>None</td>\n",
       "      <td>0.5</td>\n",
       "      <td>14.5</td>\n",
       "      <td>0.3</td>\n",
       "      <td>1514767602000</td>\n",
       "      <td>1514766626000</td>\n",
       "      <td>0.5</td>\n",
       "      <td>5</td>\n",
       "      <td>2</td>\n",
       "      <td>N</td>\n",
       "      <td>0.0</td>\n",
       "      <td>0.0</td>\n",
       "      <td>15.8</td>\n",
       "      <td>3.50</td>\n",
       "      <td>1.0</td>\n",
       "    </tr>\n",
       "    <tr>\n",
       "      <th>2</th>\n",
       "      <td>152</td>\n",
       "      <td>74</td>\n",
       "      <td>1</td>\n",
       "      <td>2</td>\n",
       "      <td>5d25b9ee8e16a0e4fad5614a</td>\n",
       "      <td>None</td>\n",
       "      <td>0.5</td>\n",
       "      <td>10.0</td>\n",
       "      <td>0.3</td>\n",
       "      <td>1514765985000</td>\n",
       "      <td>1514765245000</td>\n",
       "      <td>0.5</td>\n",
       "      <td>1</td>\n",
       "      <td>2</td>\n",
       "      <td>N</td>\n",
       "      <td>0.0</td>\n",
       "      <td>0.0</td>\n",
       "      <td>11.3</td>\n",
       "      <td>2.14</td>\n",
       "      <td>1.0</td>\n",
       "    </tr>\n",
       "    <tr>\n",
       "      <th>3</th>\n",
       "      <td>255</td>\n",
       "      <td>255</td>\n",
       "      <td>1</td>\n",
       "      <td>2</td>\n",
       "      <td>5d25b9ee8e16a0e4fad5614b</td>\n",
       "      <td>None</td>\n",
       "      <td>-0.5</td>\n",
       "      <td>-3.0</td>\n",
       "      <td>-0.3</td>\n",
       "      <td>1514766821000</td>\n",
       "      <td>1514766760000</td>\n",
       "      <td>-0.5</td>\n",
       "      <td>1</td>\n",
       "      <td>3</td>\n",
       "      <td>N</td>\n",
       "      <td>0.0</td>\n",
       "      <td>0.0</td>\n",
       "      <td>-4.3</td>\n",
       "      <td>0.03</td>\n",
       "      <td>1.0</td>\n",
       "    </tr>\n",
       "    <tr>\n",
       "      <th>4</th>\n",
       "      <td>255</td>\n",
       "      <td>255</td>\n",
       "      <td>1</td>\n",
       "      <td>2</td>\n",
       "      <td>5d25b9ee8e16a0e4fad5614c</td>\n",
       "      <td>None</td>\n",
       "      <td>0.5</td>\n",
       "      <td>3.0</td>\n",
       "      <td>0.3</td>\n",
       "      <td>1514766821000</td>\n",
       "      <td>1514766760000</td>\n",
       "      <td>0.5</td>\n",
       "      <td>1</td>\n",
       "      <td>2</td>\n",
       "      <td>N</td>\n",
       "      <td>0.0</td>\n",
       "      <td>0.0</td>\n",
       "      <td>4.3</td>\n",
       "      <td>0.03</td>\n",
       "      <td>1.0</td>\n",
       "    </tr>\n",
       "  </tbody>\n",
       "</table>\n",
       "</div>"
      ],
      "text/plain": [
       "   DOLocationID  PULocationID  RatecodeID  VendorID                       _id  \\\n",
       "0           236           236           1         2  5d25b9ee8e16a0e4fad56148   \n",
       "1            42            43           1         2  5d25b9ee8e16a0e4fad56149   \n",
       "2           152            74           1         2  5d25b9ee8e16a0e4fad5614a   \n",
       "3           255           255           1         2  5d25b9ee8e16a0e4fad5614b   \n",
       "4           255           255           1         2  5d25b9ee8e16a0e4fad5614c   \n",
       "\n",
       "  ehail_fee  extra  fare_amount  improvement_surcharge  lpep_dropoff_datetime  \\\n",
       "0      None    0.5          6.0                    0.3          1514766279000   \n",
       "1      None    0.5         14.5                    0.3          1514767602000   \n",
       "2      None    0.5         10.0                    0.3          1514765985000   \n",
       "3      None   -0.5         -3.0                   -0.3          1514766821000   \n",
       "4      None    0.5          3.0                    0.3          1514766821000   \n",
       "\n",
       "   lpep_pickup_datetime  mta_tax  passenger_count  payment_type  \\\n",
       "0         1514765930000      0.5                5             2   \n",
       "1         1514766626000      0.5                5             2   \n",
       "2         1514765245000      0.5                1             2   \n",
       "3         1514766760000     -0.5                1             3   \n",
       "4         1514766760000      0.5                1             2   \n",
       "\n",
       "  store_and_fwd_flag  tip_amount  tolls_amount  total_amount  trip_distance  \\\n",
       "0                  N         0.0           0.0           7.3           0.70   \n",
       "1                  N         0.0           0.0          15.8           3.50   \n",
       "2                  N         0.0           0.0          11.3           2.14   \n",
       "3                  N         0.0           0.0          -4.3           0.03   \n",
       "4                  N         0.0           0.0           4.3           0.03   \n",
       "\n",
       "   trip_type  \n",
       "0        1.0  \n",
       "1        1.0  \n",
       "2        1.0  \n",
       "3        1.0  \n",
       "4        1.0  "
      ]
     },
     "execution_count": 91,
     "metadata": {},
     "output_type": "execute_result"
    }
   ],
   "source": [
    "start_time = datetime.utcnow()\n",
    "df_taxi_from_db = pd.DataFrame(list(db.taxi.find()))\n",
    "print(f'elapsed time: {datetime.utcnow() - start_time}')\n",
    "df_taxi_from_db.head()"
   ]
  },
  {
   "cell_type": "markdown",
   "metadata": {},
   "source": [
    "Retrieving data from MongoDB"
   ]
  },
  {
   "cell_type": "code",
   "execution_count": 92,
   "metadata": {},
   "outputs": [
    {
     "data": {
      "text/plain": [
       "793529"
      ]
     },
     "execution_count": 92,
     "metadata": {},
     "output_type": "execute_result"
    }
   ],
   "source": [
    "len(df_taxi_from_db)"
   ]
  },
  {
   "cell_type": "code",
   "execution_count": 89,
   "metadata": {},
   "outputs": [
    {
     "data": {
      "text/plain": [
       "{'ns': 'tutorial_db.taxi', 'nIndexesWas': 1, 'ok': 1.0}"
      ]
     },
     "execution_count": 89,
     "metadata": {},
     "output_type": "execute_result"
    }
   ],
   "source": [
    "db.drop_collection('taxi')"
   ]
  },
  {
   "cell_type": "markdown",
   "metadata": {},
   "source": [
    "The performance of data transfer between Pandas DataFrames and MongoDB is rather good.\n",
    "\n",
    "Note that some data type conversions may require special attention (like datetime above). Additionally, using (tabular) DataFrames does only make sense if the data is somewhat table-like."
   ]
  },
  {
   "cell_type": "markdown",
   "metadata": {},
   "source": [
    "# Cleanup"
   ]
  },
  {
   "cell_type": "code",
   "execution_count": 312,
   "metadata": {},
   "outputs": [],
   "source": [
    "client.drop_database(db_name)"
   ]
  }
 ],
 "metadata": {
  "kernelspec": {
   "display_name": "Python 3",
   "language": "python",
   "name": "python3"
  },
  "language_info": {
   "codemirror_mode": {
    "name": "ipython",
    "version": 3
   },
   "file_extension": ".py",
   "mimetype": "text/x-python",
   "name": "python",
   "nbconvert_exporter": "python",
   "pygments_lexer": "ipython3",
   "version": "3.7.3"
  }
 },
 "nbformat": 4,
 "nbformat_minor": 2
}

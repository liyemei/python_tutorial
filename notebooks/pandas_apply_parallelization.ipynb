{
 "cells": [
  {
   "cell_type": "markdown",
   "metadata": {},
   "source": [
    "# Parallelizing Pandas DataFrame Apply"
   ]
  },
  {
   "cell_type": "markdown",
   "metadata": {},
   "source": [
    "## Parallelization Code"
   ]
  },
  {
   "cell_type": "code",
   "execution_count": 1,
   "metadata": {},
   "outputs": [],
   "source": [
    "import pandas as pd\n",
    "import concurrent.futures as fut"
   ]
  },
  {
   "cell_type": "code",
   "execution_count": 2,
   "metadata": {},
   "outputs": [],
   "source": [
    "def apply_df(df, *args, **kwargs):\n",
    "    return df.apply(*args, **kwargs)"
   ]
  },
  {
   "cell_type": "code",
   "execution_count": 3,
   "metadata": {},
   "outputs": [],
   "source": [
    "def apply_chunks(df, func, *args, executor=None, chunksize=10000, **kwargs):\n",
    "    df_chunks = (df[i:i+chunksize] for i in range(0, df.shape[0], chunksize))\n",
    "    \n",
    "    if executor is None:\n",
    "        # generate ad-hoc executor\n",
    "        with fut.ProcessPoolExecutor() as ex:\n",
    "            futures = [ex.submit(apply_df, df_part, func, *args, axis=1, **kwargs)\n",
    "              for df_part in df_chunks]\n",
    "            out = pd.concat([future.result() for future in futures])\n",
    "    else:\n",
    "        futures = [executor.submit(apply_df, df_part, func, *args, axis=1, **kwargs)\n",
    "              for df_part in df_chunks]\n",
    "        out = pd.concat([future.result() for future in futures])\n",
    "    return out"
   ]
  },
  {
   "cell_type": "markdown",
   "metadata": {},
   "source": [
    "Limitations:\n",
    "* only works for axis=1\n",
    "* does not work for lambda functions (they are not pickable) - one needs to define standard (non-anonymous) functions (via def)."
   ]
  },
  {
   "cell_type": "markdown",
   "metadata": {},
   "source": [
    "## Test Case"
   ]
  },
  {
   "cell_type": "code",
   "execution_count": 4,
   "metadata": {},
   "outputs": [],
   "source": [
    "import numpy as np"
   ]
  },
  {
   "cell_type": "code",
   "execution_count": 5,
   "metadata": {},
   "outputs": [
    {
     "data": {
      "text/html": [
       "<div>\n",
       "<style scoped>\n",
       "    .dataframe tbody tr th:only-of-type {\n",
       "        vertical-align: middle;\n",
       "    }\n",
       "\n",
       "    .dataframe tbody tr th {\n",
       "        vertical-align: top;\n",
       "    }\n",
       "\n",
       "    .dataframe thead th {\n",
       "        text-align: right;\n",
       "    }\n",
       "</style>\n",
       "<table border=\"1\" class=\"dataframe\">\n",
       "  <thead>\n",
       "    <tr style=\"text-align: right;\">\n",
       "      <th></th>\n",
       "      <th>0</th>\n",
       "      <th>1</th>\n",
       "      <th>2</th>\n",
       "      <th>3</th>\n",
       "      <th>4</th>\n",
       "    </tr>\n",
       "  </thead>\n",
       "  <tbody>\n",
       "    <tr>\n",
       "      <th>0</th>\n",
       "      <td>-0.623533</td>\n",
       "      <td>-0.023109</td>\n",
       "      <td>1.328919</td>\n",
       "      <td>-0.150032</td>\n",
       "      <td>0.110899</td>\n",
       "    </tr>\n",
       "    <tr>\n",
       "      <th>1</th>\n",
       "      <td>0.752936</td>\n",
       "      <td>0.673337</td>\n",
       "      <td>0.299617</td>\n",
       "      <td>-0.085345</td>\n",
       "      <td>-0.465252</td>\n",
       "    </tr>\n",
       "    <tr>\n",
       "      <th>2</th>\n",
       "      <td>-0.273059</td>\n",
       "      <td>0.008448</td>\n",
       "      <td>0.833176</td>\n",
       "      <td>-0.588263</td>\n",
       "      <td>0.771937</td>\n",
       "    </tr>\n",
       "    <tr>\n",
       "      <th>3</th>\n",
       "      <td>1.467874</td>\n",
       "      <td>0.789163</td>\n",
       "      <td>-0.421545</td>\n",
       "      <td>0.158145</td>\n",
       "      <td>0.832988</td>\n",
       "    </tr>\n",
       "    <tr>\n",
       "      <th>4</th>\n",
       "      <td>-0.928144</td>\n",
       "      <td>0.792610</td>\n",
       "      <td>-0.066542</td>\n",
       "      <td>1.977496</td>\n",
       "      <td>0.067713</td>\n",
       "    </tr>\n",
       "  </tbody>\n",
       "</table>\n",
       "</div>"
      ],
      "text/plain": [
       "          0         1         2         3         4\n",
       "0 -0.623533 -0.023109  1.328919 -0.150032  0.110899\n",
       "1  0.752936  0.673337  0.299617 -0.085345 -0.465252\n",
       "2 -0.273059  0.008448  0.833176 -0.588263  0.771937\n",
       "3  1.467874  0.789163 -0.421545  0.158145  0.832988\n",
       "4 -0.928144  0.792610 -0.066542  1.977496  0.067713"
      ]
     },
     "execution_count": 5,
     "metadata": {},
     "output_type": "execute_result"
    }
   ],
   "source": [
    "df = pd.DataFrame(np.random.randn(1000000, 5))\n",
    "df.head()"
   ]
  },
  {
   "cell_type": "code",
   "execution_count": 6,
   "metadata": {},
   "outputs": [],
   "source": [
    "def func(x):\n",
    "    return sum(x)"
   ]
  },
  {
   "cell_type": "markdown",
   "metadata": {},
   "source": [
    "### Standard Version"
   ]
  },
  {
   "cell_type": "code",
   "execution_count": 7,
   "metadata": {},
   "outputs": [
    {
     "name": "stdout",
     "output_type": "stream",
     "text": [
      "CPU times: user 48.9 s, sys: 56 ms, total: 49 s\n",
      "Wall time: 49 s\n"
     ]
    }
   ],
   "source": [
    "%time df['y'] = apply_df(df, func, axis=1)"
   ]
  },
  {
   "cell_type": "code",
   "execution_count": 8,
   "metadata": {},
   "outputs": [
    {
     "data": {
      "text/html": [
       "<div>\n",
       "<style scoped>\n",
       "    .dataframe tbody tr th:only-of-type {\n",
       "        vertical-align: middle;\n",
       "    }\n",
       "\n",
       "    .dataframe tbody tr th {\n",
       "        vertical-align: top;\n",
       "    }\n",
       "\n",
       "    .dataframe thead th {\n",
       "        text-align: right;\n",
       "    }\n",
       "</style>\n",
       "<table border=\"1\" class=\"dataframe\">\n",
       "  <thead>\n",
       "    <tr style=\"text-align: right;\">\n",
       "      <th></th>\n",
       "      <th>0</th>\n",
       "      <th>1</th>\n",
       "      <th>2</th>\n",
       "      <th>3</th>\n",
       "      <th>4</th>\n",
       "      <th>y</th>\n",
       "    </tr>\n",
       "  </thead>\n",
       "  <tbody>\n",
       "    <tr>\n",
       "      <th>0</th>\n",
       "      <td>-0.623533</td>\n",
       "      <td>-0.023109</td>\n",
       "      <td>1.328919</td>\n",
       "      <td>-0.150032</td>\n",
       "      <td>0.110899</td>\n",
       "      <td>0.643145</td>\n",
       "    </tr>\n",
       "    <tr>\n",
       "      <th>1</th>\n",
       "      <td>0.752936</td>\n",
       "      <td>0.673337</td>\n",
       "      <td>0.299617</td>\n",
       "      <td>-0.085345</td>\n",
       "      <td>-0.465252</td>\n",
       "      <td>1.175292</td>\n",
       "    </tr>\n",
       "    <tr>\n",
       "      <th>2</th>\n",
       "      <td>-0.273059</td>\n",
       "      <td>0.008448</td>\n",
       "      <td>0.833176</td>\n",
       "      <td>-0.588263</td>\n",
       "      <td>0.771937</td>\n",
       "      <td>0.752238</td>\n",
       "    </tr>\n",
       "    <tr>\n",
       "      <th>3</th>\n",
       "      <td>1.467874</td>\n",
       "      <td>0.789163</td>\n",
       "      <td>-0.421545</td>\n",
       "      <td>0.158145</td>\n",
       "      <td>0.832988</td>\n",
       "      <td>2.826626</td>\n",
       "    </tr>\n",
       "    <tr>\n",
       "      <th>4</th>\n",
       "      <td>-0.928144</td>\n",
       "      <td>0.792610</td>\n",
       "      <td>-0.066542</td>\n",
       "      <td>1.977496</td>\n",
       "      <td>0.067713</td>\n",
       "      <td>1.843132</td>\n",
       "    </tr>\n",
       "  </tbody>\n",
       "</table>\n",
       "</div>"
      ],
      "text/plain": [
       "          0         1         2         3         4         y\n",
       "0 -0.623533 -0.023109  1.328919 -0.150032  0.110899  0.643145\n",
       "1  0.752936  0.673337  0.299617 -0.085345 -0.465252  1.175292\n",
       "2 -0.273059  0.008448  0.833176 -0.588263  0.771937  0.752238\n",
       "3  1.467874  0.789163 -0.421545  0.158145  0.832988  2.826626\n",
       "4 -0.928144  0.792610 -0.066542  1.977496  0.067713  1.843132"
      ]
     },
     "execution_count": 8,
     "metadata": {},
     "output_type": "execute_result"
    }
   ],
   "source": [
    "df.head()"
   ]
  },
  {
   "cell_type": "code",
   "execution_count": 9,
   "metadata": {},
   "outputs": [],
   "source": [
    "df.drop(columns='y', inplace=True)"
   ]
  },
  {
   "cell_type": "markdown",
   "metadata": {},
   "source": [
    "### Parallel Version"
   ]
  },
  {
   "cell_type": "code",
   "execution_count": 10,
   "metadata": {},
   "outputs": [
    {
     "name": "stdout",
     "output_type": "stream",
     "text": [
      "CPU times: user 333 ms, sys: 99 ms, total: 432 ms\n",
      "Wall time: 13.2 s\n"
     ]
    }
   ],
   "source": [
    "%time df['y'] = apply_chunks(df, func)"
   ]
  },
  {
   "cell_type": "code",
   "execution_count": 11,
   "metadata": {},
   "outputs": [
    {
     "data": {
      "text/html": [
       "<div>\n",
       "<style scoped>\n",
       "    .dataframe tbody tr th:only-of-type {\n",
       "        vertical-align: middle;\n",
       "    }\n",
       "\n",
       "    .dataframe tbody tr th {\n",
       "        vertical-align: top;\n",
       "    }\n",
       "\n",
       "    .dataframe thead th {\n",
       "        text-align: right;\n",
       "    }\n",
       "</style>\n",
       "<table border=\"1\" class=\"dataframe\">\n",
       "  <thead>\n",
       "    <tr style=\"text-align: right;\">\n",
       "      <th></th>\n",
       "      <th>0</th>\n",
       "      <th>1</th>\n",
       "      <th>2</th>\n",
       "      <th>3</th>\n",
       "      <th>4</th>\n",
       "      <th>y</th>\n",
       "    </tr>\n",
       "  </thead>\n",
       "  <tbody>\n",
       "    <tr>\n",
       "      <th>0</th>\n",
       "      <td>-0.623533</td>\n",
       "      <td>-0.023109</td>\n",
       "      <td>1.328919</td>\n",
       "      <td>-0.150032</td>\n",
       "      <td>0.110899</td>\n",
       "      <td>0.643145</td>\n",
       "    </tr>\n",
       "    <tr>\n",
       "      <th>1</th>\n",
       "      <td>0.752936</td>\n",
       "      <td>0.673337</td>\n",
       "      <td>0.299617</td>\n",
       "      <td>-0.085345</td>\n",
       "      <td>-0.465252</td>\n",
       "      <td>1.175292</td>\n",
       "    </tr>\n",
       "    <tr>\n",
       "      <th>2</th>\n",
       "      <td>-0.273059</td>\n",
       "      <td>0.008448</td>\n",
       "      <td>0.833176</td>\n",
       "      <td>-0.588263</td>\n",
       "      <td>0.771937</td>\n",
       "      <td>0.752238</td>\n",
       "    </tr>\n",
       "    <tr>\n",
       "      <th>3</th>\n",
       "      <td>1.467874</td>\n",
       "      <td>0.789163</td>\n",
       "      <td>-0.421545</td>\n",
       "      <td>0.158145</td>\n",
       "      <td>0.832988</td>\n",
       "      <td>2.826626</td>\n",
       "    </tr>\n",
       "    <tr>\n",
       "      <th>4</th>\n",
       "      <td>-0.928144</td>\n",
       "      <td>0.792610</td>\n",
       "      <td>-0.066542</td>\n",
       "      <td>1.977496</td>\n",
       "      <td>0.067713</td>\n",
       "      <td>1.843132</td>\n",
       "    </tr>\n",
       "  </tbody>\n",
       "</table>\n",
       "</div>"
      ],
      "text/plain": [
       "          0         1         2         3         4         y\n",
       "0 -0.623533 -0.023109  1.328919 -0.150032  0.110899  0.643145\n",
       "1  0.752936  0.673337  0.299617 -0.085345 -0.465252  1.175292\n",
       "2 -0.273059  0.008448  0.833176 -0.588263  0.771937  0.752238\n",
       "3  1.467874  0.789163 -0.421545  0.158145  0.832988  2.826626\n",
       "4 -0.928144  0.792610 -0.066542  1.977496  0.067713  1.843132"
      ]
     },
     "execution_count": 11,
     "metadata": {},
     "output_type": "execute_result"
    }
   ],
   "source": [
    "df.head()"
   ]
  },
  {
   "cell_type": "code",
   "execution_count": 12,
   "metadata": {},
   "outputs": [],
   "source": [
    "df.drop(columns='y', inplace=True)"
   ]
  },
  {
   "cell_type": "markdown",
   "metadata": {},
   "source": [
    "### Dask"
   ]
  },
  {
   "cell_type": "code",
   "execution_count": 13,
   "metadata": {},
   "outputs": [],
   "source": [
    "import dask.distributed"
   ]
  },
  {
   "cell_type": "code",
   "execution_count": 14,
   "metadata": {},
   "outputs": [
    {
     "data": {
      "text/html": [
       "<table style=\"border: 2px solid white;\">\n",
       "<tr>\n",
       "<td style=\"vertical-align: top; border: 0px solid white\">\n",
       "<h3 style=\"text-align: left;\">Client</h3>\n",
       "<ul style=\"text-align: left; list-style: none; margin: 0; padding: 0;\">\n",
       "  <li><b>Scheduler: </b>tcp://127.0.0.1:38596</li>\n",
       "  <li><b>Dashboard: </b><a href='http://127.0.0.1:8787/status' target='_blank'>http://127.0.0.1:8787/status</a>\n",
       "</ul>\n",
       "</td>\n",
       "<td style=\"vertical-align: top; border: 0px solid white\">\n",
       "<h3 style=\"text-align: left;\">Cluster</h3>\n",
       "<ul style=\"text-align: left; list-style:none; margin: 0; padding: 0;\">\n",
       "  <li><b>Workers: </b>4</li>\n",
       "  <li><b>Cores: </b>4</li>\n",
       "  <li><b>Memory: </b>10.28 GB</li>\n",
       "</ul>\n",
       "</td>\n",
       "</tr>\n",
       "</table>"
      ],
      "text/plain": [
       "<Client: scheduler='tcp://127.0.0.1:38596' processes=4 cores=4>"
      ]
     },
     "execution_count": 14,
     "metadata": {},
     "output_type": "execute_result"
    }
   ],
   "source": [
    "client = dask.distributed.Client()\n",
    "client"
   ]
  },
  {
   "cell_type": "code",
   "execution_count": 15,
   "metadata": {},
   "outputs": [
    {
     "name": "stdout",
     "output_type": "stream",
     "text": [
      "CPU times: user 3.88 s, sys: 587 ms, total: 4.47 s\n",
      "Wall time: 17.1 s\n"
     ]
    }
   ],
   "source": [
    "%time df['y'] = apply_chunks(df, func, executor=client)"
   ]
  },
  {
   "cell_type": "code",
   "execution_count": 16,
   "metadata": {},
   "outputs": [
    {
     "data": {
      "text/html": [
       "<div>\n",
       "<style scoped>\n",
       "    .dataframe tbody tr th:only-of-type {\n",
       "        vertical-align: middle;\n",
       "    }\n",
       "\n",
       "    .dataframe tbody tr th {\n",
       "        vertical-align: top;\n",
       "    }\n",
       "\n",
       "    .dataframe thead th {\n",
       "        text-align: right;\n",
       "    }\n",
       "</style>\n",
       "<table border=\"1\" class=\"dataframe\">\n",
       "  <thead>\n",
       "    <tr style=\"text-align: right;\">\n",
       "      <th></th>\n",
       "      <th>0</th>\n",
       "      <th>1</th>\n",
       "      <th>2</th>\n",
       "      <th>3</th>\n",
       "      <th>4</th>\n",
       "      <th>y</th>\n",
       "    </tr>\n",
       "  </thead>\n",
       "  <tbody>\n",
       "    <tr>\n",
       "      <th>0</th>\n",
       "      <td>-0.623533</td>\n",
       "      <td>-0.023109</td>\n",
       "      <td>1.328919</td>\n",
       "      <td>-0.150032</td>\n",
       "      <td>0.110899</td>\n",
       "      <td>0.643145</td>\n",
       "    </tr>\n",
       "    <tr>\n",
       "      <th>1</th>\n",
       "      <td>0.752936</td>\n",
       "      <td>0.673337</td>\n",
       "      <td>0.299617</td>\n",
       "      <td>-0.085345</td>\n",
       "      <td>-0.465252</td>\n",
       "      <td>1.175292</td>\n",
       "    </tr>\n",
       "    <tr>\n",
       "      <th>2</th>\n",
       "      <td>-0.273059</td>\n",
       "      <td>0.008448</td>\n",
       "      <td>0.833176</td>\n",
       "      <td>-0.588263</td>\n",
       "      <td>0.771937</td>\n",
       "      <td>0.752238</td>\n",
       "    </tr>\n",
       "    <tr>\n",
       "      <th>3</th>\n",
       "      <td>1.467874</td>\n",
       "      <td>0.789163</td>\n",
       "      <td>-0.421545</td>\n",
       "      <td>0.158145</td>\n",
       "      <td>0.832988</td>\n",
       "      <td>2.826626</td>\n",
       "    </tr>\n",
       "    <tr>\n",
       "      <th>4</th>\n",
       "      <td>-0.928144</td>\n",
       "      <td>0.792610</td>\n",
       "      <td>-0.066542</td>\n",
       "      <td>1.977496</td>\n",
       "      <td>0.067713</td>\n",
       "      <td>1.843132</td>\n",
       "    </tr>\n",
       "  </tbody>\n",
       "</table>\n",
       "</div>"
      ],
      "text/plain": [
       "          0         1         2         3         4         y\n",
       "0 -0.623533 -0.023109  1.328919 -0.150032  0.110899  0.643145\n",
       "1  0.752936  0.673337  0.299617 -0.085345 -0.465252  1.175292\n",
       "2 -0.273059  0.008448  0.833176 -0.588263  0.771937  0.752238\n",
       "3  1.467874  0.789163 -0.421545  0.158145  0.832988  2.826626\n",
       "4 -0.928144  0.792610 -0.066542  1.977496  0.067713  1.843132"
      ]
     },
     "execution_count": 16,
     "metadata": {},
     "output_type": "execute_result"
    }
   ],
   "source": [
    "df.head()"
   ]
  },
  {
   "cell_type": "code",
   "execution_count": 17,
   "metadata": {},
   "outputs": [],
   "source": [
    "df.drop(columns='y', inplace=True)"
   ]
  },
  {
   "cell_type": "code",
   "execution_count": 18,
   "metadata": {},
   "outputs": [],
   "source": [
    "client.close()"
   ]
  },
  {
   "cell_type": "markdown",
   "metadata": {},
   "source": [
    "### Vectorized Version\n",
    "\n",
    "Just for comparison in this simple example.\n",
    "\n",
    "Note that the use case for apply are just these cases where vectorization is not possible."
   ]
  },
  {
   "cell_type": "code",
   "execution_count": 19,
   "metadata": {},
   "outputs": [
    {
     "name": "stdout",
     "output_type": "stream",
     "text": [
      "CPU times: user 108 ms, sys: 30 ms, total: 138 ms\n",
      "Wall time: 135 ms\n"
     ]
    }
   ],
   "source": [
    "%time df['y'] = df.sum(axis=1)"
   ]
  },
  {
   "cell_type": "code",
   "execution_count": 20,
   "metadata": {},
   "outputs": [
    {
     "data": {
      "text/html": [
       "<div>\n",
       "<style scoped>\n",
       "    .dataframe tbody tr th:only-of-type {\n",
       "        vertical-align: middle;\n",
       "    }\n",
       "\n",
       "    .dataframe tbody tr th {\n",
       "        vertical-align: top;\n",
       "    }\n",
       "\n",
       "    .dataframe thead th {\n",
       "        text-align: right;\n",
       "    }\n",
       "</style>\n",
       "<table border=\"1\" class=\"dataframe\">\n",
       "  <thead>\n",
       "    <tr style=\"text-align: right;\">\n",
       "      <th></th>\n",
       "      <th>0</th>\n",
       "      <th>1</th>\n",
       "      <th>2</th>\n",
       "      <th>3</th>\n",
       "      <th>4</th>\n",
       "      <th>y</th>\n",
       "    </tr>\n",
       "  </thead>\n",
       "  <tbody>\n",
       "    <tr>\n",
       "      <th>0</th>\n",
       "      <td>-0.623533</td>\n",
       "      <td>-0.023109</td>\n",
       "      <td>1.328919</td>\n",
       "      <td>-0.150032</td>\n",
       "      <td>0.110899</td>\n",
       "      <td>0.643145</td>\n",
       "    </tr>\n",
       "    <tr>\n",
       "      <th>1</th>\n",
       "      <td>0.752936</td>\n",
       "      <td>0.673337</td>\n",
       "      <td>0.299617</td>\n",
       "      <td>-0.085345</td>\n",
       "      <td>-0.465252</td>\n",
       "      <td>1.175292</td>\n",
       "    </tr>\n",
       "    <tr>\n",
       "      <th>2</th>\n",
       "      <td>-0.273059</td>\n",
       "      <td>0.008448</td>\n",
       "      <td>0.833176</td>\n",
       "      <td>-0.588263</td>\n",
       "      <td>0.771937</td>\n",
       "      <td>0.752238</td>\n",
       "    </tr>\n",
       "    <tr>\n",
       "      <th>3</th>\n",
       "      <td>1.467874</td>\n",
       "      <td>0.789163</td>\n",
       "      <td>-0.421545</td>\n",
       "      <td>0.158145</td>\n",
       "      <td>0.832988</td>\n",
       "      <td>2.826626</td>\n",
       "    </tr>\n",
       "    <tr>\n",
       "      <th>4</th>\n",
       "      <td>-0.928144</td>\n",
       "      <td>0.792610</td>\n",
       "      <td>-0.066542</td>\n",
       "      <td>1.977496</td>\n",
       "      <td>0.067713</td>\n",
       "      <td>1.843132</td>\n",
       "    </tr>\n",
       "  </tbody>\n",
       "</table>\n",
       "</div>"
      ],
      "text/plain": [
       "          0         1         2         3         4         y\n",
       "0 -0.623533 -0.023109  1.328919 -0.150032  0.110899  0.643145\n",
       "1  0.752936  0.673337  0.299617 -0.085345 -0.465252  1.175292\n",
       "2 -0.273059  0.008448  0.833176 -0.588263  0.771937  0.752238\n",
       "3  1.467874  0.789163 -0.421545  0.158145  0.832988  2.826626\n",
       "4 -0.928144  0.792610 -0.066542  1.977496  0.067713  1.843132"
      ]
     },
     "execution_count": 20,
     "metadata": {},
     "output_type": "execute_result"
    }
   ],
   "source": [
    "df.head()"
   ]
  },
  {
   "cell_type": "code",
   "execution_count": 21,
   "metadata": {},
   "outputs": [],
   "source": [
    "df.drop(columns='y', inplace=True)"
   ]
  },
  {
   "cell_type": "markdown",
   "metadata": {},
   "source": [
    "## Summary\n",
    "\n",
    "A significant speed-up (factor 3 with 4 CPUs) was gained using Multiprocessing for Pandas DataFrame applys.\n",
    "\n",
    "The speed gain using Dask was smaller, maybe it has more overhead.\n",
    "\n",
    "No parallelization comes even close to (single CPU) vectorized calculations, but they are not possible in all cases."
   ]
  }
 ],
 "metadata": {
  "kernelspec": {
   "display_name": "Python 3",
   "language": "python",
   "name": "python3"
  },
  "language_info": {
   "codemirror_mode": {
    "name": "ipython",
    "version": 3
   },
   "file_extension": ".py",
   "mimetype": "text/x-python",
   "name": "python",
   "nbconvert_exporter": "python",
   "pygments_lexer": "ipython3",
   "version": "3.7.3"
  }
 },
 "nbformat": 4,
 "nbformat_minor": 4
}

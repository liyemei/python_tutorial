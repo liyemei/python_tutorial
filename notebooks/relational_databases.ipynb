{
 "cells": [
  {
   "cell_type": "markdown",
   "metadata": {},
   "source": [
    "# Relational Databases\n",
    "\n",
    "In the following it is assumed that the reader is familar with the concept of a relational database and the SQL syntax."
   ]
  },
  {
   "cell_type": "code",
   "execution_count": 26,
   "metadata": {},
   "outputs": [],
   "source": [
    "import sqlalchemy"
   ]
  },
  {
   "cell_type": "markdown",
   "metadata": {},
   "source": [
    "## SQLite\n",
    "\n",
    "SQLite is a light-weight relational database where the data is stored either in memory or in a single file. In contrast to most other database technologies, it does not have a client/ server architecture.\n",
    "\n",
    "SQLite is very commonly used (e.g. for Android), a (potentially a bit biassed) discussion of the use cases is given here:\n",
    "\n",
    "https://www.sqlite.org/whentouse.html\n",
    "\n",
    "The easiest way to use SQLite in Python would be the *sqlite3* standard library. Here however we are using the SQLAlchemy engine, which yields a better portability to other database technologies and allows usage of the SQLAlchemy ORM (see below)."
   ]
  },
  {
   "cell_type": "code",
   "execution_count": 29,
   "metadata": {},
   "outputs": [],
   "source": [
    "# engine = sqlalchemy.create_engine('sqlite:///test.db') # database in file\n",
    "engine = sqlalchemy.create_engine('sqlite:///:memory:') # in-memory database\n",
    "con = engine.connect()"
   ]
  },
  {
   "cell_type": "code",
   "execution_count": 30,
   "metadata": {},
   "outputs": [],
   "source": [
    "table_name = 'test1'"
   ]
  },
  {
   "cell_type": "code",
   "execution_count": 31,
   "metadata": {},
   "outputs": [
    {
     "data": {
      "text/plain": [
       "<sqlalchemy.engine.result.ResultProxy at 0x7ff9b5039f60>"
      ]
     },
     "execution_count": 31,
     "metadata": {},
     "output_type": "execute_result"
    }
   ],
   "source": [
    "sql = f\"\"\"\n",
    "CREATE TABLE {table_name} (\n",
    "Id Int,\n",
    "Name Varchar,\n",
    "Amount Numeric(10,2))\n",
    "\"\"\"\n",
    "con.execute(sql)"
   ]
  },
  {
   "cell_type": "code",
   "execution_count": 32,
   "metadata": {},
   "outputs": [
    {
     "data": {
      "text/plain": [
       "<sqlalchemy.engine.result.ResultProxy at 0x7ff9b3bf6400>"
      ]
     },
     "execution_count": 32,
     "metadata": {},
     "output_type": "execute_result"
    }
   ],
   "source": [
    "sql = f\"\"\"\n",
    "INSERT INTO {table_name} (Id, Name, Amount) \n",
    "VALUES \n",
    "(1, 'hello', 42),\n",
    "(2, 'world', 7.42),\n",
    "(3, '!', -1)\n",
    "\"\"\"\n",
    "con.execute(sql)"
   ]
  },
  {
   "cell_type": "code",
   "execution_count": 33,
   "metadata": {},
   "outputs": [
    {
     "name": "stdout",
     "output_type": "stream",
     "text": [
      "(1, 'hello')\n",
      "(2, 'world')\n"
     ]
    }
   ],
   "source": [
    "sql = f\"\"\"\n",
    "select Id, Name\n",
    "from {table_name}\n",
    "where Amount > 0\n",
    "\"\"\"\n",
    "result = con.execute(sql)\n",
    "for line in result:\n",
    "    print(line)"
   ]
  },
  {
   "cell_type": "code",
   "execution_count": 34,
   "metadata": {},
   "outputs": [
    {
     "data": {
      "text/plain": [
       "<sqlalchemy.engine.result.ResultProxy at 0x7ff9b3bf6da0>"
      ]
     },
     "execution_count": 34,
     "metadata": {},
     "output_type": "execute_result"
    }
   ],
   "source": [
    "sql = f\"\"\"\n",
    "DROP TABLE {table_name}\n",
    "\"\"\"\n",
    "con.execute(sql)"
   ]
  },
  {
   "cell_type": "markdown",
   "metadata": {},
   "source": [
    "## Postgres\n",
    "\n",
    "This tutorial requires a running Postgres server, preferably in a Docker container started using the given docker-compose file."
   ]
  },
  {
   "cell_type": "code",
   "execution_count": 1,
   "metadata": {},
   "outputs": [
    {
     "name": "stdout",
     "output_type": "stream",
     "text": [
      "Collecting package metadata (current_repodata.json): done\n",
      "Solving environment: / \n",
      "The environment is inconsistent, please check the package plan carefully\n",
      "The following packages are causing the inconsistency:\n",
      "\n",
      "  - conda-forge/linux-64::matplotlib==3.0.3=py37_1\n",
      "done\n",
      "\n",
      "## Package Plan ##\n",
      "\n",
      "  environment location: /opt/conda\n",
      "\n",
      "  added / updated specs:\n",
      "    - psycopg2\n",
      "\n",
      "\n",
      "The following packages will be downloaded:\n",
      "\n",
      "    package                    |            build\n",
      "    ---------------------------|-----------------\n",
      "    libpq-11.4                 |       hd9ab2ff_1         2.4 MB  conda-forge\n",
      "    psycopg2-2.8.3             |   py37h72c5cf5_0         165 KB  conda-forge\n",
      "    pyqt-5.9.2                 |   py37hcca6a23_0         5.7 MB  conda-forge\n",
      "    qt-5.9.7                   |       h52cfd70_2        85.9 MB  conda-forge\n",
      "    ------------------------------------------------------------\n",
      "                                           Total:        94.2 MB\n",
      "\n",
      "The following NEW packages will be INSTALLED:\n",
      "\n",
      "  libpq              conda-forge/linux-64::libpq-11.4-hd9ab2ff_1\n",
      "  psycopg2           conda-forge/linux-64::psycopg2-2.8.3-py37h72c5cf5_0\n",
      "  pyqt               conda-forge/linux-64::pyqt-5.9.2-py37hcca6a23_0\n",
      "  qt                 conda-forge/linux-64::qt-5.9.7-h52cfd70_2\n",
      "\n",
      "\n",
      "\n",
      "Downloading and Extracting Packages\n",
      "pyqt-5.9.2           | 5.7 MB    | ##################################### | 100% \n",
      "psycopg2-2.8.3       | 165 KB    | ##################################### | 100% \n",
      "qt-5.9.7             | 85.9 MB   | ##################################### | 100% \n",
      "libpq-11.4           | 2.4 MB    | ##################################### | 100% \n",
      "Preparing transaction: done\n",
      "Verifying transaction: done\n",
      "Executing transaction: done\n"
     ]
    }
   ],
   "source": [
    "!conda install psycopg2 --yes # installs driver for Postgres"
   ]
  },
  {
   "cell_type": "code",
   "execution_count": 71,
   "metadata": {},
   "outputs": [],
   "source": [
    "username = 'postgres'\n",
    "password = 'J8IzgZj3iFhYClDl' # 'python_tutorial_5432'\n",
    "db_url = 'postgres_db:5432' # using Docker url alias\n",
    "db_schema = 'postgres'\n",
    "con_str = f'postgres://{username}:{password}@{db_url}/{db_schema}'"
   ]
  },
  {
   "cell_type": "code",
   "execution_count": 72,
   "metadata": {},
   "outputs": [],
   "source": [
    "engine_pg = sqlalchemy.create_engine(con_str)\n",
    "con_pg = engine_pg.connect()"
   ]
  },
  {
   "cell_type": "code",
   "execution_count": 10,
   "metadata": {},
   "outputs": [],
   "source": [
    "table_name = 'test1'"
   ]
  },
  {
   "cell_type": "code",
   "execution_count": 15,
   "metadata": {},
   "outputs": [
    {
     "data": {
      "text/plain": [
       "<sqlalchemy.engine.result.ResultProxy at 0x7ff9d4f47828>"
      ]
     },
     "execution_count": 15,
     "metadata": {},
     "output_type": "execute_result"
    }
   ],
   "source": [
    "sql = f\"\"\"\n",
    "CREATE TABLE {table_name} (\n",
    "Id Int,\n",
    "Name Varchar,\n",
    "Amount Numeric(10,2))\n",
    "\"\"\"\n",
    "con_pg.execute(sql)"
   ]
  },
  {
   "cell_type": "code",
   "execution_count": 16,
   "metadata": {},
   "outputs": [
    {
     "data": {
      "text/plain": [
       "<sqlalchemy.engine.result.ResultProxy at 0x7ff9d4f478d0>"
      ]
     },
     "execution_count": 16,
     "metadata": {},
     "output_type": "execute_result"
    }
   ],
   "source": [
    "sql = f\"\"\"\n",
    "INSERT INTO {table_name} (Id, Name, Amount) \n",
    "VALUES \n",
    "(1, 'hello', 42),\n",
    "(2, 'world', 7.42),\n",
    "(3, '!', -1)\n",
    "\"\"\"\n",
    "con_pg.execute(sql)"
   ]
  },
  {
   "cell_type": "code",
   "execution_count": 17,
   "metadata": {},
   "outputs": [
    {
     "name": "stdout",
     "output_type": "stream",
     "text": [
      "(1, 'hello')\n",
      "(2, 'world')\n"
     ]
    }
   ],
   "source": [
    "sql = f\"\"\"\n",
    "select Id, Name\n",
    "from {table_name}\n",
    "where Amount > 0\n",
    "\"\"\"\n",
    "result = con_pg.execute(sql)\n",
    "for line in result:\n",
    "    print(line)"
   ]
  },
  {
   "cell_type": "markdown",
   "metadata": {},
   "source": [
    "<a id='pandas'></a>\n",
    "## Pandas Interaction\n",
    "\n",
    "### Load Pandas Example Data\n",
    "\n",
    "The example data of the [Pandas](pandas.ipynb) tutorial is used here, the download commands are in that tutorial."
   ]
  },
  {
   "cell_type": "code",
   "execution_count": 79,
   "metadata": {},
   "outputs": [],
   "source": [
    "import pandas as pd"
   ]
  },
  {
   "cell_type": "code",
   "execution_count": 80,
   "metadata": {},
   "outputs": [],
   "source": [
    "test_csv = '../code/test_data.csv'\n",
    "table_name = 'test_taxi'"
   ]
  },
  {
   "cell_type": "code",
   "execution_count": 81,
   "metadata": {},
   "outputs": [
    {
     "data": {
      "text/html": [
       "<div>\n",
       "<style scoped>\n",
       "    .dataframe tbody tr th:only-of-type {\n",
       "        vertical-align: middle;\n",
       "    }\n",
       "\n",
       "    .dataframe tbody tr th {\n",
       "        vertical-align: top;\n",
       "    }\n",
       "\n",
       "    .dataframe thead th {\n",
       "        text-align: right;\n",
       "    }\n",
       "</style>\n",
       "<table border=\"1\" class=\"dataframe\">\n",
       "  <thead>\n",
       "    <tr style=\"text-align: right;\">\n",
       "      <th></th>\n",
       "      <th>VendorID</th>\n",
       "      <th>lpep_pickup_datetime</th>\n",
       "      <th>lpep_dropoff_datetime</th>\n",
       "      <th>store_and_fwd_flag</th>\n",
       "      <th>RatecodeID</th>\n",
       "      <th>PULocationID</th>\n",
       "      <th>DOLocationID</th>\n",
       "      <th>passenger_count</th>\n",
       "      <th>trip_distance</th>\n",
       "      <th>fare_amount</th>\n",
       "      <th>extra</th>\n",
       "      <th>mta_tax</th>\n",
       "      <th>tip_amount</th>\n",
       "      <th>tolls_amount</th>\n",
       "      <th>ehail_fee</th>\n",
       "      <th>improvement_surcharge</th>\n",
       "      <th>total_amount</th>\n",
       "      <th>payment_type</th>\n",
       "      <th>trip_type</th>\n",
       "    </tr>\n",
       "  </thead>\n",
       "  <tbody>\n",
       "    <tr>\n",
       "      <th>0</th>\n",
       "      <td>2</td>\n",
       "      <td>2018-01-01 00:18:50</td>\n",
       "      <td>2018-01-01 00:24:39</td>\n",
       "      <td>N</td>\n",
       "      <td>1</td>\n",
       "      <td>236</td>\n",
       "      <td>236</td>\n",
       "      <td>5</td>\n",
       "      <td>0.70</td>\n",
       "      <td>6.0</td>\n",
       "      <td>0.5</td>\n",
       "      <td>0.5</td>\n",
       "      <td>0.0</td>\n",
       "      <td>0.0</td>\n",
       "      <td>NaN</td>\n",
       "      <td>0.3</td>\n",
       "      <td>7.3</td>\n",
       "      <td>2</td>\n",
       "      <td>1</td>\n",
       "    </tr>\n",
       "    <tr>\n",
       "      <th>1</th>\n",
       "      <td>2</td>\n",
       "      <td>2018-01-01 00:30:26</td>\n",
       "      <td>2018-01-01 00:46:42</td>\n",
       "      <td>N</td>\n",
       "      <td>1</td>\n",
       "      <td>43</td>\n",
       "      <td>42</td>\n",
       "      <td>5</td>\n",
       "      <td>3.50</td>\n",
       "      <td>14.5</td>\n",
       "      <td>0.5</td>\n",
       "      <td>0.5</td>\n",
       "      <td>0.0</td>\n",
       "      <td>0.0</td>\n",
       "      <td>NaN</td>\n",
       "      <td>0.3</td>\n",
       "      <td>15.8</td>\n",
       "      <td>2</td>\n",
       "      <td>1</td>\n",
       "    </tr>\n",
       "    <tr>\n",
       "      <th>2</th>\n",
       "      <td>2</td>\n",
       "      <td>2018-01-01 00:07:25</td>\n",
       "      <td>2018-01-01 00:19:45</td>\n",
       "      <td>N</td>\n",
       "      <td>1</td>\n",
       "      <td>74</td>\n",
       "      <td>152</td>\n",
       "      <td>1</td>\n",
       "      <td>2.14</td>\n",
       "      <td>10.0</td>\n",
       "      <td>0.5</td>\n",
       "      <td>0.5</td>\n",
       "      <td>0.0</td>\n",
       "      <td>0.0</td>\n",
       "      <td>NaN</td>\n",
       "      <td>0.3</td>\n",
       "      <td>11.3</td>\n",
       "      <td>2</td>\n",
       "      <td>1</td>\n",
       "    </tr>\n",
       "    <tr>\n",
       "      <th>3</th>\n",
       "      <td>2</td>\n",
       "      <td>2018-01-01 00:32:40</td>\n",
       "      <td>2018-01-01 00:33:41</td>\n",
       "      <td>N</td>\n",
       "      <td>1</td>\n",
       "      <td>255</td>\n",
       "      <td>255</td>\n",
       "      <td>1</td>\n",
       "      <td>0.03</td>\n",
       "      <td>-3.0</td>\n",
       "      <td>-0.5</td>\n",
       "      <td>-0.5</td>\n",
       "      <td>0.0</td>\n",
       "      <td>0.0</td>\n",
       "      <td>NaN</td>\n",
       "      <td>-0.3</td>\n",
       "      <td>-4.3</td>\n",
       "      <td>3</td>\n",
       "      <td>1</td>\n",
       "    </tr>\n",
       "    <tr>\n",
       "      <th>4</th>\n",
       "      <td>2</td>\n",
       "      <td>2018-01-01 00:32:40</td>\n",
       "      <td>2018-01-01 00:33:41</td>\n",
       "      <td>N</td>\n",
       "      <td>1</td>\n",
       "      <td>255</td>\n",
       "      <td>255</td>\n",
       "      <td>1</td>\n",
       "      <td>0.03</td>\n",
       "      <td>3.0</td>\n",
       "      <td>0.5</td>\n",
       "      <td>0.5</td>\n",
       "      <td>0.0</td>\n",
       "      <td>0.0</td>\n",
       "      <td>NaN</td>\n",
       "      <td>0.3</td>\n",
       "      <td>4.3</td>\n",
       "      <td>2</td>\n",
       "      <td>1</td>\n",
       "    </tr>\n",
       "  </tbody>\n",
       "</table>\n",
       "</div>"
      ],
      "text/plain": [
       "   VendorID lpep_pickup_datetime lpep_dropoff_datetime store_and_fwd_flag  \\\n",
       "0         2  2018-01-01 00:18:50   2018-01-01 00:24:39                  N   \n",
       "1         2  2018-01-01 00:30:26   2018-01-01 00:46:42                  N   \n",
       "2         2  2018-01-01 00:07:25   2018-01-01 00:19:45                  N   \n",
       "3         2  2018-01-01 00:32:40   2018-01-01 00:33:41                  N   \n",
       "4         2  2018-01-01 00:32:40   2018-01-01 00:33:41                  N   \n",
       "\n",
       "   RatecodeID  PULocationID  DOLocationID  passenger_count  trip_distance  \\\n",
       "0           1           236           236                5           0.70   \n",
       "1           1            43            42                5           3.50   \n",
       "2           1            74           152                1           2.14   \n",
       "3           1           255           255                1           0.03   \n",
       "4           1           255           255                1           0.03   \n",
       "\n",
       "   fare_amount  extra  mta_tax  tip_amount  tolls_amount  ehail_fee  \\\n",
       "0          6.0    0.5      0.5         0.0           0.0        NaN   \n",
       "1         14.5    0.5      0.5         0.0           0.0        NaN   \n",
       "2         10.0    0.5      0.5         0.0           0.0        NaN   \n",
       "3         -3.0   -0.5     -0.5         0.0           0.0        NaN   \n",
       "4          3.0    0.5      0.5         0.0           0.0        NaN   \n",
       "\n",
       "   improvement_surcharge  total_amount  payment_type  trip_type  \n",
       "0                    0.3           7.3             2          1  \n",
       "1                    0.3          15.8             2          1  \n",
       "2                    0.3          11.3             2          1  \n",
       "3                   -0.3          -4.3             3          1  \n",
       "4                    0.3           4.3             2          1  "
      ]
     },
     "execution_count": 81,
     "metadata": {},
     "output_type": "execute_result"
    }
   ],
   "source": [
    "df = pd.read_csv(test_csv, parse_dates=[1, 2], \n",
    "                 nrows=10000) # read only the first 10000 rows of data set\n",
    "df.head()"
   ]
  },
  {
   "cell_type": "markdown",
   "metadata": {},
   "source": [
    "### Write DataFrame to Table"
   ]
  },
  {
   "cell_type": "code",
   "execution_count": 82,
   "metadata": {},
   "outputs": [],
   "source": [
    "engine = sqlalchemy.create_engine('sqlite:///:memory:') # in-memory database\n",
    "con = engine.connect()"
   ]
  },
  {
   "cell_type": "code",
   "execution_count": 83,
   "metadata": {},
   "outputs": [],
   "source": [
    "df.to_sql(table_name, # target table\n",
    "          engine, # SQLAlchemy engine instance\n",
    "          index=False, # no not write index to table - set this parameter according to your needs\n",
    "          )"
   ]
  },
  {
   "cell_type": "markdown",
   "metadata": {},
   "source": [
    "### Retrieve Data from Database"
   ]
  },
  {
   "cell_type": "code",
   "execution_count": 84,
   "metadata": {},
   "outputs": [
    {
     "data": {
      "text/html": [
       "<div>\n",
       "<style scoped>\n",
       "    .dataframe tbody tr th:only-of-type {\n",
       "        vertical-align: middle;\n",
       "    }\n",
       "\n",
       "    .dataframe tbody tr th {\n",
       "        vertical-align: top;\n",
       "    }\n",
       "\n",
       "    .dataframe thead th {\n",
       "        text-align: right;\n",
       "    }\n",
       "</style>\n",
       "<table border=\"1\" class=\"dataframe\">\n",
       "  <thead>\n",
       "    <tr style=\"text-align: right;\">\n",
       "      <th></th>\n",
       "      <th>VendorID</th>\n",
       "      <th>lpep_pickup_datetime</th>\n",
       "      <th>lpep_dropoff_datetime</th>\n",
       "      <th>store_and_fwd_flag</th>\n",
       "      <th>RatecodeID</th>\n",
       "      <th>PULocationID</th>\n",
       "      <th>DOLocationID</th>\n",
       "      <th>passenger_count</th>\n",
       "      <th>trip_distance</th>\n",
       "      <th>fare_amount</th>\n",
       "      <th>extra</th>\n",
       "      <th>mta_tax</th>\n",
       "      <th>tip_amount</th>\n",
       "      <th>tolls_amount</th>\n",
       "      <th>ehail_fee</th>\n",
       "      <th>improvement_surcharge</th>\n",
       "      <th>total_amount</th>\n",
       "      <th>payment_type</th>\n",
       "      <th>trip_type</th>\n",
       "    </tr>\n",
       "  </thead>\n",
       "  <tbody>\n",
       "    <tr>\n",
       "      <th>0</th>\n",
       "      <td>2</td>\n",
       "      <td>2018-01-01 00:18:50</td>\n",
       "      <td>2018-01-01 00:24:39</td>\n",
       "      <td>N</td>\n",
       "      <td>1</td>\n",
       "      <td>236</td>\n",
       "      <td>236</td>\n",
       "      <td>5</td>\n",
       "      <td>0.70</td>\n",
       "      <td>6.0</td>\n",
       "      <td>0.5</td>\n",
       "      <td>0.5</td>\n",
       "      <td>0.0</td>\n",
       "      <td>0.0</td>\n",
       "      <td>NaN</td>\n",
       "      <td>0.3</td>\n",
       "      <td>7.3</td>\n",
       "      <td>2</td>\n",
       "      <td>1</td>\n",
       "    </tr>\n",
       "    <tr>\n",
       "      <th>1</th>\n",
       "      <td>2</td>\n",
       "      <td>2018-01-01 00:30:26</td>\n",
       "      <td>2018-01-01 00:46:42</td>\n",
       "      <td>N</td>\n",
       "      <td>1</td>\n",
       "      <td>43</td>\n",
       "      <td>42</td>\n",
       "      <td>5</td>\n",
       "      <td>3.50</td>\n",
       "      <td>14.5</td>\n",
       "      <td>0.5</td>\n",
       "      <td>0.5</td>\n",
       "      <td>0.0</td>\n",
       "      <td>0.0</td>\n",
       "      <td>NaN</td>\n",
       "      <td>0.3</td>\n",
       "      <td>15.8</td>\n",
       "      <td>2</td>\n",
       "      <td>1</td>\n",
       "    </tr>\n",
       "    <tr>\n",
       "      <th>2</th>\n",
       "      <td>2</td>\n",
       "      <td>2018-01-01 00:07:25</td>\n",
       "      <td>2018-01-01 00:19:45</td>\n",
       "      <td>N</td>\n",
       "      <td>1</td>\n",
       "      <td>74</td>\n",
       "      <td>152</td>\n",
       "      <td>1</td>\n",
       "      <td>2.14</td>\n",
       "      <td>10.0</td>\n",
       "      <td>0.5</td>\n",
       "      <td>0.5</td>\n",
       "      <td>0.0</td>\n",
       "      <td>0.0</td>\n",
       "      <td>NaN</td>\n",
       "      <td>0.3</td>\n",
       "      <td>11.3</td>\n",
       "      <td>2</td>\n",
       "      <td>1</td>\n",
       "    </tr>\n",
       "    <tr>\n",
       "      <th>3</th>\n",
       "      <td>2</td>\n",
       "      <td>2018-01-01 00:32:40</td>\n",
       "      <td>2018-01-01 00:33:41</td>\n",
       "      <td>N</td>\n",
       "      <td>1</td>\n",
       "      <td>255</td>\n",
       "      <td>255</td>\n",
       "      <td>1</td>\n",
       "      <td>0.03</td>\n",
       "      <td>-3.0</td>\n",
       "      <td>-0.5</td>\n",
       "      <td>-0.5</td>\n",
       "      <td>0.0</td>\n",
       "      <td>0.0</td>\n",
       "      <td>NaN</td>\n",
       "      <td>-0.3</td>\n",
       "      <td>-4.3</td>\n",
       "      <td>3</td>\n",
       "      <td>1</td>\n",
       "    </tr>\n",
       "    <tr>\n",
       "      <th>4</th>\n",
       "      <td>2</td>\n",
       "      <td>2018-01-01 00:32:40</td>\n",
       "      <td>2018-01-01 00:33:41</td>\n",
       "      <td>N</td>\n",
       "      <td>1</td>\n",
       "      <td>255</td>\n",
       "      <td>255</td>\n",
       "      <td>1</td>\n",
       "      <td>0.03</td>\n",
       "      <td>3.0</td>\n",
       "      <td>0.5</td>\n",
       "      <td>0.5</td>\n",
       "      <td>0.0</td>\n",
       "      <td>0.0</td>\n",
       "      <td>NaN</td>\n",
       "      <td>0.3</td>\n",
       "      <td>4.3</td>\n",
       "      <td>2</td>\n",
       "      <td>1</td>\n",
       "    </tr>\n",
       "  </tbody>\n",
       "</table>\n",
       "</div>"
      ],
      "text/plain": [
       "   VendorID lpep_pickup_datetime lpep_dropoff_datetime store_and_fwd_flag  \\\n",
       "0         2  2018-01-01 00:18:50   2018-01-01 00:24:39                  N   \n",
       "1         2  2018-01-01 00:30:26   2018-01-01 00:46:42                  N   \n",
       "2         2  2018-01-01 00:07:25   2018-01-01 00:19:45                  N   \n",
       "3         2  2018-01-01 00:32:40   2018-01-01 00:33:41                  N   \n",
       "4         2  2018-01-01 00:32:40   2018-01-01 00:33:41                  N   \n",
       "\n",
       "   RatecodeID  PULocationID  DOLocationID  passenger_count  trip_distance  \\\n",
       "0           1           236           236                5           0.70   \n",
       "1           1            43            42                5           3.50   \n",
       "2           1            74           152                1           2.14   \n",
       "3           1           255           255                1           0.03   \n",
       "4           1           255           255                1           0.03   \n",
       "\n",
       "   fare_amount  extra  mta_tax  tip_amount  tolls_amount  ehail_fee  \\\n",
       "0          6.0    0.5      0.5         0.0           0.0        NaN   \n",
       "1         14.5    0.5      0.5         0.0           0.0        NaN   \n",
       "2         10.0    0.5      0.5         0.0           0.0        NaN   \n",
       "3         -3.0   -0.5     -0.5         0.0           0.0        NaN   \n",
       "4          3.0    0.5      0.5         0.0           0.0        NaN   \n",
       "\n",
       "   improvement_surcharge  total_amount  payment_type  trip_type  \n",
       "0                    0.3           7.3             2          1  \n",
       "1                    0.3          15.8             2          1  \n",
       "2                    0.3          11.3             2          1  \n",
       "3                   -0.3          -4.3             3          1  \n",
       "4                    0.3           4.3             2          1  "
      ]
     },
     "execution_count": 84,
     "metadata": {},
     "output_type": "execute_result"
    }
   ],
   "source": [
    "df_from_db = pd.read_sql_table(table_name, engine)\n",
    "df_from_db.head()"
   ]
  },
  {
   "cell_type": "markdown",
   "metadata": {},
   "source": [
    "The command *read_sql_table* loads a complete table from database into a Pandas DataFrame."
   ]
  },
  {
   "cell_type": "code",
   "execution_count": 85,
   "metadata": {},
   "outputs": [
    {
     "data": {
      "text/html": [
       "<div>\n",
       "<style scoped>\n",
       "    .dataframe tbody tr th:only-of-type {\n",
       "        vertical-align: middle;\n",
       "    }\n",
       "\n",
       "    .dataframe tbody tr th {\n",
       "        vertical-align: top;\n",
       "    }\n",
       "\n",
       "    .dataframe thead th {\n",
       "        text-align: right;\n",
       "    }\n",
       "</style>\n",
       "<table border=\"1\" class=\"dataframe\">\n",
       "  <thead>\n",
       "    <tr style=\"text-align: right;\">\n",
       "      <th></th>\n",
       "      <th>trip_distance</th>\n",
       "      <th>total_amount</th>\n",
       "      <th>passenger_count</th>\n",
       "    </tr>\n",
       "  </thead>\n",
       "  <tbody>\n",
       "    <tr>\n",
       "      <th>0</th>\n",
       "      <td>0.70</td>\n",
       "      <td>7.3</td>\n",
       "      <td>5</td>\n",
       "    </tr>\n",
       "    <tr>\n",
       "      <th>1</th>\n",
       "      <td>3.50</td>\n",
       "      <td>15.8</td>\n",
       "      <td>5</td>\n",
       "    </tr>\n",
       "    <tr>\n",
       "      <th>2</th>\n",
       "      <td>2.14</td>\n",
       "      <td>11.3</td>\n",
       "      <td>1</td>\n",
       "    </tr>\n",
       "    <tr>\n",
       "      <th>3</th>\n",
       "      <td>0.03</td>\n",
       "      <td>4.3</td>\n",
       "      <td>1</td>\n",
       "    </tr>\n",
       "    <tr>\n",
       "      <th>4</th>\n",
       "      <td>5.63</td>\n",
       "      <td>22.3</td>\n",
       "      <td>1</td>\n",
       "    </tr>\n",
       "  </tbody>\n",
       "</table>\n",
       "</div>"
      ],
      "text/plain": [
       "   trip_distance  total_amount  passenger_count\n",
       "0           0.70           7.3                5\n",
       "1           3.50          15.8                5\n",
       "2           2.14          11.3                1\n",
       "3           0.03           4.3                1\n",
       "4           5.63          22.3                1"
      ]
     },
     "execution_count": 85,
     "metadata": {},
     "output_type": "execute_result"
    }
   ],
   "source": [
    "sql = f\"\"\"\n",
    "select trip_distance, total_amount, passenger_count\n",
    "from {table_name}\n",
    "where VendorID = 2 and total_amount > 0\n",
    "\"\"\"\n",
    "df_from_db2 = pd.read_sql(sql, engine)\n",
    "df_from_db2.head()"
   ]
  },
  {
   "cell_type": "markdown",
   "metadata": {},
   "source": [
    "Execute an SQL Query on the database and load the result into a DataFrame. "
   ]
  },
  {
   "cell_type": "code",
   "execution_count": 86,
   "metadata": {},
   "outputs": [
    {
     "data": {
      "text/html": [
       "<div>\n",
       "<style scoped>\n",
       "    .dataframe tbody tr th:only-of-type {\n",
       "        vertical-align: middle;\n",
       "    }\n",
       "\n",
       "    .dataframe tbody tr th {\n",
       "        vertical-align: top;\n",
       "    }\n",
       "\n",
       "    .dataframe thead th {\n",
       "        text-align: right;\n",
       "    }\n",
       "</style>\n",
       "<table border=\"1\" class=\"dataframe\">\n",
       "  <thead>\n",
       "    <tr style=\"text-align: right;\">\n",
       "      <th></th>\n",
       "      <th>VendorID</th>\n",
       "      <th>payment_type</th>\n",
       "      <th>miles_total</th>\n",
       "      <th>earnings_total</th>\n",
       "      <th>passengers_total</th>\n",
       "    </tr>\n",
       "  </thead>\n",
       "  <tbody>\n",
       "    <tr>\n",
       "      <th>0</th>\n",
       "      <td>1</td>\n",
       "      <td>1</td>\n",
       "      <td>2745.10</td>\n",
       "      <td>13940.07</td>\n",
       "      <td>976</td>\n",
       "    </tr>\n",
       "    <tr>\n",
       "      <th>1</th>\n",
       "      <td>1</td>\n",
       "      <td>2</td>\n",
       "      <td>2086.40</td>\n",
       "      <td>9775.48</td>\n",
       "      <td>1014</td>\n",
       "    </tr>\n",
       "    <tr>\n",
       "      <th>2</th>\n",
       "      <td>1</td>\n",
       "      <td>3</td>\n",
       "      <td>96.00</td>\n",
       "      <td>434.50</td>\n",
       "      <td>34</td>\n",
       "    </tr>\n",
       "    <tr>\n",
       "      <th>3</th>\n",
       "      <td>1</td>\n",
       "      <td>4</td>\n",
       "      <td>18.60</td>\n",
       "      <td>101.97</td>\n",
       "      <td>8</td>\n",
       "    </tr>\n",
       "    <tr>\n",
       "      <th>4</th>\n",
       "      <td>2</td>\n",
       "      <td>1</td>\n",
       "      <td>13320.22</td>\n",
       "      <td>68793.66</td>\n",
       "      <td>5517</td>\n",
       "    </tr>\n",
       "  </tbody>\n",
       "</table>\n",
       "</div>"
      ],
      "text/plain": [
       "   VendorID  payment_type  miles_total  earnings_total  passengers_total\n",
       "0         1             1      2745.10        13940.07               976\n",
       "1         1             2      2086.40         9775.48              1014\n",
       "2         1             3        96.00          434.50                34\n",
       "3         1             4        18.60          101.97                 8\n",
       "4         2             1     13320.22        68793.66              5517"
      ]
     },
     "execution_count": 86,
     "metadata": {},
     "output_type": "execute_result"
    }
   ],
   "source": [
    "sql = f\"\"\"\n",
    "select VendorID, payment_type, sum(trip_distance) as miles_total, \n",
    "sum(total_amount) as earnings_total, \n",
    "sum(passenger_count) as passengers_total\n",
    "from {table_name}\n",
    "where trip_distance > 0 and total_amount > 0\n",
    "group by VendorID, payment_type\n",
    "\"\"\"\n",
    "df_from_db3 = pd.read_sql(sql, engine)\n",
    "df_from_db3.head()"
   ]
  },
  {
   "cell_type": "markdown",
   "metadata": {},
   "source": [
    "When working with large data sets, especially with a client-server database, it is recommended to filter and aggregate as much as possible already on database side using SQL.\n",
    "This saves both memory for data storage in Pandas and IO (and potentially network) traffic between the database server and the analysis machine."
   ]
  },
  {
   "cell_type": "markdown",
   "metadata": {},
   "source": [
    "### Writing into Existing Table"
   ]
  },
  {
   "cell_type": "code",
   "execution_count": 87,
   "metadata": {},
   "outputs": [
    {
     "name": "stdout",
     "output_type": "stream",
     "text": [
      "Table 'test_taxi' already exists.\n"
     ]
    }
   ],
   "source": [
    "try:\n",
    "    df.to_sql(table_name, # target table\n",
    "          engine, # SQLAlchemy engine instance\n",
    "          )\n",
    "except ValueError as e:\n",
    "    print(e)"
   ]
  },
  {
   "cell_type": "markdown",
   "metadata": {},
   "source": [
    "In standard configuration, Pandas raises a *ValueError* if the target table exists."
   ]
  },
  {
   "cell_type": "code",
   "execution_count": 88,
   "metadata": {},
   "outputs": [],
   "source": [
    "df.to_sql(table_name, # target table\n",
    "          engine, # SQLAlchemy engine instance\n",
    "          index=False, # no not write index to table - set this parameter according to your needs\n",
    "          if_exists='append', # if the table already exists, append entries in this df\n",
    "         )"
   ]
  },
  {
   "cell_type": "code",
   "execution_count": 89,
   "metadata": {},
   "outputs": [
    {
     "data": {
      "text/plain": [
       "(20000,)"
      ]
     },
     "execution_count": 89,
     "metadata": {},
     "output_type": "execute_result"
    }
   ],
   "source": [
    "con.execute(f'select count(*) from {table_name}').fetchone()"
   ]
  },
  {
   "cell_type": "markdown",
   "metadata": {},
   "source": [
    "The keyword argument *if_exists='append'* appends __all__ entries in the DataFrame to the database table.\n",
    "\n",
    "Note that there is no check if rows in the DataFrame already exist in the table, this could lead to duplicates (like in the example above: 2000 rows in total, 2 times the same 1000 rows have been inserted)."
   ]
  },
  {
   "cell_type": "code",
   "execution_count": 90,
   "metadata": {},
   "outputs": [],
   "source": [
    "df.to_sql(table_name, # target table\n",
    "          engine, # SQLAlchemy engine instance\n",
    "          index=False, # no not write index to table - set this parameter according to your needs\n",
    "          if_exists='replace', # if the table already exists, delete the table and insert new data\n",
    "          method='multi',\n",
    "         )"
   ]
  },
  {
   "cell_type": "code",
   "execution_count": 91,
   "metadata": {},
   "outputs": [
    {
     "data": {
      "text/plain": [
       "(10000,)"
      ]
     },
     "execution_count": 91,
     "metadata": {},
     "output_type": "execute_result"
    }
   ],
   "source": [
    "con.execute(f'select count(*) from {table_name}').fetchone()"
   ]
  },
  {
   "cell_type": "markdown",
   "metadata": {},
   "source": [
    "The keyword argument *if_exists='replace'* drops the database table with the given name first, then it creates a new table containing the data of the DataFrame.\n",
    "\n",
    "Use this option with caution to avoid data losses."
   ]
  },
  {
   "cell_type": "markdown",
   "metadata": {},
   "source": [
    "Note that there is no built-in possibility in Pandas to insert only \"new\" data from a DataFrame into a database table. If this is requried, the corresponding logic must be written by the user."
   ]
  },
  {
   "cell_type": "markdown",
   "metadata": {},
   "source": [
    "### Performance \n",
    "#### SQLite"
   ]
  },
  {
   "cell_type": "code",
   "execution_count": 102,
   "metadata": {},
   "outputs": [],
   "source": [
    "engine = sqlalchemy.create_engine('sqlite:///test.db') # database in file\n",
    "con = engine.connect()"
   ]
  },
  {
   "cell_type": "code",
   "execution_count": 104,
   "metadata": {},
   "outputs": [
    {
     "name": "stdout",
     "output_type": "stream",
     "text": [
      "1.3 s ± 38.5 ms per loop (mean ± std. dev. of 7 runs, 1 loop each)\n"
     ]
    }
   ],
   "source": [
    "%%timeit\n",
    "df.to_sql(table_name, # target table\n",
    "          engine, # SQLAlchemy engine instance\n",
    "          index=False, # no not write index to table - set this parameter according to your needs\n",
    "          if_exists='replace', # if the table already exists, delete the table and insert new data\n",
    "         )"
   ]
  },
  {
   "cell_type": "code",
   "execution_count": 105,
   "metadata": {},
   "outputs": [
    {
     "name": "stdout",
     "output_type": "stream",
     "text": [
      "190 ms ± 230 µs per loop (mean ± std. dev. of 7 runs, 10 loops each)\n"
     ]
    }
   ],
   "source": [
    "%timeit df_from_db = pd.read_sql_table(table_name, engine)"
   ]
  },
  {
   "cell_type": "markdown",
   "metadata": {},
   "source": [
    "#### Postgres"
   ]
  },
  {
   "cell_type": "code",
   "execution_count": 106,
   "metadata": {},
   "outputs": [],
   "source": [
    "engine_pg = sqlalchemy.create_engine(con_str)\n",
    "con_pg = engine_pg.connect()"
   ]
  },
  {
   "cell_type": "code",
   "execution_count": 108,
   "metadata": {},
   "outputs": [
    {
     "name": "stdout",
     "output_type": "stream",
     "text": [
      "5.85 s ± 56.6 ms per loop (mean ± std. dev. of 7 runs, 1 loop each)\n"
     ]
    }
   ],
   "source": [
    "%%timeit\n",
    "df.to_sql(table_name, # target table\n",
    "          engine_pg, # SQLAlchemy engine instance\n",
    "          index=False, # no not write index to table - set this parameter according to your needs\n",
    "          if_exists='replace', # if the table already exists, delete the table and insert new data\n",
    "         )"
   ]
  },
  {
   "cell_type": "markdown",
   "metadata": {},
   "source": [
    "In some cases, setting the keyword argument *method='multi'* gives a better performance (but not in this example on my machine)."
   ]
  },
  {
   "cell_type": "code",
   "execution_count": 109,
   "metadata": {},
   "outputs": [
    {
     "name": "stdout",
     "output_type": "stream",
     "text": [
      "278 ms ± 1.79 ms per loop (mean ± std. dev. of 7 runs, 1 loop each)\n"
     ]
    }
   ],
   "source": [
    "%timeit df_from_db = pd.read_sql_table(table_name, engine_pg)"
   ]
  },
  {
   "cell_type": "markdown",
   "metadata": {},
   "source": [
    "## Cleanup"
   ]
  },
  {
   "cell_type": "code",
   "execution_count": 110,
   "metadata": {},
   "outputs": [
    {
     "data": {
      "text/plain": [
       "<sqlalchemy.engine.result.ResultProxy at 0x7ff9b1f6acf8>"
      ]
     },
     "execution_count": 110,
     "metadata": {},
     "output_type": "execute_result"
    }
   ],
   "source": [
    "sql = f\"\"\"\n",
    "DROP TABLE {table_name}\n",
    "\"\"\"\n",
    "con.execute(sql)"
   ]
  },
  {
   "cell_type": "code",
   "execution_count": 111,
   "metadata": {},
   "outputs": [
    {
     "data": {
      "text/plain": [
       "<sqlalchemy.engine.result.ResultProxy at 0x7ff9b1d209b0>"
      ]
     },
     "execution_count": 111,
     "metadata": {},
     "output_type": "execute_result"
    }
   ],
   "source": [
    "sql = f\"\"\"\n",
    "DROP TABLE {table_name}\n",
    "\"\"\"\n",
    "con_pg.execute(sql)"
   ]
  },
  {
   "cell_type": "code",
   "execution_count": 112,
   "metadata": {},
   "outputs": [],
   "source": [
    "%rm test.db"
   ]
  },
  {
   "cell_type": "markdown",
   "metadata": {},
   "source": [
    "## Conclusion Pandas Database Integration\n",
    "\n",
    "It is easy and rather performat to retrieve data from database tables into Pandas DataFrames. Using SQL, the requests can be written such that filtering and aggregation is already done on database server side, minimizing traffic and memory requirements.\n",
    "\n",
    "Inserting data from Pandas Dataframes into database tables is also easily possible, but with limitations:\n",
    "\n",
    "* There is no built-in way to insert only new or updated rows. It is only possible to insert complete DataFrames (with and without removing the existing table).\n",
    "* Inserting large amounts of data can take long time."
   ]
  }
 ],
 "metadata": {
  "kernelspec": {
   "display_name": "Python 3",
   "language": "python",
   "name": "python3"
  },
  "language_info": {
   "codemirror_mode": {
    "name": "ipython",
    "version": 3
   },
   "file_extension": ".py",
   "mimetype": "text/x-python",
   "name": "python",
   "nbconvert_exporter": "python",
   "pygments_lexer": "ipython3",
   "version": "3.7.3"
  }
 },
 "nbformat": 4,
 "nbformat_minor": 2
}

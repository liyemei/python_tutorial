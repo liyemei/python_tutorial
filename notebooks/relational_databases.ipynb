{
 "cells": [
  {
   "cell_type": "markdown",
   "metadata": {},
   "source": [
    "# Relational Databases\n",
    "\n",
    "In the following it is assumed that the reader is familar with the concept of a relational database and the SQL syntax."
   ]
  },
  {
   "cell_type": "code",
   "execution_count": 1,
   "metadata": {},
   "outputs": [],
   "source": [
    "import sqlalchemy"
   ]
  },
  {
   "cell_type": "markdown",
   "metadata": {},
   "source": [
    "## SQLite\n",
    "\n",
    "SQLite is a light-weight relational database where the data is stored either in memory or in a single file. In contrast to most other database technologies, it does not have a client/ server architecture.\n",
    "\n",
    "SQLite is very commonly used (e.g. for Android), a (potentially a bit biassed) discussion of the use cases is given here:\n",
    "\n",
    "https://www.sqlite.org/whentouse.html\n",
    "\n",
    "The easiest way to use SQLite in Python would be the *sqlite3* standard library. Here however we are using the SQLAlchemy engine, which yields a better portability to other database technologies and allows usage of the SQLAlchemy ORM (see below)."
   ]
  },
  {
   "cell_type": "code",
   "execution_count": 2,
   "metadata": {},
   "outputs": [],
   "source": [
    "# engine = sqlalchemy.create_engine('sqlite:///test.db') # database in file\n",
    "engine = sqlalchemy.create_engine('sqlite:///:memory:') # in-memory database\n",
    "con = engine.connect()"
   ]
  },
  {
   "cell_type": "code",
   "execution_count": 3,
   "metadata": {},
   "outputs": [],
   "source": [
    "table_name = 'test1'"
   ]
  },
  {
   "cell_type": "code",
   "execution_count": 4,
   "metadata": {},
   "outputs": [
    {
     "data": {
      "text/plain": [
       "<sqlalchemy.engine.result.ResultProxy at 0x7ff9dc326358>"
      ]
     },
     "execution_count": 4,
     "metadata": {},
     "output_type": "execute_result"
    }
   ],
   "source": [
    "sql = f\"\"\"\n",
    "CREATE TABLE {table_name} (\n",
    "Id Int,\n",
    "Name Varchar,\n",
    "Amount Numeric(10,2))\n",
    "\"\"\"\n",
    "con.execute(sql)"
   ]
  },
  {
   "cell_type": "code",
   "execution_count": 5,
   "metadata": {},
   "outputs": [
    {
     "data": {
      "text/plain": [
       "<sqlalchemy.engine.result.ResultProxy at 0x7ff9dc32a8d0>"
      ]
     },
     "execution_count": 5,
     "metadata": {},
     "output_type": "execute_result"
    }
   ],
   "source": [
    "sql = f\"\"\"\n",
    "INSERT INTO {table_name} (Id, Name, Amount) \n",
    "VALUES \n",
    "(1, 'hello', 42),\n",
    "(2, 'world', 7.42),\n",
    "(3, '!', -1)\n",
    "\"\"\"\n",
    "con.execute(sql)"
   ]
  },
  {
   "cell_type": "code",
   "execution_count": 6,
   "metadata": {},
   "outputs": [
    {
     "name": "stdout",
     "output_type": "stream",
     "text": [
      "(1, 'hello')\n",
      "(2, 'world')\n"
     ]
    }
   ],
   "source": [
    "sql = f\"\"\"\n",
    "select Id, Name\n",
    "from {table_name}\n",
    "where Amount > 0\n",
    "\"\"\"\n",
    "result = con.execute(sql)\n",
    "for line in result:\n",
    "    print(line)"
   ]
  },
  {
   "cell_type": "code",
   "execution_count": 7,
   "metadata": {},
   "outputs": [],
   "source": [
    "# %rm test.db # remove database file"
   ]
  },
  {
   "cell_type": "markdown",
   "metadata": {},
   "source": [
    "## Postgres"
   ]
  },
  {
   "cell_type": "code",
   "execution_count": 1,
   "metadata": {},
   "outputs": [
    {
     "name": "stdout",
     "output_type": "stream",
     "text": [
      "Collecting package metadata (current_repodata.json): done\n",
      "Solving environment: / \n",
      "The environment is inconsistent, please check the package plan carefully\n",
      "The following packages are causing the inconsistency:\n",
      "\n",
      "  - conda-forge/linux-64::matplotlib==3.0.3=py37_1\n",
      "done\n",
      "\n",
      "## Package Plan ##\n",
      "\n",
      "  environment location: /opt/conda\n",
      "\n",
      "  added / updated specs:\n",
      "    - psycopg2\n",
      "\n",
      "\n",
      "The following packages will be downloaded:\n",
      "\n",
      "    package                    |            build\n",
      "    ---------------------------|-----------------\n",
      "    libpq-11.4                 |       hd9ab2ff_1         2.4 MB  conda-forge\n",
      "    psycopg2-2.8.3             |   py37h72c5cf5_0         165 KB  conda-forge\n",
      "    pyqt-5.9.2                 |   py37hcca6a23_0         5.7 MB  conda-forge\n",
      "    qt-5.9.7                   |       h52cfd70_2        85.9 MB  conda-forge\n",
      "    ------------------------------------------------------------\n",
      "                                           Total:        94.2 MB\n",
      "\n",
      "The following NEW packages will be INSTALLED:\n",
      "\n",
      "  libpq              conda-forge/linux-64::libpq-11.4-hd9ab2ff_1\n",
      "  psycopg2           conda-forge/linux-64::psycopg2-2.8.3-py37h72c5cf5_0\n",
      "  pyqt               conda-forge/linux-64::pyqt-5.9.2-py37hcca6a23_0\n",
      "  qt                 conda-forge/linux-64::qt-5.9.7-h52cfd70_2\n",
      "\n",
      "\n",
      "\n",
      "Downloading and Extracting Packages\n",
      "pyqt-5.9.2           | 5.7 MB    | ##################################### | 100% \n",
      "psycopg2-2.8.3       | 165 KB    | ##################################### | 100% \n",
      "qt-5.9.7             | 85.9 MB   | ##################################### | 100% \n",
      "libpq-11.4           | 2.4 MB    | ##################################### | 100% \n",
      "Preparing transaction: done\n",
      "Verifying transaction: done\n",
      "Executing transaction: done\n"
     ]
    }
   ],
   "source": [
    "!conda install psycopg2 --yes # installs driver for Postgres"
   ]
  },
  {
   "cell_type": "code",
   "execution_count": 8,
   "metadata": {},
   "outputs": [],
   "source": [
    "username = 'postgres'\n",
    "password = 'J8IzgZj3iFhYClDl' # 'python_tutorial_5432'\n",
    "db_url = 'postgres_db:5432' # using Docker url alias\n",
    "db_schema = 'postgres'\n",
    "con_str = f'postgres://{username}:{password}@{db_url}/{db_schema}'"
   ]
  },
  {
   "cell_type": "code",
   "execution_count": 9,
   "metadata": {},
   "outputs": [],
   "source": [
    "engine = sqlalchemy.create_engine(con_str)\n",
    "con = engine.connect()"
   ]
  },
  {
   "cell_type": "code",
   "execution_count": 10,
   "metadata": {},
   "outputs": [],
   "source": [
    "table_name = 'test1'"
   ]
  },
  {
   "cell_type": "code",
   "execution_count": 15,
   "metadata": {},
   "outputs": [
    {
     "data": {
      "text/plain": [
       "<sqlalchemy.engine.result.ResultProxy at 0x7ff9d4f47828>"
      ]
     },
     "execution_count": 15,
     "metadata": {},
     "output_type": "execute_result"
    }
   ],
   "source": [
    "sql = f\"\"\"\n",
    "CREATE TABLE {table_name} (\n",
    "Id Int,\n",
    "Name Varchar,\n",
    "Amount Numeric(10,2))\n",
    "\"\"\"\n",
    "con.execute(sql)"
   ]
  },
  {
   "cell_type": "code",
   "execution_count": 16,
   "metadata": {},
   "outputs": [
    {
     "data": {
      "text/plain": [
       "<sqlalchemy.engine.result.ResultProxy at 0x7ff9d4f478d0>"
      ]
     },
     "execution_count": 16,
     "metadata": {},
     "output_type": "execute_result"
    }
   ],
   "source": [
    "sql = f\"\"\"\n",
    "INSERT INTO {table_name} (Id, Name, Amount) \n",
    "VALUES \n",
    "(1, 'hello', 42),\n",
    "(2, 'world', 7.42),\n",
    "(3, '!', -1)\n",
    "\"\"\"\n",
    "con.execute(sql)"
   ]
  },
  {
   "cell_type": "code",
   "execution_count": 17,
   "metadata": {},
   "outputs": [
    {
     "name": "stdout",
     "output_type": "stream",
     "text": [
      "(1, 'hello')\n",
      "(2, 'world')\n"
     ]
    }
   ],
   "source": [
    "sql = f\"\"\"\n",
    "select Id, Name\n",
    "from {table_name}\n",
    "where Amount > 0\n",
    "\"\"\"\n",
    "result = con.execute(sql)\n",
    "for line in result:\n",
    "    print(line)"
   ]
  },
  {
   "cell_type": "code",
   "execution_count": 18,
   "metadata": {},
   "outputs": [
    {
     "data": {
      "text/plain": [
       "<sqlalchemy.engine.result.ResultProxy at 0x7ff9d4f4e1d0>"
      ]
     },
     "execution_count": 18,
     "metadata": {},
     "output_type": "execute_result"
    }
   ],
   "source": [
    "sql = f\"\"\"\n",
    "DROP TABLE {table_name}\n",
    "\"\"\"\n",
    "con.execute(sql)"
   ]
  },
  {
   "cell_type": "markdown",
   "metadata": {},
   "source": [
    "## SQLAlchemy ORM"
   ]
  }
 ],
 "metadata": {
  "kernelspec": {
   "display_name": "Python 3",
   "language": "python",
   "name": "python3"
  },
  "language_info": {
   "codemirror_mode": {
    "name": "ipython",
    "version": 3
   },
   "file_extension": ".py",
   "mimetype": "text/x-python",
   "name": "python",
   "nbconvert_exporter": "python",
   "pygments_lexer": "ipython3",
   "version": "3.7.3"
  }
 },
 "nbformat": 4,
 "nbformat_minor": 2
}

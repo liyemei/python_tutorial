{
 "cells": [
  {
   "cell_type": "markdown",
   "metadata": {},
   "source": [
    "# Flask Web Framework"
   ]
  },
  {
   "cell_type": "markdown",
   "metadata": {},
   "source": [
    "## Hello World Example in Notebook\n",
    "\n",
    "### Creating a Flask Application"
   ]
  },
  {
   "cell_type": "code",
   "execution_count": 2,
   "metadata": {},
   "outputs": [
    {
     "name": "stdout",
     "output_type": "stream",
     "text": [
      "Collecting package metadata: done\n",
      "Solving environment: \\ \n",
      "The environment is inconsistent, please check the package plan carefully\n",
      "The following packages are causing the inconsistency:\n",
      "\n",
      "  - conda-forge/linux-64::matplotlib==3.0.3=py37_1\n",
      "done\n",
      "\n",
      "\n",
      "==> WARNING: A newer version of conda exists. <==\n",
      "  current version: 4.6.14\n",
      "  latest version: 4.7.5\n",
      "\n",
      "Please update conda by running\n",
      "\n",
      "    $ conda update -n base conda\n",
      "\n",
      "\n",
      "\n",
      "## Package Plan ##\n",
      "\n",
      "  environment location: /opt/conda\n",
      "\n",
      "  added / updated specs:\n",
      "    - flask\n",
      "\n",
      "\n",
      "The following packages will be downloaded:\n",
      "\n",
      "    package                    |            build\n",
      "    ---------------------------|-----------------\n",
      "    blas-2.10                  |         openblas           6 KB  conda-forge\n",
      "    flask-1.1.1                |             py_0          69 KB  conda-forge\n",
      "    itsdangerous-1.1.0         |             py_0          16 KB  conda-forge\n",
      "    libblas-3.8.0              |      10_openblas           6 KB  conda-forge\n",
      "    libcblas-3.8.0             |      10_openblas           6 KB  conda-forge\n",
      "    liblapack-3.8.0            |      10_openblas           6 KB  conda-forge\n",
      "    liblapacke-3.8.0           |      10_openblas           6 KB  conda-forge\n",
      "    libopenblas-0.3.6          |       h6e990d7_4         7.7 MB  conda-forge\n",
      "    numpy-1.15.4               |py37h8b7e671_1002         4.2 MB  conda-forge\n",
      "    openblas-0.3.6             |       h6e990d7_4         8.2 MB  conda-forge\n",
      "    openssl-1.1.1c             |       h516909a_0         2.1 MB  conda-forge\n",
      "    scikit-learn-0.20.3        |   py37ha8026db_1         5.7 MB  conda-forge\n",
      "    scipy-1.2.1                |   py37h09a28d5_1        18.1 MB  conda-forge\n",
      "    werkzeug-0.15.4            |             py_0         254 KB  conda-forge\n",
      "    ------------------------------------------------------------\n",
      "                                           Total:        46.3 MB\n",
      "\n",
      "The following NEW packages will be INSTALLED:\n",
      "\n",
      "  flask              conda-forge/noarch::flask-1.1.1-py_0\n",
      "  itsdangerous       conda-forge/noarch::itsdangerous-1.1.0-py_0\n",
      "  libblas            conda-forge/linux-64::libblas-3.8.0-10_openblas\n",
      "  libcblas           conda-forge/linux-64::libcblas-3.8.0-10_openblas\n",
      "  liblapack          conda-forge/linux-64::liblapack-3.8.0-10_openblas\n",
      "  liblapacke         conda-forge/linux-64::liblapacke-3.8.0-10_openblas\n",
      "  libopenblas        conda-forge/linux-64::libopenblas-0.3.6-h6e990d7_4\n",
      "  werkzeug           conda-forge/noarch::werkzeug-0.15.4-py_0\n",
      "\n",
      "The following packages will be UPDATED:\n",
      "\n",
      "  blas                                         1.1-openblas --> 2.10-openblas\n",
      "  numpy              1.15.4-py37_blas_openblash1522bff_1000 --> 1.15.4-py37h8b7e671_1002\n",
      "  openblas                              0.3.3-h9ac9557_1001 --> 0.3.6-h6e990d7_4\n",
      "  openssl                                 1.1.1b-h14c3975_1 --> 1.1.1c-h516909a_0\n",
      "  scikit-learn          0.20.3-py37_blas_openblashebff5e3_0 --> 0.20.3-py37ha8026db_1\n",
      "  scipy                  1.2.1-py37_blas_openblash1522bff_0 --> 1.2.1-py37h09a28d5_1\n",
      "\n",
      "\n",
      "\n",
      "Downloading and Extracting Packages\n",
      "libopenblas-0.3.6    | 7.7 MB    | ##################################### | 100% \n",
      "openblas-0.3.6       | 8.2 MB    | ##################################### | 100% \n",
      "openssl-1.1.1c       | 2.1 MB    | ##################################### | 100% \n",
      "libblas-3.8.0        | 6 KB      | ##################################### | 100% \n",
      "itsdangerous-1.1.0   | 16 KB     | ##################################### | 100% \n",
      "numpy-1.15.4         | 4.2 MB    | ##################################### | 100% \n",
      "scikit-learn-0.20.3  | 5.7 MB    | ##################################### | 100% \n",
      "flask-1.1.1          | 69 KB     | ##################################### | 100% \n",
      "blas-2.10            | 6 KB      | ##################################### | 100% \n",
      "libcblas-3.8.0       | 6 KB      | ##################################### | 100% \n",
      "werkzeug-0.15.4      | 254 KB    | ##################################### | 100% \n",
      "liblapack-3.8.0      | 6 KB      | ##################################### | 100% \n",
      "scipy-1.2.1          | 18.1 MB   | ##################################### | 100% \n",
      "liblapacke-3.8.0     | 6 KB      | ##################################### | 100% \n",
      "Preparing transaction: done\n",
      "Verifying transaction: done\n",
      "Executing transaction: done\n"
     ]
    }
   ],
   "source": [
    "!conda install flask --yes"
   ]
  },
  {
   "cell_type": "code",
   "execution_count": 7,
   "metadata": {},
   "outputs": [],
   "source": [
    "%%python --bg --out app_out --err app_err # ipython magic to run this code in background\n",
    "\n",
    "from flask import Flask\n",
    "app = Flask(__name__) # creates Flask application\n",
    "\n",
    "@app.route('/') # web page is accessable from url root \n",
    "@app.route('/index') # and index subdirectory\n",
    "def index():\n",
    "    return 'Hello World!'\n",
    "\n",
    "# starts built-in development server - would block notebook kernel if not run in background\n",
    "app.run() "
   ]
  },
  {
   "cell_type": "code",
   "execution_count": 22,
   "metadata": {},
   "outputs": [
    {
     "data": {
      "text/plain": [
       "b' * Serving Flask app \"<stdin>\" (lazy loading)\\n * Environment: production\\n   WARNING: This is a development server. Do not use it in a production deployment.\\n   Use a production WSGI server instead.\\n * Debug mode: off\\n'"
      ]
     },
     "execution_count": 22,
     "metadata": {},
     "output_type": "execute_result"
    }
   ],
   "source": [
    "app_out.peek() # checking output (stdout) of Flask server"
   ]
  },
  {
   "cell_type": "code",
   "execution_count": 23,
   "metadata": {},
   "outputs": [
    {
     "data": {
      "text/plain": [
       "b' * Running on http://127.0.0.1:5000/ (Press CTRL+C to quit)\\n'"
      ]
     },
     "execution_count": 23,
     "metadata": {},
     "output_type": "execute_result"
    }
   ],
   "source": [
    "app_err.peek() # checking stderr of Flask server"
   ]
  },
  {
   "cell_type": "markdown",
   "metadata": {},
   "source": [
    "Flask comes with a built-in web server suited for development purposes (not for production!).\n",
    "It is rather an exotic use case to run such a server in a Jupyter Notebook. It would block the IPython kernel and make any further use of the notebook impossible.\n",
    "Therefore an IPython magic command is used above to start a background process for the server.\n",
    "This issue will not appear if you use Flask \"normally\", i.e. defining the application in .py file(s) and running the server with the Python interpreter."
   ]
  },
  {
   "cell_type": "markdown",
   "metadata": {},
   "source": [
    "### Accessing Web Page"
   ]
  },
  {
   "cell_type": "code",
   "execution_count": 1,
   "metadata": {},
   "outputs": [],
   "source": [
    "import urllib.request"
   ]
  },
  {
   "cell_type": "code",
   "execution_count": 26,
   "metadata": {},
   "outputs": [
    {
     "data": {
      "text/plain": [
       "b'Hello World!'"
      ]
     },
     "execution_count": 26,
     "metadata": {},
     "output_type": "execute_result"
    }
   ],
   "source": [
    "response = urllib.request.urlopen('http://127.0.0.1:5000/index')\n",
    "response.read()"
   ]
  },
  {
   "cell_type": "markdown",
   "metadata": {},
   "source": [
    "# Flask Development Server Docker Container\n",
    "\n",
    "As seen above, the Jupyter Notebook/ Lab is not really suited for developping web apps.\n",
    "Better ways to run the Flask development server are:\n",
    "\n",
    "1. run locally in a Python / Conda environment\n",
    "\n",
    "2. run the Flask server in a dedicated Docker container\n",
    "\n",
    "The first method is rather straight-forward. However, it requires a local Python version, in contrast to all other parts of this tutorial, which can be run completely in Docker containers.\n",
    "\n",
    "In the following, the second method is discussed, both for having an environment completely running on Docker and (especially) for educational purposes."
   ]
  },
  {
   "cell_type": "markdown",
   "metadata": {},
   "source": [
    "## Idea\n",
    "\n",
    "As an alternative to run the Flask bulit-in development server locally, the server could be executed in a Docker container.\n",
    "\n",
    "The following container starts a Flask server and runs an app which is stored on a volume mount. If the app is changed, it is automatically synchronized with the container, no need to re-build the image, etc."
   ]
  },
  {
   "cell_type": "markdown",
   "metadata": {},
   "source": [
    "## Implementation"
   ]
  },
  {
   "cell_type": "code",
   "execution_count": 4,
   "metadata": {},
   "outputs": [
    {
     "name": "stdout",
     "output_type": "stream",
     "text": [
      "FROM continuumio/miniconda3\n",
      "COPY environment.yaml .\n",
      "RUN conda update conda --yes && \\\n",
      "\tconda env update -f environment.yaml -n base && \\\n",
      "\tconda clean -a\n",
      "\n",
      "COPY start_server.py .\n",
      "\n",
      "EXPOSE 5000\n",
      "VOLUME /app\n",
      "\n",
      "CMD [\"python\", \"start_server.py\"]\n"
     ]
    }
   ],
   "source": [
    "!cat ../flask/flask_devserver/Dockerfile"
   ]
  },
  {
   "cell_type": "markdown",
   "metadata": {},
   "source": [
    "The official Miniconda 3 base image is used.\n",
    "\n",
    "The required packages, defined in the file *environment.yaml* are installed with Conda into the base environment (no need to use a separate Conda environment inside a Docker container).\n",
    "\n",
    "The *conda clean* command is used to delete cashes and temporary files to reduce image size.\n",
    "\n",
    "The port 5000, on which the Flask server runs, is exposed. The directory containing the Flask app needs to be mounted as a volume."
   ]
  },
  {
   "cell_type": "code",
   "execution_count": 5,
   "metadata": {},
   "outputs": [
    {
     "name": "stdout",
     "output_type": "stream",
     "text": [
      "name: flask_env\n",
      "channels: \n",
      "    - default\n",
      "    - conda-forge \n",
      "dependencies:\n",
      "    - python=3.7\n",
      "    - flask\n"
     ]
    }
   ],
   "source": [
    "!cat ../flask/flask_devserver/environment.yaml"
   ]
  },
  {
   "cell_type": "markdown",
   "metadata": {},
   "source": [
    "*channels* define the Conda package sources in the listed priority. Here, the primary package source is the default channel and the secondary conda-forge.\n",
    "\n",
    "The required packages for the Flask app are listed in *dependencies*. If no version number is given, the latest one which is compatible to the other packages is installed."
   ]
  },
  {
   "cell_type": "code",
   "execution_count": 6,
   "metadata": {},
   "outputs": [
    {
     "name": "stdout",
     "output_type": "stream",
     "text": [
      "from app import app # assumption: a Flask instance app is created in __init__.py of the app package\n",
      "\n",
      "if __name__ == '__main__':\n",
      "    app.run(debug=True, host='0.0.0.0') # ip address for running in Docker container\n",
      "    # default ip is localhost, this does not work inside a container\n"
     ]
    }
   ],
   "source": [
    "!cat ../flask/flask_devserver/start_server.py"
   ]
  },
  {
   "cell_type": "markdown",
   "metadata": {},
   "source": [
    "## Building Docker Image\n",
    "\n",
    "### Manual Building\n",
    "\n",
    "Using the following commands, the Docker image for the dev server is built.\n",
    "\n",
    "    cd flask/flask_devserver\n",
    "    # edit environment.yaml if additional packages are required\n",
    "    [sudo] docker build -t flask_devserver:latest .\n",
    "    \n",
    "### Automatic Building using Docker Compose\n",
    "\n",
    "The [docker-compose.yml](../docker-compose.yml) file already contains the commands to automatically build the flask dev server Docker image.\n",
    "\n",
    "    [sudo] docker-compose up -d\n",
    "\n",
    "Make sure to edit *environment.yaml* first if additional packages are required."
   ]
  },
  {
   "cell_type": "markdown",
   "metadata": {},
   "source": [
    "## Modification of Flask Code\n",
    "\n",
    "Directly in the flask_devserver/app directory."
   ]
  },
  {
   "cell_type": "markdown",
   "metadata": {},
   "source": [
    "## Access of Flask Webpage"
   ]
  },
  {
   "cell_type": "code",
   "execution_count": 1,
   "metadata": {},
   "outputs": [],
   "source": [
    "import urllib.request"
   ]
  },
  {
   "cell_type": "code",
   "execution_count": 2,
   "metadata": {},
   "outputs": [
    {
     "data": {
      "text/plain": [
       "b'Hello, World!'"
      ]
     },
     "execution_count": 2,
     "metadata": {},
     "output_type": "execute_result"
    }
   ],
   "source": [
    "response = urllib.request.urlopen('http://flask_devserver:5000/index')\n",
    "response.read()"
   ]
  },
  {
   "cell_type": "markdown",
   "metadata": {},
   "source": [
    "Access from Docker internal network"
   ]
  },
  {
   "cell_type": "code",
   "execution_count": 3,
   "metadata": {},
   "outputs": [
    {
     "data": {
      "text/plain": [
       "b'Hello, World!'"
      ]
     },
     "execution_count": 3,
     "metadata": {},
     "output_type": "execute_result"
    }
   ],
   "source": [
    "response = urllib.request.urlopen('http://192.168.1.24:25000') # ip address of docker host,\n",
    "# probably different in your system (may be localhost)\n",
    "response.read()"
   ]
  },
  {
   "cell_type": "markdown",
   "metadata": {},
   "source": [
    "Access from outside Docker network\n",
    "\n",
    "Alternative: access in Browser:\n",
    "\n",
    "http://192.168.1.24:25000"
   ]
  },
  {
   "cell_type": "markdown",
   "metadata": {},
   "source": [
    "# Flask Application\n",
    "\n",
    "A great and very extensive Flask tutorial is given here:\n",
    "\n",
    "https://blog.miguelgrinberg.com/post/the-flask-mega-tutorial-part-i-hello-world\n",
    "\n",
    "Parts of the following content is taken (or at least inspired) from above.\n",
    "\n",
    "The main difference of the following content to the tutorial above is that the latter uses SQLAlchemy as database ORM, whereas in the following example the No-SQL database MongoDB is used."
   ]
  },
  {
   "cell_type": "code",
   "execution_count": null,
   "metadata": {},
   "outputs": [],
   "source": []
  }
 ],
 "metadata": {
  "kernelspec": {
   "display_name": "Python 3",
   "language": "python",
   "name": "python3"
  },
  "language_info": {
   "codemirror_mode": {
    "name": "ipython",
    "version": 3
   },
   "file_extension": ".py",
   "mimetype": "text/x-python",
   "name": "python",
   "nbconvert_exporter": "python",
   "pygments_lexer": "ipython3",
   "version": "3.7.3"
  }
 },
 "nbformat": 4,
 "nbformat_minor": 2
}

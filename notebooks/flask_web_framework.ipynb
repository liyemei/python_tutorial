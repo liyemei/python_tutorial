{
 "cells": [
  {
   "cell_type": "markdown",
   "metadata": {},
   "source": [
    "# Flask Web Framework"
   ]
  },
  {
   "cell_type": "code",
   "execution_count": 2,
   "metadata": {},
   "outputs": [
    {
     "name": "stdout",
     "output_type": "stream",
     "text": [
      "Collecting package metadata: done\n",
      "Solving environment: \\ \n",
      "The environment is inconsistent, please check the package plan carefully\n",
      "The following packages are causing the inconsistency:\n",
      "\n",
      "  - conda-forge/linux-64::matplotlib==3.0.3=py37_1\n",
      "done\n",
      "\n",
      "\n",
      "==> WARNING: A newer version of conda exists. <==\n",
      "  current version: 4.6.14\n",
      "  latest version: 4.7.5\n",
      "\n",
      "Please update conda by running\n",
      "\n",
      "    $ conda update -n base conda\n",
      "\n",
      "\n",
      "\n",
      "## Package Plan ##\n",
      "\n",
      "  environment location: /opt/conda\n",
      "\n",
      "  added / updated specs:\n",
      "    - flask\n",
      "\n",
      "\n",
      "The following packages will be downloaded:\n",
      "\n",
      "    package                    |            build\n",
      "    ---------------------------|-----------------\n",
      "    blas-2.10                  |         openblas           6 KB  conda-forge\n",
      "    flask-1.1.1                |             py_0          69 KB  conda-forge\n",
      "    itsdangerous-1.1.0         |             py_0          16 KB  conda-forge\n",
      "    libblas-3.8.0              |      10_openblas           6 KB  conda-forge\n",
      "    libcblas-3.8.0             |      10_openblas           6 KB  conda-forge\n",
      "    liblapack-3.8.0            |      10_openblas           6 KB  conda-forge\n",
      "    liblapacke-3.8.0           |      10_openblas           6 KB  conda-forge\n",
      "    libopenblas-0.3.6          |       h6e990d7_4         7.7 MB  conda-forge\n",
      "    numpy-1.15.4               |py37h8b7e671_1002         4.2 MB  conda-forge\n",
      "    openblas-0.3.6             |       h6e990d7_4         8.2 MB  conda-forge\n",
      "    openssl-1.1.1c             |       h516909a_0         2.1 MB  conda-forge\n",
      "    scikit-learn-0.20.3        |   py37ha8026db_1         5.7 MB  conda-forge\n",
      "    scipy-1.2.1                |   py37h09a28d5_1        18.1 MB  conda-forge\n",
      "    werkzeug-0.15.4            |             py_0         254 KB  conda-forge\n",
      "    ------------------------------------------------------------\n",
      "                                           Total:        46.3 MB\n",
      "\n",
      "The following NEW packages will be INSTALLED:\n",
      "\n",
      "  flask              conda-forge/noarch::flask-1.1.1-py_0\n",
      "  itsdangerous       conda-forge/noarch::itsdangerous-1.1.0-py_0\n",
      "  libblas            conda-forge/linux-64::libblas-3.8.0-10_openblas\n",
      "  libcblas           conda-forge/linux-64::libcblas-3.8.0-10_openblas\n",
      "  liblapack          conda-forge/linux-64::liblapack-3.8.0-10_openblas\n",
      "  liblapacke         conda-forge/linux-64::liblapacke-3.8.0-10_openblas\n",
      "  libopenblas        conda-forge/linux-64::libopenblas-0.3.6-h6e990d7_4\n",
      "  werkzeug           conda-forge/noarch::werkzeug-0.15.4-py_0\n",
      "\n",
      "The following packages will be UPDATED:\n",
      "\n",
      "  blas                                         1.1-openblas --> 2.10-openblas\n",
      "  numpy              1.15.4-py37_blas_openblash1522bff_1000 --> 1.15.4-py37h8b7e671_1002\n",
      "  openblas                              0.3.3-h9ac9557_1001 --> 0.3.6-h6e990d7_4\n",
      "  openssl                                 1.1.1b-h14c3975_1 --> 1.1.1c-h516909a_0\n",
      "  scikit-learn          0.20.3-py37_blas_openblashebff5e3_0 --> 0.20.3-py37ha8026db_1\n",
      "  scipy                  1.2.1-py37_blas_openblash1522bff_0 --> 1.2.1-py37h09a28d5_1\n",
      "\n",
      "\n",
      "\n",
      "Downloading and Extracting Packages\n",
      "libopenblas-0.3.6    | 7.7 MB    | ##################################### | 100% \n",
      "openblas-0.3.6       | 8.2 MB    | ##################################### | 100% \n",
      "openssl-1.1.1c       | 2.1 MB    | ##################################### | 100% \n",
      "libblas-3.8.0        | 6 KB      | ##################################### | 100% \n",
      "itsdangerous-1.1.0   | 16 KB     | ##################################### | 100% \n",
      "numpy-1.15.4         | 4.2 MB    | ##################################### | 100% \n",
      "scikit-learn-0.20.3  | 5.7 MB    | ##################################### | 100% \n",
      "flask-1.1.1          | 69 KB     | ##################################### | 100% \n",
      "blas-2.10            | 6 KB      | ##################################### | 100% \n",
      "libcblas-3.8.0       | 6 KB      | ##################################### | 100% \n",
      "werkzeug-0.15.4      | 254 KB    | ##################################### | 100% \n",
      "liblapack-3.8.0      | 6 KB      | ##################################### | 100% \n",
      "scipy-1.2.1          | 18.1 MB   | ##################################### | 100% \n",
      "liblapacke-3.8.0     | 6 KB      | ##################################### | 100% \n",
      "Preparing transaction: done\n",
      "Verifying transaction: done\n",
      "Executing transaction: done\n"
     ]
    }
   ],
   "source": [
    "!conda install flask --yes"
   ]
  },
  {
   "cell_type": "markdown",
   "metadata": {},
   "source": [
    "## Creating a Flask Application"
   ]
  },
  {
   "cell_type": "code",
   "execution_count": 7,
   "metadata": {},
   "outputs": [],
   "source": [
    "%%python --bg --out app_out --err app_err # ipython magic to run this code in background\n",
    "\n",
    "from flask import Flask\n",
    "app = Flask(__name__) # creates Flask application\n",
    "\n",
    "@app.route('/') # web page is accessable from url root \n",
    "@app.route('/index') # and index subdirectory\n",
    "def index():\n",
    "    return 'Hello World!'\n",
    "\n",
    "# starts built-in development server - would block notebook kernel if not run in background\n",
    "app.run() "
   ]
  },
  {
   "cell_type": "code",
   "execution_count": 22,
   "metadata": {},
   "outputs": [
    {
     "data": {
      "text/plain": [
       "b' * Serving Flask app \"<stdin>\" (lazy loading)\\n * Environment: production\\n   WARNING: This is a development server. Do not use it in a production deployment.\\n   Use a production WSGI server instead.\\n * Debug mode: off\\n'"
      ]
     },
     "execution_count": 22,
     "metadata": {},
     "output_type": "execute_result"
    }
   ],
   "source": [
    "app_out.peek() # checking output (stdout) of Flask server"
   ]
  },
  {
   "cell_type": "code",
   "execution_count": 23,
   "metadata": {},
   "outputs": [
    {
     "data": {
      "text/plain": [
       "b' * Running on http://127.0.0.1:5000/ (Press CTRL+C to quit)\\n'"
      ]
     },
     "execution_count": 23,
     "metadata": {},
     "output_type": "execute_result"
    }
   ],
   "source": [
    "app_err.peek() # checking stderr of Flask server"
   ]
  },
  {
   "cell_type": "markdown",
   "metadata": {},
   "source": [
    "Flask comes with a built-in web server suited for development purposes (not for production!).\n",
    "It is rather an exotic use case to run such a server in a Jupyter Notebook. It would block the IPython kernel and make any further use of the notebook impossible.\n",
    "Therefore an IPython magic command is used above to start a background process for the server.\n",
    "This issue will not appear if you use Flask \"normally\", i.e. defining the application in .py file(s) and running the server with the Python interpreter."
   ]
  },
  {
   "cell_type": "markdown",
   "metadata": {},
   "source": [
    "## Accessing Web Page"
   ]
  },
  {
   "cell_type": "code",
   "execution_count": 25,
   "metadata": {},
   "outputs": [],
   "source": [
    "import urllib.request"
   ]
  },
  {
   "cell_type": "code",
   "execution_count": 26,
   "metadata": {},
   "outputs": [
    {
     "data": {
      "text/plain": [
       "b'Hello World!'"
      ]
     },
     "execution_count": 26,
     "metadata": {},
     "output_type": "execute_result"
    }
   ],
   "source": [
    "response = urllib.request.urlopen('http://127.0.0.1:5000/index')\n",
    "response.read()"
   ]
  }
 ],
 "metadata": {
  "kernelspec": {
   "display_name": "Python 3",
   "language": "python",
   "name": "python3"
  },
  "language_info": {
   "codemirror_mode": {
    "name": "ipython",
    "version": 3
   },
   "file_extension": ".py",
   "mimetype": "text/x-python",
   "name": "python",
   "nbconvert_exporter": "python",
   "pygments_lexer": "ipython3",
   "version": "3.7.3"
  }
 },
 "nbformat": 4,
 "nbformat_minor": 2
}

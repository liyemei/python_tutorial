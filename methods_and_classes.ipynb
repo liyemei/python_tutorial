{
 "cells": [
  {
   "cell_type": "markdown",
   "metadata": {},
   "source": [
    "# Hierarchy\n",
    "\n",
    "Python code can be ordered using the following hierarchy.\n",
    "Note that some hierarchy levels are not applicable for Jupyter Notebooks but only for \"normal\" Python code.\n",
    "\n",
    "## Packages [optional]\n",
    "A directory conaining .py files (i.e. Modules) and/ or subpackages. A directory becomes a Python Package if the file \n",
    "\n",
    "    __init__.py \n",
    "    \n",
    "(which is usually empty) is present.\n",
    "\n",
    "## Modules\n",
    "A file containing Python code. It may be top level or inside a Package. A module may contain functions, classes, variables (usually constants) and/ or code.\n",
    "    \n",
    "Code inside a Module is automatically executed if the module is imported. Code which should be only executed if the module itself is executed (not by imports from other modules) is protected using the following check:\n",
    "    \n",
    "    if __name__ == '__main__':\n",
    "        code\n",
    "        \n",
    "Note that it is perfectly fine in Python to have constants and functions directly in Modules, outside classes (unlike e.g. in Java, where everything must be inside a class). The module-level namespaces avoid naming conflicts."
   ]
  },
  {
   "cell_type": "markdown",
   "metadata": {},
   "source": [
    "# Functions"
   ]
  },
  {
   "cell_type": "code",
   "execution_count": 1,
   "metadata": {},
   "outputs": [],
   "source": [
    "def f(x):\n",
    "    return x**2"
   ]
  },
  {
   "cell_type": "code",
   "execution_count": 2,
   "metadata": {},
   "outputs": [
    {
     "data": {
      "text/plain": [
       "(<function __main__.f(x)>, function)"
      ]
     },
     "execution_count": 2,
     "metadata": {},
     "output_type": "execute_result"
    }
   ],
   "source": [
    "f, type(f)"
   ]
  },
  {
   "cell_type": "code",
   "execution_count": 3,
   "metadata": {},
   "outputs": [
    {
     "data": {
      "text/plain": [
       "25"
      ]
     },
     "execution_count": 3,
     "metadata": {},
     "output_type": "execute_result"
    }
   ],
   "source": [
    "f(5)"
   ]
  },
  {
   "cell_type": "code",
   "execution_count": 4,
   "metadata": {},
   "outputs": [],
   "source": [
    "def pow(x,y=2):\n",
    "    return x**y\n",
    "    print('I will never be executed')"
   ]
  },
  {
   "cell_type": "code",
   "execution_count": 5,
   "metadata": {},
   "outputs": [
    {
     "data": {
      "text/plain": [
       "(27, 9, 42)"
      ]
     },
     "execution_count": 5,
     "metadata": {},
     "output_type": "execute_result"
    }
   ],
   "source": [
    "pow(3, 3), pow(3), pow(y=1, x=42)"
   ]
  },
  {
   "cell_type": "markdown",
   "metadata": {},
   "source": [
    "Parameters can be optional if a default value is provided. Optional parameters must be at the end of the function definition.\n",
    "\n",
    "The function exists at the return statement, code afterwards is not executed."
   ]
  },
  {
   "cell_type": "code",
   "execution_count": 6,
   "metadata": {},
   "outputs": [],
   "source": [
    "def void():\n",
    "    print('hello')"
   ]
  },
  {
   "cell_type": "code",
   "execution_count": 7,
   "metadata": {},
   "outputs": [
    {
     "name": "stdout",
     "output_type": "stream",
     "text": [
      "hello\n",
      "None\n"
     ]
    }
   ],
   "source": [
    "out = void()\n",
    "print(out)"
   ]
  },
  {
   "cell_type": "markdown",
   "metadata": {},
   "source": [
    "Functions without return statement return None."
   ]
  },
  {
   "cell_type": "code",
   "execution_count": 8,
   "metadata": {},
   "outputs": [],
   "source": [
    "def dummy_function():\n",
    "    pass"
   ]
  },
  {
   "cell_type": "markdown",
   "metadata": {},
   "source": [
    "If a function (or class) has no content, the pass statement is required.\n",
    "\n",
    "## Functions as Parameters"
   ]
  },
  {
   "cell_type": "code",
   "execution_count": 9,
   "metadata": {},
   "outputs": [],
   "source": [
    "import typing\n",
    "def make_value_table(fun: typing.Callable, xmin=0, xmax=1, steps=10):\n",
    "    x = [xmin + (xmax-xmin)/steps*i for i in range(steps+1)]\n",
    "    xy = [(xx, fun(xx)) for xx in x]\n",
    "    return xy"
   ]
  },
  {
   "cell_type": "code",
   "execution_count": 10,
   "metadata": {},
   "outputs": [
    {
     "data": {
      "text/plain": [
       "[(0.0, 0.0),\n",
       " (0.6283185307179586, 0.5877852522924731),\n",
       " (1.2566370614359172, 0.9510565162951535),\n",
       " (1.8849555921538759, 0.9510565162951536),\n",
       " (2.5132741228718345, 0.5877852522924732),\n",
       " (3.141592653589793, 1.2246467991473532e-16),\n",
       " (3.7699111843077517, -0.587785252292473),\n",
       " (4.39822971502571, -0.9510565162951535),\n",
       " (5.026548245743669, -0.9510565162951536),\n",
       " (5.654866776461628, -0.5877852522924734),\n",
       " (6.283185307179586, -2.4492935982947064e-16)]"
      ]
     },
     "execution_count": 10,
     "metadata": {},
     "output_type": "execute_result"
    }
   ],
   "source": [
    "import math\n",
    "make_value_table(math.sin, 0, 2*math.pi)"
   ]
  },
  {
   "cell_type": "markdown",
   "metadata": {},
   "source": [
    "In Python, everything is an object. This implies that not only variables and objects, but also functions and classes can be passed as parameters to functions, etc."
   ]
  },
  {
   "cell_type": "markdown",
   "metadata": {},
   "source": [
    "## Lambda Functions\n"
   ]
  },
  {
   "cell_type": "code",
   "execution_count": 11,
   "metadata": {},
   "outputs": [
    {
     "data": {
      "text/plain": [
       "(<function __main__.<lambda>(x)>, function)"
      ]
     },
     "execution_count": 11,
     "metadata": {},
     "output_type": "execute_result"
    }
   ],
   "source": [
    "my_func = lambda x: x**3\n",
    "my_func, type(my_func)"
   ]
  },
  {
   "cell_type": "code",
   "execution_count": 12,
   "metadata": {},
   "outputs": [
    {
     "data": {
      "text/plain": [
       "[(0.0, 0.0),\n",
       " (0.1, 0.010000000000000002),\n",
       " (0.2, 0.04000000000000001),\n",
       " (0.30000000000000004, 0.09000000000000002),\n",
       " (0.4, 0.16000000000000003),\n",
       " (0.5, 0.25),\n",
       " (0.6000000000000001, 0.3600000000000001),\n",
       " (0.7000000000000001, 0.4900000000000001),\n",
       " (0.8, 0.6400000000000001),\n",
       " (0.9, 0.81),\n",
       " (1.0, 1.0)]"
      ]
     },
     "execution_count": 12,
     "metadata": {},
     "output_type": "execute_result"
    }
   ],
   "source": [
    "make_value_table(lambda x: x**2)"
   ]
  },
  {
   "cell_type": "markdown",
   "metadata": {},
   "source": [
    "The lambda statement is used to create anonymous functions. \n",
    "Usually, lambda functions are used when small in-line functions are required, e.g. as function parameters."
   ]
  },
  {
   "cell_type": "code",
   "execution_count": 13,
   "metadata": {},
   "outputs": [
    {
     "data": {
      "text/plain": [
       "[0.0,\n",
       " 0.1004987562112089,\n",
       " 0.20396078054371142,\n",
       " 0.31320919526731655,\n",
       " 0.4308131845707604,\n",
       " 0.5590169943749475,\n",
       " 0.6997142273814362,\n",
       " 0.8544588931013594,\n",
       " 1.024499877989256,\n",
       " 1.210826164236634,\n",
       " 1.4142135623730951]"
      ]
     },
     "execution_count": 13,
     "metadata": {},
     "output_type": "execute_result"
    }
   ],
   "source": [
    "xy = make_value_table(lambda x: x**2)\n",
    "eucl_abs = lambda x, y: math.sqrt(x**2 + y**2)\n",
    "[eucl_abs(xy[i][0], xy[i][1]) for i in range(11)]"
   ]
  },
  {
   "cell_type": "markdown",
   "metadata": {},
   "source": [
    "Lambda functions can be defined with more than 1 parameter.\n",
    "\n",
    "## Args and KWArgs"
   ]
  },
  {
   "cell_type": "code",
   "execution_count": 14,
   "metadata": {},
   "outputs": [],
   "source": [
    "def print_arguments(*args, **kwargs):\n",
    "    print(f'positional arguments: {args}')\n",
    "    print(f'keyword arguments: {kwargs}')"
   ]
  },
  {
   "cell_type": "code",
   "execution_count": 15,
   "metadata": {},
   "outputs": [
    {
     "name": "stdout",
     "output_type": "stream",
     "text": [
      "positional arguments: (1, 2, 3, 4)\n",
      "keyword arguments: {'a': 5, 'b': 6, 'c': 7}\n"
     ]
    }
   ],
   "source": [
    "print_arguments(1, 2, 3, 4, a=5, b=6, c=7)"
   ]
  },
  {
   "cell_type": "markdown",
   "metadata": {},
   "source": [
    "The statement \\*args catches all given positional arguments (i.e. arguments without a keyword) and puts them into a tuple.\n",
    "\n",
    "The statement \\*\\*kwargs catches all keyword arguments and puts them into a dictionary.\n",
    "\n",
    "Note that the stars define the syntax, not the names (args, kwargs), the latter are however the usual convention.\n",
    "\n",
    "This syntax is very useful e.g. when a function passes arguments to a daughter function."
   ]
  },
  {
   "cell_type": "code",
   "execution_count": 16,
   "metadata": {},
   "outputs": [],
   "source": [
    "def multiple_caller(func, n, *args, **kwargs):\n",
    "    res = []\n",
    "    for i in range(n):\n",
    "        res.append(func(*args, **kwargs))\n",
    "    return res"
   ]
  },
  {
   "cell_type": "code",
   "execution_count": 17,
   "metadata": {},
   "outputs": [
    {
     "data": {
      "text/plain": [
       "[16.0, 16.0, 16.0, 16.0]"
      ]
     },
     "execution_count": 17,
     "metadata": {},
     "output_type": "execute_result"
    }
   ],
   "source": [
    "import math\n",
    "multiple_caller(math.pow, 4, 2, 4)"
   ]
  },
  {
   "cell_type": "code",
   "execution_count": 18,
   "metadata": {},
   "outputs": [
    {
     "data": {
      "text/plain": [
       "['[1,2,3,{\"4\":5,\"6\":7}]',\n",
       " '[1,2,3,{\"4\":5,\"6\":7}]',\n",
       " '[1,2,3,{\"4\":5,\"6\":7}]',\n",
       " '[1,2,3,{\"4\":5,\"6\":7}]']"
      ]
     },
     "execution_count": 18,
     "metadata": {},
     "output_type": "execute_result"
    }
   ],
   "source": [
    "import json\n",
    "multiple_caller(json.dumps, 4, [1, 2, 3, {'4': 5, '6': 7}], separators=(',', ':'))"
   ]
  },
  {
   "cell_type": "markdown",
   "metadata": {},
   "source": [
    "## Decorators"
   ]
  },
  {
   "cell_type": "code",
   "execution_count": 97,
   "metadata": {},
   "outputs": [],
   "source": [
    "import datetime\n",
    "def timeit(func):\n",
    "    \"\"\"\n",
    "    Decorator function to measure elapsed time for a function call.\n",
    "    Serves only as an example for decorators, better use IPython's %timeit\n",
    "    \"\"\"\n",
    "    def _func(*args, **kwargs): # here is the input function modified\n",
    "        start_time = datetime.datetime.utcnow()\n",
    "        res = func(*args, **kwargs)\n",
    "        end_time = datetime.datetime.utcnow()\n",
    "        print(f'elapsed time: {end_time - start_time}')\n",
    "        return res\n",
    "    return _func"
   ]
  },
  {
   "cell_type": "code",
   "execution_count": 98,
   "metadata": {},
   "outputs": [],
   "source": [
    "def example_func(n, l):\n",
    "    return n in l"
   ]
  },
  {
   "cell_type": "code",
   "execution_count": 99,
   "metadata": {},
   "outputs": [
    {
     "name": "stdout",
     "output_type": "stream",
     "text": [
      "elapsed time: 0:00:00.000252\n"
     ]
    },
    {
     "data": {
      "text/plain": [
       "False"
      ]
     },
     "execution_count": 99,
     "metadata": {},
     "output_type": "execute_result"
    }
   ],
   "source": [
    "timeit(example_func)(-1, list(range(10000)))"
   ]
  },
  {
   "cell_type": "markdown",
   "metadata": {},
   "source": [
    "A decorator function takes an other function as input, modifies it and returnx the modified function."
   ]
  },
  {
   "cell_type": "code",
   "execution_count": 100,
   "metadata": {},
   "outputs": [],
   "source": [
    "@timeit\n",
    "def example_func_with_decorator(n, l):\n",
    "    return n in l"
   ]
  },
  {
   "cell_type": "code",
   "execution_count": 101,
   "metadata": {},
   "outputs": [
    {
     "name": "stdout",
     "output_type": "stream",
     "text": [
      "elapsed time: 0:00:00.000253\n"
     ]
    },
    {
     "data": {
      "text/plain": [
       "False"
      ]
     },
     "execution_count": 101,
     "metadata": {},
     "output_type": "execute_result"
    }
   ],
   "source": [
    "example_func_with_decorator(-1, list(range(10000)))"
   ]
  },
  {
   "cell_type": "markdown",
   "metadata": {},
   "source": [
    "The decorator syntax makes it easy to define a funtion which is modified by a decorator function."
   ]
  },
  {
   "cell_type": "markdown",
   "metadata": {},
   "source": [
    "### Decorators with Arguments"
   ]
  },
  {
   "cell_type": "code",
   "execution_count": 136,
   "metadata": {},
   "outputs": [],
   "source": [
    "import numpy as np \n",
    "# numpy is explained in an other tutorial, here it is just used for an array\n",
    "x = np.arange(0,10)"
   ]
  },
  {
   "cell_type": "code",
   "execution_count": 130,
   "metadata": {},
   "outputs": [],
   "source": [
    "def diff_quotient(func, h=0.001):\n",
    "    def diff_func(x, *args, **kwargs):\n",
    "        dfdx = (func(x+h, *args, **kwargs) - func(x, *args, **kwargs)) / h\n",
    "        return dfdx\n",
    "    return diff_func"
   ]
  },
  {
   "cell_type": "code",
   "execution_count": 133,
   "metadata": {
    "scrolled": true
   },
   "outputs": [
    {
     "data": {
      "text/plain": [
       "array([1.0000e-03, 2.0010e+00, 4.0010e+00, 6.0010e+00, 8.0010e+00,\n",
       "       1.0001e+01, 1.2001e+01, 1.4001e+01, 1.6001e+01, 1.8001e+01])"
      ]
     },
     "execution_count": 133,
     "metadata": {},
     "output_type": "execute_result"
    }
   ],
   "source": [
    "diff_quotient(lambda x: x**2)(x) # should be approx. 2x"
   ]
  },
  {
   "cell_type": "code",
   "execution_count": 137,
   "metadata": {},
   "outputs": [
    {
     "data": {
      "text/plain": [
       "array([1.0000000e-06, 2.0000010e+00, 4.0000010e+00, 6.0000010e+00,\n",
       "       8.0000010e+00, 1.0000001e+01, 1.2000001e+01, 1.4000001e+01,\n",
       "       1.6000001e+01, 1.8000001e+01])"
      ]
     },
     "execution_count": 137,
     "metadata": {},
     "output_type": "execute_result"
    }
   ],
   "source": [
    "diff_quotient(lambda x: x**2, h=1e-6)(x) # should be approx. 2x"
   ]
  },
  {
   "cell_type": "code",
   "execution_count": 135,
   "metadata": {},
   "outputs": [],
   "source": [
    "@diff_quotient\n",
    "def pow(x, y):\n",
    "    return x**y"
   ]
  },
  {
   "cell_type": "code",
   "execution_count": 129,
   "metadata": {
    "scrolled": true
   },
   "outputs": [
    {
     "data": {
      "text/plain": [
       "array([1.00000000e-12, 3.00000300e+00, 1.20000060e+01, 2.70000090e+01,\n",
       "       4.80000120e+01, 7.50000150e+01, 1.08000018e+02, 1.47000021e+02,\n",
       "       1.92000024e+02, 2.43000027e+02])"
      ]
     },
     "execution_count": 129,
     "metadata": {},
     "output_type": "execute_result"
    }
   ],
   "source": [
    "pow(x, 3) # should be approx 3x**2"
   ]
  },
  {
   "cell_type": "code",
   "execution_count": 139,
   "metadata": {},
   "outputs": [
    {
     "name": "stdout",
     "output_type": "stream",
     "text": [
      "diff_quotient() missing 1 required positional argument: 'func'\n"
     ]
    }
   ],
   "source": [
    "try:\n",
    "    @diff_quotient(h=1e-6)\n",
    "    def pow(x, y):\n",
    "        return x**y\n",
    "except TypeError as e:\n",
    "    print(e)"
   ]
  },
  {
   "cell_type": "markdown",
   "metadata": {},
   "source": [
    "A decorator which calculates the difference quotient \n",
    "\n",
    "$\\frac{Df}{Dx} = \\frac{f(x+h) - f(x)}{h}$\n",
    "\n",
    "Note that the parameter h can be changed from its default value only in the function call syntax, not in the decorator syntax! \n",
    "A decorator function takes only exactly one parameter, this is the function to be decorated.\n",
    "\n",
    "How can we solve this problem?"
   ]
  },
  {
   "cell_type": "code",
   "execution_count": 144,
   "metadata": {},
   "outputs": [],
   "source": [
    "def diff_quotient_factory(h=0.001):\n",
    "    def diff_quotient(func):\n",
    "        def diff_func(x, *args, **kwargs):\n",
    "            dfdx = (func(x+h, *args, **kwargs) - func(x, *args, **kwargs)) / h\n",
    "            return dfdx\n",
    "        return diff_func\n",
    "    return diff_quotient"
   ]
  },
  {
   "cell_type": "code",
   "execution_count": 145,
   "metadata": {},
   "outputs": [
    {
     "data": {
      "text/plain": [
       "array([1.0000000e-06, 2.0000010e+00, 4.0000010e+00, 6.0000010e+00,\n",
       "       8.0000010e+00, 1.0000001e+01, 1.2000001e+01, 1.4000001e+01,\n",
       "       1.6000001e+01, 1.8000001e+01])"
      ]
     },
     "execution_count": 145,
     "metadata": {},
     "output_type": "execute_result"
    }
   ],
   "source": [
    "x = np.arange(0,10)\n",
    "diff_quotient_factory(1e-6)(lambda x: x**2)(x) # should be approx. 2x\n",
    "# note the different location of the h parameter"
   ]
  },
  {
   "cell_type": "code",
   "execution_count": 146,
   "metadata": {},
   "outputs": [],
   "source": [
    "@diff_quotient_factory(h=1e-6)\n",
    "def pow(x, y):\n",
    "    return x**y"
   ]
  },
  {
   "cell_type": "code",
   "execution_count": 147,
   "metadata": {
    "scrolled": true
   },
   "outputs": [
    {
     "data": {
      "text/plain": [
       "array([1.00000000e-12, 3.00000300e+00, 1.20000060e+01, 2.70000090e+01,\n",
       "       4.80000120e+01, 7.50000150e+01, 1.08000018e+02, 1.47000021e+02,\n",
       "       1.92000024e+02, 2.43000027e+02])"
      ]
     },
     "execution_count": 147,
     "metadata": {},
     "output_type": "execute_result"
    }
   ],
   "source": [
    "pow(x, 3) # should be approx 3x**2"
   ]
  },
  {
   "cell_type": "markdown",
   "metadata": {},
   "source": [
    "The solution is the definition of a decorator factory function. This function may take arbitrary parameters and return a decorator function (i.e. a function which itself modifies a function).\n",
    "\n",
    "Note that the decorator factory pattern is used extensively by some Python libraries, e.g. the Flask web framework (for example the @route() decorator)."
   ]
  },
  {
   "cell_type": "markdown",
   "metadata": {},
   "source": [
    "# Classes"
   ]
  },
  {
   "cell_type": "code",
   "execution_count": 19,
   "metadata": {},
   "outputs": [],
   "source": [
    "class Vehicle:\n",
    "    \"\"\"example class\"\"\"\n",
    "    def __init__(self, wheels, seats):\n",
    "        \"\"\"\n",
    "        The __init__ method is used for object creation.\n",
    "        \"\"\"\n",
    "        self.wheels = wheels\n",
    "        self.seats = seats\n",
    "    def drive(self, km):\n",
    "        print(\"driving {} km on {} wheels\".format(km, self.wheels))"
   ]
  },
  {
   "cell_type": "code",
   "execution_count": 20,
   "metadata": {},
   "outputs": [
    {
     "name": "stdout",
     "output_type": "stream",
     "text": [
      "driving 10 km on 2 wheels\n"
     ]
    }
   ],
   "source": [
    "bicycle = Vehicle(2, 1)\n",
    "bicycle.drive(10)"
   ]
  },
  {
   "cell_type": "code",
   "execution_count": 21,
   "metadata": {},
   "outputs": [
    {
     "data": {
      "text/plain": [
       "2"
      ]
     },
     "execution_count": 21,
     "metadata": {},
     "output_type": "execute_result"
    }
   ],
   "source": [
    "bicycle.wheels"
   ]
  },
  {
   "cell_type": "markdown",
   "metadata": {},
   "source": [
    "## Inheritance"
   ]
  },
  {
   "cell_type": "code",
   "execution_count": 22,
   "metadata": {},
   "outputs": [],
   "source": [
    "class Car(Vehicle):\n",
    "    def __init__(self, seats, power):\n",
    "        super().__init__(wheels=4, seats=seats) # calls constructuor of parent class\n",
    "        self.power = power\n",
    "    def drive(self, km):\n",
    "        print(\"driving {} km on {} wheels with {} kW power\".format(\n",
    "            km, self.wheels, self.power))"
   ]
  },
  {
   "cell_type": "code",
   "execution_count": 23,
   "metadata": {},
   "outputs": [
    {
     "name": "stdout",
     "output_type": "stream",
     "text": [
      "driving 200 km on 4 wheels with 150 kW power\n"
     ]
    }
   ],
   "source": [
    "my_car = Car(5, 150)\n",
    "my_car.drive(200)"
   ]
  },
  {
   "cell_type": "markdown",
   "metadata": {},
   "source": [
    "If a method is overwritten in the child class (like init in the example), the method of the parent class can be accessed with super()."
   ]
  },
  {
   "cell_type": "markdown",
   "metadata": {},
   "source": [
    "### Multiple Inheritance"
   ]
  },
  {
   "cell_type": "code",
   "execution_count": 24,
   "metadata": {},
   "outputs": [],
   "source": [
    "class PurchaseMixin:\n",
    "    price = None\n",
    "    currency = 'EUR'\n",
    "    nr_owned = 0\n",
    "    def buy(self, nr=1):\n",
    "        self.nr_owned += nr\n",
    "        print(\"purchased {} piece(s) for {} {}\".format(nr, nr*self.price, self.currency))\n",
    "    def sell(self, nr=1):\n",
    "        if nr > self.nr_owned:\n",
    "            raise ValueError('you own less than you want to sell!')\n",
    "        self.nr_owned -= nr\n",
    "        print(\"sold {} piece(s) for {} {}\".format(nr, nr*self.price, self.currency))"
   ]
  },
  {
   "cell_type": "code",
   "execution_count": 25,
   "metadata": {},
   "outputs": [],
   "source": [
    "class PurchasableCar(PurchaseMixin, Car):\n",
    "    pass"
   ]
  },
  {
   "cell_type": "code",
   "execution_count": 26,
   "metadata": {
    "scrolled": true
   },
   "outputs": [
    {
     "name": "stdout",
     "output_type": "stream",
     "text": [
      "purchased 2 piece(s) for 60000 EUR\n",
      "sold 1 piece(s) for 30000 EUR\n",
      "driving 250 km on 4 wheels with 150 kW power\n"
     ]
    },
    {
     "data": {
      "text/plain": [
       "1"
      ]
     },
     "execution_count": 26,
     "metadata": {},
     "output_type": "execute_result"
    }
   ],
   "source": [
    "my_cars = PurchasableCar(5, 150)\n",
    "my_cars.price = 30000\n",
    "my_cars.buy(2)\n",
    "my_cars.sell()\n",
    "my_cars.drive(250)\n",
    "my_cars.nr_owned"
   ]
  },
  {
   "cell_type": "markdown",
   "metadata": {},
   "source": [
    "Classes in Python may inherit from multiple parent classes. This can be used to add additional features to classes.\n",
    "\n",
    "### Naming Resolution"
   ]
  },
  {
   "cell_type": "code",
   "execution_count": 27,
   "metadata": {},
   "outputs": [],
   "source": [
    "class A:\n",
    "    def __init__(self):\n",
    "        self.i = 1\n",
    "        print('init A')\n",
    "    def func(self, x):\n",
    "        return x+1\n",
    "class B:\n",
    "    def __init__(self):\n",
    "        self.i = 2\n",
    "        print('init B')\n",
    "    def func(self, x):\n",
    "        return x+2"
   ]
  },
  {
   "cell_type": "code",
   "execution_count": 28,
   "metadata": {},
   "outputs": [],
   "source": [
    "class AB(A,B):\n",
    "    pass\n",
    "class BA(B,A):\n",
    "    pass"
   ]
  },
  {
   "cell_type": "code",
   "execution_count": 29,
   "metadata": {},
   "outputs": [
    {
     "name": "stdout",
     "output_type": "stream",
     "text": [
      "init A\n",
      "init B\n"
     ]
    },
    {
     "data": {
      "text/plain": [
       "(1, 2)"
      ]
     },
     "execution_count": 29,
     "metadata": {},
     "output_type": "execute_result"
    }
   ],
   "source": [
    "ab = AB()\n",
    "ba = BA()\n",
    "ab.func(0), ba.func(0)"
   ]
  },
  {
   "cell_type": "markdown",
   "metadata": {},
   "source": [
    "If parent classes have the same methods (including init), the derived class uses the method of the 1st parent."
   ]
  },
  {
   "cell_type": "code",
   "execution_count": 30,
   "metadata": {},
   "outputs": [],
   "source": [
    "class AB2(A, B):\n",
    "    def func(self,x):\n",
    "        return B.func(self, x)"
   ]
  },
  {
   "cell_type": "code",
   "execution_count": 31,
   "metadata": {},
   "outputs": [
    {
     "name": "stdout",
     "output_type": "stream",
     "text": [
      "init A\n"
     ]
    },
    {
     "data": {
      "text/plain": [
       "2"
      ]
     },
     "execution_count": 31,
     "metadata": {},
     "output_type": "execute_result"
    }
   ],
   "source": [
    "ab2 = AB2()\n",
    "ab2.func(0)"
   ]
  },
  {
   "cell_type": "markdown",
   "metadata": {},
   "source": [
    "Methods in the 2nd parent class, which have been overwritten my identically named methods in the 1st parent class, can be called using the parent class name as prefix."
   ]
  },
  {
   "cell_type": "markdown",
   "metadata": {},
   "source": [
    "## Property Methods"
   ]
  },
  {
   "cell_type": "code",
   "execution_count": 32,
   "metadata": {},
   "outputs": [
    {
     "name": "stdout",
     "output_type": "stream",
     "text": [
      "purchased 1 piece(s) for hello EUR\n"
     ]
    }
   ],
   "source": [
    "my_cars.price = 'hello'\n",
    "my_cars.buy() # output is not what is expected"
   ]
  },
  {
   "cell_type": "markdown",
   "metadata": {},
   "source": [
    "In languages like C++ and Java one usually implements getter and setter methods for any public property. \n",
    "This is discouraged in Python because it creates a lot of boilerplate code.\n",
    "Instead, properties should be accessed directly.\n",
    "\n",
    "If it turns out later that logic (like validations, formatting) is required when getting or setting properties, they can be changed in the class definition to property methods without changing the class api."
   ]
  },
  {
   "cell_type": "code",
   "execution_count": 33,
   "metadata": {},
   "outputs": [],
   "source": [
    "from numbers import Number\n",
    "class SafePurchaseMixin(PurchaseMixin):\n",
    "    _price = None\n",
    "    \n",
    "    @property\n",
    "    def price(self):\n",
    "        if self._price is None:\n",
    "            raise ValueError('price not set')\n",
    "        return self._price\n",
    "    \n",
    "    @price.setter\n",
    "    def price(self, x):\n",
    "        if not isinstance(x, Number):\n",
    "            raise TypeError('Price must be numeric')\n",
    "        if x <= 0:\n",
    "            raise ValueError('Price must be positive')\n",
    "        self._price = x\n",
    "        \n",
    "    @price.deleter # for completeness, often not required\n",
    "    def price(self):\n",
    "        self._price = None"
   ]
  },
  {
   "cell_type": "code",
   "execution_count": 34,
   "metadata": {},
   "outputs": [],
   "source": [
    "class PurchasableCar2(SafePurchaseMixin, Car):\n",
    "    pass"
   ]
  },
  {
   "cell_type": "code",
   "execution_count": 35,
   "metadata": {},
   "outputs": [
    {
     "name": "stdout",
     "output_type": "stream",
     "text": [
      "purchased 2 piece(s) for 60000 EUR\n",
      "sold 1 piece(s) for 30000 EUR\n",
      "driving 250 km on 4 wheels with 150 kW power\n"
     ]
    },
    {
     "data": {
      "text/plain": [
       "1"
      ]
     },
     "execution_count": 35,
     "metadata": {},
     "output_type": "execute_result"
    }
   ],
   "source": [
    "my_cars = PurchasableCar2(5, 150)\n",
    "my_cars.price = 30000 # note that the api is identical to PurchasableCars\n",
    "my_cars.buy(2)\n",
    "my_cars.sell()\n",
    "my_cars.drive(250)\n",
    "my_cars.nr_owned"
   ]
  },
  {
   "cell_type": "code",
   "execution_count": 36,
   "metadata": {},
   "outputs": [
    {
     "name": "stdout",
     "output_type": "stream",
     "text": [
      "Price must be numeric\n"
     ]
    }
   ],
   "source": [
    "try:\n",
    "    my_cars.price = 'hello'\n",
    "except TypeError as e:\n",
    "    print(e)"
   ]
  },
  {
   "cell_type": "code",
   "execution_count": 37,
   "metadata": {},
   "outputs": [
    {
     "name": "stdout",
     "output_type": "stream",
     "text": [
      "price not set\n"
     ]
    }
   ],
   "source": [
    "del my_cars.price\n",
    "try:\n",
    "    print(my_cars.price)\n",
    "except ValueError as e:\n",
    "    print(e)"
   ]
  },
  {
   "cell_type": "markdown",
   "metadata": {},
   "source": [
    "In the property methods for price, validation has been included without any change of the class api."
   ]
  },
  {
   "cell_type": "markdown",
   "metadata": {},
   "source": [
    "## Static Methods"
   ]
  },
  {
   "cell_type": "code",
   "execution_count": 38,
   "metadata": {},
   "outputs": [],
   "source": [
    "class PurchasableCar3(PurchasableCar2):\n",
    "    @staticmethod\n",
    "    def convert_kw_to_hp(kw):\n",
    "        return 1.36 * kw"
   ]
  },
  {
   "cell_type": "code",
   "execution_count": 64,
   "metadata": {},
   "outputs": [
    {
     "data": {
      "text/plain": [
       "163.20000000000002"
      ]
     },
     "execution_count": 64,
     "metadata": {},
     "output_type": "execute_result"
    }
   ],
   "source": [
    "PurchasableCar3.convert_kw_to_hp(120)"
   ]
  },
  {
   "cell_type": "markdown",
   "metadata": {},
   "source": [
    "Methods inside a class which do not need any input from the class itself, can (and should) be defined as static methods. This is done as follows:\n",
    "\n",
    "1. the decorator @staticmethod\n",
    "2. self is not a parameter of the method\n",
    "\n",
    "Static mehods can be used analogue to standard object methods. In addition, it they could be called on the class itself, without need to instanciate an object."
   ]
  },
  {
   "cell_type": "markdown",
   "metadata": {},
   "source": [
    "# Class Methods"
   ]
  },
  {
   "cell_type": "code",
   "execution_count": 65,
   "metadata": {},
   "outputs": [],
   "source": [
    "class PurchasableCar4(PurchasableCar3):\n",
    "    @classmethod\n",
    "    def from_dict(cls, data):\n",
    "        obj = cls(seats=data.get('seats'),\n",
    "                 power=data.get('power'))\n",
    "        obj.price=data.get('price')\n",
    "        obj.currency=data.get('currency','EUR')\n",
    "        return obj"
   ]
  },
  {
   "cell_type": "code",
   "execution_count": 73,
   "metadata": {},
   "outputs": [
    {
     "name": "stdout",
     "output_type": "stream",
     "text": [
      "seats: 2, \n",
      "power in hp: 340.0,\n",
      "price: 125000 EUR\n"
     ]
    }
   ],
   "source": [
    "car_data = {'seats': 2, 'power': 250, 'price': 125000}\n",
    "sports_car = PurchasableCar4.from_dict(car_data)\n",
    "print(f'''seats: {sports_car.seats}, \n",
    "power in hp: {sports_car.convert_kw_to_hp(sports_car.power)},\n",
    "price: {sports_car.price} {sports_car.currency}''')"
   ]
  },
  {
   "cell_type": "markdown",
   "metadata": {},
   "source": [
    "Class methods are executed on classes, not objects (i.e. instances of classes).\n",
    "A common use case for class methods are alternative constructors which return class instances.\n",
    "\n",
    "More about static and class methods here:\n",
    "\n",
    "https://realpython.com/instance-class-and-static-methods-demystified/"
   ]
  },
  {
   "cell_type": "markdown",
   "metadata": {},
   "source": [
    "## Dunder Methods"
   ]
  },
  {
   "cell_type": "code",
   "execution_count": 39,
   "metadata": {},
   "outputs": [],
   "source": [
    "from math import sqrt\n",
    "class ComplexNumber:\n",
    "    \"\"\"\n",
    "    just as an example, in practice use the built-in complex data type!\n",
    "    \"\"\"\n",
    "    def __init__(self,real, imag=0):\n",
    "        self.r = real\n",
    "        self.i = imag\n",
    "    \n",
    "    @staticmethod\n",
    "    def _convert_num(x):\n",
    "        \"\"\"\n",
    "        Converts number or ComplexNumber into real and imaginary part.\n",
    "        This is an internal method, marked by leading underscore (_).\n",
    "        \"\"\"\n",
    "        if isinstance(x, ComplexNumber):\n",
    "            r2 = x.r\n",
    "            i2 = x.i\n",
    "        else:\n",
    "            r2 = x\n",
    "            i2 = 0\n",
    "        return r2, i2\n",
    "    \n",
    "    def __str__(self):\n",
    "        \"\"\"Defines string representation of the object.\"\"\"\n",
    "        return \"{r} + {i} * i\".format(r=self.r, i=self.i)\n",
    "    \n",
    "    def __repr__(self):\n",
    "        \"\"\"Defines a printable representation of the object. \n",
    "        Usually __repr__ contains more debugging information than __str__.\"\"\"\n",
    "        return \"ComplexNumber object, value: {r} + {i} * i\".format(r=self.r, i=self.i)\n",
    "    \n",
    "    def __add__(self, x):\n",
    "        r2, i2 = self._convert_num(x)\n",
    "        return ComplexNumber(self.r + r2, self.i + i2)\n",
    "\n",
    "    def get_abs_value(self):\n",
    "        return sqrt(self.r**2 + self.i**2)"
   ]
  },
  {
   "cell_type": "code",
   "execution_count": 40,
   "metadata": {},
   "outputs": [
    {
     "name": "stdout",
     "output_type": "stream",
     "text": [
      "1 + 2 * i\n"
     ]
    }
   ],
   "source": [
    "c1 = ComplexNumber(1, 2)\n",
    "print(c1)"
   ]
  },
  {
   "cell_type": "markdown",
   "metadata": {},
   "source": [
    "The print function implicitly converts the ComplexNumber object into a string, i.e. printing the output of the \\_\\_str__ method."
   ]
  },
  {
   "cell_type": "code",
   "execution_count": 41,
   "metadata": {},
   "outputs": [
    {
     "data": {
      "text/plain": [
       "ComplexNumber object, value: 1 + 2 * i"
      ]
     },
     "execution_count": 41,
     "metadata": {},
     "output_type": "execute_result"
    }
   ],
   "source": [
    "c1"
   ]
  },
  {
   "cell_type": "code",
   "execution_count": 42,
   "metadata": {},
   "outputs": [
    {
     "data": {
      "text/plain": [
       "(1, 2, 2.23606797749979)"
      ]
     },
     "execution_count": 42,
     "metadata": {},
     "output_type": "execute_result"
    }
   ],
   "source": [
    "c1.r, c1.i, c1.get_abs_value()"
   ]
  },
  {
   "cell_type": "code",
   "execution_count": 43,
   "metadata": {},
   "outputs": [
    {
     "name": "stdout",
     "output_type": "stream",
     "text": [
      "3 + 5 * i\n"
     ]
    }
   ],
   "source": [
    "c2 = ComplexNumber(2, 3)\n",
    "c3 = c1 + c2\n",
    "print(c3)"
   ]
  },
  {
   "cell_type": "code",
   "execution_count": 44,
   "metadata": {
    "scrolled": true
   },
   "outputs": [
    {
     "name": "stdout",
     "output_type": "stream",
     "text": [
      "8 + 2 * i\n"
     ]
    }
   ],
   "source": [
    "print(c1 + 7)"
   ]
  },
  {
   "cell_type": "markdown",
   "metadata": {},
   "source": [
    "# Namespaces"
   ]
  },
  {
   "cell_type": "code",
   "execution_count": 45,
   "metadata": {},
   "outputs": [],
   "source": [
    "outside1 = 42\n",
    "outside2 = 0\n",
    "def f_bad(x):\n",
    "    outside2 = x # this is actually a local variable \n",
    "                 # which has nothing to do with outside 2 defined before\n",
    "    print(outside2)\n",
    "    return x + outside1 # extremely dangerous usage of global variable"
   ]
  },
  {
   "cell_type": "code",
   "execution_count": 46,
   "metadata": {},
   "outputs": [
    {
     "data": {
      "text/plain": [
       "0"
      ]
     },
     "execution_count": 46,
     "metadata": {},
     "output_type": "execute_result"
    }
   ],
   "source": [
    "outside2"
   ]
  },
  {
   "cell_type": "code",
   "execution_count": 47,
   "metadata": {},
   "outputs": [
    {
     "name": "stdout",
     "output_type": "stream",
     "text": [
      "7\n"
     ]
    },
    {
     "data": {
      "text/plain": [
       "(49, 0)"
      ]
     },
     "execution_count": 47,
     "metadata": {},
     "output_type": "execute_result"
    }
   ],
   "source": [
    "f_bad(7), outside2"
   ]
  },
  {
   "cell_type": "markdown",
   "metadata": {},
   "source": [
    "Variables defined inside a function (or class) are local, i.e. they are only valid inside the function and changes of them do not influence anything outside the function. This is true even if outside variables have the same name (here global2).\n",
    "\n",
    "Variables defined outside the function, however, can be accessed from inside the function. This is however very dangerous and should be avoided!"
   ]
  },
  {
   "cell_type": "code",
   "execution_count": 48,
   "metadata": {},
   "outputs": [],
   "source": [
    "def f_even_worse(x):\n",
    "    global outside2 # makes the variable defined outside changable inside the function\n",
    "    outside2 = x # the outside variable is actually changed here!\n",
    "    print(outside2)\n",
    "    return x + outside1 # extremely dangerous usage of global variable"
   ]
  },
  {
   "cell_type": "code",
   "execution_count": 49,
   "metadata": {},
   "outputs": [
    {
     "data": {
      "text/plain": [
       "0"
      ]
     },
     "execution_count": 49,
     "metadata": {},
     "output_type": "execute_result"
    }
   ],
   "source": [
    "outside2"
   ]
  },
  {
   "cell_type": "code",
   "execution_count": 50,
   "metadata": {},
   "outputs": [
    {
     "name": "stdout",
     "output_type": "stream",
     "text": [
      "7\n"
     ]
    },
    {
     "data": {
      "text/plain": [
       "(49, 7)"
      ]
     },
     "execution_count": 50,
     "metadata": {},
     "output_type": "execute_result"
    }
   ],
   "source": [
    "f_even_worse(7), outside2"
   ]
  },
  {
   "cell_type": "markdown",
   "metadata": {},
   "source": [
    "The *global* stament makes the variable defined outside changable inside the function. The usage of this pattern is __extremely__ dangerous and must be avoided!"
   ]
  },
  {
   "cell_type": "code",
   "execution_count": 51,
   "metadata": {},
   "outputs": [],
   "source": [
    "def f_good(x, i):\n",
    "    print(x)\n",
    "    return x + i"
   ]
  },
  {
   "cell_type": "code",
   "execution_count": 52,
   "metadata": {},
   "outputs": [
    {
     "name": "stdout",
     "output_type": "stream",
     "text": [
      "7\n"
     ]
    },
    {
     "data": {
      "text/plain": [
       "49"
      ]
     },
     "execution_count": 52,
     "metadata": {},
     "output_type": "execute_result"
    }
   ],
   "source": [
    "f_good(7, 42)"
   ]
  },
  {
   "cell_type": "markdown",
   "metadata": {},
   "source": [
    "Refactored version of the previous function without implicit usage of variable defined outside the function."
   ]
  },
  {
   "cell_type": "code",
   "execution_count": 53,
   "metadata": {},
   "outputs": [],
   "source": [
    "def f_mod_input(i: int, l: list):\n",
    "    l.append(i)\n",
    "    i = i*2\n",
    "    return i"
   ]
  },
  {
   "cell_type": "code",
   "execution_count": 54,
   "metadata": {},
   "outputs": [
    {
     "data": {
      "text/plain": [
       "84"
      ]
     },
     "execution_count": 54,
     "metadata": {},
     "output_type": "execute_result"
    }
   ],
   "source": [
    "i1 = 42 # basic variable\n",
    "l1 = [1, 2] # list object\n",
    "f_mod_input(i1, l1)"
   ]
  },
  {
   "cell_type": "code",
   "execution_count": 55,
   "metadata": {},
   "outputs": [
    {
     "data": {
      "text/plain": [
       "(42, [1, 2, 42])"
      ]
     },
     "execution_count": 55,
     "metadata": {},
     "output_type": "execute_result"
    }
   ],
   "source": [
    "i1, l1"
   ]
  },
  {
   "cell_type": "markdown",
   "metadata": {},
   "source": [
    "Both function parameters (here integer and list) are changed inside the function.\n",
    "\n",
    "* The basic type (here integer) is however not changed in the outside scope - call by value\n",
    "* The complex type (here list) is changed in the outside scope by the modification inside the function - call by reference\n",
    "\n",
    "It is a common source of errors and (in my opinion) a major weakness of Python language that call by value and call by reference are not clearly separated by syntax (like in C (++) where pointers have * as prefix).\n",
    "\n",
    "Call by reference can be used on purpose to modify objects in outer scope by the function. However, it is safer to explicitly create a new object inside the function, modify that and return it."
   ]
  },
  {
   "cell_type": "code",
   "execution_count": 56,
   "metadata": {},
   "outputs": [],
   "source": [
    "def f_safer(i: int, l: list):\n",
    "    l2 = l.copy() # creates new list object\n",
    "    l2.append(i)\n",
    "    i = i*2\n",
    "    return i, l2"
   ]
  },
  {
   "cell_type": "code",
   "execution_count": 57,
   "metadata": {},
   "outputs": [
    {
     "data": {
      "text/plain": [
       "(84, [1, 2, 42])"
      ]
     },
     "execution_count": 57,
     "metadata": {},
     "output_type": "execute_result"
    }
   ],
   "source": [
    "i1 = 42 # basic variable\n",
    "l1 = [1, 2] # list object\n",
    "f_safer(i1, l1)"
   ]
  },
  {
   "cell_type": "code",
   "execution_count": 58,
   "metadata": {},
   "outputs": [
    {
     "data": {
      "text/plain": [
       "(42, [1, 2])"
      ]
     },
     "execution_count": 58,
     "metadata": {},
     "output_type": "execute_result"
    }
   ],
   "source": [
    "i1, l1"
   ]
  },
  {
   "cell_type": "markdown",
   "metadata": {},
   "source": [
    "# Context Managers\n",
    "## Motivation and Usage"
   ]
  },
  {
   "cell_type": "code",
   "execution_count": 59,
   "metadata": {},
   "outputs": [],
   "source": [
    "with open('temp.txt','w') as f:\n",
    "    f.write('hello world\\n')\n",
    "    f.write('test file for context manager\\n')"
   ]
  },
  {
   "cell_type": "code",
   "execution_count": 60,
   "metadata": {
    "scrolled": false
   },
   "outputs": [
    {
     "data": {
      "text/plain": [
       "['hello world\\n', 'test file for context manager\\n']"
      ]
     },
     "execution_count": 60,
     "metadata": {},
     "output_type": "execute_result"
    }
   ],
   "source": [
    "with open('temp.txt','r') as f:\n",
    "    content = f.readlines()\n",
    "content"
   ]
  },
  {
   "cell_type": "markdown",
   "metadata": {},
   "source": [
    "The *with* statement is a context manager which gives access to the specified resource (here a text file) in the following code block.\n",
    "\n",
    "The main advantage is that the context manager automatically takes care of closing the resource when the code block is finished or there is an error."
   ]
  },
  {
   "cell_type": "code",
   "execution_count": 61,
   "metadata": {},
   "outputs": [
    {
     "data": {
      "text/plain": [
       "['hello world\\n', 'test file for context manager\\n']"
      ]
     },
     "execution_count": 61,
     "metadata": {},
     "output_type": "execute_result"
    }
   ],
   "source": [
    "try:\n",
    "    f = open('temp.txt')\n",
    "    content = f.readlines()\n",
    "finally:\n",
    "    f.close()\n",
    "content"
   ]
  },
  {
   "cell_type": "markdown",
   "metadata": {},
   "source": [
    "Implementation without context manager would be significantly more complex (here 5 lines instead of 2 for the read part) and error-prone (e.g. if it is forgotten to implement the close command or if it is not in a finally block)."
   ]
  },
  {
   "cell_type": "markdown",
   "metadata": {},
   "source": [
    "## Implementing Own Context Managers\n",
    "https://stackabuse.com/python-context-managers/"
   ]
  },
  {
   "cell_type": "code",
   "execution_count": 62,
   "metadata": {},
   "outputs": [],
   "source": [
    "class MyFileHandler:\n",
    "    \"\"\"only for illustration - redundant because Python's open already includes a \n",
    "    context manager\"\"\"\n",
    "    def __init__(self, filename, kind='r'):\n",
    "        self.filename = filename\n",
    "        self.kind = kind\n",
    "    def __enter__(self):\n",
    "        self.file = open(self.filename, self.kind)\n",
    "        print('file opened')\n",
    "        return self.file\n",
    "    def __exit__(self, *exc):\n",
    "        self.file.close()\n",
    "        print('file closed')"
   ]
  },
  {
   "cell_type": "code",
   "execution_count": 63,
   "metadata": {},
   "outputs": [
    {
     "name": "stdout",
     "output_type": "stream",
     "text": [
      "file opened\n",
      "file read\n",
      "file closed\n"
     ]
    },
    {
     "ename": "Exception",
     "evalue": "",
     "output_type": "error",
     "traceback": [
      "\u001b[0;31m\u001b[0m",
      "\u001b[0;31mException\u001b[0mTraceback (most recent call last)",
      "\u001b[0;32m<ipython-input-63-77def88e5916>\u001b[0m in \u001b[0;36m<module>\u001b[0;34m\u001b[0m\n\u001b[1;32m      2\u001b[0m     \u001b[0mcontent\u001b[0m \u001b[0;34m=\u001b[0m \u001b[0mf\u001b[0m\u001b[0;34m.\u001b[0m\u001b[0mreadlines\u001b[0m\u001b[0;34m(\u001b[0m\u001b[0;34m)\u001b[0m\u001b[0;34m\u001b[0m\u001b[0;34m\u001b[0m\u001b[0m\n\u001b[1;32m      3\u001b[0m     \u001b[0mprint\u001b[0m\u001b[0;34m(\u001b[0m\u001b[0;34m'file read'\u001b[0m\u001b[0;34m)\u001b[0m\u001b[0;34m\u001b[0m\u001b[0;34m\u001b[0m\u001b[0m\n\u001b[0;32m----> 4\u001b[0;31m     \u001b[0;32mraise\u001b[0m \u001b[0mException\u001b[0m\u001b[0;34m\u001b[0m\u001b[0;34m\u001b[0m\u001b[0m\n\u001b[0m\u001b[1;32m      5\u001b[0m \u001b[0mcontent\u001b[0m\u001b[0;34m\u001b[0m\u001b[0;34m\u001b[0m\u001b[0m\n",
      "\u001b[0;31mException\u001b[0m: "
     ]
    }
   ],
   "source": [
    "with MyFileHandler('temp.txt','r') as f:\n",
    "    content = f.readlines()\n",
    "    print('file read')\n",
    "    raise Exception\n",
    "content"
   ]
  },
  {
   "cell_type": "markdown",
   "metadata": {},
   "source": [
    "Context managers are implemented by defining the dunder methods\n",
    "\n",
    "    __enter__(self)\n",
    "    __exit__(self, *exc)\n",
    "    \n",
    "Note that in the example the file is closed even though an exception has been raised."
   ]
  },
  {
   "cell_type": "markdown",
   "metadata": {},
   "source": [
    "## Cleanup"
   ]
  },
  {
   "cell_type": "code",
   "execution_count": 74,
   "metadata": {},
   "outputs": [],
   "source": [
    "from os import remove\n",
    "remove('temp.txt')"
   ]
  },
  {
   "cell_type": "markdown",
   "metadata": {},
   "source": [
    "Author: Benjamin Lungwitz"
   ]
  }
 ],
 "metadata": {
  "kernelspec": {
   "display_name": "Python 3",
   "language": "python",
   "name": "python3"
  },
  "language_info": {
   "codemirror_mode": {
    "name": "ipython",
    "version": 3
   },
   "file_extension": ".py",
   "mimetype": "text/x-python",
   "name": "python",
   "nbconvert_exporter": "python",
   "pygments_lexer": "ipython3",
   "version": "3.7.3"
  }
 },
 "nbformat": 4,
 "nbformat_minor": 2
}

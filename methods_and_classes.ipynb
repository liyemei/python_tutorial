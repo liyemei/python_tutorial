{
 "cells": [
  {
   "cell_type": "markdown",
   "metadata": {},
   "source": [
    "# Functions"
   ]
  },
  {
   "cell_type": "code",
   "execution_count": 6,
   "metadata": {},
   "outputs": [],
   "source": [
    "def f(x):\n",
    "    return x**2"
   ]
  },
  {
   "cell_type": "code",
   "execution_count": 7,
   "metadata": {},
   "outputs": [
    {
     "data": {
      "text/plain": [
       "25"
      ]
     },
     "execution_count": 7,
     "metadata": {},
     "output_type": "execute_result"
    }
   ],
   "source": [
    "f(5)"
   ]
  },
  {
   "cell_type": "code",
   "execution_count": 21,
   "metadata": {},
   "outputs": [],
   "source": [
    "def pow(x,y=2):\n",
    "    return x**y\n",
    "    print('I will never be executed')"
   ]
  },
  {
   "cell_type": "code",
   "execution_count": 22,
   "metadata": {},
   "outputs": [
    {
     "data": {
      "text/plain": [
       "(27, 9, 42)"
      ]
     },
     "execution_count": 22,
     "metadata": {},
     "output_type": "execute_result"
    }
   ],
   "source": [
    "pow(3, 3), pow(3), pow(y=1, x=42)"
   ]
  },
  {
   "cell_type": "markdown",
   "metadata": {},
   "source": [
    "Parameters can be optional if a default value is provided. Optional parameters must be at the end of the function definition.\n",
    "\n",
    "The function exists at the return statement, code afterwards is not executed."
   ]
  },
  {
   "cell_type": "code",
   "execution_count": 13,
   "metadata": {},
   "outputs": [],
   "source": [
    "def void():\n",
    "    print('hello')"
   ]
  },
  {
   "cell_type": "code",
   "execution_count": 16,
   "metadata": {},
   "outputs": [
    {
     "name": "stdout",
     "output_type": "stream",
     "text": [
      "hello\n",
      "None\n"
     ]
    }
   ],
   "source": [
    "out = void()\n",
    "print(out)"
   ]
  },
  {
   "cell_type": "markdown",
   "metadata": {},
   "source": [
    "Functions without return statement return None."
   ]
  },
  {
   "cell_type": "code",
   "execution_count": 18,
   "metadata": {},
   "outputs": [],
   "source": [
    "def dummy_function():\n",
    "    pass"
   ]
  },
  {
   "cell_type": "markdown",
   "metadata": {},
   "source": [
    "If a function (or class) has no content, the pass statement is required,"
   ]
  },
  {
   "cell_type": "markdown",
   "metadata": {},
   "source": [
    "# Classes"
   ]
  },
  {
   "cell_type": "code",
   "execution_count": 120,
   "metadata": {},
   "outputs": [],
   "source": [
    "class Vehicle:\n",
    "    \"\"\"example class\"\"\"\n",
    "    def __init__(self, wheels, seats):\n",
    "        \"\"\"\n",
    "        The __init__ method is used for object creation.\n",
    "        \"\"\"\n",
    "        self.wheels = wheels\n",
    "        self.seats = seats\n",
    "    def drive(self, km):\n",
    "        print(\"driving {} km on {} wheels\".format(km, self.wheels))"
   ]
  },
  {
   "cell_type": "code",
   "execution_count": 121,
   "metadata": {},
   "outputs": [
    {
     "name": "stdout",
     "output_type": "stream",
     "text": [
      "driving 10 km on 2 wheels\n"
     ]
    }
   ],
   "source": [
    "bicycle = Vehicle(2, 1)\n",
    "bicycle.drive(10)"
   ]
  },
  {
   "cell_type": "code",
   "execution_count": 122,
   "metadata": {},
   "outputs": [
    {
     "data": {
      "text/plain": [
       "2"
      ]
     },
     "execution_count": 122,
     "metadata": {},
     "output_type": "execute_result"
    }
   ],
   "source": [
    "bicycle.wheels"
   ]
  },
  {
   "cell_type": "markdown",
   "metadata": {},
   "source": [
    "## Inheritance"
   ]
  },
  {
   "cell_type": "code",
   "execution_count": 128,
   "metadata": {},
   "outputs": [],
   "source": [
    "class Car(Vehicle):\n",
    "    def __init__(self, seats, power):\n",
    "        super().__init__(wheels=4, seats=seats) # calls constructuor of parent class\n",
    "        self.power = power\n",
    "    def drive(self, km):\n",
    "        print(\"driving {} km on {} wheels with {} kW power\".format(\n",
    "            km, self.wheels, self.power))"
   ]
  },
  {
   "cell_type": "code",
   "execution_count": 129,
   "metadata": {},
   "outputs": [
    {
     "name": "stdout",
     "output_type": "stream",
     "text": [
      "driving 200 km on 4 wheels with 150 kW power\n"
     ]
    }
   ],
   "source": [
    "my_car = Car(5, 150)\n",
    "my_car.drive(200)"
   ]
  },
  {
   "cell_type": "markdown",
   "metadata": {},
   "source": [
    "If a method is overwritten in the child class (like init in the example), the method of the parent class can be accessed with super()."
   ]
  },
  {
   "cell_type": "markdown",
   "metadata": {},
   "source": [
    "### Multiple Inheritance"
   ]
  },
  {
   "cell_type": "code",
   "execution_count": 169,
   "metadata": {},
   "outputs": [],
   "source": [
    "class PurchaseMixin:\n",
    "    price = None\n",
    "    currency = 'EUR'\n",
    "    nr_owned = 0\n",
    "    def buy(self, nr=1):\n",
    "        self.nr_owned += nr\n",
    "        print(\"purchased {} piece(s) for {} {}\".format(nr, nr*self.price, self.currency))\n",
    "    def sell(self, nr=1):\n",
    "        if nr > self.nr_owned:\n",
    "            raise ValueError('you own less than you want to sell!')\n",
    "        self.nr_owned -= nr\n",
    "        print(\"sold {} piece(s) for {} {}\".format(nr, nr*self.price, self.currency))"
   ]
  },
  {
   "cell_type": "code",
   "execution_count": 170,
   "metadata": {},
   "outputs": [],
   "source": [
    "class PurchasableCar(PurchaseMixin, Car):\n",
    "    pass"
   ]
  },
  {
   "cell_type": "code",
   "execution_count": 171,
   "metadata": {
    "scrolled": true
   },
   "outputs": [
    {
     "name": "stdout",
     "output_type": "stream",
     "text": [
      "purchased 2 piece(s) for 60000 EUR\n",
      "sold 1 piece(s) for 30000 EUR\n",
      "driving 250 km on 4 wheels with 150 kW power\n"
     ]
    },
    {
     "data": {
      "text/plain": [
       "1"
      ]
     },
     "execution_count": 171,
     "metadata": {},
     "output_type": "execute_result"
    }
   ],
   "source": [
    "my_cars = PurchasableCar(5, 150)\n",
    "my_cars.price = 30000\n",
    "my_cars.buy(2)\n",
    "my_cars.sell()\n",
    "my_cars.drive(250)\n",
    "my_cars.nr_owned"
   ]
  },
  {
   "cell_type": "markdown",
   "metadata": {},
   "source": [
    "Classes in Python may inherit from multiple parent classes. This can be used to add additional features to classes.\n",
    "\n",
    "### Naming Resolution"
   ]
  },
  {
   "cell_type": "code",
   "execution_count": 218,
   "metadata": {},
   "outputs": [],
   "source": [
    "class A:\n",
    "    def __init__(self):\n",
    "        self.i = 1\n",
    "        print('init A')\n",
    "    def func(self, x):\n",
    "        return x+1\n",
    "class B:\n",
    "    def __init__(self):\n",
    "        self.i = 2\n",
    "        print('init B')\n",
    "    def func(self, x):\n",
    "        return x+2"
   ]
  },
  {
   "cell_type": "code",
   "execution_count": 219,
   "metadata": {},
   "outputs": [],
   "source": [
    "class AB(A,B):\n",
    "    pass\n",
    "class BA(B,A):\n",
    "    pass"
   ]
  },
  {
   "cell_type": "code",
   "execution_count": 220,
   "metadata": {},
   "outputs": [
    {
     "name": "stdout",
     "output_type": "stream",
     "text": [
      "init A\n",
      "init B\n"
     ]
    },
    {
     "data": {
      "text/plain": [
       "(1, 2)"
      ]
     },
     "execution_count": 220,
     "metadata": {},
     "output_type": "execute_result"
    }
   ],
   "source": [
    "ab = AB()\n",
    "ba = BA()\n",
    "ab.func(0), ba.func(0)"
   ]
  },
  {
   "cell_type": "markdown",
   "metadata": {},
   "source": [
    "If parent classes have the same methods (including init), the derived class uses the method of the 1st parent."
   ]
  },
  {
   "cell_type": "code",
   "execution_count": 221,
   "metadata": {},
   "outputs": [],
   "source": [
    "class AB2(A, B):\n",
    "    def func(self,x):\n",
    "        return B.func(self, x)"
   ]
  },
  {
   "cell_type": "code",
   "execution_count": 222,
   "metadata": {},
   "outputs": [
    {
     "name": "stdout",
     "output_type": "stream",
     "text": [
      "init A\n"
     ]
    },
    {
     "data": {
      "text/plain": [
       "2"
      ]
     },
     "execution_count": 222,
     "metadata": {},
     "output_type": "execute_result"
    }
   ],
   "source": [
    "ab2 = AB2()\n",
    "ab2.func(0)"
   ]
  },
  {
   "cell_type": "markdown",
   "metadata": {},
   "source": [
    "In"
   ]
  },
  {
   "cell_type": "markdown",
   "metadata": {},
   "source": [
    "## Property Methods"
   ]
  },
  {
   "cell_type": "code",
   "execution_count": 172,
   "metadata": {},
   "outputs": [
    {
     "name": "stdout",
     "output_type": "stream",
     "text": [
      "purchased 1 piece(s) for hello EUR\n"
     ]
    }
   ],
   "source": [
    "my_cars.price = 'hello'\n",
    "my_cars.buy() # output is not what is expected"
   ]
  },
  {
   "cell_type": "markdown",
   "metadata": {},
   "source": [
    "In languages like C++ and Java one usually implements getter and setter methods for any public property. \n",
    "This is discouraged in Python because it creates a lot of boilerplate code.\n",
    "Instead, properties should be accessed directly.\n",
    "\n",
    "If it turns out later that logic (like validations, formatting) is required when getting or setting properties, they can be changed in the class definition to property methods without changing the class api."
   ]
  },
  {
   "cell_type": "code",
   "execution_count": 176,
   "metadata": {},
   "outputs": [],
   "source": [
    "from numbers import Number\n",
    "class SafePurchaseMixin(PurchaseMixin):\n",
    "    _price = None\n",
    "    \n",
    "    @property\n",
    "    def price(self):\n",
    "        if self._price is None:\n",
    "            raise ValueError('price not set')\n",
    "        return self._price\n",
    "    \n",
    "    @price.setter\n",
    "    def price(self, x):\n",
    "        if not isinstance(x, Number):\n",
    "            raise TypeError('Price must be numeric')\n",
    "        if x <= 0:\n",
    "            raise ValueError('Price must be positive')\n",
    "        self._price = x\n",
    "        \n",
    "    @price.deleter # for completeness, often not required\n",
    "    def price(self):\n",
    "        self._price = None"
   ]
  },
  {
   "cell_type": "code",
   "execution_count": 177,
   "metadata": {},
   "outputs": [],
   "source": [
    "class PurchasableCar2(SafePurchaseMixin, Car):\n",
    "    pass"
   ]
  },
  {
   "cell_type": "code",
   "execution_count": 178,
   "metadata": {},
   "outputs": [
    {
     "name": "stdout",
     "output_type": "stream",
     "text": [
      "purchased 2 piece(s) for 60000 EUR\n",
      "sold 1 piece(s) for 30000 EUR\n",
      "driving 250 km on 4 wheels with 150 kW power\n"
     ]
    },
    {
     "data": {
      "text/plain": [
       "1"
      ]
     },
     "execution_count": 178,
     "metadata": {},
     "output_type": "execute_result"
    }
   ],
   "source": [
    "my_cars = PurchasableCar2(5, 150)\n",
    "my_cars.price = 30000 # note that the api is identical to PurchasableCars\n",
    "my_cars.buy(2)\n",
    "my_cars.sell()\n",
    "my_cars.drive(250)\n",
    "my_cars.nr_owned"
   ]
  },
  {
   "cell_type": "code",
   "execution_count": 179,
   "metadata": {},
   "outputs": [
    {
     "name": "stdout",
     "output_type": "stream",
     "text": [
      "Price must be numeric\n"
     ]
    }
   ],
   "source": [
    "try:\n",
    "    my_cars.price = 'hello'\n",
    "except TypeError as e:\n",
    "    print(e)"
   ]
  },
  {
   "cell_type": "code",
   "execution_count": 180,
   "metadata": {},
   "outputs": [
    {
     "name": "stdout",
     "output_type": "stream",
     "text": [
      "price not set\n"
     ]
    }
   ],
   "source": [
    "del my_cars.price\n",
    "try:\n",
    "    print(my_cars.price)\n",
    "except ValueError as e:\n",
    "    print(e)"
   ]
  },
  {
   "cell_type": "markdown",
   "metadata": {},
   "source": [
    "In the property methods for price, validation has been included without any change of the class api."
   ]
  },
  {
   "cell_type": "markdown",
   "metadata": {},
   "source": [
    "## Dunder Methods"
   ]
  },
  {
   "cell_type": "code",
   "execution_count": 116,
   "metadata": {},
   "outputs": [],
   "source": [
    "from math import sqrt\n",
    "class ComplexNumber:\n",
    "    \"\"\"\n",
    "    just as an example, in practice use the built-in complex data type!\n",
    "    \"\"\"\n",
    "    def __init__(self,real, imag=0):\n",
    "        self.r = real\n",
    "        self.i = imag\n",
    "    \n",
    "    @staticmethod\n",
    "    def _convert_num(x):\n",
    "        \"\"\"\n",
    "        Converts number or ComplexNumber into real and imaginary part.\n",
    "        This is an internal method, marked by leading underscore (_).\n",
    "        Furhermore, it is a static method, i.e. it does not require any input from\n",
    "        the object itself (as indicated with missing self parameter). \n",
    "        Static methods require the @staticmethod decorator.\n",
    "        \"\"\"\n",
    "        if isinstance(x, ComplexNumber):\n",
    "            r2 = x.r\n",
    "            i2 = x.i\n",
    "        else:\n",
    "            r2 = x\n",
    "            i2 = 0\n",
    "        return r2, i2\n",
    "    \n",
    "    def __str__(self):\n",
    "        \"\"\"Defines string representation of the object.\"\"\"\n",
    "        return \"{r} + {i} * i\".format(r=self.r, i=self.i)\n",
    "    \n",
    "    def __repr__(self):\n",
    "        \"\"\"Defines a printable representation of the object. \n",
    "        Usually __repr__ contains more debugging information than __str__.\"\"\"\n",
    "        return \"ComplexNumber object, value: {r} + {i} * i\".format(r=self.r, i=self.i)\n",
    "    \n",
    "    def __add__(self, x):\n",
    "        r2, i2 = self._convert_num(x)\n",
    "        return ComplexNumber(self.r + r2, self.i + i2)\n",
    "\n",
    "    def get_abs_value(self):\n",
    "        return sqrt(self.r**2 + self.i**2)"
   ]
  },
  {
   "cell_type": "code",
   "execution_count": 114,
   "metadata": {},
   "outputs": [
    {
     "name": "stdout",
     "output_type": "stream",
     "text": [
      "1 + 2 * i\n"
     ]
    }
   ],
   "source": [
    "c1 = ComplexNumber(1, 2)\n",
    "print(c1)"
   ]
  },
  {
   "cell_type": "markdown",
   "metadata": {},
   "source": [
    "The print function implicitly converts the ComplexNumber object into a string, i.e. printing the output of the \n",
    "    \n",
    "    __str__ \n",
    "method."
   ]
  },
  {
   "cell_type": "code",
   "execution_count": 115,
   "metadata": {},
   "outputs": [
    {
     "data": {
      "text/plain": [
       "ComplexNumber object, value: 1 + 2 * i"
      ]
     },
     "execution_count": 115,
     "metadata": {},
     "output_type": "execute_result"
    }
   ],
   "source": [
    "c1"
   ]
  },
  {
   "cell_type": "code",
   "execution_count": 106,
   "metadata": {},
   "outputs": [
    {
     "data": {
      "text/plain": [
       "(1, 2, 2.23606797749979)"
      ]
     },
     "execution_count": 106,
     "metadata": {},
     "output_type": "execute_result"
    }
   ],
   "source": [
    "c1.r, c1.i, c1.get_abs_value()"
   ]
  },
  {
   "cell_type": "code",
   "execution_count": 107,
   "metadata": {},
   "outputs": [
    {
     "name": "stdout",
     "output_type": "stream",
     "text": [
      "3 + 5 * i\n"
     ]
    }
   ],
   "source": [
    "c2 = ComplexNumber(2, 3)\n",
    "c3 = c1 + c2\n",
    "print(c3)"
   ]
  },
  {
   "cell_type": "code",
   "execution_count": 108,
   "metadata": {
    "scrolled": true
   },
   "outputs": [
    {
     "name": "stdout",
     "output_type": "stream",
     "text": [
      "8 + 2 * i\n"
     ]
    }
   ],
   "source": [
    "print(c1 + 7)"
   ]
  },
  {
   "cell_type": "markdown",
   "metadata": {},
   "source": [
    "# Namespaces"
   ]
  },
  {
   "cell_type": "code",
   "execution_count": 43,
   "metadata": {},
   "outputs": [],
   "source": [
    "outside1 = 42\n",
    "outside2 = 0\n",
    "def f_bad(x):\n",
    "    outside2 = x # this is actually a local variable \n",
    "                 # which has nothing to do with outside 2 defined before\n",
    "    print(outside2)\n",
    "    return x + outside1 # extremely dangerous usage of global variable"
   ]
  },
  {
   "cell_type": "code",
   "execution_count": 37,
   "metadata": {},
   "outputs": [
    {
     "data": {
      "text/plain": [
       "0"
      ]
     },
     "execution_count": 37,
     "metadata": {},
     "output_type": "execute_result"
    }
   ],
   "source": [
    "outside2"
   ]
  },
  {
   "cell_type": "code",
   "execution_count": 44,
   "metadata": {},
   "outputs": [
    {
     "name": "stdout",
     "output_type": "stream",
     "text": [
      "7\n"
     ]
    },
    {
     "data": {
      "text/plain": [
       "(49, 0)"
      ]
     },
     "execution_count": 44,
     "metadata": {},
     "output_type": "execute_result"
    }
   ],
   "source": [
    "f_bad(7), outside2"
   ]
  },
  {
   "cell_type": "markdown",
   "metadata": {},
   "source": [
    "Variables defined inside a function (or class) are local, i.e. they are only valid inside the function and changes of them do not influence anything outside the function. This is true even if outside variables have the same name (here global2).\n",
    "\n",
    "Variables defined outside the function, however, can be accessed from inside the function. This is however very dangerous and should be avoided!"
   ]
  },
  {
   "cell_type": "code",
   "execution_count": 47,
   "metadata": {},
   "outputs": [],
   "source": [
    "def f_even_worse(x):\n",
    "    global outside2 # makes the variable defined outside changable inside the function\n",
    "    outside2 = x # the outside variable is actually changed here!\n",
    "    print(outside2)\n",
    "    return x + outside1 # extremely dangerous usage of global variable"
   ]
  },
  {
   "cell_type": "code",
   "execution_count": 48,
   "metadata": {},
   "outputs": [
    {
     "data": {
      "text/plain": [
       "0"
      ]
     },
     "execution_count": 48,
     "metadata": {},
     "output_type": "execute_result"
    }
   ],
   "source": [
    "outside2"
   ]
  },
  {
   "cell_type": "code",
   "execution_count": 50,
   "metadata": {},
   "outputs": [
    {
     "name": "stdout",
     "output_type": "stream",
     "text": [
      "7\n"
     ]
    },
    {
     "data": {
      "text/plain": [
       "(49, 7)"
      ]
     },
     "execution_count": 50,
     "metadata": {},
     "output_type": "execute_result"
    }
   ],
   "source": [
    "f_even_worse(7), outside2"
   ]
  },
  {
   "cell_type": "markdown",
   "metadata": {},
   "source": [
    "The *global* stament makes the variable defined outside changable inside the function. The usage of this pattern is __extremely__ dangerous and must be avoided!"
   ]
  },
  {
   "cell_type": "code",
   "execution_count": 45,
   "metadata": {},
   "outputs": [],
   "source": [
    "def f_good(x, i):\n",
    "    print(x)\n",
    "    return x + i"
   ]
  },
  {
   "cell_type": "code",
   "execution_count": 46,
   "metadata": {},
   "outputs": [
    {
     "name": "stdout",
     "output_type": "stream",
     "text": [
      "7\n"
     ]
    },
    {
     "data": {
      "text/plain": [
       "49"
      ]
     },
     "execution_count": 46,
     "metadata": {},
     "output_type": "execute_result"
    }
   ],
   "source": [
    "f_good(7, 42)"
   ]
  },
  {
   "cell_type": "markdown",
   "metadata": {},
   "source": [
    "Refactored version of the previous function without implicit usage of variable defined outside the function."
   ]
  },
  {
   "cell_type": "code",
   "execution_count": 60,
   "metadata": {},
   "outputs": [],
   "source": [
    "def f_mod_input(i: int, l: list):\n",
    "    l.append(i)\n",
    "    i = i*2\n",
    "    return i"
   ]
  },
  {
   "cell_type": "code",
   "execution_count": 63,
   "metadata": {},
   "outputs": [
    {
     "data": {
      "text/plain": [
       "84"
      ]
     },
     "execution_count": 63,
     "metadata": {},
     "output_type": "execute_result"
    }
   ],
   "source": [
    "i1 = 42 # basic variable\n",
    "l1 = [1, 2] # list object\n",
    "f_mod_input(i1, l1)"
   ]
  },
  {
   "cell_type": "code",
   "execution_count": 64,
   "metadata": {},
   "outputs": [
    {
     "data": {
      "text/plain": [
       "(42, [1, 2, 42])"
      ]
     },
     "execution_count": 64,
     "metadata": {},
     "output_type": "execute_result"
    }
   ],
   "source": [
    "i1, l1"
   ]
  },
  {
   "cell_type": "markdown",
   "metadata": {},
   "source": [
    "Both function parameters (here integer and list) are changed inside the function.\n",
    "\n",
    "* The basic type (here integer) is however not changed in the outside scope - call by value\n",
    "* The complex type (here list) is changed in the outside scope by the modification inside the function - call by reference\n",
    "\n",
    "It is a common source of errors and (in my opinion) a major weakness of Python language that call by value and call by reference are not clearly separated by syntax (like in C (++) where pointers have * as prefix).\n",
    "\n",
    "Call by reference can be used on purpose to modify objects in outer scope by the function. However, it is safer to explicitly create a new object inside the function, modify that and return it."
   ]
  },
  {
   "cell_type": "code",
   "execution_count": 73,
   "metadata": {},
   "outputs": [],
   "source": [
    "def f_safer(i: int, l: list):\n",
    "    l2 = l.copy() # creates new list object\n",
    "    l2.append(i)\n",
    "    i = i*2\n",
    "    return i, l2"
   ]
  },
  {
   "cell_type": "code",
   "execution_count": 74,
   "metadata": {},
   "outputs": [
    {
     "data": {
      "text/plain": [
       "(84, [1, 2, 42])"
      ]
     },
     "execution_count": 74,
     "metadata": {},
     "output_type": "execute_result"
    }
   ],
   "source": [
    "i1 = 42 # basic variable\n",
    "l1 = [1, 2] # list object\n",
    "f_safer(i1, l1)"
   ]
  },
  {
   "cell_type": "code",
   "execution_count": 75,
   "metadata": {},
   "outputs": [
    {
     "data": {
      "text/plain": [
       "(42, [1, 2])"
      ]
     },
     "execution_count": 75,
     "metadata": {},
     "output_type": "execute_result"
    }
   ],
   "source": [
    "i1, l1"
   ]
  },
  {
   "cell_type": "markdown",
   "metadata": {},
   "source": [
    "# Error Handling"
   ]
  },
  {
   "cell_type": "code",
   "execution_count": null,
   "metadata": {},
   "outputs": [],
   "source": []
  },
  {
   "cell_type": "markdown",
   "metadata": {},
   "source": [
    "Author: Benjamin Lungwitz"
   ]
  }
 ],
 "metadata": {
  "kernelspec": {
   "display_name": "Python 3",
   "language": "python",
   "name": "python3"
  },
  "language_info": {
   "codemirror_mode": {
    "name": "ipython",
    "version": 3
   },
   "file_extension": ".py",
   "mimetype": "text/x-python",
   "name": "python",
   "nbconvert_exporter": "python",
   "pygments_lexer": "ipython3",
   "version": "3.7.3"
  }
 },
 "nbformat": 4,
 "nbformat_minor": 2
}

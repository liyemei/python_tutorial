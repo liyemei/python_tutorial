{
 "cells": [
  {
   "cell_type": "markdown",
   "metadata": {},
   "source": [
    "# Exception Handling\n",
    "\n",
    "Note: The Jupyter Run All command stops after each exception. Naturally for this subject, there will be a number of exceptions in this chapter, thus notebook execution needs to be continued manually after each exception.\n",
    "\n",
    "## Causes of Exceptions"
   ]
  },
  {
   "cell_type": "code",
   "execution_count": 1,
   "metadata": {},
   "outputs": [
    {
     "ename": "ZeroDivisionError",
     "evalue": "division by zero",
     "output_type": "error",
     "traceback": [
      "\u001b[0;31m\u001b[0m",
      "\u001b[0;31mZeroDivisionError\u001b[0mTraceback (most recent call last)",
      "\u001b[0;32m<ipython-input-1-9de717b845db>\u001b[0m in \u001b[0;36m<module>\u001b[0;34m\u001b[0m\n\u001b[0;32m----> 1\u001b[0;31m \u001b[0;36m1\u001b[0m \u001b[0;34m/\u001b[0m \u001b[0;36m0\u001b[0m \u001b[0;31m# causes ZeroDivisionError\u001b[0m\u001b[0;34m\u001b[0m\u001b[0;34m\u001b[0m\u001b[0m\n\u001b[0m",
      "\u001b[0;31mZeroDivisionError\u001b[0m: division by zero"
     ]
    }
   ],
   "source": [
    "1 / 0 # causes ZeroDivisionError"
   ]
  },
  {
   "cell_type": "code",
   "execution_count": 2,
   "metadata": {},
   "outputs": [
    {
     "ename": "Exception",
     "evalue": "test exception",
     "output_type": "error",
     "traceback": [
      "\u001b[0;31m\u001b[0m",
      "\u001b[0;31mException\u001b[0mTraceback (most recent call last)",
      "\u001b[0;32m<ipython-input-2-b2605bc6fb56>\u001b[0m in \u001b[0;36m<module>\u001b[0;34m\u001b[0m\n\u001b[0;32m----> 1\u001b[0;31m \u001b[0;32mraise\u001b[0m \u001b[0mException\u001b[0m\u001b[0;34m(\u001b[0m\u001b[0;34m'test exception'\u001b[0m\u001b[0;34m)\u001b[0m \u001b[0;31m# explicitly raises an exception\u001b[0m\u001b[0;34m\u001b[0m\u001b[0;34m\u001b[0m\u001b[0m\n\u001b[0m",
      "\u001b[0;31mException\u001b[0m: test exception"
     ]
    }
   ],
   "source": [
    "raise Exception('test exception') # explicitly raises an exception"
   ]
  },
  {
   "cell_type": "markdown",
   "metadata": {},
   "source": [
    "Exceptions can either originate from commands (here a zero division) or are explicitly raised.\n",
    "\n",
    "If an exception is raised, the current function is exited and it is returned to the calling function, until the exception is either catched or the progam is exited to the (Python or system) shell."
   ]
  },
  {
   "cell_type": "markdown",
   "metadata": {},
   "source": [
    "## Catching Exceptions"
   ]
  },
  {
   "cell_type": "code",
   "execution_count": 3,
   "metadata": {},
   "outputs": [
    {
     "name": "stdout",
     "output_type": "stream",
     "text": [
      "division by zero\n"
     ]
    }
   ],
   "source": [
    "try:\n",
    "    1/0\n",
    "except ZeroDivisionError as e:# basic pattern\n",
    "    print(e)"
   ]
  },
  {
   "cell_type": "markdown",
   "metadata": {},
   "source": [
    "Basic pattern: catching one specific exception type in the try block and print the error message"
   ]
  },
  {
   "cell_type": "code",
   "execution_count": 4,
   "metadata": {},
   "outputs": [],
   "source": [
    "def one_over(x):\n",
    "    y = float('nan')\n",
    "    try:\n",
    "        y = 1/x\n",
    "    except ZeroDivisionError:\n",
    "        print('invalid division by 0')\n",
    "    except TypeError:\n",
    "        print('x must be numeric')\n",
    "    except Exception as e:\n",
    "        print('something else happened')\n",
    "        print(e)\n",
    "    finally:\n",
    "        return y"
   ]
  },
  {
   "cell_type": "code",
   "execution_count": 5,
   "metadata": {},
   "outputs": [
    {
     "data": {
      "text/plain": [
       "0.5"
      ]
     },
     "execution_count": 5,
     "metadata": {},
     "output_type": "execute_result"
    }
   ],
   "source": [
    "one_over(2)"
   ]
  },
  {
   "cell_type": "code",
   "execution_count": 6,
   "metadata": {},
   "outputs": [
    {
     "name": "stdout",
     "output_type": "stream",
     "text": [
      "invalid division by 0\n"
     ]
    },
    {
     "data": {
      "text/plain": [
       "nan"
      ]
     },
     "execution_count": 6,
     "metadata": {},
     "output_type": "execute_result"
    }
   ],
   "source": [
    "one_over(0)"
   ]
  },
  {
   "cell_type": "code",
   "execution_count": 7,
   "metadata": {
    "scrolled": true
   },
   "outputs": [
    {
     "name": "stdout",
     "output_type": "stream",
     "text": [
      "x must be numeric\n"
     ]
    },
    {
     "data": {
      "text/plain": [
       "nan"
      ]
     },
     "execution_count": 7,
     "metadata": {},
     "output_type": "execute_result"
    }
   ],
   "source": [
    "one_over('hello')"
   ]
  },
  {
   "cell_type": "markdown",
   "metadata": {},
   "source": [
    "Explicit catching of multiple error types allows different actions for each.\n",
    "\n",
    "Exception is the base type of all exceptions, therefore the last except statement catches all possible exceptions, but is only executed if none of the previous except statements matched.\n",
    "\n",
    "The finally block is always executed, regardless if there was an error in the try block or not."
   ]
  },
  {
   "cell_type": "code",
   "execution_count": 8,
   "metadata": {},
   "outputs": [],
   "source": [
    "class Number42Exception(Exception):\n",
    "    pass"
   ]
  },
  {
   "cell_type": "markdown",
   "metadata": {},
   "source": [
    "Custom exceptions can be created by inheritance of the existing exceptions (usually Exception class)."
   ]
  },
  {
   "cell_type": "code",
   "execution_count": 9,
   "metadata": {},
   "outputs": [],
   "source": [
    "def one_over_not_42(x):\n",
    "    try:\n",
    "        if x == 42:\n",
    "            raise Number42Exception('input 42 is not allowed')\n",
    "        return 1/x\n",
    "    except (ZeroDivisionError, TypeError) as e:\n",
    "        print(e)\n",
    "        return float('nan')\n",
    "    except Exception as e:\n",
    "        print(e)\n",
    "        raise"
   ]
  },
  {
   "cell_type": "code",
   "execution_count": 10,
   "metadata": {},
   "outputs": [
    {
     "name": "stdout",
     "output_type": "stream",
     "text": [
      "division by zero\n"
     ]
    },
    {
     "data": {
      "text/plain": [
       "nan"
      ]
     },
     "execution_count": 10,
     "metadata": {},
     "output_type": "execute_result"
    }
   ],
   "source": [
    "one_over_not_42(0)"
   ]
  },
  {
   "cell_type": "code",
   "execution_count": 11,
   "metadata": {},
   "outputs": [
    {
     "name": "stdout",
     "output_type": "stream",
     "text": [
      "unsupported operand type(s) for /: 'int' and 'str'\n"
     ]
    },
    {
     "data": {
      "text/plain": [
       "nan"
      ]
     },
     "execution_count": 11,
     "metadata": {},
     "output_type": "execute_result"
    }
   ],
   "source": [
    "one_over_not_42('hello')"
   ]
  },
  {
   "cell_type": "markdown",
   "metadata": {},
   "source": [
    "If a tuple of exceptions is given after *except*, any of them is catched."
   ]
  },
  {
   "cell_type": "code",
   "execution_count": 12,
   "metadata": {},
   "outputs": [
    {
     "name": "stdout",
     "output_type": "stream",
     "text": [
      "input 42 is not allowed\n"
     ]
    },
    {
     "ename": "Number42Exception",
     "evalue": "input 42 is not allowed",
     "output_type": "error",
     "traceback": [
      "\u001b[0;31m\u001b[0m",
      "\u001b[0;31mNumber42Exception\u001b[0mTraceback (most recent call last)",
      "\u001b[0;32m<ipython-input-12-d26a019dd748>\u001b[0m in \u001b[0;36m<module>\u001b[0;34m\u001b[0m\n\u001b[0;32m----> 1\u001b[0;31m \u001b[0mone_over_not_42\u001b[0m\u001b[0;34m(\u001b[0m\u001b[0;36m42\u001b[0m\u001b[0;34m)\u001b[0m \u001b[0;31m# raises Exception\u001b[0m\u001b[0;34m\u001b[0m\u001b[0;34m\u001b[0m\u001b[0m\n\u001b[0m",
      "\u001b[0;32m<ipython-input-9-aac00368e9b8>\u001b[0m in \u001b[0;36mone_over_not_42\u001b[0;34m(x)\u001b[0m\n\u001b[1;32m      2\u001b[0m     \u001b[0;32mtry\u001b[0m\u001b[0;34m:\u001b[0m\u001b[0;34m\u001b[0m\u001b[0;34m\u001b[0m\u001b[0m\n\u001b[1;32m      3\u001b[0m         \u001b[0;32mif\u001b[0m \u001b[0mx\u001b[0m \u001b[0;34m==\u001b[0m \u001b[0;36m42\u001b[0m\u001b[0;34m:\u001b[0m\u001b[0;34m\u001b[0m\u001b[0;34m\u001b[0m\u001b[0m\n\u001b[0;32m----> 4\u001b[0;31m             \u001b[0;32mraise\u001b[0m \u001b[0mNumber42Exception\u001b[0m\u001b[0;34m(\u001b[0m\u001b[0;34m'input 42 is not allowed'\u001b[0m\u001b[0;34m)\u001b[0m\u001b[0;34m\u001b[0m\u001b[0;34m\u001b[0m\u001b[0m\n\u001b[0m\u001b[1;32m      5\u001b[0m         \u001b[0;32mreturn\u001b[0m \u001b[0;36m1\u001b[0m\u001b[0;34m/\u001b[0m\u001b[0mx\u001b[0m\u001b[0;34m\u001b[0m\u001b[0;34m\u001b[0m\u001b[0m\n\u001b[1;32m      6\u001b[0m     \u001b[0;32mexcept\u001b[0m \u001b[0;34m(\u001b[0m\u001b[0mZeroDivisionError\u001b[0m\u001b[0;34m,\u001b[0m \u001b[0mTypeError\u001b[0m\u001b[0;34m)\u001b[0m \u001b[0;32mas\u001b[0m \u001b[0me\u001b[0m\u001b[0;34m:\u001b[0m\u001b[0;34m\u001b[0m\u001b[0;34m\u001b[0m\u001b[0m\n",
      "\u001b[0;31mNumber42Exception\u001b[0m: input 42 is not allowed"
     ]
    }
   ],
   "source": [
    "one_over_not_42(42) # raises Exception"
   ]
  },
  {
   "cell_type": "markdown",
   "metadata": {},
   "source": [
    "The *raise* command in an except block re-raises the catched exception."
   ]
  },
  {
   "cell_type": "markdown",
   "metadata": {},
   "source": [
    "## Usage\n",
    "\n",
    "* Do not be afraid to use (catched) exceptions as part of the normal program flow. An exception is not nessesarily an error, see e.g. the StopIteration exception of the Python standard library.\n",
    "* It is not required to catch every exception. If there is something broken in the program it is OK that it crashes. Exceptions regarding user input, etc. however should be catched."
   ]
  },
  {
   "cell_type": "markdown",
   "metadata": {},
   "source": [
    "## Antipatterns"
   ]
  },
  {
   "cell_type": "code",
   "execution_count": 13,
   "metadata": {},
   "outputs": [],
   "source": [
    "x = 0\n",
    "try:\n",
    "    1/0\n",
    "except:\n",
    "    pass"
   ]
  },
  {
   "cell_type": "markdown",
   "metadata": {},
   "source": [
    "Probably __the__ worst thing which could be done: all exceptions are ignored and no information about it is stored. Happy debugging!"
   ]
  },
  {
   "cell_type": "code",
   "execution_count": 14,
   "metadata": {},
   "outputs": [
    {
     "name": "stdout",
     "output_type": "stream",
     "text": [
      "zero division error\n"
     ]
    }
   ],
   "source": [
    "x = 0\n",
    "try:\n",
    "    1/0\n",
    "except:\n",
    "    print('zero division error')"
   ]
  },
  {
   "cell_type": "markdown",
   "metadata": {},
   "source": [
    "All error types are catched, the message however assumes a zero division error.\n",
    "It is recommended to catch only specific errors."
   ]
  },
  {
   "cell_type": "code",
   "execution_count": 15,
   "metadata": {},
   "outputs": [
    {
     "name": "stdout",
     "output_type": "stream",
     "text": [
      "some other error\n"
     ]
    }
   ],
   "source": [
    "x = 0\n",
    "try:\n",
    "    1/0\n",
    "except Exception:\n",
    "    print('some other error')\n",
    "except ZeroDivisionError:\n",
    "    print('zero division error')"
   ]
  },
  {
   "cell_type": "markdown",
   "metadata": {},
   "source": [
    "Wrong order of except statements: catch the more specific exception types first!"
   ]
  },
  {
   "cell_type": "markdown",
   "metadata": {},
   "source": [
    "# Logging"
   ]
  },
  {
   "cell_type": "code",
   "execution_count": 16,
   "metadata": {},
   "outputs": [],
   "source": [
    "import logging"
   ]
  },
  {
   "cell_type": "code",
   "execution_count": 17,
   "metadata": {},
   "outputs": [],
   "source": [
    "# logging to console\n",
    "logging.basicConfig(level=logging.INFO, \n",
    "                    format='%(asctime)s %(name)-12s %(levelname)-8s %(message)s')\n",
    "#logging to file (usually for applications, not for notebook usage)\n",
    "#logging.basicConfig(level=logging.INFO, \n",
    "#                   format='%(asctime)s %(name)-12s %(levelname)-8s %(message)s', \n",
    "#                   filename='logfile.log', filemode='w')"
   ]
  },
  {
   "cell_type": "code",
   "execution_count": 18,
   "metadata": {},
   "outputs": [
    {
     "name": "stderr",
     "output_type": "stream",
     "text": [
      "2019-06-14 19:06:33,351 root         CRITICAL critical error 42\n",
      "2019-06-14 19:06:33,355 root         ERROR    this is an error with dire consequences\n",
      "2019-06-14 19:06:33,357 root         WARNING  this is a warning, countdown: 10, 9, 8, 7, 6, 5, 4, 3, 2, 1\n",
      "2019-06-14 19:06:33,358 root         INFO     just for information: costs are 42.42 EUR\n"
     ]
    }
   ],
   "source": [
    "logging.critical('critical error %i', 42)\n",
    "logging.error('this is an error with {} consequences'.format('dire'))\n",
    "logging.warning(f'this is a warning, countdown: {\", \".join(str(10-i) for i in range(10))}')\n",
    "logging.info('just for information: costs are %.2f EUR', 42.42)\n",
    "logging.debug('debug info currently not shown')"
   ]
  },
  {
   "cell_type": "markdown",
   "metadata": {},
   "source": [
    "Logging entries for different severities can be added. The lowest severity level which is shown in the log is specified by the level keyword.\n",
    "\n",
    "The content of variables can be added analogue to standard strings, i.e. with the % style syntax, string formatting or f-strings (recommended for Python >= 3.6).\n",
    "\n",
    "Logging can be done to different targets, e.g. standard-out (like here) or a log file."
   ]
  },
  {
   "cell_type": "code",
   "execution_count": 20,
   "metadata": {},
   "outputs": [
    {
     "data": {
      "text/plain": [
       "<Logger __main__ (INFO)>"
      ]
     },
     "execution_count": 20,
     "metadata": {},
     "output_type": "execute_result"
    }
   ],
   "source": [
    "logger = logging.getLogger(__name__)\n",
    "logger"
   ]
  },
  {
   "cell_type": "code",
   "execution_count": 21,
   "metadata": {},
   "outputs": [
    {
     "name": "stderr",
     "output_type": "stream",
     "text": [
      "2019-06-14 19:07:02,483 __main__     INFO     just for information\n"
     ]
    }
   ],
   "source": [
    "logger.info('just for information')"
   ]
  },
  {
   "cell_type": "markdown",
   "metadata": {},
   "source": [
    "Using *logging.severity* uses the root logger. For larger programs it is recommended to define in each module a separate logger using the statements above. This has the advantage that the module name itself is logged.\n",
    "\n",
    "Note that if the loggers are defined after *logging.basicConfig*, they use the config defined there.\n",
    "\n",
    "There are a lot of additional config possibilities for the Python logging module, which are only required in certain cases, see https://docs.python.org/3/library/logging.html."
   ]
  },
  {
   "cell_type": "code",
   "execution_count": 22,
   "metadata": {},
   "outputs": [
    {
     "name": "stderr",
     "output_type": "stream",
     "text": [
      "2019-06-14 19:07:05,104 __main__     ERROR    surprise: 1/0 caused an error\n",
      "Traceback (most recent call last):\n",
      "  File \"<ipython-input-22-2d43593ccf66>\", line 4, in <module>\n",
      "    div(1, 0)\n",
      "  File \"<ipython-input-22-2d43593ccf66>\", line 2, in div\n",
      "    return x/y\n",
      "ZeroDivisionError: division by zero\n"
     ]
    }
   ],
   "source": [
    "def div(x, y):\n",
    "    return x/y\n",
    "try:\n",
    "    div(1, 0)\n",
    "except ZeroDivisionError:\n",
    "    logger.exception('surprise: 1/0 caused an error')"
   ]
  },
  {
   "cell_type": "markdown",
   "metadata": {},
   "source": [
    "*logging.exception* can be called in an *except* block and logs an error including the complete stack trace (unlike *logging.error*, which logs the error, but not the stack trace).\n",
    "\n",
    "The logger of the standard Python library is easy to use and very powerful. It is strongly discouraged to implement a custom logger or to use a third party one."
   ]
  },
  {
   "cell_type": "markdown",
   "metadata": {},
   "source": [
    "Author: Benjamin Lungwitz"
   ]
  }
 ],
 "metadata": {
  "kernelspec": {
   "display_name": "Python 3",
   "language": "python",
   "name": "python3"
  },
  "language_info": {
   "codemirror_mode": {
    "name": "ipython",
    "version": 3
   },
   "file_extension": ".py",
   "mimetype": "text/x-python",
   "name": "python",
   "nbconvert_exporter": "python",
   "pygments_lexer": "ipython3",
   "version": "3.7.3"
  }
 },
 "nbformat": 4,
 "nbformat_minor": 2
}

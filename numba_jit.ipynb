{
 "cells": [
  {
   "cell_type": "markdown",
   "metadata": {},
   "source": [
    "# Numba\n",
    "\n",
    "## Example Use Case\n",
    "\n",
    "Simulation of Casino visits playing roulette. A stop-loss amount (money carried with you), a stop-win amount (when you take the won money and leave) and a maximum number of games per visit (when you stop playing even if neither stop-loss nor stop-win is reached) can be configured.\n",
    "\n",
    "Main assumption:\n",
    "Constant bet of 1 unit per game (no increase/ decrease of bets during casino visit)\n",
    "\n",
    "\n",
    "The calculation of the casino visit profit/ loss cannot be vectorized efficiently to use numpy due to the stop conditions.\n",
    "The alternative would be to simulate max_games for each series, which is inefficient because a stop condition could be reached much earlier.\n",
    "\n",
    "## Used Functionalities\n",
    "\n",
    "* Numpy\n",
    "* Numba just-in-time compiler\n",
    "* matplotlib for plotting results\n",
    "\n",
    "\n",
    "## Code"
   ]
  },
  {
   "cell_type": "code",
   "execution_count": 1,
   "metadata": {},
   "outputs": [],
   "source": [
    "import numpy as np\n",
    "from matplotlib import pyplot\n",
    "from numba import jit"
   ]
  },
  {
   "cell_type": "code",
   "execution_count": 12,
   "metadata": {},
   "outputs": [],
   "source": [
    "@jit\n",
    "def game(game_type):\n",
    "    \"\"\"\n",
    "    A single roulette game.\n",
    "    Returns profit or loss of this game.\n",
    "    \"\"\"\n",
    "    nr = np.random.randint(0,36+1)\n",
    "    if game_type == 1: #black/white, etc.\n",
    "        if 0 < nr <= 18:\n",
    "            return 2 - 1\n",
    "    elif game_type == 2: #3 choices\n",
    "        if 0 < nr <= 12:\n",
    "            return 3 - 1\n",
    "    elif game_type == 3: #single number\n",
    "        if nr == 1:\n",
    "            return 36 - 1\n",
    "    return 0 - 1\n",
    "\n",
    "@jit\n",
    "def game_series(game_type, stop_loss, stop_win, max_games=100):\n",
    "    \"\"\"\n",
    "    A series of roulette games, corresponding to a casino visit.\n",
    "    The series ends if either stop-loss, stop-win or max games is reached.\n",
    "    Returns profit or loss of the casino visit.\n",
    "    \"\"\"\n",
    "    assert stop_loss < 0\n",
    "    assert stop_win > 0\n",
    "    assert max_games > 0\n",
    "    assert game_type in (1, 2, 3)\n",
    "    \n",
    "    # this calculation cannot be vectorized efficiently to use numpy due to the stop conditions\n",
    "    # the alternative would be to simulate max_games for each series, which is inefficient\n",
    "    # because a stop condition could be reached much earlier\n",
    "    pocket = 0\n",
    "    for i in range(max_games):\n",
    "        pocket += game(game_type)\n",
    "        if pocket <= stop_loss or pocket >= stop_win:\n",
    "            break\n",
    "    return pocket\n",
    "\n",
    "def series_stats(game_type, stop_loss, stop_win, max_games, simulations=1000000):\n",
    "    \"\"\"\n",
    "    Simulates a large number (up to millions) of casino visits and calculates statistical \n",
    "    properties of the p&l.\n",
    "    \"\"\"\n",
    "    runs = np.array([game_series(game_type, stop_loss, stop_win, max_games) \n",
    "                     for i in range(simulations)])\n",
    "    bins, counts = np.unique(runs, return_counts=True)\n",
    "    return {\n",
    "        'mean': np.mean(runs),\n",
    "        'stddev': np.std(runs),\n",
    "        'bins': bins,\n",
    "        'counts': counts/simulations,\n",
    "        'gain': (runs > 0).sum()/simulations,\n",
    "        }"
   ]
  },
  {
   "cell_type": "code",
   "execution_count": 13,
   "metadata": {},
   "outputs": [
    {
     "data": {
      "text/plain": [
       "{'mean': -1.19262,\n",
       " 'stddev': 6.618188387738747,\n",
       " 'bins': array([-10,  -8,  -6,  -4,  -2,   0,   2,   4,   6,   8,  10]),\n",
       " 'counts': array([0.207929, 0.039986, 0.072809, 0.094842, 0.106277, 0.105965,\n",
       "        0.095417, 0.076984, 0.052346, 0.025981, 0.121464]),\n",
       " 'gain': 0.372192}"
      ]
     },
     "execution_count": 13,
     "metadata": {},
     "output_type": "execute_result"
    }
   ],
   "source": [
    "stats = series_stats(game_type=1, stop_loss=-10, stop_win=10, max_games=50)\n",
    "stats"
   ]
  },
  {
   "cell_type": "code",
   "execution_count": 9,
   "metadata": {},
   "outputs": [
    {
     "data": {
      "text/plain": [
       "[<matplotlib.lines.Line2D at 0x7f23adca1908>]"
      ]
     },
     "execution_count": 9,
     "metadata": {},
     "output_type": "execute_result"
    },
    {
     "data": {
      "image/png": "[encoded data removed]",
      "text/plain": [
       "<Figure size 432x288 with 1 Axes>"
      ]
     },
     "metadata": {
      "needs_background": "light"
     },
     "output_type": "display_data"
    }
   ],
   "source": [
    "pyplot.plot(stats['bins'], stats['counts'])"
   ]
  },
  {
   "cell_type": "markdown",
   "metadata": {},
   "source": [
    "## Calculation Time"
   ]
  },
  {
   "cell_type": "code",
   "execution_count": 7,
   "metadata": {},
   "outputs": [
    {
     "name": "stdout",
     "output_type": "stream",
     "text": [
      "36.6 ms ± 48.6 µs per loop (mean ± std. dev. of 7 runs, 10 loops each)\n"
     ]
    }
   ],
   "source": [
    "%timeit series_stats(game_type=1, stop_loss=-10, stop_win=10, max_games=50, simulations=10000)"
   ]
  },
  {
   "cell_type": "code",
   "execution_count": 16,
   "metadata": {},
   "outputs": [],
   "source": [
    "def game_no_jit(game_type):\n",
    "    \"\"\"\n",
    "    A single roulette game.\n",
    "    Returns profit or loss of this game.\n",
    "    \"\"\"\n",
    "    nr = np.random.randint(0,36+1)\n",
    "    if game_type == 1: #black/white, etc.\n",
    "        if 0 < nr <= 18:\n",
    "            return 2 - 1\n",
    "    elif game_type == 2: #3 choices\n",
    "        if 0 < nr <= 12:\n",
    "            return 3 - 1\n",
    "    elif game_type == 3: #single number\n",
    "        if nr == 1:\n",
    "            return 36 - 1\n",
    "    return 0 - 1\n",
    "\n",
    "def game_series_no_jit(game_type, stop_loss, stop_win, max_games=100):\n",
    "    \"\"\"\n",
    "    A series of roulette games, corresponding to a casino visit.\n",
    "    The series ends if either stop-loss, stop-win or max games is reached.\n",
    "    Returns profit or loss of the casino visit.\n",
    "    \"\"\"\n",
    "    assert stop_loss < 0\n",
    "    assert stop_win > 0\n",
    "    assert max_games > 0\n",
    "    assert game_type in (1, 2, 3)\n",
    "    \n",
    "    # this calculation cannot be vectorized efficiently to use numpy due to the stop conditions\n",
    "    # the alternative would be to simulate max_games for each series, which is inefficient\n",
    "    # because a stop condition could be reached much earlier\n",
    "    pocket = 0\n",
    "    for i in range(max_games):\n",
    "        pocket += game_no_jit(game_type)\n",
    "        if pocket <= stop_loss or pocket >= stop_win:\n",
    "            break\n",
    "    return pocket\n",
    "\n",
    "def series_stats_no_jit(game_type, stop_loss, stop_win, max_games, simulations=1000000):\n",
    "    \"\"\"\n",
    "    Simulates a large number (up to millions) of casino visits and calculates statistical \n",
    "    properties of the p&l.\n",
    "    \"\"\"\n",
    "    runs = np.array([game_series_no_jit(game_type, stop_loss, stop_win, max_games) \n",
    "                     for i in range(simulations)])\n",
    "    bins, counts = np.unique(runs, return_counts=True)\n",
    "    return {\n",
    "        'mean': np.mean(runs),\n",
    "        'stddev': np.std(runs),\n",
    "        'bins': bins,\n",
    "        'counts': counts/simulations,\n",
    "        'gain': (runs > 0).sum()/simulations,\n",
    "        }"
   ]
  },
  {
   "cell_type": "code",
   "execution_count": 17,
   "metadata": {},
   "outputs": [
    {
     "name": "stdout",
     "output_type": "stream",
     "text": [
      "2.85 s ± 10.6 ms per loop (mean ± std. dev. of 7 runs, 1 loop each)\n"
     ]
    }
   ],
   "source": [
    "%timeit series_stats_no_jit(game_type=1, stop_loss=-10, stop_win=10, max_games=50, simulations=10000)"
   ]
  },
  {
   "cell_type": "markdown",
   "metadata": {},
   "source": [
    "The numba just-in-time compiler gives a speedup of nearly a factor 100 (about a factor of 10 is gained both by jit compilation of game() and game_series()).\n",
    "\n",
    "Suggestion: for large numerical calculations, use vectorized numpy operations wherever possible. If large loops cannot be avoided, use the numba jit compiler."
   ]
  }
 ],
 "metadata": {
  "kernelspec": {
   "display_name": "Python 3",
   "language": "python",
   "name": "python3"
  },
  "language_info": {
   "codemirror_mode": {
    "name": "ipython",
    "version": 3
   },
   "file_extension": ".py",
   "mimetype": "text/x-python",
   "name": "python",
   "nbconvert_exporter": "python",
   "pygments_lexer": "ipython3",
   "version": "3.7.3"
  }
 },
 "nbformat": 4,
 "nbformat_minor": 2
}
